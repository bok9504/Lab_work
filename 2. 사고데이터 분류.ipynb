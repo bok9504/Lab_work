{
 "cells": [
  {
   "cell_type": "markdown",
   "metadata": {},
   "source": [
    "# 사고데이터 분류\n",
    "## 출력된 히트맵 데이터 이름에 따른 분류"
   ]
  },
  {
   "cell_type": "code",
   "execution_count": 29,
   "metadata": {
    "ExecuteTime": {
     "end_time": "2020-11-24T08:30:46.960178Z",
     "start_time": "2020-11-24T08:30:46.947179Z"
    }
   },
   "outputs": [],
   "source": [
    "import os\n",
    "import pandas as pd\n",
    "import numpy as np\n",
    "import cv2\n",
    "from shutil import move\n",
    "import re"
   ]
  },
  {
   "cell_type": "code",
   "execution_count": 12,
   "metadata": {
    "ExecuteTime": {
     "end_time": "2020-11-22T11:29:17.179498Z",
     "start_time": "2020-11-22T11:29:17.162505Z"
    }
   },
   "outputs": [],
   "source": [
    "path = '../9.data/1.accData_split/'"
   ]
  },
  {
   "cell_type": "code",
   "execution_count": 13,
   "metadata": {
    "ExecuteTime": {
     "end_time": "2020-11-22T11:29:17.573338Z",
     "start_time": "2020-11-22T11:29:17.555338Z"
    },
    "scrolled": false
   },
   "outputs": [],
   "source": [
    "acc_list = os.listdir(path + '0.acc_pattern_heatmap/accident/')\n",
    "nonacc_list = os.listdir(path + '0.acc_pattern_heatmap/nonaccident/')\n",
    "else_list = os.listdir(path + '0.acc_pattern_heatmap/else/')\n",
    "diff_list = os.listdir(path + '1.diff_heatmap/')\n",
    "\n",
    "acc_path = path + '0.acc_pattern_heatmap/accident/'\n",
    "nonacc_path = path + '0.acc_pattern_heatmap/nonaccident/'\n",
    "else_path = path + '0.acc_pattern_heatmap/else/'\n",
    "diff_path = path + '1.diff_heatmap/'"
   ]
  },
  {
   "cell_type": "code",
   "execution_count": 11,
   "metadata": {
    "ExecuteTime": {
     "end_time": "2020-11-12T03:51:37.034638Z",
     "start_time": "2020-11-12T03:41:36.688491Z"
    }
   },
   "outputs": [],
   "source": [
    "for i in acc_list:\n",
    "    img = cv2.imread(diff_path + i)\n",
    "    cutImg = img[2530:4200, 1050:3450]\n",
    "    cv2.imwrite(diff_path + 'accident/' +i, cutImg)"
   ]
  },
  {
   "cell_type": "code",
   "execution_count": 12,
   "metadata": {
    "ExecuteTime": {
     "end_time": "2020-11-12T03:58:35.273365Z",
     "start_time": "2020-11-12T03:51:37.080639Z"
    }
   },
   "outputs": [],
   "source": [
    "for i in nonacc_list:\n",
    "    img = cv2.imread(diff_path + i)\n",
    "    cutImg = img[2530:4200, 1050:3450]\n",
    "    cv2.imwrite(diff_path + 'nonaccident/' +i, cutImg)"
   ]
  },
  {
   "cell_type": "code",
   "execution_count": 13,
   "metadata": {
    "ExecuteTime": {
     "end_time": "2020-11-12T04:33:20.350340Z",
     "start_time": "2020-11-12T03:58:35.320368Z"
    }
   },
   "outputs": [],
   "source": [
    "for i in else_list:\n",
    "    img = cv2.imread(diff_path + i)\n",
    "    cutImg = img[2530:4200, 1050:3450]\n",
    "    cv2.imwrite(diff_path + 'else/' +i, cutImg)"
   ]
  },
  {
   "cell_type": "code",
   "execution_count": 1,
   "metadata": {
    "ExecuteTime": {
     "end_time": "2020-11-22T07:38:29.997846Z",
     "start_time": "2020-11-22T07:38:29.984845Z"
    }
   },
   "outputs": [
    {
     "data": {
      "text/plain": [
       "8845"
      ]
     },
     "execution_count": 1,
     "metadata": {},
     "output_type": "execute_result"
    }
   ],
   "source": [
    "1760+5887+1198"
   ]
  },
  {
   "cell_type": "markdown",
   "metadata": {},
   "source": [
    "## 분류된 이름에 따른 AccList 재분류"
   ]
  },
  {
   "cell_type": "code",
   "execution_count": 1,
   "metadata": {
    "ExecuteTime": {
     "end_time": "2020-11-22T11:23:47.252549Z",
     "start_time": "2020-11-22T11:23:47.238517Z"
    }
   },
   "outputs": [],
   "source": [
    "path_AL = '../9.data/0.work_data/3.Accident_list/'\n",
    "\n",
    "AccList = pd.read_csv(path_AL + 'AccList.csv', header=None, index_col=0)"
   ]
  },
  {
   "cell_type": "code",
   "execution_count": 49,
   "metadata": {
    "ExecuteTime": {
     "end_time": "2020-11-22T11:55:14.828762Z",
     "start_time": "2020-11-22T11:55:14.811803Z"
    }
   },
   "outputs": [],
   "source": [
    "acclist = os.listdir(diff_path + 'accident/')\n",
    "nonacclist = os.listdir(diff_path + 'nonaccident/')\n",
    "\n",
    "for i in range(len(acclist)):\n",
    "    acclist[i] = acclist[i].split('.')[0]\n",
    "for i in range(len(nonacclist)):\n",
    "    nonacclist[i] = nonacclist[i].split('.')[0]"
   ]
  },
  {
   "cell_type": "code",
   "execution_count": 53,
   "metadata": {
    "ExecuteTime": {
     "end_time": "2020-11-22T11:56:18.412475Z",
     "start_time": "2020-11-22T11:56:18.378460Z"
    }
   },
   "outputs": [
    {
     "data": {
      "text/html": [
       "<div>\n",
       "<style scoped>\n",
       "    .dataframe tbody tr th:only-of-type {\n",
       "        vertical-align: middle;\n",
       "    }\n",
       "\n",
       "    .dataframe tbody tr th {\n",
       "        vertical-align: top;\n",
       "    }\n",
       "\n",
       "    .dataframe thead th {\n",
       "        text-align: right;\n",
       "    }\n",
       "</style>\n",
       "<table border=\"1\" class=\"dataframe\">\n",
       "  <thead>\n",
       "    <tr style=\"text-align: right;\">\n",
       "      <th></th>\n",
       "      <th>1</th>\n",
       "      <th>2</th>\n",
       "      <th>3</th>\n",
       "      <th>4</th>\n",
       "      <th>5</th>\n",
       "      <th>6</th>\n",
       "      <th>7</th>\n",
       "      <th>8</th>\n",
       "      <th>9</th>\n",
       "      <th>10</th>\n",
       "      <th>...</th>\n",
       "      <th>552</th>\n",
       "      <th>553</th>\n",
       "      <th>554</th>\n",
       "      <th>555</th>\n",
       "      <th>556</th>\n",
       "      <th>557</th>\n",
       "      <th>558</th>\n",
       "      <th>559</th>\n",
       "      <th>560</th>\n",
       "      <th>561</th>\n",
       "    </tr>\n",
       "    <tr>\n",
       "      <th>0</th>\n",
       "      <th></th>\n",
       "      <th></th>\n",
       "      <th></th>\n",
       "      <th></th>\n",
       "      <th></th>\n",
       "      <th></th>\n",
       "      <th></th>\n",
       "      <th></th>\n",
       "      <th></th>\n",
       "      <th></th>\n",
       "      <th></th>\n",
       "      <th></th>\n",
       "      <th></th>\n",
       "      <th></th>\n",
       "      <th></th>\n",
       "      <th></th>\n",
       "      <th></th>\n",
       "      <th></th>\n",
       "      <th></th>\n",
       "      <th></th>\n",
       "      <th></th>\n",
       "    </tr>\n",
       "  </thead>\n",
       "  <tbody>\n",
       "    <tr>\n",
       "      <th>2018-02-06 Line1 RADR42 - accident#416</th>\n",
       "      <td>0.000000</td>\n",
       "      <td>0.000000</td>\n",
       "      <td>0.000</td>\n",
       "      <td>0.000000</td>\n",
       "      <td>0.870000</td>\n",
       "      <td>0.000000</td>\n",
       "      <td>0.000000</td>\n",
       "      <td>0.000000</td>\n",
       "      <td>0.000000</td>\n",
       "      <td>0.0</td>\n",
       "      <td>...</td>\n",
       "      <td>0.000000</td>\n",
       "      <td>0.000000</td>\n",
       "      <td>0.000000</td>\n",
       "      <td>0.000000</td>\n",
       "      <td>0.000000</td>\n",
       "      <td>0.000000</td>\n",
       "      <td>0.230769</td>\n",
       "      <td>2.150685</td>\n",
       "      <td>0.766234</td>\n",
       "      <td>0.000000</td>\n",
       "    </tr>\n",
       "    <tr>\n",
       "      <th>2018-02-06 Line4 RADR42 - accident#417</th>\n",
       "      <td>0.811111</td>\n",
       "      <td>0.325301</td>\n",
       "      <td>0.000</td>\n",
       "      <td>0.000000</td>\n",
       "      <td>0.000000</td>\n",
       "      <td>0.000000</td>\n",
       "      <td>0.000000</td>\n",
       "      <td>0.000000</td>\n",
       "      <td>0.000000</td>\n",
       "      <td>0.0</td>\n",
       "      <td>...</td>\n",
       "      <td>0.000000</td>\n",
       "      <td>0.000000</td>\n",
       "      <td>0.000000</td>\n",
       "      <td>0.000000</td>\n",
       "      <td>0.000000</td>\n",
       "      <td>0.000000</td>\n",
       "      <td>0.000000</td>\n",
       "      <td>3.383562</td>\n",
       "      <td>3.350649</td>\n",
       "      <td>2.207792</td>\n",
       "    </tr>\n",
       "    <tr>\n",
       "      <th>2018-02-08 Line1 RADR19 - accident#7569</th>\n",
       "      <td>0.000000</td>\n",
       "      <td>0.000000</td>\n",
       "      <td>0.000</td>\n",
       "      <td>0.000000</td>\n",
       "      <td>0.000000</td>\n",
       "      <td>0.000000</td>\n",
       "      <td>0.000000</td>\n",
       "      <td>0.000000</td>\n",
       "      <td>0.000000</td>\n",
       "      <td>0.0</td>\n",
       "      <td>...</td>\n",
       "      <td>0.000000</td>\n",
       "      <td>0.000000</td>\n",
       "      <td>0.000000</td>\n",
       "      <td>0.000000</td>\n",
       "      <td>0.000000</td>\n",
       "      <td>0.000000</td>\n",
       "      <td>0.000000</td>\n",
       "      <td>0.000000</td>\n",
       "      <td>0.000000</td>\n",
       "      <td>0.000000</td>\n",
       "    </tr>\n",
       "    <tr>\n",
       "      <th>2018-02-08 Line2 RADR18 - accident#7574</th>\n",
       "      <td>0.000000</td>\n",
       "      <td>0.000000</td>\n",
       "      <td>0.000</td>\n",
       "      <td>0.000000</td>\n",
       "      <td>0.000000</td>\n",
       "      <td>0.000000</td>\n",
       "      <td>0.000000</td>\n",
       "      <td>0.000000</td>\n",
       "      <td>0.000000</td>\n",
       "      <td>0.0</td>\n",
       "      <td>...</td>\n",
       "      <td>0.000000</td>\n",
       "      <td>0.000000</td>\n",
       "      <td>0.000000</td>\n",
       "      <td>0.000000</td>\n",
       "      <td>0.000000</td>\n",
       "      <td>0.000000</td>\n",
       "      <td>0.000000</td>\n",
       "      <td>0.000000</td>\n",
       "      <td>0.000000</td>\n",
       "      <td>0.000000</td>\n",
       "    </tr>\n",
       "    <tr>\n",
       "      <th>2018-02-08 Line2 RADR19 - accident#7576</th>\n",
       "      <td>0.000000</td>\n",
       "      <td>0.000000</td>\n",
       "      <td>0.000</td>\n",
       "      <td>0.000000</td>\n",
       "      <td>0.000000</td>\n",
       "      <td>0.000000</td>\n",
       "      <td>0.000000</td>\n",
       "      <td>0.000000</td>\n",
       "      <td>0.000000</td>\n",
       "      <td>0.0</td>\n",
       "      <td>...</td>\n",
       "      <td>0.000000</td>\n",
       "      <td>0.000000</td>\n",
       "      <td>0.000000</td>\n",
       "      <td>0.000000</td>\n",
       "      <td>0.000000</td>\n",
       "      <td>0.000000</td>\n",
       "      <td>0.000000</td>\n",
       "      <td>0.000000</td>\n",
       "      <td>0.000000</td>\n",
       "      <td>0.000000</td>\n",
       "    </tr>\n",
       "    <tr>\n",
       "      <th>...</th>\n",
       "      <td>...</td>\n",
       "      <td>...</td>\n",
       "      <td>...</td>\n",
       "      <td>...</td>\n",
       "      <td>...</td>\n",
       "      <td>...</td>\n",
       "      <td>...</td>\n",
       "      <td>...</td>\n",
       "      <td>...</td>\n",
       "      <td>...</td>\n",
       "      <td>...</td>\n",
       "      <td>...</td>\n",
       "      <td>...</td>\n",
       "      <td>...</td>\n",
       "      <td>...</td>\n",
       "      <td>...</td>\n",
       "      <td>...</td>\n",
       "      <td>...</td>\n",
       "      <td>...</td>\n",
       "      <td>...</td>\n",
       "      <td>...</td>\n",
       "    </tr>\n",
       "    <tr>\n",
       "      <th>2019-10-30 Line4 RADR33 - accident#1191</th>\n",
       "      <td>0.315217</td>\n",
       "      <td>8.772727</td>\n",
       "      <td>6.325</td>\n",
       "      <td>5.970588</td>\n",
       "      <td>7.425743</td>\n",
       "      <td>8.440000</td>\n",
       "      <td>4.645833</td>\n",
       "      <td>1.872549</td>\n",
       "      <td>1.621212</td>\n",
       "      <td>0.0</td>\n",
       "      <td>...</td>\n",
       "      <td>36.626374</td>\n",
       "      <td>28.808642</td>\n",
       "      <td>20.285714</td>\n",
       "      <td>14.761905</td>\n",
       "      <td>17.307692</td>\n",
       "      <td>12.785714</td>\n",
       "      <td>6.902913</td>\n",
       "      <td>3.905405</td>\n",
       "      <td>0.155844</td>\n",
       "      <td>0.000000</td>\n",
       "    </tr>\n",
       "    <tr>\n",
       "      <th>2019-10-30 Line4 RADR34 - accident#1193</th>\n",
       "      <td>0.000000</td>\n",
       "      <td>1.179775</td>\n",
       "      <td>1.600</td>\n",
       "      <td>1.155340</td>\n",
       "      <td>0.529412</td>\n",
       "      <td>1.226667</td>\n",
       "      <td>1.638298</td>\n",
       "      <td>0.603960</td>\n",
       "      <td>0.212121</td>\n",
       "      <td>0.0</td>\n",
       "      <td>...</td>\n",
       "      <td>35.966667</td>\n",
       "      <td>28.297468</td>\n",
       "      <td>18.716981</td>\n",
       "      <td>15.219048</td>\n",
       "      <td>12.358974</td>\n",
       "      <td>8.583333</td>\n",
       "      <td>2.941748</td>\n",
       "      <td>2.567568</td>\n",
       "      <td>0.000000</td>\n",
       "      <td>0.000000</td>\n",
       "    </tr>\n",
       "    <tr>\n",
       "      <th>2019-10-30 Line4 RADR35 - accident#1194</th>\n",
       "      <td>0.000000</td>\n",
       "      <td>1.179775</td>\n",
       "      <td>1.600</td>\n",
       "      <td>1.155340</td>\n",
       "      <td>0.529412</td>\n",
       "      <td>1.226667</td>\n",
       "      <td>1.638298</td>\n",
       "      <td>0.603960</td>\n",
       "      <td>0.212121</td>\n",
       "      <td>0.0</td>\n",
       "      <td>...</td>\n",
       "      <td>35.966667</td>\n",
       "      <td>28.297468</td>\n",
       "      <td>18.716981</td>\n",
       "      <td>15.219048</td>\n",
       "      <td>12.358974</td>\n",
       "      <td>8.583333</td>\n",
       "      <td>2.941748</td>\n",
       "      <td>2.567568</td>\n",
       "      <td>0.000000</td>\n",
       "      <td>0.000000</td>\n",
       "    </tr>\n",
       "    <tr>\n",
       "      <th>2019-10-30 Line4 RADR36 - accident#1195</th>\n",
       "      <td>0.000000</td>\n",
       "      <td>1.179775</td>\n",
       "      <td>1.600</td>\n",
       "      <td>1.155340</td>\n",
       "      <td>0.529412</td>\n",
       "      <td>1.226667</td>\n",
       "      <td>1.638298</td>\n",
       "      <td>0.603960</td>\n",
       "      <td>0.212121</td>\n",
       "      <td>0.0</td>\n",
       "      <td>...</td>\n",
       "      <td>35.966667</td>\n",
       "      <td>28.297468</td>\n",
       "      <td>18.716981</td>\n",
       "      <td>15.219048</td>\n",
       "      <td>12.358974</td>\n",
       "      <td>8.583333</td>\n",
       "      <td>2.941748</td>\n",
       "      <td>2.567568</td>\n",
       "      <td>0.000000</td>\n",
       "      <td>0.000000</td>\n",
       "    </tr>\n",
       "    <tr>\n",
       "      <th>2019-10-30 Line4 RADR37 - accident#1197</th>\n",
       "      <td>0.000000</td>\n",
       "      <td>1.179775</td>\n",
       "      <td>1.600</td>\n",
       "      <td>1.155340</td>\n",
       "      <td>0.529412</td>\n",
       "      <td>1.226667</td>\n",
       "      <td>1.638298</td>\n",
       "      <td>0.603960</td>\n",
       "      <td>0.212121</td>\n",
       "      <td>0.0</td>\n",
       "      <td>...</td>\n",
       "      <td>35.966667</td>\n",
       "      <td>28.297468</td>\n",
       "      <td>18.716981</td>\n",
       "      <td>15.219048</td>\n",
       "      <td>12.358974</td>\n",
       "      <td>8.583333</td>\n",
       "      <td>2.941748</td>\n",
       "      <td>2.567568</td>\n",
       "      <td>0.000000</td>\n",
       "      <td>0.000000</td>\n",
       "    </tr>\n",
       "  </tbody>\n",
       "</table>\n",
       "<p>1000 rows × 561 columns</p>\n",
       "</div>"
      ],
      "text/plain": [
       "                                              1         2      3         4    \\\n",
       "0                                                                              \n",
       "2018-02-06 Line1 RADR42 - accident#416   0.000000  0.000000  0.000  0.000000   \n",
       "2018-02-06 Line4 RADR42 - accident#417   0.811111  0.325301  0.000  0.000000   \n",
       "2018-02-08 Line1 RADR19 - accident#7569  0.000000  0.000000  0.000  0.000000   \n",
       "2018-02-08 Line2 RADR18 - accident#7574  0.000000  0.000000  0.000  0.000000   \n",
       "2018-02-08 Line2 RADR19 - accident#7576  0.000000  0.000000  0.000  0.000000   \n",
       "...                                           ...       ...    ...       ...   \n",
       "2019-10-30 Line4 RADR33 - accident#1191  0.315217  8.772727  6.325  5.970588   \n",
       "2019-10-30 Line4 RADR34 - accident#1193  0.000000  1.179775  1.600  1.155340   \n",
       "2019-10-30 Line4 RADR35 - accident#1194  0.000000  1.179775  1.600  1.155340   \n",
       "2019-10-30 Line4 RADR36 - accident#1195  0.000000  1.179775  1.600  1.155340   \n",
       "2019-10-30 Line4 RADR37 - accident#1197  0.000000  1.179775  1.600  1.155340   \n",
       "\n",
       "                                              5         6         7    \\\n",
       "0                                                                       \n",
       "2018-02-06 Line1 RADR42 - accident#416   0.870000  0.000000  0.000000   \n",
       "2018-02-06 Line4 RADR42 - accident#417   0.000000  0.000000  0.000000   \n",
       "2018-02-08 Line1 RADR19 - accident#7569  0.000000  0.000000  0.000000   \n",
       "2018-02-08 Line2 RADR18 - accident#7574  0.000000  0.000000  0.000000   \n",
       "2018-02-08 Line2 RADR19 - accident#7576  0.000000  0.000000  0.000000   \n",
       "...                                           ...       ...       ...   \n",
       "2019-10-30 Line4 RADR33 - accident#1191  7.425743  8.440000  4.645833   \n",
       "2019-10-30 Line4 RADR34 - accident#1193  0.529412  1.226667  1.638298   \n",
       "2019-10-30 Line4 RADR35 - accident#1194  0.529412  1.226667  1.638298   \n",
       "2019-10-30 Line4 RADR36 - accident#1195  0.529412  1.226667  1.638298   \n",
       "2019-10-30 Line4 RADR37 - accident#1197  0.529412  1.226667  1.638298   \n",
       "\n",
       "                                              8         9    10   ...  \\\n",
       "0                                                                 ...   \n",
       "2018-02-06 Line1 RADR42 - accident#416   0.000000  0.000000  0.0  ...   \n",
       "2018-02-06 Line4 RADR42 - accident#417   0.000000  0.000000  0.0  ...   \n",
       "2018-02-08 Line1 RADR19 - accident#7569  0.000000  0.000000  0.0  ...   \n",
       "2018-02-08 Line2 RADR18 - accident#7574  0.000000  0.000000  0.0  ...   \n",
       "2018-02-08 Line2 RADR19 - accident#7576  0.000000  0.000000  0.0  ...   \n",
       "...                                           ...       ...  ...  ...   \n",
       "2019-10-30 Line4 RADR33 - accident#1191  1.872549  1.621212  0.0  ...   \n",
       "2019-10-30 Line4 RADR34 - accident#1193  0.603960  0.212121  0.0  ...   \n",
       "2019-10-30 Line4 RADR35 - accident#1194  0.603960  0.212121  0.0  ...   \n",
       "2019-10-30 Line4 RADR36 - accident#1195  0.603960  0.212121  0.0  ...   \n",
       "2019-10-30 Line4 RADR37 - accident#1197  0.603960  0.212121  0.0  ...   \n",
       "\n",
       "                                               552        553        554  \\\n",
       "0                                                                          \n",
       "2018-02-06 Line1 RADR42 - accident#416    0.000000   0.000000   0.000000   \n",
       "2018-02-06 Line4 RADR42 - accident#417    0.000000   0.000000   0.000000   \n",
       "2018-02-08 Line1 RADR19 - accident#7569   0.000000   0.000000   0.000000   \n",
       "2018-02-08 Line2 RADR18 - accident#7574   0.000000   0.000000   0.000000   \n",
       "2018-02-08 Line2 RADR19 - accident#7576   0.000000   0.000000   0.000000   \n",
       "...                                            ...        ...        ...   \n",
       "2019-10-30 Line4 RADR33 - accident#1191  36.626374  28.808642  20.285714   \n",
       "2019-10-30 Line4 RADR34 - accident#1193  35.966667  28.297468  18.716981   \n",
       "2019-10-30 Line4 RADR35 - accident#1194  35.966667  28.297468  18.716981   \n",
       "2019-10-30 Line4 RADR36 - accident#1195  35.966667  28.297468  18.716981   \n",
       "2019-10-30 Line4 RADR37 - accident#1197  35.966667  28.297468  18.716981   \n",
       "\n",
       "                                               555        556        557  \\\n",
       "0                                                                          \n",
       "2018-02-06 Line1 RADR42 - accident#416    0.000000   0.000000   0.000000   \n",
       "2018-02-06 Line4 RADR42 - accident#417    0.000000   0.000000   0.000000   \n",
       "2018-02-08 Line1 RADR19 - accident#7569   0.000000   0.000000   0.000000   \n",
       "2018-02-08 Line2 RADR18 - accident#7574   0.000000   0.000000   0.000000   \n",
       "2018-02-08 Line2 RADR19 - accident#7576   0.000000   0.000000   0.000000   \n",
       "...                                            ...        ...        ...   \n",
       "2019-10-30 Line4 RADR33 - accident#1191  14.761905  17.307692  12.785714   \n",
       "2019-10-30 Line4 RADR34 - accident#1193  15.219048  12.358974   8.583333   \n",
       "2019-10-30 Line4 RADR35 - accident#1194  15.219048  12.358974   8.583333   \n",
       "2019-10-30 Line4 RADR36 - accident#1195  15.219048  12.358974   8.583333   \n",
       "2019-10-30 Line4 RADR37 - accident#1197  15.219048  12.358974   8.583333   \n",
       "\n",
       "                                              558       559       560  \\\n",
       "0                                                                       \n",
       "2018-02-06 Line1 RADR42 - accident#416   0.230769  2.150685  0.766234   \n",
       "2018-02-06 Line4 RADR42 - accident#417   0.000000  3.383562  3.350649   \n",
       "2018-02-08 Line1 RADR19 - accident#7569  0.000000  0.000000  0.000000   \n",
       "2018-02-08 Line2 RADR18 - accident#7574  0.000000  0.000000  0.000000   \n",
       "2018-02-08 Line2 RADR19 - accident#7576  0.000000  0.000000  0.000000   \n",
       "...                                           ...       ...       ...   \n",
       "2019-10-30 Line4 RADR33 - accident#1191  6.902913  3.905405  0.155844   \n",
       "2019-10-30 Line4 RADR34 - accident#1193  2.941748  2.567568  0.000000   \n",
       "2019-10-30 Line4 RADR35 - accident#1194  2.941748  2.567568  0.000000   \n",
       "2019-10-30 Line4 RADR36 - accident#1195  2.941748  2.567568  0.000000   \n",
       "2019-10-30 Line4 RADR37 - accident#1197  2.941748  2.567568  0.000000   \n",
       "\n",
       "                                              561  \n",
       "0                                                  \n",
       "2018-02-06 Line1 RADR42 - accident#416   0.000000  \n",
       "2018-02-06 Line4 RADR42 - accident#417   2.207792  \n",
       "2018-02-08 Line1 RADR19 - accident#7569  0.000000  \n",
       "2018-02-08 Line2 RADR18 - accident#7574  0.000000  \n",
       "2018-02-08 Line2 RADR19 - accident#7576  0.000000  \n",
       "...                                           ...  \n",
       "2019-10-30 Line4 RADR33 - accident#1191  0.000000  \n",
       "2019-10-30 Line4 RADR34 - accident#1193  0.000000  \n",
       "2019-10-30 Line4 RADR35 - accident#1194  0.000000  \n",
       "2019-10-30 Line4 RADR36 - accident#1195  0.000000  \n",
       "2019-10-30 Line4 RADR37 - accident#1197  0.000000  \n",
       "\n",
       "[1000 rows x 561 columns]"
      ]
     },
     "execution_count": 53,
     "metadata": {},
     "output_type": "execute_result"
    }
   ],
   "source": [
    "AccList.loc[acclist]"
   ]
  },
  {
   "cell_type": "code",
   "execution_count": 54,
   "metadata": {
    "ExecuteTime": {
     "end_time": "2020-11-22T11:57:28.684756Z",
     "start_time": "2020-11-22T11:57:28.651044Z"
    }
   },
   "outputs": [
    {
     "data": {
      "text/html": [
       "<div>\n",
       "<style scoped>\n",
       "    .dataframe tbody tr th:only-of-type {\n",
       "        vertical-align: middle;\n",
       "    }\n",
       "\n",
       "    .dataframe tbody tr th {\n",
       "        vertical-align: top;\n",
       "    }\n",
       "\n",
       "    .dataframe thead th {\n",
       "        text-align: right;\n",
       "    }\n",
       "</style>\n",
       "<table border=\"1\" class=\"dataframe\">\n",
       "  <thead>\n",
       "    <tr style=\"text-align: right;\">\n",
       "      <th></th>\n",
       "      <th>1</th>\n",
       "      <th>2</th>\n",
       "      <th>3</th>\n",
       "      <th>4</th>\n",
       "      <th>5</th>\n",
       "      <th>6</th>\n",
       "      <th>7</th>\n",
       "      <th>8</th>\n",
       "      <th>9</th>\n",
       "      <th>10</th>\n",
       "      <th>...</th>\n",
       "      <th>552</th>\n",
       "      <th>553</th>\n",
       "      <th>554</th>\n",
       "      <th>555</th>\n",
       "      <th>556</th>\n",
       "      <th>557</th>\n",
       "      <th>558</th>\n",
       "      <th>559</th>\n",
       "      <th>560</th>\n",
       "      <th>561</th>\n",
       "    </tr>\n",
       "    <tr>\n",
       "      <th>0</th>\n",
       "      <th></th>\n",
       "      <th></th>\n",
       "      <th></th>\n",
       "      <th></th>\n",
       "      <th></th>\n",
       "      <th></th>\n",
       "      <th></th>\n",
       "      <th></th>\n",
       "      <th></th>\n",
       "      <th></th>\n",
       "      <th></th>\n",
       "      <th></th>\n",
       "      <th></th>\n",
       "      <th></th>\n",
       "      <th></th>\n",
       "      <th></th>\n",
       "      <th></th>\n",
       "      <th></th>\n",
       "      <th></th>\n",
       "      <th></th>\n",
       "      <th></th>\n",
       "    </tr>\n",
       "  </thead>\n",
       "  <tbody>\n",
       "    <tr>\n",
       "      <th>2018-02-13 Line1 RADR14 - accident#2562</th>\n",
       "      <td>0.000000</td>\n",
       "      <td>0.000000</td>\n",
       "      <td>6.511111</td>\n",
       "      <td>22.922222</td>\n",
       "      <td>28.000000</td>\n",
       "      <td>33.222222</td>\n",
       "      <td>30.523810</td>\n",
       "      <td>27.454545</td>\n",
       "      <td>25.377778</td>\n",
       "      <td>19.311111</td>\n",
       "      <td>...</td>\n",
       "      <td>0.000000</td>\n",
       "      <td>0.000000</td>\n",
       "      <td>0.000000</td>\n",
       "      <td>0.000000</td>\n",
       "      <td>0.000000</td>\n",
       "      <td>0.159091</td>\n",
       "      <td>0.673267</td>\n",
       "      <td>3.640000</td>\n",
       "      <td>2.560000</td>\n",
       "      <td>2.32</td>\n",
       "    </tr>\n",
       "    <tr>\n",
       "      <th>2018-02-13 Line1 RADR16 - accident#2545</th>\n",
       "      <td>30.755556</td>\n",
       "      <td>47.367816</td>\n",
       "      <td>53.170455</td>\n",
       "      <td>50.965909</td>\n",
       "      <td>51.631579</td>\n",
       "      <td>48.594937</td>\n",
       "      <td>44.523256</td>\n",
       "      <td>32.808081</td>\n",
       "      <td>37.063830</td>\n",
       "      <td>26.829787</td>\n",
       "      <td>...</td>\n",
       "      <td>0.000000</td>\n",
       "      <td>16.673913</td>\n",
       "      <td>38.145833</td>\n",
       "      <td>38.825581</td>\n",
       "      <td>36.056818</td>\n",
       "      <td>32.909091</td>\n",
       "      <td>23.049020</td>\n",
       "      <td>19.900000</td>\n",
       "      <td>15.840000</td>\n",
       "      <td>8.78</td>\n",
       "    </tr>\n",
       "    <tr>\n",
       "      <th>2018-02-13 Line1 RADR16 - accident#2546</th>\n",
       "      <td>0.000000</td>\n",
       "      <td>0.000000</td>\n",
       "      <td>6.511111</td>\n",
       "      <td>22.922222</td>\n",
       "      <td>28.000000</td>\n",
       "      <td>33.222222</td>\n",
       "      <td>30.523810</td>\n",
       "      <td>27.454545</td>\n",
       "      <td>25.377778</td>\n",
       "      <td>19.311111</td>\n",
       "      <td>...</td>\n",
       "      <td>0.000000</td>\n",
       "      <td>0.000000</td>\n",
       "      <td>0.000000</td>\n",
       "      <td>0.000000</td>\n",
       "      <td>0.000000</td>\n",
       "      <td>0.159091</td>\n",
       "      <td>0.673267</td>\n",
       "      <td>3.640000</td>\n",
       "      <td>2.560000</td>\n",
       "      <td>2.32</td>\n",
       "    </tr>\n",
       "    <tr>\n",
       "      <th>2018-02-22 Line1 RADR14 - accident#7585</th>\n",
       "      <td>0.306818</td>\n",
       "      <td>0.000000</td>\n",
       "      <td>1.057471</td>\n",
       "      <td>1.188889</td>\n",
       "      <td>0.285714</td>\n",
       "      <td>0.000000</td>\n",
       "      <td>0.000000</td>\n",
       "      <td>0.000000</td>\n",
       "      <td>1.488372</td>\n",
       "      <td>0.465116</td>\n",
       "      <td>...</td>\n",
       "      <td>0.000000</td>\n",
       "      <td>0.000000</td>\n",
       "      <td>0.000000</td>\n",
       "      <td>0.000000</td>\n",
       "      <td>0.000000</td>\n",
       "      <td>0.000000</td>\n",
       "      <td>0.000000</td>\n",
       "      <td>0.000000</td>\n",
       "      <td>0.000000</td>\n",
       "      <td>0.00</td>\n",
       "    </tr>\n",
       "    <tr>\n",
       "      <th>2018-02-22 Line1 RADR15 - accident#7578</th>\n",
       "      <td>0.590909</td>\n",
       "      <td>2.837209</td>\n",
       "      <td>1.593023</td>\n",
       "      <td>2.301075</td>\n",
       "      <td>1.459770</td>\n",
       "      <td>0.000000</td>\n",
       "      <td>0.000000</td>\n",
       "      <td>0.000000</td>\n",
       "      <td>0.000000</td>\n",
       "      <td>0.000000</td>\n",
       "      <td>...</td>\n",
       "      <td>0.000000</td>\n",
       "      <td>0.000000</td>\n",
       "      <td>0.000000</td>\n",
       "      <td>0.000000</td>\n",
       "      <td>0.000000</td>\n",
       "      <td>0.000000</td>\n",
       "      <td>0.000000</td>\n",
       "      <td>0.000000</td>\n",
       "      <td>0.000000</td>\n",
       "      <td>0.00</td>\n",
       "    </tr>\n",
       "    <tr>\n",
       "      <th>...</th>\n",
       "      <td>...</td>\n",
       "      <td>...</td>\n",
       "      <td>...</td>\n",
       "      <td>...</td>\n",
       "      <td>...</td>\n",
       "      <td>...</td>\n",
       "      <td>...</td>\n",
       "      <td>...</td>\n",
       "      <td>...</td>\n",
       "      <td>...</td>\n",
       "      <td>...</td>\n",
       "      <td>...</td>\n",
       "      <td>...</td>\n",
       "      <td>...</td>\n",
       "      <td>...</td>\n",
       "      <td>...</td>\n",
       "      <td>...</td>\n",
       "      <td>...</td>\n",
       "      <td>...</td>\n",
       "      <td>...</td>\n",
       "      <td>...</td>\n",
       "    </tr>\n",
       "    <tr>\n",
       "      <th>2019-03-31 Line2 RADR15 - accident#16600</th>\n",
       "      <td>0.000000</td>\n",
       "      <td>0.000000</td>\n",
       "      <td>0.000000</td>\n",
       "      <td>9.358696</td>\n",
       "      <td>18.882353</td>\n",
       "      <td>12.488372</td>\n",
       "      <td>15.576087</td>\n",
       "      <td>13.865385</td>\n",
       "      <td>10.259259</td>\n",
       "      <td>5.925926</td>\n",
       "      <td>...</td>\n",
       "      <td>3.116279</td>\n",
       "      <td>2.686047</td>\n",
       "      <td>2.010526</td>\n",
       "      <td>2.689655</td>\n",
       "      <td>3.160920</td>\n",
       "      <td>2.550562</td>\n",
       "      <td>0.000000</td>\n",
       "      <td>0.000000</td>\n",
       "      <td>0.000000</td>\n",
       "      <td>0.00</td>\n",
       "    </tr>\n",
       "    <tr>\n",
       "      <th>2019-03-31 Line2 RADR16 - accident#16601</th>\n",
       "      <td>1.044944</td>\n",
       "      <td>1.241379</td>\n",
       "      <td>1.862069</td>\n",
       "      <td>0.000000</td>\n",
       "      <td>0.000000</td>\n",
       "      <td>0.000000</td>\n",
       "      <td>0.000000</td>\n",
       "      <td>0.880000</td>\n",
       "      <td>1.423077</td>\n",
       "      <td>4.730769</td>\n",
       "      <td>...</td>\n",
       "      <td>0.000000</td>\n",
       "      <td>0.000000</td>\n",
       "      <td>0.000000</td>\n",
       "      <td>6.090909</td>\n",
       "      <td>8.887640</td>\n",
       "      <td>11.111111</td>\n",
       "      <td>6.813725</td>\n",
       "      <td>4.433962</td>\n",
       "      <td>0.358491</td>\n",
       "      <td>0.00</td>\n",
       "    </tr>\n",
       "    <tr>\n",
       "      <th>2019-03-31 Line2 RADR16 - accident#16602</th>\n",
       "      <td>1.727273</td>\n",
       "      <td>2.883721</td>\n",
       "      <td>3.767442</td>\n",
       "      <td>3.520833</td>\n",
       "      <td>3.806818</td>\n",
       "      <td>3.820225</td>\n",
       "      <td>0.133333</td>\n",
       "      <td>0.088235</td>\n",
       "      <td>0.000000</td>\n",
       "      <td>2.754717</td>\n",
       "      <td>...</td>\n",
       "      <td>18.581395</td>\n",
       "      <td>21.465116</td>\n",
       "      <td>18.271739</td>\n",
       "      <td>19.129412</td>\n",
       "      <td>14.569767</td>\n",
       "      <td>13.193182</td>\n",
       "      <td>10.030000</td>\n",
       "      <td>0.000000</td>\n",
       "      <td>0.000000</td>\n",
       "      <td>0.00</td>\n",
       "    </tr>\n",
       "    <tr>\n",
       "      <th>2019-03-31 Line2 RADR17 - accident#16605</th>\n",
       "      <td>0.000000</td>\n",
       "      <td>0.000000</td>\n",
       "      <td>10.215909</td>\n",
       "      <td>17.642105</td>\n",
       "      <td>20.397727</td>\n",
       "      <td>12.865169</td>\n",
       "      <td>15.155556</td>\n",
       "      <td>13.078431</td>\n",
       "      <td>6.056604</td>\n",
       "      <td>3.867925</td>\n",
       "      <td>...</td>\n",
       "      <td>0.825581</td>\n",
       "      <td>0.000000</td>\n",
       "      <td>0.000000</td>\n",
       "      <td>0.000000</td>\n",
       "      <td>0.000000</td>\n",
       "      <td>0.000000</td>\n",
       "      <td>0.000000</td>\n",
       "      <td>0.000000</td>\n",
       "      <td>0.000000</td>\n",
       "      <td>0.00</td>\n",
       "    </tr>\n",
       "    <tr>\n",
       "      <th>2019-10-26 Line4 RADR41 - accident#5773</th>\n",
       "      <td>2.225806</td>\n",
       "      <td>3.552941</td>\n",
       "      <td>0.000000</td>\n",
       "      <td>0.000000</td>\n",
       "      <td>0.000000</td>\n",
       "      <td>0.000000</td>\n",
       "      <td>0.000000</td>\n",
       "      <td>0.000000</td>\n",
       "      <td>0.000000</td>\n",
       "      <td>0.000000</td>\n",
       "      <td>...</td>\n",
       "      <td>0.000000</td>\n",
       "      <td>0.000000</td>\n",
       "      <td>0.000000</td>\n",
       "      <td>0.000000</td>\n",
       "      <td>0.000000</td>\n",
       "      <td>0.000000</td>\n",
       "      <td>0.000000</td>\n",
       "      <td>0.000000</td>\n",
       "      <td>0.000000</td>\n",
       "      <td>3.75</td>\n",
       "    </tr>\n",
       "  </tbody>\n",
       "</table>\n",
       "<p>1000 rows × 561 columns</p>\n",
       "</div>"
      ],
      "text/plain": [
       "                                                1          2          3    \\\n",
       "0                                                                           \n",
       "2018-02-13 Line1 RADR14 - accident#2562    0.000000   0.000000   6.511111   \n",
       "2018-02-13 Line1 RADR16 - accident#2545   30.755556  47.367816  53.170455   \n",
       "2018-02-13 Line1 RADR16 - accident#2546    0.000000   0.000000   6.511111   \n",
       "2018-02-22 Line1 RADR14 - accident#7585    0.306818   0.000000   1.057471   \n",
       "2018-02-22 Line1 RADR15 - accident#7578    0.590909   2.837209   1.593023   \n",
       "...                                             ...        ...        ...   \n",
       "2019-03-31 Line2 RADR15 - accident#16600   0.000000   0.000000   0.000000   \n",
       "2019-03-31 Line2 RADR16 - accident#16601   1.044944   1.241379   1.862069   \n",
       "2019-03-31 Line2 RADR16 - accident#16602   1.727273   2.883721   3.767442   \n",
       "2019-03-31 Line2 RADR17 - accident#16605   0.000000   0.000000  10.215909   \n",
       "2019-10-26 Line4 RADR41 - accident#5773    2.225806   3.552941   0.000000   \n",
       "\n",
       "                                                4          5          6    \\\n",
       "0                                                                           \n",
       "2018-02-13 Line1 RADR14 - accident#2562   22.922222  28.000000  33.222222   \n",
       "2018-02-13 Line1 RADR16 - accident#2545   50.965909  51.631579  48.594937   \n",
       "2018-02-13 Line1 RADR16 - accident#2546   22.922222  28.000000  33.222222   \n",
       "2018-02-22 Line1 RADR14 - accident#7585    1.188889   0.285714   0.000000   \n",
       "2018-02-22 Line1 RADR15 - accident#7578    2.301075   1.459770   0.000000   \n",
       "...                                             ...        ...        ...   \n",
       "2019-03-31 Line2 RADR15 - accident#16600   9.358696  18.882353  12.488372   \n",
       "2019-03-31 Line2 RADR16 - accident#16601   0.000000   0.000000   0.000000   \n",
       "2019-03-31 Line2 RADR16 - accident#16602   3.520833   3.806818   3.820225   \n",
       "2019-03-31 Line2 RADR17 - accident#16605  17.642105  20.397727  12.865169   \n",
       "2019-10-26 Line4 RADR41 - accident#5773    0.000000   0.000000   0.000000   \n",
       "\n",
       "                                                7          8          9    \\\n",
       "0                                                                           \n",
       "2018-02-13 Line1 RADR14 - accident#2562   30.523810  27.454545  25.377778   \n",
       "2018-02-13 Line1 RADR16 - accident#2545   44.523256  32.808081  37.063830   \n",
       "2018-02-13 Line1 RADR16 - accident#2546   30.523810  27.454545  25.377778   \n",
       "2018-02-22 Line1 RADR14 - accident#7585    0.000000   0.000000   1.488372   \n",
       "2018-02-22 Line1 RADR15 - accident#7578    0.000000   0.000000   0.000000   \n",
       "...                                             ...        ...        ...   \n",
       "2019-03-31 Line2 RADR15 - accident#16600  15.576087  13.865385  10.259259   \n",
       "2019-03-31 Line2 RADR16 - accident#16601   0.000000   0.880000   1.423077   \n",
       "2019-03-31 Line2 RADR16 - accident#16602   0.133333   0.088235   0.000000   \n",
       "2019-03-31 Line2 RADR17 - accident#16605  15.155556  13.078431   6.056604   \n",
       "2019-10-26 Line4 RADR41 - accident#5773    0.000000   0.000000   0.000000   \n",
       "\n",
       "                                                10   ...        552  \\\n",
       "0                                                    ...              \n",
       "2018-02-13 Line1 RADR14 - accident#2562   19.311111  ...   0.000000   \n",
       "2018-02-13 Line1 RADR16 - accident#2545   26.829787  ...   0.000000   \n",
       "2018-02-13 Line1 RADR16 - accident#2546   19.311111  ...   0.000000   \n",
       "2018-02-22 Line1 RADR14 - accident#7585    0.465116  ...   0.000000   \n",
       "2018-02-22 Line1 RADR15 - accident#7578    0.000000  ...   0.000000   \n",
       "...                                             ...  ...        ...   \n",
       "2019-03-31 Line2 RADR15 - accident#16600   5.925926  ...   3.116279   \n",
       "2019-03-31 Line2 RADR16 - accident#16601   4.730769  ...   0.000000   \n",
       "2019-03-31 Line2 RADR16 - accident#16602   2.754717  ...  18.581395   \n",
       "2019-03-31 Line2 RADR17 - accident#16605   3.867925  ...   0.825581   \n",
       "2019-10-26 Line4 RADR41 - accident#5773    0.000000  ...   0.000000   \n",
       "\n",
       "                                                553        554        555  \\\n",
       "0                                                                           \n",
       "2018-02-13 Line1 RADR14 - accident#2562    0.000000   0.000000   0.000000   \n",
       "2018-02-13 Line1 RADR16 - accident#2545   16.673913  38.145833  38.825581   \n",
       "2018-02-13 Line1 RADR16 - accident#2546    0.000000   0.000000   0.000000   \n",
       "2018-02-22 Line1 RADR14 - accident#7585    0.000000   0.000000   0.000000   \n",
       "2018-02-22 Line1 RADR15 - accident#7578    0.000000   0.000000   0.000000   \n",
       "...                                             ...        ...        ...   \n",
       "2019-03-31 Line2 RADR15 - accident#16600   2.686047   2.010526   2.689655   \n",
       "2019-03-31 Line2 RADR16 - accident#16601   0.000000   0.000000   6.090909   \n",
       "2019-03-31 Line2 RADR16 - accident#16602  21.465116  18.271739  19.129412   \n",
       "2019-03-31 Line2 RADR17 - accident#16605   0.000000   0.000000   0.000000   \n",
       "2019-10-26 Line4 RADR41 - accident#5773    0.000000   0.000000   0.000000   \n",
       "\n",
       "                                                556        557        558  \\\n",
       "0                                                                           \n",
       "2018-02-13 Line1 RADR14 - accident#2562    0.000000   0.159091   0.673267   \n",
       "2018-02-13 Line1 RADR16 - accident#2545   36.056818  32.909091  23.049020   \n",
       "2018-02-13 Line1 RADR16 - accident#2546    0.000000   0.159091   0.673267   \n",
       "2018-02-22 Line1 RADR14 - accident#7585    0.000000   0.000000   0.000000   \n",
       "2018-02-22 Line1 RADR15 - accident#7578    0.000000   0.000000   0.000000   \n",
       "...                                             ...        ...        ...   \n",
       "2019-03-31 Line2 RADR15 - accident#16600   3.160920   2.550562   0.000000   \n",
       "2019-03-31 Line2 RADR16 - accident#16601   8.887640  11.111111   6.813725   \n",
       "2019-03-31 Line2 RADR16 - accident#16602  14.569767  13.193182  10.030000   \n",
       "2019-03-31 Line2 RADR17 - accident#16605   0.000000   0.000000   0.000000   \n",
       "2019-10-26 Line4 RADR41 - accident#5773    0.000000   0.000000   0.000000   \n",
       "\n",
       "                                                559        560   561  \n",
       "0                                                                     \n",
       "2018-02-13 Line1 RADR14 - accident#2562    3.640000   2.560000  2.32  \n",
       "2018-02-13 Line1 RADR16 - accident#2545   19.900000  15.840000  8.78  \n",
       "2018-02-13 Line1 RADR16 - accident#2546    3.640000   2.560000  2.32  \n",
       "2018-02-22 Line1 RADR14 - accident#7585    0.000000   0.000000  0.00  \n",
       "2018-02-22 Line1 RADR15 - accident#7578    0.000000   0.000000  0.00  \n",
       "...                                             ...        ...   ...  \n",
       "2019-03-31 Line2 RADR15 - accident#16600   0.000000   0.000000  0.00  \n",
       "2019-03-31 Line2 RADR16 - accident#16601   4.433962   0.358491  0.00  \n",
       "2019-03-31 Line2 RADR16 - accident#16602   0.000000   0.000000  0.00  \n",
       "2019-03-31 Line2 RADR17 - accident#16605   0.000000   0.000000  0.00  \n",
       "2019-10-26 Line4 RADR41 - accident#5773    0.000000   0.000000  3.75  \n",
       "\n",
       "[1000 rows x 561 columns]"
      ]
     },
     "execution_count": 54,
     "metadata": {},
     "output_type": "execute_result"
    }
   ],
   "source": [
    "AccList.loc[nonacclist]"
   ]
  },
  {
   "cell_type": "markdown",
   "metadata": {},
   "source": [
    "## 사고아닌 데이터 히트맵 자르기"
   ]
  },
  {
   "cell_type": "code",
   "execution_count": 2,
   "metadata": {
    "ExecuteTime": {
     "end_time": "2020-11-24T04:55:28.988227Z",
     "start_time": "2020-11-24T04:55:28.984200Z"
    }
   },
   "outputs": [],
   "source": [
    "path = '../9.data/0.work_data/2.heatmap/1.nonaccident/2.test/'"
   ]
  },
  {
   "cell_type": "code",
   "execution_count": 3,
   "metadata": {
    "ExecuteTime": {
     "end_time": "2020-11-24T04:55:29.533872Z",
     "start_time": "2020-11-24T04:55:29.520895Z"
    }
   },
   "outputs": [],
   "source": [
    "nonaccList = os.listdir(path)"
   ]
  },
  {
   "cell_type": "code",
   "execution_count": 4,
   "metadata": {
    "ExecuteTime": {
     "end_time": "2020-11-24T05:00:51.519835Z",
     "start_time": "2020-11-24T04:55:36.680879Z"
    }
   },
   "outputs": [],
   "source": [
    "for i in nonaccList:\n",
    "    img = cv2.imread(path + i)\n",
    "    cutImg = img[2530:4200, 1050:3450]\n",
    "    cv2.imwrite('../9.data/1.accData_split/2.last/' +i, cutImg)\n"
   ]
  },
  {
   "cell_type": "markdown",
   "metadata": {},
   "source": [
    "# 사고데이터 분석"
   ]
  },
  {
   "cell_type": "markdown",
   "metadata": {},
   "source": [
    "## 사고로 분류된 데이터 분석"
   ]
  },
  {
   "cell_type": "code",
   "execution_count": 2,
   "metadata": {
    "ExecuteTime": {
     "end_time": "2020-11-24T06:51:35.249218Z",
     "start_time": "2020-11-24T06:51:35.238197Z"
    }
   },
   "outputs": [],
   "source": [
    "path = '../9.data/0.work_data/2.heatmap/0.accident/0.히트맵/'"
   ]
  },
  {
   "cell_type": "code",
   "execution_count": 12,
   "metadata": {
    "ExecuteTime": {
     "end_time": "2020-11-24T06:54:22.580283Z",
     "start_time": "2020-11-24T06:54:22.565282Z"
    }
   },
   "outputs": [],
   "source": [
    "dataList = os.listdir(path)"
   ]
  },
  {
   "cell_type": "code",
   "execution_count": 35,
   "metadata": {
    "ExecuteTime": {
     "end_time": "2020-11-24T08:35:52.802245Z",
     "start_time": "2020-11-24T08:35:52.786246Z"
    }
   },
   "outputs": [],
   "source": [
    "data = []\n",
    "for i in dataList:\n",
    "    data.append(i.split(' '))"
   ]
  },
  {
   "cell_type": "code",
   "execution_count": 21,
   "metadata": {
    "ExecuteTime": {
     "end_time": "2020-11-24T06:56:30.872997Z",
     "start_time": "2020-11-24T06:56:30.868002Z"
    }
   },
   "outputs": [
    {
     "data": {
      "text/plain": [
       "8839"
      ]
     },
     "execution_count": 21,
     "metadata": {},
     "output_type": "execute_result"
    }
   ],
   "source": [
    "len(data)"
   ]
  },
  {
   "cell_type": "code",
   "execution_count": 36,
   "metadata": {
    "ExecuteTime": {
     "end_time": "2020-11-24T08:35:56.252602Z",
     "start_time": "2020-11-24T08:35:56.225603Z"
    }
   },
   "outputs": [],
   "source": [
    "SangLineNum = np.zeros(4)\n",
    "HaLineNum = np.zeros(4)\n",
    "\n",
    "for i in range(len(data)):\n",
    "    if int(re.findall('\\d+',data[i][2])[0]) > 30:\n",
    "        if data[i][1] == '1차선':\n",
    "            HaLineNum[0] += 1\n",
    "        elif data[i][1] == '2차선':\n",
    "            HaLineNum[1] += 1\n",
    "        elif data[i][1] == '3차선':\n",
    "            HaLineNum[2] += 1\n",
    "        else:\n",
    "            HaLineNum[3] += 1\n",
    "    else:\n",
    "        if data[i][1] == '1차선':\n",
    "            SangLineNum[0] += 1\n",
    "        elif data[i][1] == '2차선':\n",
    "            SangLineNum[1] += 1\n",
    "        elif data[i][1] == '3차선':\n",
    "            SangLineNum[2] += 1\n",
    "        else:\n",
    "            SangLineNum[3] += 1"
   ]
  },
  {
   "cell_type": "code",
   "execution_count": 37,
   "metadata": {
    "ExecuteTime": {
     "end_time": "2020-11-24T08:36:02.897414Z",
     "start_time": "2020-11-24T08:36:02.882386Z"
    }
   },
   "outputs": [
    {
     "data": {
      "text/plain": [
       "array([1883., 1881.,  273.,   83.])"
      ]
     },
     "execution_count": 37,
     "metadata": {},
     "output_type": "execute_result"
    }
   ],
   "source": [
    "SangLineNum"
   ]
  },
  {
   "cell_type": "code",
   "execution_count": 40,
   "metadata": {
    "ExecuteTime": {
     "end_time": "2020-11-24T08:40:21.605198Z",
     "start_time": "2020-11-24T08:40:21.593229Z"
    }
   },
   "outputs": [
    {
     "data": {
      "text/plain": [
       "4719.0"
      ]
     },
     "execution_count": 40,
     "metadata": {},
     "output_type": "execute_result"
    }
   ],
   "source": [
    "HaLineNum.sum()"
   ]
  },
  {
   "cell_type": "code",
   "execution_count": 39,
   "metadata": {
    "ExecuteTime": {
     "end_time": "2020-11-24T08:40:12.306842Z",
     "start_time": "2020-11-24T08:40:12.297842Z"
    }
   },
   "outputs": [
    {
     "data": {
      "text/plain": [
       "4120.0"
      ]
     },
     "execution_count": 39,
     "metadata": {},
     "output_type": "execute_result"
    }
   ],
   "source": [
    "SangLineNum.sum()"
   ]
  },
  {
   "cell_type": "code",
   "execution_count": 49,
   "metadata": {
    "ExecuteTime": {
     "end_time": "2020-11-24T08:57:32.372641Z",
     "start_time": "2020-11-24T08:57:32.357643Z"
    }
   },
   "outputs": [
    {
     "data": {
      "text/plain": [
       "2"
      ]
     },
     "execution_count": 49,
     "metadata": {},
     "output_type": "execute_result"
    }
   ],
   "source": [
    "int(data[0][0].split('-')[0])\n",
    "int(data[0][0].split('-')[1])\n",
    "int(data[0][0].split('-')[2])"
   ]
  },
  {
   "cell_type": "code",
   "execution_count": 52,
   "metadata": {
    "ExecuteTime": {
     "end_time": "2020-11-24T08:58:09.293154Z",
     "start_time": "2020-11-24T08:58:09.278181Z"
    }
   },
   "outputs": [],
   "source": [
    "from datetime import date\n",
    "\n",
    "def printDayOfTheWeek (year, month, day):\n",
    "    dayOfTheWeek = [\"월요일\", \"화요일\", \"수요일\", \"목요일\", \"금요일\", \"토요일\", \"일요일\"]\n",
    "    return dayOfTheWeek[date(year, month, day).weekday()]\n"
   ]
  },
  {
   "cell_type": "code",
   "execution_count": 55,
   "metadata": {
    "ExecuteTime": {
     "end_time": "2020-11-24T09:05:04.687573Z",
     "start_time": "2020-11-24T09:05:04.591472Z"
    }
   },
   "outputs": [],
   "source": [
    "HaWeekday = np.zeros(7)\n",
    "SangWeekday = np.zeros(7)\n",
    "for i in range(len(data)):\n",
    "    if int(re.findall('\\d+',data[i][2])[0]) > 30:\n",
    "        if printDayOfTheWeek(int(data[i][0].split('-')[0]),int(data[i][0].split('-')[1]),int(data[i][0].split('-')[2])) == '월요일':\n",
    "            HaWeekday[0] += 1\n",
    "        elif printDayOfTheWeek(int(data[i][0].split('-')[0]),int(data[i][0].split('-')[1]),int(data[i][0].split('-')[2])) == '화요일':\n",
    "            HaWeekday[1] += 1\n",
    "        elif printDayOfTheWeek(int(data[i][0].split('-')[0]),int(data[i][0].split('-')[1]),int(data[i][0].split('-')[2])) == '수요일':\n",
    "            HaWeekday[2] += 1\n",
    "        elif printDayOfTheWeek(int(data[i][0].split('-')[0]),int(data[i][0].split('-')[1]),int(data[i][0].split('-')[2])) == '목요일':\n",
    "            HaWeekday[3] += 1\n",
    "        elif printDayOfTheWeek(int(data[i][0].split('-')[0]),int(data[i][0].split('-')[1]),int(data[i][0].split('-')[2])) == '금요일':\n",
    "            HaWeekday[4] += 1\n",
    "        elif printDayOfTheWeek(int(data[i][0].split('-')[0]),int(data[i][0].split('-')[1]),int(data[i][0].split('-')[2])) == '토요일':\n",
    "            HaWeekday[5] += 1\n",
    "        else:\n",
    "            HaWeekday[6] += 1\n",
    "    else:\n",
    "        if printDayOfTheWeek(int(data[i][0].split('-')[0]),int(data[i][0].split('-')[1]),int(data[i][0].split('-')[2])) == '월요일':\n",
    "            SangWeekday[0] += 1\n",
    "        elif printDayOfTheWeek(int(data[i][0].split('-')[0]),int(data[i][0].split('-')[1]),int(data[i][0].split('-')[2])) == '화요일':\n",
    "            SangWeekday[1] += 1\n",
    "        elif printDayOfTheWeek(int(data[i][0].split('-')[0]),int(data[i][0].split('-')[1]),int(data[i][0].split('-')[2])) == '수요일':\n",
    "            SangWeekday[2] += 1\n",
    "        elif printDayOfTheWeek(int(data[i][0].split('-')[0]),int(data[i][0].split('-')[1]),int(data[i][0].split('-')[2])) == '목요일':\n",
    "            SangWeekday[3] += 1\n",
    "        elif printDayOfTheWeek(int(data[i][0].split('-')[0]),int(data[i][0].split('-')[1]),int(data[i][0].split('-')[2])) == '금요일':\n",
    "            SangWeekday[4] += 1\n",
    "        elif printDayOfTheWeek(int(data[i][0].split('-')[0]),int(data[i][0].split('-')[1]),int(data[i][0].split('-')[2])) == '토요일':\n",
    "            SangWeekday[5] += 1\n",
    "        else:\n",
    "            SangWeekday[6] += 1"
   ]
  },
  {
   "cell_type": "code",
   "execution_count": 60,
   "metadata": {
    "ExecuteTime": {
     "end_time": "2020-11-24T09:05:39.486838Z",
     "start_time": "2020-11-24T09:05:39.475863Z"
    }
   },
   "outputs": [
    {
     "data": {
      "text/plain": [
       "array([342., 488., 494., 785., 785., 688., 538.])"
      ]
     },
     "execution_count": 60,
     "metadata": {},
     "output_type": "execute_result"
    }
   ],
   "source": [
    "SangWeekday"
   ]
  },
  {
   "cell_type": "code",
   "execution_count": 61,
   "metadata": {
    "ExecuteTime": {
     "end_time": "2020-11-24T09:05:42.676587Z",
     "start_time": "2020-11-24T09:05:42.659588Z"
    }
   },
   "outputs": [
    {
     "data": {
      "text/plain": [
       "array([ 218.,  208.,  342.,  342.,  796., 2390.,  423.])"
      ]
     },
     "execution_count": 61,
     "metadata": {},
     "output_type": "execute_result"
    }
   ],
   "source": [
    "HaWeekday"
   ]
  },
  {
   "cell_type": "code",
   "execution_count": null,
   "metadata": {},
   "outputs": [],
   "source": []
  }
 ],
 "metadata": {
  "kernelspec": {
   "display_name": "Python 3",
   "language": "python",
   "name": "python3"
  },
  "language_info": {
   "codemirror_mode": {
    "name": "ipython",
    "version": 3
   },
   "file_extension": ".py",
   "mimetype": "text/x-python",
   "name": "python",
   "nbconvert_exporter": "python",
   "pygments_lexer": "ipython3",
   "version": "3.7.9"
  },
  "toc": {
   "base_numbering": 1,
   "nav_menu": {},
   "number_sections": true,
   "sideBar": true,
   "skip_h1_title": false,
   "title_cell": "Table of Contents",
   "title_sidebar": "Contents",
   "toc_cell": false,
   "toc_position": {},
   "toc_section_display": true,
   "toc_window_display": false
  },
  "varInspector": {
   "cols": {
    "lenName": 16,
    "lenType": 16,
    "lenVar": 40
   },
   "kernels_config": {
    "python": {
     "delete_cmd_postfix": "",
     "delete_cmd_prefix": "del ",
     "library": "var_list.py",
     "varRefreshCmd": "print(var_dic_list())"
    },
    "r": {
     "delete_cmd_postfix": ") ",
     "delete_cmd_prefix": "rm(",
     "library": "var_list.r",
     "varRefreshCmd": "cat(var_dic_list()) "
    }
   },
   "types_to_exclude": [
    "module",
    "function",
    "builtin_function_or_method",
    "instance",
    "_Feature"
   ],
   "window_display": false
  }
 },
 "nbformat": 4,
 "nbformat_minor": 4
}
