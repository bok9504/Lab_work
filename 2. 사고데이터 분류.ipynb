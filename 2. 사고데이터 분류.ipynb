{
 "cells": [
  {
   "cell_type": "code",
   "execution_count": 53,
   "metadata": {
    "ExecuteTime": {
     "end_time": "2020-11-11T12:13:35.447154Z",
     "start_time": "2020-11-11T12:13:35.436155Z"
    }
   },
   "outputs": [],
   "source": [
    "import os\n",
    "import pandas as pd\n",
    "import numpy as np\n",
    "import cv2\n",
    "from shutil import move"
   ]
  },
  {
   "cell_type": "code",
   "execution_count": 48,
   "metadata": {
    "ExecuteTime": {
     "end_time": "2020-11-11T12:07:47.403200Z",
     "start_time": "2020-11-11T12:07:47.389231Z"
    }
   },
   "outputs": [],
   "source": [
    "path = '../9.data/1.accData_split/'"
   ]
  },
  {
   "cell_type": "code",
   "execution_count": 55,
   "metadata": {
    "ExecuteTime": {
     "end_time": "2020-11-11T12:14:05.504174Z",
     "start_time": "2020-11-11T12:14:05.484121Z"
    },
    "scrolled": false
   },
   "outputs": [],
   "source": [
    "acc_list = os.listdir(path + '0.acc_pattern_heatmap/accident/')\n",
    "nonacc_list = os.listdir(path + '0.acc_pattern_heatmap/nonaccident/')\n",
    "else_list = os.listdir(path + '0.acc_pattern_heatmap/else/')\n",
    "diff_list = os.listdir(path + '1.diff_heatmap/')\n",
    "\n",
    "acc_path = path + '0.acc_pattern_heatmap/accident/'\n",
    "nonacc_path = path + '0.acc_pattern_heatmap/nonaccident/'\n",
    "else_path = path + '0.acc_pattern_heatmap/else/'\n",
    "diff_path = path + '1.diff_heatmap/'"
   ]
  },
  {
   "cell_type": "code",
   "execution_count": 97,
   "metadata": {
    "ExecuteTime": {
     "end_time": "2020-11-11T12:28:24.508349Z",
     "start_time": "2020-11-11T12:28:24.217256Z"
    }
   },
   "outputs": [],
   "source": [
    "img = cv2.imread(diff_path + '2018-02-02 Line1 RADR41 - accident#1707.jpg')"
   ]
  },
  {
   "cell_type": "code",
   "execution_count": 98,
   "metadata": {
    "ExecuteTime": {
     "end_time": "2020-11-11T12:28:31.631373Z",
     "start_time": "2020-11-11T12:28:26.769570Z"
    }
   },
   "outputs": [],
   "source": [
    "cutImg = img[2530:4200, 1050:3450]\n",
    "cv2.imshow('test', cutImg)\n",
    "cv2.waitKey(0)\n",
    "cv2.destroyAllWindows()"
   ]
  },
  {
   "cell_type": "code",
   "execution_count": null,
   "metadata": {},
   "outputs": [],
   "source": []
  }
 ],
 "metadata": {
  "kernelspec": {
   "display_name": "Python 3",
   "language": "python",
   "name": "python3"
  },
  "language_info": {
   "codemirror_mode": {
    "name": "ipython",
    "version": 3
   },
   "file_extension": ".py",
   "mimetype": "text/x-python",
   "name": "python",
   "nbconvert_exporter": "python",
   "pygments_lexer": "ipython3",
   "version": "3.7.9"
  },
  "toc": {
   "base_numbering": 1,
   "nav_menu": {},
   "number_sections": true,
   "sideBar": true,
   "skip_h1_title": false,
   "title_cell": "Table of Contents",
   "title_sidebar": "Contents",
   "toc_cell": false,
   "toc_position": {},
   "toc_section_display": true,
   "toc_window_display": false
  },
  "varInspector": {
   "cols": {
    "lenName": 16,
    "lenType": 16,
    "lenVar": 40
   },
   "kernels_config": {
    "python": {
     "delete_cmd_postfix": "",
     "delete_cmd_prefix": "del ",
     "library": "var_list.py",
     "varRefreshCmd": "print(var_dic_list())"
    },
    "r": {
     "delete_cmd_postfix": ") ",
     "delete_cmd_prefix": "rm(",
     "library": "var_list.r",
     "varRefreshCmd": "cat(var_dic_list()) "
    }
   },
   "types_to_exclude": [
    "module",
    "function",
    "builtin_function_or_method",
    "instance",
    "_Feature"
   ],
   "window_display": false
  }
 },
 "nbformat": 4,
 "nbformat_minor": 4
}
