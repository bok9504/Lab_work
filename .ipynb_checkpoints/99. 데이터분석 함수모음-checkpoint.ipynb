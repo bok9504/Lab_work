{
 "cells": [
  {
   "cell_type": "code",
   "execution_count": 14,
   "metadata": {
    "ExecuteTime": {
     "end_time": "2020-10-30T05:58:25.650461Z",
     "start_time": "2020-10-30T05:58:25.636497Z"
    }
   },
   "outputs": [],
   "source": [
    "import pandas as pd\n",
    "import numpy as np\n",
    "from datetime import date\n",
    "import datetime as dt\n",
    "import matplotlib.pyplot as plt\n",
    "import seaborn as sns\n",
    "\n",
    "from mpl_toolkits.mplot3d import Axes3D\n",
    "import matplotlib\n",
    "import matplotlib.font_manager as fm\n",
    "from matplotlib import gridspec"
   ]
  },
  {
   "cell_type": "code",
   "execution_count": 15,
   "metadata": {
    "ExecuteTime": {
     "end_time": "2020-10-30T05:58:25.832257Z",
     "start_time": "2020-10-30T05:58:25.810258Z"
    }
   },
   "outputs": [],
   "source": [
    "##  요일별 평균 속도 및 교통량 피벗 테이블 생성\n",
    "####  속도 교통량을 함께 가지는 피벗테이블을 만드는 코드\n",
    "\n",
    "## dataset : 피벗스타일로 만들 데이터셋 입력\n",
    "## values : \"속도\", \"교통량\" 중 선택\n",
    "\n",
    "def to_pivot_mean_data(dataset, values):\n",
    "    dataset[\"차로\"] = 1\n",
    "    line1_data = dataset.copy()\n",
    "\n",
    "    dataset[\"차로\"] = 2\n",
    "    line2_data = dataset.copy()\n",
    "\n",
    "    dataset[\"차로\"] = 3\n",
    "    line3_data = dataset.copy()\n",
    "\n",
    "    dataset[\"차로\"] = 4\n",
    "    line4_data = dataset.copy()\n",
    "\n",
    "    line1_data = line1_data[[\"통계날짜\", \"통계시각\", \"레이더ID\", \"차로\", \"요일\", \"1차로 교통량\", \"1차로 속도\"]]\n",
    "    line1_data.columns = [\"통계날짜\", \"통계시각\", \"레이더ID\", \"차로\", \"요일\", \"교통량\", \"속도\"]\n",
    "    line2_data = line2_data[[\"통계날짜\", \"통계시각\", \"레이더ID\", \"차로\", \"요일\", \"2차로 교통량\", \"2차로 속도\"]]\n",
    "    line2_data.columns = [\"통계날짜\", \"통계시각\", \"레이더ID\", \"차로\", \"요일\", \"교통량\", \"속도\"]\n",
    "    line3_data = line3_data[[\"통계날짜\", \"통계시각\", \"레이더ID\", \"차로\", \"요일\", \"3차로 교통량\", \"3차로 속도\"]]\n",
    "    line3_data.columns = [\"통계날짜\", \"통계시각\", \"레이더ID\", \"차로\", \"요일\", \"교통량\", \"속도\"]\n",
    "    line4_data = line4_data[[\"통계날짜\", \"통계시각\", \"레이더ID\", \"차로\", \"요일\", \"4차로 교통량\", \"4차로 속도\"]]\n",
    "    line4_data.columns = [\"통계날짜\", \"통계시각\", \"레이더ID\", \"차로\", \"요일\", \"교통량\", \"속도\"]\n",
    "\n",
    "    total_line= pd.concat([line1_data, line2_data, line3_data, line4_data])\n",
    "    \n",
    "    for i in range(7):\n",
    "        day_data[i] = total_line.loc[total_line[\"요일\"] == i]\n",
    "        pivot_day_data[i] = pd.pivot_table(day_data[i], index=[\"통계시각\"], columns= [\"차로\", \"레이더ID\"], values = values, aggfunc = 'mean')\n",
    "    \n",
    "    return pivot_day_data"
   ]
  },
  {
   "cell_type": "code",
   "execution_count": 16,
   "metadata": {
    "ExecuteTime": {
     "end_time": "2020-10-30T05:58:25.998035Z",
     "start_time": "2020-10-30T05:58:25.986070Z"
    }
   },
   "outputs": [],
   "source": [
    "##  각 날짜 별로 피벗 테이블 생성\n",
    "\n",
    "def to_pivot_each_data(dataset, values):\n",
    "    dataset[\"차로\"] = 1\n",
    "    line1_data = dataset.copy()\n",
    "\n",
    "    dataset[\"차로\"] = 2\n",
    "    line2_data = dataset.copy()\n",
    "\n",
    "    dataset[\"차로\"] = 3\n",
    "    line3_data = dataset.copy()\n",
    "\n",
    "    dataset[\"차로\"] = 4\n",
    "    line4_data = dataset.copy()\n",
    "\n",
    "    line1_data = line1_data[[\"통계날짜\", \"통계시각\", \"레이더ID\", \"차로\", \"요일\", \"1차로 교통량\", \"1차로 속도\"]]\n",
    "    line1_data.columns = [\"통계날짜\", \"통계시각\", \"레이더ID\", \"차로\", \"요일\", \"교통량\", \"속도\"]\n",
    "    line2_data = line2_data[[\"통계날짜\", \"통계시각\", \"레이더ID\", \"차로\", \"요일\", \"2차로 교통량\", \"2차로 속도\"]]\n",
    "    line2_data.columns = [\"통계날짜\", \"통계시각\", \"레이더ID\", \"차로\", \"요일\", \"교통량\", \"속도\"]\n",
    "    line3_data = line3_data[[\"통계날짜\", \"통계시각\", \"레이더ID\", \"차로\", \"요일\", \"3차로 교통량\", \"3차로 속도\"]]\n",
    "    line3_data.columns = [\"통계날짜\", \"통계시각\", \"레이더ID\", \"차로\", \"요일\", \"교통량\", \"속도\"]\n",
    "    line4_data = line4_data[[\"통계날짜\", \"통계시각\", \"레이더ID\", \"차로\", \"요일\", \"4차로 교통량\", \"4차로 속도\"]]\n",
    "    line4_data.columns = [\"통계날짜\", \"통계시각\", \"레이더ID\", \"차로\", \"요일\", \"교통량\", \"속도\"]\n",
    "\n",
    "    total_line= pd.concat([line1_data, line2_data, line3_data, line4_data])\n",
    "    \n",
    "    \n",
    "    for i in range(7):\n",
    "        day_data[i] = total_line.loc[total_line[\"요일\"] == i]\n",
    "        day_data_date[i] = day_data[i][\"통계날짜\"].unique()\n",
    "        pivot_day_data[i] = pd.pivot_table(day_data[i], index=[\"통계시각\"], columns= [\"차로\", \"레이더ID\"], values = values)\n",
    "    \n",
    "    return pivot_day_data, day_data_date"
   ]
  },
  {
   "cell_type": "code",
   "execution_count": 17,
   "metadata": {
    "ExecuteTime": {
     "end_time": "2020-10-30T05:58:26.223387Z",
     "start_time": "2020-10-30T05:58:26.202928Z"
    }
   },
   "outputs": [],
   "source": [
    "##  사고로 판단되는 데이터 리스트 및 날짜 리턴, 히트맵 출력 함수\n",
    "#### 사고라고 판단되는 데이터의 리스트와 해당날짜를 리턴하고, 해당 데이터의 히트맵과 패턴데이터의 히트맵을 출력하는 함수\n",
    "#### 사고판단기준 : 속도 감소율이 30% 이상이며, 이 감소율이 30분 이상 지속되고, 그 영향이 하류부로 퍼질때 사고로 판단\n",
    "#### 코드의 한계 : 코드에서 사고로 출력기준은 패턴에 비해 30% 감소한 레이더가 6시퀀트 이상 있을때 사고로 판단\n",
    "####               1)지속기준으로 바꾸어 줘야함 2) 하류부로 전파가 되어야함\n",
    "\n",
    "def create_accident_list(dataset, values):\n",
    "    \n",
    "    fig = plt.figure(figsize=(21, 5)) \n",
    "    gs = gridspec.GridSpec(1, 2)\n",
    "    RADR_list = dataset[\"레이더ID\"].unique()\n",
    "    \n",
    "    pivot_day_data = to_pivot_mean_data(dataset, values)\n",
    "    pivot_eachday_data, day_data_date = to_pivot_each_data(dataset, values)\n",
    "\n",
    "    for dayNum in range(7):\n",
    "        \n",
    "        p_it = pivot_day_data[dayNum]\n",
    "        c_it = pivot_eachday_data[dayNum]\n",
    "        date_list = day_data_date[dayNum]\n",
    "        \n",
    "        accident_list = []\n",
    "        accident_list_name = []\n",
    "        accident_num = 0\n",
    "        \n",
    "        for itm in date_list:\n",
    "\n",
    "            each_date = c_it.loc[itm]\n",
    "            test = (p_it - each_date) - (p_it * 0.3)\n",
    "            test = test.reset_index()\n",
    "\n",
    "            for i in range(1, 5):\n",
    "\n",
    "                for j in RADR_list:\n",
    "\n",
    "                    if len(test.loc[test[i, j]>0][i, j]) > 6:\n",
    "\n",
    "                        index_list = test.loc[test[i, j]>0][i, j].index\n",
    "                        radr_num = len(RADR_list)\n",
    "                        \n",
    "                        if i == 1:\n",
    "                            accident = each_date.iloc[(index_list[0] - 25):(index_list[0] +25), :radr_num]\n",
    "                        elif i == 2:\n",
    "                            accident = each_date.iloc[(index_list[0] - 25):(index_list[0] +25), radr_num:radr_num*2]\n",
    "                        elif i == 3:\n",
    "                            accident = each_date.iloc[(index_list[0] - 25):(index_list[0] +25), radr_num*2:radr_num*3]\n",
    "                        else:\n",
    "                            accident = each_date.iloc[(index_list[0] - 25):(index_list[0] +25), radr_num*3:]   \n",
    "                        try:\n",
    "                            pattern = p_it.loc[accident.index[0]:accident.index[49]][i]\n",
    "                        except: continue\n",
    "                        \n",
    "                        #create_heatmap(fig, gs, accident, pattern, radr_num, itm, i, j, accident_num)                        \n",
    "                        \n",
    "                        accident_list.append(accident)\n",
    "                        accident_list_name.append(itm)\n",
    "\n",
    "                        accident_num += 1\n",
    "\n",
    "                    break\n",
    "\n",
    "            \n",
    "    return accident_list, accident_list_name"
   ]
  },
  {
   "cell_type": "code",
   "execution_count": 18,
   "metadata": {
    "ExecuteTime": {
     "end_time": "2020-10-30T05:58:26.555052Z",
     "start_time": "2020-10-30T05:58:26.547054Z"
    }
   },
   "outputs": [],
   "source": [
    "def create_heatmap(fig, gs, accident, pattern, radr_num, itm, i, j, accident_num):\n",
    "    plt.rcParams['figure.figsize'] = [12, 7]\n",
    "    \n",
    "    plt.subplot(gs[0])\n",
    "    sns.heatmap(accident, yticklabels = radr_num, vmin=0, vmax=100)\n",
    "    plt.title(\"{} {}차선 {} - accident#{}\".format(itm, i, j,accident_num), fontsize=15)\n",
    "    plt.subplot(gs[1])\n",
    "    sns.heatmap(pattern, yticklabels = radr_num, vmin=0, vmax=100)\n",
    "    plt.title(\"{} {}차선 {} - Pattern\".format(itm, i, j), fontsize=15)\n",
    "\n",
    "    fig.savefig(path_h + \"{} {}차선 {} - accident#{}\".format(itm, i, j,accident_num) + \".jpg\", dpi=400)\n",
    "    plt.cla()"
   ]
  },
  {
   "cell_type": "code",
   "execution_count": 19,
   "metadata": {
    "ExecuteTime": {
     "end_time": "2020-10-30T05:58:27.099581Z",
     "start_time": "2020-10-30T05:58:27.081618Z"
    }
   },
   "outputs": [],
   "source": [
    "##   3D 그래프와 등고선을 생성하는 함수\n",
    "#### 차선별, 요일별 시간-레이더 3D 그래프와 등고선 그래프를 생성\n",
    "\n",
    "## dataset : 피벗스타일로 만들 데이터셋 입력\n",
    "## line : 생성할 라인 입력\n",
    "## values : \"속도\", \"교통량\" 중 선택\n",
    "\n",
    "def create_3D_Graph(dataset, line, values):\n",
    "    pivot_weekday, pivot_weekend = to_pivot_mean_data(dataset, values)\n",
    "    pivot_list = [pivot_weekday, pivot_weekend]\n",
    "    \n",
    "    for i_list in pivot_list:\n",
    "        \n",
    "        x = range(288)\n",
    "        y = range(int(i_list.shape[1]/4))\n",
    "        Z = i_list[line].T.to_numpy()       \n",
    "\n",
    "        X, Y = np.meshgrid(x, y)\n",
    "\n",
    "        ## 3D 그래프 생성\n",
    "        \n",
    "        fig = plt.figure(1, figsize = (8, 8))\n",
    "        ax = fig.add_subplot(111, projection = '3d')\n",
    "\n",
    "        ax.set_title(\"시간-레이더 3D {} 그래프 ({}차로)\".format(values, line), fontsize=12)\n",
    "\n",
    "        ax.set_xlabel(\"Time\")\n",
    "        ax.set_xticks([0, 23, 47, 71, 95, 119, 143, 167, 191, 215, 239, 263, 287], minor=False)\n",
    "        ax.set_xticklabels([\"0\",\"2\",\"4\",\"6\",\"8\",\"10\",\"12\",\"14\",\"16\",\"18\",\"20\",\"22\",\"24\"])\n",
    "\n",
    "        ax.set_ylabel(\"RADR\")\n",
    "        ax.set_yticks(list(range(int(i_list.shape[1]/4))))\n",
    "        ax.set_yticklabels(list(range(1, int(i_list.shape[1]/4)+1)))\n",
    "\n",
    "        ax.set_zlabel(\"{}\".format(values))\n",
    "\n",
    "        if values == \"속도\":\n",
    "            ax.set_zlim(0, 110)\n",
    "        else:\n",
    "            ax.set_zlim(0, 170)\n",
    "\n",
    "        surface = ax.plot_surface(X, Y, Z, rstride=1, cstride=1, cmap=matplotlib.cm.coolwarm, linewidth=0.1)\n",
    "        plt.show()\n",
    "        \n",
    "        \n",
    "        ## 등고선 그래프 생성\n",
    "        \n",
    "        fig1, ax1 = plt.subplots()    \n",
    "\n",
    "        ax1.set_title(\"시간-레이더 등고선 {} 그래프 ({}차로)\".format(values, line), fontsize=12)\n",
    "        \n",
    "        ax1.set_xlabel(\"Time\")\n",
    "        ax1.set_xticks([0, 23, 47, 71, 95, 119, 143, 167, 191, 215, 239, 263, 287], minor=False)\n",
    "        ax1.set_xticklabels([\"0\",\"2\",\"4\",\"6\",\"8\",\"10\",\"12\",\"14\",\"16\",\"18\",\"20\",\"22\",\"24\"])\n",
    "\n",
    "        ax1.set_ylabel(\"RADR\")\n",
    "        ax1.set_yticks(list(range(int(i_list.shape[1]/4))))\n",
    "        ax1.set_yticklabels(list(range(1, int(i_list.shape[1]/4)+1)))\n",
    "\n",
    "        contour = ax1.contourf(X, Y, Z, cmap=matplotlib.cm.coolwarm)\n",
    "        plt.colorbar(contour)\n",
    "        plt.show()"
   ]
  },
  {
   "cell_type": "code",
   "execution_count": null,
   "metadata": {},
   "outputs": [],
   "source": []
  }
 ],
 "metadata": {
  "kernelspec": {
   "display_name": "Python 3",
   "language": "python",
   "name": "python3"
  },
  "language_info": {
   "codemirror_mode": {
    "name": "ipython",
    "version": 3
   },
   "file_extension": ".py",
   "mimetype": "text/x-python",
   "name": "python",
   "nbconvert_exporter": "python",
   "pygments_lexer": "ipython3",
   "version": "3.7.9"
  },
  "toc": {
   "base_numbering": 1,
   "nav_menu": {},
   "number_sections": true,
   "sideBar": true,
   "skip_h1_title": false,
   "title_cell": "Table of Contents",
   "title_sidebar": "Contents",
   "toc_cell": false,
   "toc_position": {},
   "toc_section_display": true,
   "toc_window_display": false
  },
  "varInspector": {
   "cols": {
    "lenName": 16,
    "lenType": 16,
    "lenVar": 40
   },
   "kernels_config": {
    "python": {
     "delete_cmd_postfix": "",
     "delete_cmd_prefix": "del ",
     "library": "var_list.py",
     "varRefreshCmd": "print(var_dic_list())"
    },
    "r": {
     "delete_cmd_postfix": ") ",
     "delete_cmd_prefix": "rm(",
     "library": "var_list.r",
     "varRefreshCmd": "cat(var_dic_list()) "
    }
   },
   "types_to_exclude": [
    "module",
    "function",
    "builtin_function_or_method",
    "instance",
    "_Feature"
   ],
   "window_display": false
  }
 },
 "nbformat": 4,
 "nbformat_minor": 4
}
