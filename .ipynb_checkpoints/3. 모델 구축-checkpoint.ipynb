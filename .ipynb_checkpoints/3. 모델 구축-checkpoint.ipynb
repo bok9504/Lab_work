{
 "cells": [
  {
   "cell_type": "code",
   "execution_count": 1,
   "metadata": {
    "ExecuteTime": {
     "end_time": "2020-11-24T06:14:11.179428Z",
     "start_time": "2020-11-24T06:14:07.817167Z"
    }
   },
   "outputs": [],
   "source": [
    "import pandas as pd\n",
    "import numpy as np\n",
    "import matplotlib.pyplot as plt\n",
    "\n",
    "import os\n",
    "import cv2\n",
    "import tensorflow.keras as keras\n",
    "import tensorflow as tf\n",
    "from keras.models import Sequential\n",
    "from keras import layers\n",
    "from keras import optimizers\n",
    "from keras.layers.convolutional import MaxPooling2D\n",
    "from keras.callbacks import ModelCheckpoint\n",
    "from keras.layers import BatchNormalization\n",
    "from sklearn.preprocessing import MinMaxScaler\n",
    "from keras.layers import Dropout"
   ]
  },
  {
   "cell_type": "code",
   "execution_count": 2,
   "metadata": {
    "ExecuteTime": {
     "end_time": "2020-11-24T06:14:11.224745Z",
     "start_time": "2020-11-24T06:14:11.210724Z"
    },
    "code_folding": []
   },
   "outputs": [],
   "source": [
    "# 얼리스탑핑 쉽게\n",
    "def model_save_erstp(MODEL_SAVE_FOLDER_PATH, model_name, patience):\n",
    "    save_file_name = model_name\n",
    "    cb_checkpoint,cb_earlystopping = checkpoint_ez(MODEL_SAVE_FOLDER_PATH, save_file_name, patience)\n",
    "    return cb_checkpoint,cb_earlystopping\n",
    "\n",
    "def checkpoint_ez(MODEL_SAVE_FOLDER_PATH,save_file_name, patience) : \n",
    "    MODEL_SAVE_FOLDER_PATH = MODEL_SAVE_FOLDER_PATH\n",
    "    data_name = save_file_name\n",
    "    model_path = MODEL_SAVE_FOLDER_PATH + data_name + '.hdf5'\n",
    "    # val_loss 값이 낮아졌을(좋아졌을) 때만 저장\n",
    "    cb_checkpoint = ModelCheckpoint(filepath=model_path, monitor='val_loss',\n",
    "                                    verbose=1, save_best_only=True\n",
    "                                   )\n",
    "    cb_earlystopping = keras.callbacks.EarlyStopping(monitor='val_loss', min_delta=0, patience = patience, verbose=1,\n",
    "                                                  mode='auto', baseline=None, restore_best_weights=False)\n",
    "    return cb_checkpoint, cb_earlystopping\n",
    "\n",
    "# 그래프 쉽게\n",
    "def loss_graph(label1,label2,bottom,top):\n",
    "    fig, loss_ax = plt.subplots()\n",
    "    acc_ax = loss_ax.twinx()\n",
    "    loss_ax.plot(history.history['loss'], 'y', label=label1)\n",
    "    loss_ax.plot(history.history['val_loss'], 'r', label=label2)\n",
    "    acc_ax.plot(history.history['accuracy'], 'b', label='train acc')\n",
    "    acc_ax.plot(history.history['val_accuracy'], 'g', label='val acc')\n",
    "    loss_ax.set_xlabel('epoch')\n",
    "    loss_ax.set_ylabel('loss')\n",
    "    # acc_ax.set_ylabel('accuray')\n",
    "    loss_ax.legend(loc='upper left')\n",
    "    acc_ax.legend(loc='lower left')\n",
    "    loss_ax.set_ylim(bottom,top)\n",
    "    return plt.show()\n",
    "\n",
    "# 모델 저장 def\n",
    "def json_model_saver(MODEL_SAVE_FOLDER_PATH,file_name):\n",
    "    # model save by json\n",
    "    # load model \n",
    "    model = keras.models.load_model(MODEL_SAVE_FOLDER_PATH +file_name+ '.hdf5')\n",
    "    # Save model with json format\n",
    "    model_json = model.to_json()\n",
    "    with open(MODEL_SAVE_FOLDER_PATH+file_name+'.json', \"w\") as json_file:\n",
    "        json_file.write(model_json)\n",
    "    # Save weight with h5 format\n",
    "    model.save_weights( MODEL_SAVE_FOLDER_PATH +file_name +'.h5')\n",
    "    return print(\"Saved model to disk : \"+ file_name +'.h5')\n"
   ]
  },
  {
   "cell_type": "code",
   "execution_count": 3,
   "metadata": {
    "ExecuteTime": {
     "end_time": "2020-11-24T06:14:11.270303Z",
     "start_time": "2020-11-24T06:14:11.255874Z"
    }
   },
   "outputs": [],
   "source": [
    "path = '../9.data/1.accData_split/1.diff_heatmap/accident/'\n",
    "path_no = '../9.data/1.accData_split/2.last/'"
   ]
  },
  {
   "cell_type": "code",
   "execution_count": 4,
   "metadata": {
    "ExecuteTime": {
     "end_time": "2020-11-24T06:14:11.315574Z",
     "start_time": "2020-11-24T06:14:11.301513Z"
    }
   },
   "outputs": [],
   "source": [
    "accList = os.listdir(path)\n",
    "nonList = os.listdir(path_no)"
   ]
  },
  {
   "cell_type": "code",
   "execution_count": 5,
   "metadata": {
    "ExecuteTime": {
     "end_time": "2020-11-24T06:15:42.217551Z",
     "start_time": "2020-11-24T06:14:11.347216Z"
    }
   },
   "outputs": [],
   "source": [
    "returnNum = 0\n",
    "for i in accList:\n",
    "    if returnNum == 0:\n",
    "        accImg = cv2.imread(path+i)\n",
    "        accImg = cv2.resize(accImg, None, fx=0.1, fy=0.1, interpolation=cv2.INTER_AREA)\n",
    "        accImg = np.ravel(accImg)\n",
    "        accImg = np.expand_dims(accImg, 0)\n",
    "        returnNum += 1\n",
    "    else:\n",
    "        temp = cv2.imread(path+i)\n",
    "        temp = cv2.resize(temp, None, fx=0.1, fy=0.1, interpolation=cv2.INTER_AREA)\n",
    "        temp = np.ravel(temp)\n",
    "        temp = np.expand_dims(temp, 0)\n",
    "        accImg = np.concatenate((accImg, temp), axis=0)\n",
    "        \n",
    "returnNum = 0\n",
    "for i in nonList:\n",
    "    if returnNum == 0:\n",
    "        nonImg = cv2.imread(path_no+i)\n",
    "        nonImg = cv2.resize(nonImg, None, fx=0.1, fy=0.1, interpolation=cv2.INTER_AREA)\n",
    "        nonImg = np.ravel(nonImg)\n",
    "        nonImg = np.expand_dims(nonImg, 0)\n",
    "        returnNum += 1\n",
    "    else:\n",
    "        temp = cv2.imread(path_no+i)\n",
    "        temp = cv2.resize(temp, None, fx=0.1, fy=0.1, interpolation=cv2.INTER_AREA)\n",
    "        temp = np.ravel(temp)\n",
    "        temp = np.expand_dims(temp, 0)\n",
    "        nonImg = np.concatenate((nonImg, temp), axis=0)"
   ]
  },
  {
   "cell_type": "code",
   "execution_count": 6,
   "metadata": {
    "ExecuteTime": {
     "end_time": "2020-11-24T06:15:42.262457Z",
     "start_time": "2020-11-24T06:15:42.249457Z"
    }
   },
   "outputs": [],
   "source": [
    "accY = np.ones(1000)\n",
    "nonY = np.zeros(962)"
   ]
  },
  {
   "cell_type": "code",
   "execution_count": 7,
   "metadata": {
    "ExecuteTime": {
     "end_time": "2020-11-24T06:15:42.367492Z",
     "start_time": "2020-11-24T06:15:42.308458Z"
    }
   },
   "outputs": [],
   "source": [
    "dataX = np.concatenate([accImg, nonImg])\n",
    "dataY = np.concatenate([accY, nonY])"
   ]
  },
  {
   "cell_type": "code",
   "execution_count": 8,
   "metadata": {
    "ExecuteTime": {
     "end_time": "2020-11-24T06:15:43.327455Z",
     "start_time": "2020-11-24T06:15:42.398457Z"
    }
   },
   "outputs": [],
   "source": [
    "dataX = dataX/255\n",
    "\n",
    "np.random.seed(0)\n",
    "randomList = list(np.random.randint(1962, size = 1962))\n",
    "dataX = dataX[randomList]\n",
    "dataY = dataY[randomList]"
   ]
  },
  {
   "cell_type": "code",
   "execution_count": 17,
   "metadata": {
    "ExecuteTime": {
     "end_time": "2020-11-24T06:17:20.196161Z",
     "start_time": "2020-11-24T06:17:20.182162Z"
    }
   },
   "outputs": [],
   "source": [
    "nTrain = 1472\n",
    "nTest = 490\n",
    "\n",
    "x_train = dataX[:nTrain]\n",
    "x_test = dataX[nTrain:]\n",
    "y_train = dataY[:nTrain]\n",
    "y_test = dataY[nTrain:]"
   ]
  },
  {
   "cell_type": "code",
   "execution_count": 21,
   "metadata": {
    "ExecuteTime": {
     "end_time": "2020-11-24T06:18:44.608738Z",
     "start_time": "2020-11-24T06:18:44.589740Z"
    }
   },
   "outputs": [],
   "source": [
    "# 데이터 reshape 및 차원 추가\n",
    "x_train = x_train.reshape(x_train.shape[0],167,240,3)\n",
    "x_test = x_test.reshape(x_test.shape[0],167,240,3)"
   ]
  },
  {
   "cell_type": "code",
   "execution_count": 25,
   "metadata": {
    "ExecuteTime": {
     "end_time": "2020-11-24T06:19:18.394890Z",
     "start_time": "2020-11-24T06:19:18.388923Z"
    }
   },
   "outputs": [],
   "source": [
    "y_train = pd.get_dummies(y_train)\n",
    "y_test = pd.get_dummies(y_test)"
   ]
  },
  {
   "cell_type": "code",
   "execution_count": 26,
   "metadata": {
    "ExecuteTime": {
     "end_time": "2020-11-24T06:19:19.150914Z",
     "start_time": "2020-11-24T06:19:19.132913Z"
    }
   },
   "outputs": [
    {
     "data": {
      "text/plain": [
       "(1472, 2)"
      ]
     },
     "execution_count": 26,
     "metadata": {},
     "output_type": "execute_result"
    }
   ],
   "source": [
    "y_train.shape"
   ]
  },
  {
   "cell_type": "code",
   "execution_count": 70,
   "metadata": {
    "ExecuteTime": {
     "end_time": "2020-11-24T04:20:42.881511Z",
     "start_time": "2020-11-24T04:20:42.871511Z"
    }
   },
   "outputs": [],
   "source": []
  },
  {
   "cell_type": "code",
   "execution_count": 29,
   "metadata": {
    "ExecuteTime": {
     "end_time": "2020-11-24T06:20:42.912286Z",
     "start_time": "2020-11-24T06:19:52.006461Z"
    },
    "scrolled": true
   },
   "outputs": [
    {
     "name": "stdout",
     "output_type": "stream",
     "text": [
      "Model: \"sequential\"\n",
      "_________________________________________________________________\n",
      "Layer (type)                 Output Shape              Param #   \n",
      "=================================================================\n",
      "conv2d (Conv2D)              (None, 163, 236, 2)       152       \n",
      "_________________________________________________________________\n",
      "flatten (Flatten)            (None, 76936)             0         \n",
      "_________________________________________________________________\n",
      "dense (Dense)                (None, 2)                 153874    \n",
      "=================================================================\n",
      "Total params: 154,026\n",
      "Trainable params: 154,026\n",
      "Non-trainable params: 0\n",
      "_________________________________________________________________\n",
      "Epoch 1/1000\n",
      "118/118 [==============================] - ETA: 0s - loss: 0.0291 - accuracy: 0.9856\n",
      "Epoch 00001: val_loss improved from inf to 0.00086, saving model to ..\\1.modeltest.hdf5\n",
      "118/118 [==============================] - 1s 12ms/step - loss: 0.0291 - accuracy: 0.9856 - val_loss: 8.6374e-04 - val_accuracy: 1.0000\n",
      "Epoch 2/1000\n",
      "112/118 [===========================>..] - ETA: 0s - loss: 0.0047 - accuracy: 0.9991\n",
      "Epoch 00002: val_loss did not improve from 0.00086\n",
      "118/118 [==============================] - 1s 8ms/step - loss: 0.0046 - accuracy: 0.9992 - val_loss: 0.0266 - val_accuracy: 0.9966\n",
      "Epoch 3/1000\n",
      "112/118 [===========================>..] - ETA: 0s - loss: 3.7428e-04 - accuracy: 1.0000\n",
      "Epoch 00003: val_loss did not improve from 0.00086\n",
      "118/118 [==============================] - 1s 8ms/step - loss: 0.0032 - accuracy: 0.9992 - val_loss: 0.0206 - val_accuracy: 0.9966\n",
      "Epoch 4/1000\n",
      "114/118 [===========================>..] - ETA: 0s - loss: 0.0138 - accuracy: 0.9982\n",
      "Epoch 00004: val_loss did not improve from 0.00086\n",
      "118/118 [==============================] - 1s 8ms/step - loss: 0.0144 - accuracy: 0.9983 - val_loss: 0.0454 - val_accuracy: 0.9966\n",
      "Epoch 5/1000\n",
      "113/118 [===========================>..] - ETA: 0s - loss: 0.0044 - accuracy: 0.9991\n",
      "Epoch 00005: val_loss did not improve from 0.00086\n",
      "118/118 [==============================] - 1s 8ms/step - loss: 0.0043 - accuracy: 0.9992 - val_loss: 0.0380 - val_accuracy: 0.9966\n",
      "Epoch 6/1000\n",
      "113/118 [===========================>..] - ETA: 0s - loss: 0.0014 - accuracy: 1.0000\n",
      "Epoch 00006: val_loss did not improve from 0.00086\n",
      "118/118 [==============================] - 1s 8ms/step - loss: 0.0013 - accuracy: 1.0000 - val_loss: 0.0037 - val_accuracy: 0.9966\n",
      "Epoch 7/1000\n",
      "113/118 [===========================>..] - ETA: 0s - loss: 0.0019 - accuracy: 0.9991\n",
      "Epoch 00007: val_loss did not improve from 0.00086\n",
      "118/118 [==============================] - 1s 8ms/step - loss: 0.0018 - accuracy: 0.9992 - val_loss: 0.0255 - val_accuracy: 0.9966\n",
      "Epoch 8/1000\n",
      "113/118 [===========================>..] - ETA: 0s - loss: 2.9652e-04 - accuracy: 1.0000\n",
      "Epoch 00008: val_loss did not improve from 0.00086\n",
      "118/118 [==============================] - 1s 8ms/step - loss: 2.8555e-04 - accuracy: 1.0000 - val_loss: 0.0239 - val_accuracy: 0.9966\n",
      "Epoch 9/1000\n",
      "113/118 [===========================>..] - ETA: 0s - loss: 2.1489e-04 - accuracy: 1.0000 ETA: 0s - loss: 2.5850e-04 - accu\n",
      "Epoch 00009: val_loss did not improve from 0.00086\n",
      "118/118 [==============================] - 1s 8ms/step - loss: 2.0705e-04 - accuracy: 1.0000 - val_loss: 0.0326 - val_accuracy: 0.9966\n",
      "Epoch 10/1000\n",
      "112/118 [===========================>..] - ETA: 0s - loss: 9.8351e-05 - accuracy: 1.0000\n",
      "Epoch 00010: val_loss did not improve from 0.00086\n",
      "118/118 [==============================] - 1s 8ms/step - loss: 9.4730e-05 - accuracy: 1.0000 - val_loss: 0.0336 - val_accuracy: 0.9966\n",
      "Epoch 11/1000\n",
      "113/118 [===========================>..] - ETA: 0s - loss: 7.8677e-05 - accuracy: 1.0000\n",
      "Epoch 00011: val_loss did not improve from 0.00086\n",
      "118/118 [==============================] - 1s 8ms/step - loss: 7.5853e-05 - accuracy: 1.0000 - val_loss: 0.0377 - val_accuracy: 0.9966\n",
      "Epoch 12/1000\n",
      "113/118 [===========================>..] - ETA: 0s - loss: 5.8351e-05 - accuracy: 1.0000\n",
      "Epoch 00012: val_loss did not improve from 0.00086\n",
      "118/118 [==============================] - 1s 8ms/step - loss: 5.6331e-05 - accuracy: 1.0000 - val_loss: 0.0385 - val_accuracy: 0.9966\n",
      "Epoch 13/1000\n",
      "113/118 [===========================>..] - ETA: 0s - loss: 4.6195e-05 - accuracy: 1.0000\n",
      "Epoch 00013: val_loss did not improve from 0.00086\n",
      "118/118 [==============================] - 1s 8ms/step - loss: 4.4993e-05 - accuracy: 1.0000 - val_loss: 0.0404 - val_accuracy: 0.9966\n",
      "Epoch 14/1000\n",
      "114/118 [===========================>..] - ETA: 0s - loss: 3.7716e-05 - accuracy: 1.0000\n",
      "Epoch 00014: val_loss did not improve from 0.00086\n",
      "118/118 [==============================] - 1s 8ms/step - loss: 3.6967e-05 - accuracy: 1.0000 - val_loss: 0.0409 - val_accuracy: 0.9966\n",
      "Epoch 15/1000\n",
      "113/118 [===========================>..] - ETA: 0s - loss: 3.2965e-05 - accuracy: 1.0000\n",
      "Epoch 00015: val_loss did not improve from 0.00086\n",
      "118/118 [==============================] - 1s 8ms/step - loss: 3.1876e-05 - accuracy: 1.0000 - val_loss: 0.0410 - val_accuracy: 0.9966\n",
      "Epoch 16/1000\n",
      "112/118 [===========================>..] - ETA: 0s - loss: 2.9115e-05 - accuracy: 1.0000\n",
      "Epoch 00016: val_loss did not improve from 0.00086\n",
      "118/118 [==============================] - 1s 8ms/step - loss: 2.8885e-05 - accuracy: 1.0000 - val_loss: 0.0435 - val_accuracy: 0.9966\n",
      "Epoch 17/1000\n",
      "111/118 [===========================>..] - ETA: 0s - loss: 2.4962e-05 - accuracy: 1.0000\n",
      "Epoch 00017: val_loss did not improve from 0.00086\n",
      "118/118 [==============================] - 1s 8ms/step - loss: 2.4118e-05 - accuracy: 1.0000 - val_loss: 0.0441 - val_accuracy: 0.9966\n",
      "Epoch 18/1000\n",
      "113/118 [===========================>..] - ETA: 0s - loss: 2.1154e-05 - accuracy: 1.0000\n",
      "Epoch 00018: val_loss did not improve from 0.00086\n",
      "118/118 [==============================] - 1s 8ms/step - loss: 2.1219e-05 - accuracy: 1.0000 - val_loss: 0.0450 - val_accuracy: 0.9966\n",
      "Epoch 19/1000\n",
      "112/118 [===========================>..] - ETA: 0s - loss: 1.8727e-05 - accuracy: 1.0000\n",
      "Epoch 00019: val_loss did not improve from 0.00086\n",
      "118/118 [==============================] - 1s 8ms/step - loss: 1.8786e-05 - accuracy: 1.0000 - val_loss: 0.0443 - val_accuracy: 0.9966\n",
      "Epoch 20/1000\n",
      "113/118 [===========================>..] - ETA: 0s - loss: 1.7756e-05 - accuracy: 1.0000\n",
      "Epoch 00020: val_loss did not improve from 0.00086\n",
      "118/118 [==============================] - 1s 8ms/step - loss: 1.7236e-05 - accuracy: 1.0000 - val_loss: 0.0450 - val_accuracy: 0.9966\n",
      "Epoch 21/1000\n",
      "113/118 [===========================>..] - ETA: 0s - loss: 1.5428e-05 - accuracy: 1.0000\n",
      "Epoch 00021: val_loss did not improve from 0.00086\n",
      "118/118 [==============================] - 1s 8ms/step - loss: 1.5044e-05 - accuracy: 1.0000 - val_loss: 0.0461 - val_accuracy: 0.9966\n",
      "Epoch 22/1000\n",
      "113/118 [===========================>..] - ETA: 0s - loss: 1.4059e-05 - accuracy: 1.0000\n",
      "Epoch 00022: val_loss did not improve from 0.00086\n",
      "118/118 [==============================] - 1s 8ms/step - loss: 1.3620e-05 - accuracy: 1.0000 - val_loss: 0.0461 - val_accuracy: 0.9966\n",
      "Epoch 23/1000\n",
      "113/118 [===========================>..] - ETA: 0s - loss: 1.2713e-05 - accuracy: 1.0000\n",
      "Epoch 00023: val_loss did not improve from 0.00086\n",
      "118/118 [==============================] - 1s 8ms/step - loss: 1.2783e-05 - accuracy: 1.0000 - val_loss: 0.0468 - val_accuracy: 0.9966\n",
      "Epoch 24/1000\n",
      "113/118 [===========================>..] - ETA: 0s - loss: 6.4721e-06 - accuracy: 1.0000\n",
      "Epoch 00024: val_loss did not improve from 0.00086\n",
      "118/118 [==============================] - 1s 8ms/step - loss: 1.1503e-05 - accuracy: 1.0000 - val_loss: 0.0455 - val_accuracy: 0.9966\n",
      "Epoch 25/1000\n",
      "112/118 [===========================>..] - ETA: 0s - loss: 1.0282e-05 - accuracy: 1.0000\n",
      "Epoch 00025: val_loss did not improve from 0.00086\n",
      "118/118 [==============================] - 1s 8ms/step - loss: 1.0168e-05 - accuracy: 1.0000 - val_loss: 0.0477 - val_accuracy: 0.9966\n",
      "Epoch 26/1000\n",
      "112/118 [===========================>..] - ETA: 0s - loss: 9.3607e-06 - accuracy: 1.0000\n",
      "Epoch 00026: val_loss did not improve from 0.00086\n",
      "118/118 [==============================] - 1s 8ms/step - loss: 9.3891e-06 - accuracy: 1.0000 - val_loss: 0.0480 - val_accuracy: 0.9966\n"
     ]
    },
    {
     "name": "stdout",
     "output_type": "stream",
     "text": [
      "Epoch 27/1000\n",
      "113/118 [===========================>..] - ETA: 0s - loss: 8.5191e-06 - accuracy: 1.0000\n",
      "Epoch 00027: val_loss did not improve from 0.00086\n",
      "118/118 [==============================] - 1s 8ms/step - loss: 8.6409e-06 - accuracy: 1.0000 - val_loss: 0.0489 - val_accuracy: 0.9966\n",
      "Epoch 28/1000\n",
      "114/118 [===========================>..] - ETA: 0s - loss: 8.1446e-06 - accuracy: 1.0000\n",
      "Epoch 00028: val_loss did not improve from 0.00086\n",
      "118/118 [==============================] - 1s 8ms/step - loss: 7.9133e-06 - accuracy: 1.0000 - val_loss: 0.0495 - val_accuracy: 0.9966\n",
      "Epoch 29/1000\n",
      "113/118 [===========================>..] - ETA: 0s - loss: 7.2789e-06 - accuracy: 1.0000\n",
      "Epoch 00029: val_loss did not improve from 0.00086\n",
      "118/118 [==============================] - 1s 8ms/step - loss: 7.1143e-06 - accuracy: 1.0000 - val_loss: 0.0489 - val_accuracy: 0.9966\n",
      "Epoch 30/1000\n",
      "113/118 [===========================>..] - ETA: 0s - loss: 6.8248e-06 - accuracy: 1.0000\n",
      "Epoch 00030: val_loss did not improve from 0.00086\n",
      "118/118 [==============================] - 1s 8ms/step - loss: 6.7835e-06 - accuracy: 1.0000 - val_loss: 0.0499 - val_accuracy: 0.9966\n",
      "Epoch 31/1000\n",
      "112/118 [===========================>..] - ETA: 0s - loss: 6.4298e-06 - accuracy: 1.0000\n",
      "Epoch 00031: val_loss did not improve from 0.00086\n",
      "118/118 [==============================] - 1s 8ms/step - loss: 6.1372e-06 - accuracy: 1.0000 - val_loss: 0.0504 - val_accuracy: 0.9966\n",
      "Epoch 32/1000\n",
      "113/118 [===========================>..] - ETA: 0s - loss: 5.4675e-06 - accuracy: 1.0000\n",
      "Epoch 00032: val_loss did not improve from 0.00086\n",
      "118/118 [==============================] - 1s 8ms/step - loss: 5.7114e-06 - accuracy: 1.0000 - val_loss: 0.0511 - val_accuracy: 0.9966\n",
      "Epoch 33/1000\n",
      "113/118 [===========================>..] - ETA: 0s - loss: 5.2168e-06 - accuracy: 1.0000\n",
      "Epoch 00033: val_loss did not improve from 0.00086\n",
      "118/118 [==============================] - 1s 8ms/step - loss: 5.2482e-06 - accuracy: 1.0000 - val_loss: 0.0512 - val_accuracy: 0.9966\n",
      "Epoch 34/1000\n",
      "113/118 [===========================>..] - ETA: 0s - loss: 2.9771e-06 - accuracy: 1.0000\n",
      "Epoch 00034: val_loss did not improve from 0.00086\n",
      "118/118 [==============================] - 1s 8ms/step - loss: 4.9174e-06 - accuracy: 1.0000 - val_loss: 0.0494 - val_accuracy: 0.9966\n",
      "Epoch 35/1000\n",
      "113/118 [===========================>..] - ETA: 0s - loss: 4.4724e-06 - accuracy: 1.0000\n",
      "Epoch 00035: val_loss did not improve from 0.00086\n",
      "118/118 [==============================] - 1s 8ms/step - loss: 4.3714e-06 - accuracy: 1.0000 - val_loss: 0.0518 - val_accuracy: 0.9966\n",
      "Epoch 36/1000\n",
      "113/118 [===========================>..] - ETA: 0s - loss: 4.2706e-06 - accuracy: 1.0000\n",
      "Epoch 00036: val_loss did not improve from 0.00086\n",
      "118/118 [==============================] - 1s 8ms/step - loss: 4.1889e-06 - accuracy: 1.0000 - val_loss: 0.0519 - val_accuracy: 0.9966\n",
      "Epoch 37/1000\n",
      "113/118 [===========================>..] - ETA: 0s - loss: 3.7871e-06 - accuracy: 1.0000\n",
      "Epoch 00037: val_loss did not improve from 0.00086\n",
      "118/118 [==============================] - 1s 8ms/step - loss: 3.8024e-06 - accuracy: 1.0000 - val_loss: 0.0524 - val_accuracy: 0.9966\n",
      "Epoch 38/1000\n",
      "113/118 [===========================>..] - ETA: 0s - loss: 3.6511e-06 - accuracy: 1.0000\n",
      "Epoch 00038: val_loss did not improve from 0.00086\n",
      "118/118 [==============================] - 1s 8ms/step - loss: 3.5316e-06 - accuracy: 1.0000 - val_loss: 0.0523 - val_accuracy: 0.9966\n",
      "Epoch 39/1000\n",
      "113/118 [===========================>..] - ETA: 0s - loss: 3.3202e-06 - accuracy: 1.0000\n",
      "Epoch 00039: val_loss did not improve from 0.00086\n",
      "118/118 [==============================] - 1s 8ms/step - loss: 3.2171e-06 - accuracy: 1.0000 - val_loss: 0.0523 - val_accuracy: 0.9966\n",
      "Epoch 40/1000\n",
      "113/118 [===========================>..] - ETA: 0s - loss: 3.1289e-06 - accuracy: 1.0000\n",
      "Epoch 00040: val_loss did not improve from 0.00086\n",
      "118/118 [==============================] - 1s 8ms/step - loss: 3.0614e-06 - accuracy: 1.0000 - val_loss: 0.0526 - val_accuracy: 0.9966\n",
      "Epoch 41/1000\n",
      "113/118 [===========================>..] - ETA: 0s - loss: 2.9572e-06 - accuracy: 1.0000\n",
      "Epoch 00041: val_loss did not improve from 0.00086\n",
      "118/118 [==============================] - 1s 8ms/step - loss: 2.8742e-06 - accuracy: 1.0000 - val_loss: 0.0523 - val_accuracy: 0.9966\n",
      "Epoch 42/1000\n",
      "113/118 [===========================>..] - ETA: 0s - loss: 2.6581e-06 - accuracy: 1.0000\n",
      "Epoch 00042: val_loss did not improve from 0.00086\n",
      "118/118 [==============================] - 1s 8ms/step - loss: 2.5848e-06 - accuracy: 1.0000 - val_loss: 0.0537 - val_accuracy: 0.9966\n",
      "Epoch 43/1000\n",
      "113/118 [===========================>..] - ETA: 0s - loss: 2.3741e-06 - accuracy: 1.0000\n",
      "Epoch 00043: val_loss did not improve from 0.00086\n",
      "118/118 [==============================] - 1s 8ms/step - loss: 2.4457e-06 - accuracy: 1.0000 - val_loss: 0.0531 - val_accuracy: 0.9966\n",
      "Epoch 44/1000\n",
      "112/118 [===========================>..] - ETA: 0s - loss: 2.4274e-06 - accuracy: 1.0000\n",
      "Epoch 00044: val_loss did not improve from 0.00086\n",
      "118/118 [==============================] - 1s 8ms/step - loss: 2.3340e-06 - accuracy: 1.0000 - val_loss: 0.0539 - val_accuracy: 0.9966\n",
      "Epoch 45/1000\n",
      "113/118 [===========================>..] - ETA: 0s - loss: 2.1817e-06 - accuracy: 1.0000\n",
      "Epoch 00045: val_loss did not improve from 0.00086\n",
      "118/118 [==============================] - 1s 8ms/step - loss: 2.1035e-06 - accuracy: 1.0000 - val_loss: 0.0547 - val_accuracy: 0.9966\n",
      "Epoch 46/1000\n",
      "113/118 [===========================>..] - ETA: 0s - loss: 1.9732e-06 - accuracy: 1.0000\n",
      "Epoch 00046: val_loss did not improve from 0.00086\n",
      "118/118 [==============================] - 1s 8ms/step - loss: 1.9633e-06 - accuracy: 1.0000 - val_loss: 0.0547 - val_accuracy: 0.9966\n",
      "Epoch 47/1000\n",
      "113/118 [===========================>..] - ETA: 0s - loss: 1.8099e-06 - accuracy: 1.0000\n",
      "Epoch 00047: val_loss did not improve from 0.00086\n",
      "118/118 [==============================] - 1s 8ms/step - loss: 1.8169e-06 - accuracy: 1.0000 - val_loss: 0.0544 - val_accuracy: 0.9966\n",
      "Epoch 48/1000\n",
      "112/118 [===========================>..] - ETA: 0s - loss: 1.0199e-06 - accuracy: 1.0000\n",
      "Epoch 00048: val_loss did not improve from 0.00086\n",
      "118/118 [==============================] - 1s 8ms/step - loss: 1.7590e-06 - accuracy: 1.0000 - val_loss: 0.0536 - val_accuracy: 0.9966\n",
      "Epoch 49/1000\n",
      "113/118 [===========================>..] - ETA: 0s - loss: 1.5976e-06 - accuracy: 1.0000\n",
      "Epoch 00049: val_loss did not improve from 0.00086\n",
      "118/118 [==============================] - 1s 8ms/step - loss: 1.5724e-06 - accuracy: 1.0000 - val_loss: 0.0552 - val_accuracy: 0.9966\n",
      "Epoch 50/1000\n",
      "113/118 [===========================>..] - ETA: 0s - loss: 1.4992e-06 - accuracy: 1.0000\n",
      "Epoch 00050: val_loss did not improve from 0.00086\n",
      "118/118 [==============================] - 1s 8ms/step - loss: 1.5057e-06 - accuracy: 1.0000 - val_loss: 0.0558 - val_accuracy: 0.9966\n",
      "Epoch 51/1000\n",
      "113/118 [===========================>..] - ETA: 0s - loss: 1.4258e-06 - accuracy: 1.0000\n",
      "Epoch 00051: val_loss did not improve from 0.00086\n",
      "118/118 [==============================] - 1s 8ms/step - loss: 1.3722e-06 - accuracy: 1.0000 - val_loss: 0.0553 - val_accuracy: 0.9966\n",
      "Epoch 00051: early stopping\n"
     ]
    },
    {
     "data": {
      "image/png": "[encoded data removed]",
      "text/plain": [
       "<Figure size 432x288 with 2 Axes>"
      ]
     },
     "metadata": {
      "needs_background": "light"
     },
     "output_type": "display_data"
    }
   ],
   "source": [
    "model_name = 'test'\n",
    "MODEL_SAVE_FOLDER_PATH = '../1.model'\n",
    "cb_checkpoint,cb_earlystopping = model_save_erstp(MODEL_SAVE_FOLDER_PATH, model_name, 50)\n",
    "\n",
    "tf.keras.backend.clear_session()\n",
    "\n",
    "\n",
    "model = Sequential()\n",
    "model.add(layers.Conv2D(filters=2, kernel_size = 5 , input_shape=(167,240,3), activation='relu', kernel_initializer='he_normal')) \n",
    "model.add(layers.Flatten())\n",
    "model.add(layers.Dense(units=2, activation='sigmoid'))\n",
    "model.compile(loss ='binary_crossentropy', optimizer=optimizers.Adam(lr=0.001), metrics=['accuracy'])\n",
    "model.summary()\n",
    "\n",
    "history = model.fit(x_train, y_train, shuffle=True,epochs=1000, batch_size=10, validation_split=0.2, callbacks=[cb_checkpoint,cb_earlystopping])\n",
    "loss_graph('loss','val_loss',0,1)"
   ]
  },
  {
   "cell_type": "code",
   "execution_count": 30,
   "metadata": {
    "ExecuteTime": {
     "end_time": "2020-11-24T06:20:52.958432Z",
     "start_time": "2020-11-24T06:20:52.636789Z"
    }
   },
   "outputs": [
    {
     "name": "stdout",
     "output_type": "stream",
     "text": [
      "16/16 [==============================] - 0s 8ms/step - loss: 3.3484e-04 - accuracy: 1.0000\n"
     ]
    }
   ],
   "source": [
    "loss, acc = model.evaluate(x_test, y_test)"
   ]
  },
  {
   "cell_type": "code",
   "execution_count": 198,
   "metadata": {
    "ExecuteTime": {
     "end_time": "2020-11-23T04:38:36.831852Z",
     "start_time": "2020-11-23T04:38:36.809833Z"
    }
   },
   "outputs": [
    {
     "data": {
      "text/html": [
       "<div>\n",
       "<style scoped>\n",
       "    .dataframe tbody tr th:only-of-type {\n",
       "        vertical-align: middle;\n",
       "    }\n",
       "\n",
       "    .dataframe tbody tr th {\n",
       "        vertical-align: top;\n",
       "    }\n",
       "\n",
       "    .dataframe thead th {\n",
       "        text-align: right;\n",
       "    }\n",
       "</style>\n",
       "<table border=\"1\" class=\"dataframe\">\n",
       "  <thead>\n",
       "    <tr style=\"text-align: right;\">\n",
       "      <th></th>\n",
       "      <th>0.0</th>\n",
       "      <th>1.0</th>\n",
       "    </tr>\n",
       "  </thead>\n",
       "  <tbody>\n",
       "    <tr>\n",
       "      <th>0</th>\n",
       "      <td>0</td>\n",
       "      <td>1</td>\n",
       "    </tr>\n",
       "    <tr>\n",
       "      <th>1</th>\n",
       "      <td>0</td>\n",
       "      <td>1</td>\n",
       "    </tr>\n",
       "    <tr>\n",
       "      <th>2</th>\n",
       "      <td>1</td>\n",
       "      <td>0</td>\n",
       "    </tr>\n",
       "    <tr>\n",
       "      <th>3</th>\n",
       "      <td>1</td>\n",
       "      <td>0</td>\n",
       "    </tr>\n",
       "    <tr>\n",
       "      <th>4</th>\n",
       "      <td>0</td>\n",
       "      <td>1</td>\n",
       "    </tr>\n",
       "    <tr>\n",
       "      <th>...</th>\n",
       "      <td>...</td>\n",
       "      <td>...</td>\n",
       "    </tr>\n",
       "    <tr>\n",
       "      <th>495</th>\n",
       "      <td>1</td>\n",
       "      <td>0</td>\n",
       "    </tr>\n",
       "    <tr>\n",
       "      <th>496</th>\n",
       "      <td>1</td>\n",
       "      <td>0</td>\n",
       "    </tr>\n",
       "    <tr>\n",
       "      <th>497</th>\n",
       "      <td>0</td>\n",
       "      <td>1</td>\n",
       "    </tr>\n",
       "    <tr>\n",
       "      <th>498</th>\n",
       "      <td>1</td>\n",
       "      <td>0</td>\n",
       "    </tr>\n",
       "    <tr>\n",
       "      <th>499</th>\n",
       "      <td>0</td>\n",
       "      <td>1</td>\n",
       "    </tr>\n",
       "  </tbody>\n",
       "</table>\n",
       "<p>500 rows × 2 columns</p>\n",
       "</div>"
      ],
      "text/plain": [
       "     0.0  1.0\n",
       "0      0    1\n",
       "1      0    1\n",
       "2      1    0\n",
       "3      1    0\n",
       "4      0    1\n",
       "..   ...  ...\n",
       "495    1    0\n",
       "496    1    0\n",
       "497    0    1\n",
       "498    1    0\n",
       "499    0    1\n",
       "\n",
       "[500 rows x 2 columns]"
      ]
     },
     "execution_count": 198,
     "metadata": {},
     "output_type": "execute_result"
    }
   ],
   "source": [
    "y_test"
   ]
  },
  {
   "cell_type": "code",
   "execution_count": 207,
   "metadata": {
    "ExecuteTime": {
     "end_time": "2020-11-23T04:49:08.199182Z",
     "start_time": "2020-11-23T04:49:08.185114Z"
    },
    "scrolled": true
   },
   "outputs": [
    {
     "ename": "NameError",
     "evalue": "name 'test' is not defined",
     "output_type": "error",
     "traceback": [
      "\u001b[1;31m---------------------------------------------------------------------------\u001b[0m",
      "\u001b[1;31mNameError\u001b[0m                                 Traceback (most recent call last)",
      "\u001b[1;32m<ipython-input-207-e1b83daa34e6>\u001b[0m in \u001b[0;36m<module>\u001b[1;34m\u001b[0m\n\u001b[0;32m      1\u001b[0m \u001b[1;32mimport\u001b[0m \u001b[0mmatplotlib\u001b[0m\u001b[1;33m.\u001b[0m\u001b[0mpyplot\u001b[0m \u001b[1;32mas\u001b[0m \u001b[0mplt\u001b[0m\u001b[1;33m\u001b[0m\u001b[1;33m\u001b[0m\u001b[0m\n\u001b[0;32m      2\u001b[0m \u001b[1;33m\u001b[0m\u001b[0m\n\u001b[1;32m----> 3\u001b[1;33m \u001b[0mplt\u001b[0m\u001b[1;33m.\u001b[0m\u001b[0mimshow\u001b[0m\u001b[1;33m(\u001b[0m\u001b[0mtest\u001b[0m\u001b[1;33m[\u001b[0m\u001b[1;36m10\u001b[0m\u001b[1;33m]\u001b[0m\u001b[1;33m)\u001b[0m\u001b[1;33m\u001b[0m\u001b[1;33m\u001b[0m\u001b[0m\n\u001b[0m",
      "\u001b[1;31mNameError\u001b[0m: name 'test' is not defined"
     ]
    }
   ],
   "source": [
    "import matplotlib.pyplot as plt\n",
    "\n",
    "plt.imshow(test[10])"
   ]
  },
  {
   "cell_type": "code",
   "execution_count": 121,
   "metadata": {
    "ExecuteTime": {
     "end_time": "2020-11-22T12:14:36.204939Z",
     "start_time": "2020-11-22T12:14:36.192935Z"
    }
   },
   "outputs": [
    {
     "data": {
      "text/plain": [
       "(51, 11)"
      ]
     },
     "execution_count": 121,
     "metadata": {},
     "output_type": "execute_result"
    }
   ],
   "source": [
    "test[0].shape"
   ]
  },
  {
   "cell_type": "code",
   "execution_count": 120,
   "metadata": {
    "ExecuteTime": {
     "end_time": "2020-11-22T12:13:35.975029Z",
     "start_time": "2020-11-22T12:13:35.959082Z"
    }
   },
   "outputs": [
    {
     "data": {
      "text/plain": [
       "(1670, 2400, 3)"
      ]
     },
     "execution_count": 120,
     "metadata": {},
     "output_type": "execute_result"
    }
   ],
   "source": [
    "img.shape"
   ]
  },
  {
   "cell_type": "code",
   "execution_count": 78,
   "metadata": {
    "ExecuteTime": {
     "end_time": "2020-11-22T11:59:55.380873Z",
     "start_time": "2020-11-22T11:59:55.366900Z"
    }
   },
   "outputs": [],
   "source": [
    "accPath = '../9.data/1.accData_split/1.diff_heatmap/accident/'\n",
    "nonaccPath = '../9.data/1.accData_split/1.diff_heatmap/nonaccident/'\n",
    "\n",
    "acc_list = os.listdir(accPath)\n",
    "nonacc_list = os.listdir(nonaccPath)"
   ]
  },
  {
   "cell_type": "code",
   "execution_count": 122,
   "metadata": {
    "ExecuteTime": {
     "end_time": "2020-11-22T12:15:44.012007Z",
     "start_time": "2020-11-22T12:15:43.613026Z"
    }
   },
   "outputs": [
    {
     "data": {
      "text/plain": [
       "<matplotlib.image.AxesImage at 0x176e6aca348>"
      ]
     },
     "execution_count": 122,
     "metadata": {},
     "output_type": "execute_result"
    },
    {
     "data": {
      "image/png": "[encoded data removed]",
      "text/plain": [
       "<Figure size 432x288 with 1 Axes>"
      ]
     },
     "metadata": {
      "needs_background": "light"
     },
     "output_type": "display_data"
    }
   ],
   "source": [
    "img = cv2.imread(accPath + acc_list[50])\n",
    "img = cv2.cvtColor(img, cv2.COLOR_BGR2RGB)\n",
    "plt.imshow(img)"
   ]
  },
  {
   "cell_type": "code",
   "execution_count": 102,
   "metadata": {
    "ExecuteTime": {
     "end_time": "2020-11-22T12:08:37.449380Z",
     "start_time": "2020-11-22T12:08:24.900380Z"
    }
   },
   "outputs": [
    {
     "ename": "KeyboardInterrupt",
     "evalue": "",
     "output_type": "error",
     "traceback": [
      "\u001b[1;31m---------------------------------------------------------------------------\u001b[0m",
      "\u001b[1;31mKeyboardInterrupt\u001b[0m                         Traceback (most recent call last)",
      "\u001b[1;32m<ipython-input-102-7f4c515d6c06>\u001b[0m in \u001b[0;36m<module>\u001b[1;34m\u001b[0m\n\u001b[0;32m     10\u001b[0m         \u001b[0mimg\u001b[0m \u001b[1;33m=\u001b[0m \u001b[0mcv2\u001b[0m\u001b[1;33m.\u001b[0m\u001b[0mcvtColor\u001b[0m\u001b[1;33m(\u001b[0m\u001b[0mimg\u001b[0m\u001b[1;33m,\u001b[0m \u001b[0mcv2\u001b[0m\u001b[1;33m.\u001b[0m\u001b[0mCOLOR_BGR2RGB\u001b[0m\u001b[1;33m)\u001b[0m\u001b[1;33m\u001b[0m\u001b[1;33m\u001b[0m\u001b[0m\n\u001b[0;32m     11\u001b[0m         \u001b[0mimg\u001b[0m \u001b[1;33m=\u001b[0m \u001b[0mnp\u001b[0m\u001b[1;33m.\u001b[0m\u001b[0mexpand_dims\u001b[0m\u001b[1;33m(\u001b[0m\u001b[0mimg\u001b[0m\u001b[1;33m,\u001b[0m \u001b[1;36m0\u001b[0m\u001b[1;33m)\u001b[0m\u001b[1;33m\u001b[0m\u001b[1;33m\u001b[0m\u001b[0m\n\u001b[1;32m---> 12\u001b[1;33m         \u001b[0mx_train\u001b[0m \u001b[1;33m=\u001b[0m \u001b[0mnp\u001b[0m\u001b[1;33m.\u001b[0m\u001b[0mconcatenate\u001b[0m\u001b[1;33m(\u001b[0m\u001b[1;33m(\u001b[0m\u001b[0mx_train\u001b[0m\u001b[1;33m,\u001b[0m \u001b[0mimg\u001b[0m\u001b[1;33m)\u001b[0m\u001b[1;33m,\u001b[0m \u001b[0maxis\u001b[0m\u001b[1;33m=\u001b[0m\u001b[1;36m0\u001b[0m\u001b[1;33m)\u001b[0m\u001b[1;33m\u001b[0m\u001b[1;33m\u001b[0m\u001b[0m\n\u001b[0m",
      "\u001b[1;32m<__array_function__ internals>\u001b[0m in \u001b[0;36mconcatenate\u001b[1;34m(*args, **kwargs)\u001b[0m\n",
      "\u001b[1;31mKeyboardInterrupt\u001b[0m: "
     ]
    }
   ],
   "source": [
    "num = 0\n",
    "for i in acc_list:    \n",
    "    if num == 0:\n",
    "        img = cv2.imread(accPath + i)\n",
    "        img = cv2.cvtColor(img, cv2.COLOR_BGR2RGB)\n",
    "        x_train = np.expand_dims(img, 0)\n",
    "        num += 1\n",
    "    else:\n",
    "        img = cv2.imread(accPath + i)\n",
    "        img = cv2.cvtColor(img, cv2.COLOR_BGR2RGB)\n",
    "        img = np.expand_dims(img, 0)\n",
    "        x_train = np.concatenate((x_train, img), axis=0)\n"
   ]
  },
  {
   "cell_type": "code",
   "execution_count": 103,
   "metadata": {
    "ExecuteTime": {
     "end_time": "2020-11-22T12:08:40.985587Z",
     "start_time": "2020-11-22T12:08:40.880204Z"
    },
    "scrolled": true
   },
   "outputs": [
    {
     "ename": "TypeError",
     "evalue": "Invalid shape (1, 1670, 2400, 3) for image data",
     "output_type": "error",
     "traceback": [
      "\u001b[1;31m---------------------------------------------------------------------------\u001b[0m",
      "\u001b[1;31mTypeError\u001b[0m                                 Traceback (most recent call last)",
      "\u001b[1;32m<ipython-input-103-f5c923bf570e>\u001b[0m in \u001b[0;36m<module>\u001b[1;34m\u001b[0m\n\u001b[0;32m      1\u001b[0m \u001b[1;32mimport\u001b[0m \u001b[0mmatplotlib\u001b[0m\u001b[1;33m.\u001b[0m\u001b[0mpyplot\u001b[0m \u001b[1;32mas\u001b[0m \u001b[0mplt\u001b[0m\u001b[1;33m\u001b[0m\u001b[1;33m\u001b[0m\u001b[0m\n\u001b[1;32m----> 2\u001b[1;33m \u001b[0mplt\u001b[0m\u001b[1;33m.\u001b[0m\u001b[0mimshow\u001b[0m\u001b[1;33m(\u001b[0m\u001b[0mimg\u001b[0m\u001b[1;33m)\u001b[0m\u001b[1;33m\u001b[0m\u001b[1;33m\u001b[0m\u001b[0m\n\u001b[0m",
      "\u001b[1;32mC:\\tools\\Anaconda3\\envs\\tensorflow2_py37\\lib\\site-packages\\matplotlib\\pyplot.py\u001b[0m in \u001b[0;36mimshow\u001b[1;34m(X, cmap, norm, aspect, interpolation, alpha, vmin, vmax, origin, extent, filternorm, filterrad, resample, url, data, **kwargs)\u001b[0m\n\u001b[0;32m   2712\u001b[0m         \u001b[0mfilternorm\u001b[0m\u001b[1;33m=\u001b[0m\u001b[0mfilternorm\u001b[0m\u001b[1;33m,\u001b[0m \u001b[0mfilterrad\u001b[0m\u001b[1;33m=\u001b[0m\u001b[0mfilterrad\u001b[0m\u001b[1;33m,\u001b[0m \u001b[0mresample\u001b[0m\u001b[1;33m=\u001b[0m\u001b[0mresample\u001b[0m\u001b[1;33m,\u001b[0m\u001b[1;33m\u001b[0m\u001b[1;33m\u001b[0m\u001b[0m\n\u001b[0;32m   2713\u001b[0m         \u001b[0murl\u001b[0m\u001b[1;33m=\u001b[0m\u001b[0murl\u001b[0m\u001b[1;33m,\u001b[0m \u001b[1;33m**\u001b[0m\u001b[1;33m(\u001b[0m\u001b[1;33m{\u001b[0m\u001b[1;34m\"data\"\u001b[0m\u001b[1;33m:\u001b[0m \u001b[0mdata\u001b[0m\u001b[1;33m}\u001b[0m \u001b[1;32mif\u001b[0m \u001b[0mdata\u001b[0m \u001b[1;32mis\u001b[0m \u001b[1;32mnot\u001b[0m \u001b[1;32mNone\u001b[0m \u001b[1;32melse\u001b[0m \u001b[1;33m{\u001b[0m\u001b[1;33m}\u001b[0m\u001b[1;33m)\u001b[0m\u001b[1;33m,\u001b[0m\u001b[1;33m\u001b[0m\u001b[1;33m\u001b[0m\u001b[0m\n\u001b[1;32m-> 2714\u001b[1;33m         **kwargs)\n\u001b[0m\u001b[0;32m   2715\u001b[0m     \u001b[0msci\u001b[0m\u001b[1;33m(\u001b[0m\u001b[0m__ret\u001b[0m\u001b[1;33m)\u001b[0m\u001b[1;33m\u001b[0m\u001b[1;33m\u001b[0m\u001b[0m\n\u001b[0;32m   2716\u001b[0m     \u001b[1;32mreturn\u001b[0m \u001b[0m__ret\u001b[0m\u001b[1;33m\u001b[0m\u001b[1;33m\u001b[0m\u001b[0m\n",
      "\u001b[1;32mC:\\tools\\Anaconda3\\envs\\tensorflow2_py37\\lib\\site-packages\\matplotlib\\__init__.py\u001b[0m in \u001b[0;36minner\u001b[1;34m(ax, data, *args, **kwargs)\u001b[0m\n\u001b[0;32m   1436\u001b[0m     \u001b[1;32mdef\u001b[0m \u001b[0minner\u001b[0m\u001b[1;33m(\u001b[0m\u001b[0max\u001b[0m\u001b[1;33m,\u001b[0m \u001b[1;33m*\u001b[0m\u001b[0margs\u001b[0m\u001b[1;33m,\u001b[0m \u001b[0mdata\u001b[0m\u001b[1;33m=\u001b[0m\u001b[1;32mNone\u001b[0m\u001b[1;33m,\u001b[0m \u001b[1;33m**\u001b[0m\u001b[0mkwargs\u001b[0m\u001b[1;33m)\u001b[0m\u001b[1;33m:\u001b[0m\u001b[1;33m\u001b[0m\u001b[1;33m\u001b[0m\u001b[0m\n\u001b[0;32m   1437\u001b[0m         \u001b[1;32mif\u001b[0m \u001b[0mdata\u001b[0m \u001b[1;32mis\u001b[0m \u001b[1;32mNone\u001b[0m\u001b[1;33m:\u001b[0m\u001b[1;33m\u001b[0m\u001b[1;33m\u001b[0m\u001b[0m\n\u001b[1;32m-> 1438\u001b[1;33m             \u001b[1;32mreturn\u001b[0m \u001b[0mfunc\u001b[0m\u001b[1;33m(\u001b[0m\u001b[0max\u001b[0m\u001b[1;33m,\u001b[0m \u001b[1;33m*\u001b[0m\u001b[0mmap\u001b[0m\u001b[1;33m(\u001b[0m\u001b[0msanitize_sequence\u001b[0m\u001b[1;33m,\u001b[0m \u001b[0margs\u001b[0m\u001b[1;33m)\u001b[0m\u001b[1;33m,\u001b[0m \u001b[1;33m**\u001b[0m\u001b[0mkwargs\u001b[0m\u001b[1;33m)\u001b[0m\u001b[1;33m\u001b[0m\u001b[1;33m\u001b[0m\u001b[0m\n\u001b[0m\u001b[0;32m   1439\u001b[0m \u001b[1;33m\u001b[0m\u001b[0m\n\u001b[0;32m   1440\u001b[0m         \u001b[0mbound\u001b[0m \u001b[1;33m=\u001b[0m \u001b[0mnew_sig\u001b[0m\u001b[1;33m.\u001b[0m\u001b[0mbind\u001b[0m\u001b[1;33m(\u001b[0m\u001b[0max\u001b[0m\u001b[1;33m,\u001b[0m \u001b[1;33m*\u001b[0m\u001b[0margs\u001b[0m\u001b[1;33m,\u001b[0m \u001b[1;33m**\u001b[0m\u001b[0mkwargs\u001b[0m\u001b[1;33m)\u001b[0m\u001b[1;33m\u001b[0m\u001b[1;33m\u001b[0m\u001b[0m\n",
      "\u001b[1;32mC:\\tools\\Anaconda3\\envs\\tensorflow2_py37\\lib\\site-packages\\matplotlib\\axes\\_axes.py\u001b[0m in \u001b[0;36mimshow\u001b[1;34m(self, X, cmap, norm, aspect, interpolation, alpha, vmin, vmax, origin, extent, filternorm, filterrad, resample, url, **kwargs)\u001b[0m\n\u001b[0;32m   5521\u001b[0m                               resample=resample, **kwargs)\n\u001b[0;32m   5522\u001b[0m \u001b[1;33m\u001b[0m\u001b[0m\n\u001b[1;32m-> 5523\u001b[1;33m         \u001b[0mim\u001b[0m\u001b[1;33m.\u001b[0m\u001b[0mset_data\u001b[0m\u001b[1;33m(\u001b[0m\u001b[0mX\u001b[0m\u001b[1;33m)\u001b[0m\u001b[1;33m\u001b[0m\u001b[1;33m\u001b[0m\u001b[0m\n\u001b[0m\u001b[0;32m   5524\u001b[0m         \u001b[0mim\u001b[0m\u001b[1;33m.\u001b[0m\u001b[0mset_alpha\u001b[0m\u001b[1;33m(\u001b[0m\u001b[0malpha\u001b[0m\u001b[1;33m)\u001b[0m\u001b[1;33m\u001b[0m\u001b[1;33m\u001b[0m\u001b[0m\n\u001b[0;32m   5525\u001b[0m         \u001b[1;32mif\u001b[0m \u001b[0mim\u001b[0m\u001b[1;33m.\u001b[0m\u001b[0mget_clip_path\u001b[0m\u001b[1;33m(\u001b[0m\u001b[1;33m)\u001b[0m \u001b[1;32mis\u001b[0m \u001b[1;32mNone\u001b[0m\u001b[1;33m:\u001b[0m\u001b[1;33m\u001b[0m\u001b[1;33m\u001b[0m\u001b[0m\n",
      "\u001b[1;32mC:\\tools\\Anaconda3\\envs\\tensorflow2_py37\\lib\\site-packages\\matplotlib\\image.py\u001b[0m in \u001b[0;36mset_data\u001b[1;34m(self, A)\u001b[0m\n\u001b[0;32m    704\u001b[0m                 or self._A.ndim == 3 and self._A.shape[-1] in [3, 4]):\n\u001b[0;32m    705\u001b[0m             raise TypeError(\"Invalid shape {} for image data\"\n\u001b[1;32m--> 706\u001b[1;33m                             .format(self._A.shape))\n\u001b[0m\u001b[0;32m    707\u001b[0m \u001b[1;33m\u001b[0m\u001b[0m\n\u001b[0;32m    708\u001b[0m         \u001b[1;32mif\u001b[0m \u001b[0mself\u001b[0m\u001b[1;33m.\u001b[0m\u001b[0m_A\u001b[0m\u001b[1;33m.\u001b[0m\u001b[0mndim\u001b[0m \u001b[1;33m==\u001b[0m \u001b[1;36m3\u001b[0m\u001b[1;33m:\u001b[0m\u001b[1;33m\u001b[0m\u001b[1;33m\u001b[0m\u001b[0m\n",
      "\u001b[1;31mTypeError\u001b[0m: Invalid shape (1, 1670, 2400, 3) for image data"
     ]
    },
    {
     "data": {
      "image/png": "[encoded data removed]",
      "text/plain": [
       "<Figure size 432x288 with 1 Axes>"
      ]
     },
     "metadata": {
      "needs_background": "light"
     },
     "output_type": "display_data"
    }
   ],
   "source": [
    "import matplotlib.pyplot as plt\n",
    "plt.imshow(img)"
   ]
  },
  {
   "cell_type": "code",
   "execution_count": 113,
   "metadata": {
    "ExecuteTime": {
     "end_time": "2020-11-22T12:12:35.478817Z",
     "start_time": "2020-11-22T12:12:35.430673Z"
    }
   },
   "outputs": [],
   "source": [
    "img = cv2.imread(accPath + acc_list[0])\n",
    "img = cv2.cvtColor(img, cv2.COLOR_BGR2RGB)"
   ]
  },
  {
   "cell_type": "code",
   "execution_count": null,
   "metadata": {},
   "outputs": [],
   "source": []
  }
 ],
 "metadata": {
  "kernelspec": {
   "display_name": "Python 3",
   "language": "python",
   "name": "python3"
  },
  "language_info": {
   "codemirror_mode": {
    "name": "ipython",
    "version": 3
   },
   "file_extension": ".py",
   "mimetype": "text/x-python",
   "name": "python",
   "nbconvert_exporter": "python",
   "pygments_lexer": "ipython3",
   "version": "3.7.9"
  },
  "toc": {
   "base_numbering": 1,
   "nav_menu": {},
   "number_sections": true,
   "sideBar": true,
   "skip_h1_title": false,
   "title_cell": "Table of Contents",
   "title_sidebar": "Contents",
   "toc_cell": false,
   "toc_position": {},
   "toc_section_display": true,
   "toc_window_display": false
  },
  "varInspector": {
   "cols": {
    "lenName": 16,
    "lenType": 16,
    "lenVar": 40
   },
   "kernels_config": {
    "python": {
     "delete_cmd_postfix": "",
     "delete_cmd_prefix": "del ",
     "library": "var_list.py",
     "varRefreshCmd": "print(var_dic_list())"
    },
    "r": {
     "delete_cmd_postfix": ") ",
     "delete_cmd_prefix": "rm(",
     "library": "var_list.r",
     "varRefreshCmd": "cat(var_dic_list()) "
    }
   },
   "types_to_exclude": [
    "module",
    "function",
    "builtin_function_or_method",
    "instance",
    "_Feature"
   ],
   "window_display": false
  }
 },
 "nbformat": 4,
 "nbformat_minor": 4
}
