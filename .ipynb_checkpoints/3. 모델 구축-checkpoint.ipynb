{
 "cells": [
  {
   "cell_type": "code",
   "execution_count": 1,
   "metadata": {
    "ExecuteTime": {
     "end_time": "2020-11-23T06:42:09.318967Z",
     "start_time": "2020-11-23T06:42:05.886240Z"
    }
   },
   "outputs": [],
   "source": [
    "import pandas as pd\n",
    "import numpy as np\n",
    "import matplotlib.pyplot as plt\n",
    "\n",
    "import os\n",
    "import cv2\n",
    "import tensorflow.keras as keras\n",
    "import tensorflow as tf\n",
    "from keras.models import Sequential\n",
    "from keras import layers\n",
    "from keras import optimizers\n",
    "from keras.layers.convolutional import MaxPooling2D\n",
    "from keras.callbacks import ModelCheckpoint\n",
    "from keras.layers import BatchNormalization\n",
    "from sklearn.preprocessing import MinMaxScaler\n",
    "from keras.layers import Dropout"
   ]
  },
  {
   "cell_type": "code",
   "execution_count": 2,
   "metadata": {
    "ExecuteTime": {
     "end_time": "2020-11-23T06:42:09.378967Z",
     "start_time": "2020-11-23T06:42:09.364968Z"
    },
    "code_folding": []
   },
   "outputs": [],
   "source": [
    "# 얼리스탑핑 쉽게\n",
    "def model_save_erstp(MODEL_SAVE_FOLDER_PATH, model_name, patience):\n",
    "    save_file_name = model_name\n",
    "    cb_checkpoint,cb_earlystopping = checkpoint_ez(MODEL_SAVE_FOLDER_PATH, save_file_name, patience)\n",
    "    return cb_checkpoint,cb_earlystopping\n",
    "\n",
    "def checkpoint_ez(MODEL_SAVE_FOLDER_PATH,save_file_name, patience) : \n",
    "    MODEL_SAVE_FOLDER_PATH = MODEL_SAVE_FOLDER_PATH\n",
    "    data_name = save_file_name\n",
    "    model_path = MODEL_SAVE_FOLDER_PATH + data_name + '.hdf5'\n",
    "    # val_loss 값이 낮아졌을(좋아졌을) 때만 저장\n",
    "    cb_checkpoint = ModelCheckpoint(filepath=model_path, monitor='val_loss',\n",
    "                                    verbose=1, save_best_only=True\n",
    "                                   )\n",
    "    cb_earlystopping = keras.callbacks.EarlyStopping(monitor='val_loss', min_delta=0, patience = patience, verbose=1,\n",
    "                                                  mode='auto', baseline=None, restore_best_weights=False)\n",
    "    return cb_checkpoint, cb_earlystopping\n",
    "\n",
    "# 그래프 쉽게\n",
    "def loss_graph(label1,label2,bottom,top):\n",
    "    fig, loss_ax = plt.subplots()\n",
    "    acc_ax = loss_ax.twinx()\n",
    "    loss_ax.plot(history.history['loss'], 'y', label=label1)\n",
    "    loss_ax.plot(history.history['val_loss'], 'r', label=label2)\n",
    "    acc_ax.plot(history.history['accuracy'], 'b', label='train acc')\n",
    "    acc_ax.plot(history.history['val_accuracy'], 'g', label='val acc')\n",
    "    loss_ax.set_xlabel('epoch')\n",
    "    loss_ax.set_ylabel('loss')\n",
    "    # acc_ax.set_ylabel('accuray')\n",
    "    loss_ax.legend(loc='upper left')\n",
    "    acc_ax.legend(loc='lower left')\n",
    "    loss_ax.set_ylim(bottom,top)\n",
    "    return plt.show()\n",
    "\n",
    "# 모델 저장 def\n",
    "def json_model_saver(MODEL_SAVE_FOLDER_PATH,file_name):\n",
    "    # model save by json\n",
    "    # load model \n",
    "    model = keras.models.load_model(MODEL_SAVE_FOLDER_PATH +file_name+ '.hdf5')\n",
    "    # Save model with json format\n",
    "    model_json = model.to_json()\n",
    "    with open(MODEL_SAVE_FOLDER_PATH+file_name+'.json', \"w\") as json_file:\n",
    "        json_file.write(model_json)\n",
    "    # Save weight with h5 format\n",
    "    model.save_weights( MODEL_SAVE_FOLDER_PATH +file_name +'.h5')\n",
    "    return print(\"Saved model to disk : \"+ file_name +'.h5')\n"
   ]
  },
  {
   "cell_type": "code",
   "execution_count": 3,
   "metadata": {
    "ExecuteTime": {
     "end_time": "2020-11-23T06:42:10.129055Z",
     "start_time": "2020-11-23T06:42:09.409968Z"
    }
   },
   "outputs": [],
   "source": [
    "# 데이터 불러오기\n",
    "path_AL = '../9.data/0.work_data/3.Accident_list/'\n",
    "\n",
    "AccList = pd.read_csv(path_AL + 'AccList.csv', header=None, index_col=0)"
   ]
  },
  {
   "cell_type": "code",
   "execution_count": 4,
   "metadata": {
    "ExecuteTime": {
     "end_time": "2020-11-23T06:42:10.189063Z",
     "start_time": "2020-11-23T06:42:10.174968Z"
    }
   },
   "outputs": [],
   "source": [
    "# Accident, Nonaccident 리스트 불러오기\n",
    "diff_path = '../9.data/1.accData_split/1.diff_heatmap/'\n",
    "\n",
    "acclist = os.listdir(diff_path + 'accident/')\n",
    "nonacclist = os.listdir(diff_path + 'nonaccident/')\n",
    "\n",
    "for i in range(len(acclist)):\n",
    "    acclist[i] = acclist[i].split('.')[0]\n",
    "for i in range(len(nonacclist)):\n",
    "    nonacclist[i] = nonacclist[i].split('.')[0]"
   ]
  },
  {
   "cell_type": "code",
   "execution_count": 5,
   "metadata": {
    "ExecuteTime": {
     "end_time": "2020-11-23T06:42:10.278978Z",
     "start_time": "2020-11-23T06:42:10.236975Z"
    }
   },
   "outputs": [],
   "source": [
    "accData = AccList.loc[acclist]\n",
    "accDataAmp = pd.concat([accData, accData, accData, accData, accData], axis=1)\n",
    "nonaccData = AccList.loc[nonacclist]\n",
    "nonaccDataAmp = pd.concat([nonaccData, nonaccData, nonaccData, nonaccData, nonaccData], axis=1)"
   ]
  },
  {
   "cell_type": "code",
   "execution_count": 6,
   "metadata": {
    "ExecuteTime": {
     "end_time": "2020-11-23T06:42:10.669086Z",
     "start_time": "2020-11-23T06:42:10.595016Z"
    },
    "scrolled": true
   },
   "outputs": [],
   "source": [
    "colList = list(range(1,562))\n",
    "accDataAmp = accDataAmp[colList]\n",
    "nonaccDataAmp = nonaccDataAmp[colList]\n",
    "\n",
    "accDataAmp['y'] = 1\n",
    "nonaccDataAmp['y'] = 0\n",
    "data = pd.concat([accDataAmp, nonaccDataAmp])"
   ]
  },
  {
   "cell_type": "code",
   "execution_count": 7,
   "metadata": {
    "ExecuteTime": {
     "end_time": "2020-11-23T06:42:11.164256Z",
     "start_time": "2020-11-23T06:42:11.105015Z"
    },
    "scrolled": true
   },
   "outputs": [],
   "source": [
    "# 데이터 섞은 후 배열로 만들기\n",
    "\n",
    "np.random.seed(0)\n",
    "randomList = list(np.random.randint(2000, size = 2000))\n",
    "data = data.reset_index(drop=True)\n",
    "data = data.loc[randomList]\n",
    "data = data.reset_index(drop=True)"
   ]
  },
  {
   "cell_type": "code",
   "execution_count": 8,
   "metadata": {
    "ExecuteTime": {
     "end_time": "2020-11-23T06:42:11.659256Z",
     "start_time": "2020-11-23T06:42:11.570164Z"
    }
   },
   "outputs": [],
   "source": [
    "dataX = data.T[:-1].T\n",
    "\n",
    "scaler = MinMaxScaler()\n",
    "scaler.fit(dataX)\n",
    "dataX_scl = scaler.transform(dataX)"
   ]
  },
  {
   "cell_type": "code",
   "execution_count": 9,
   "metadata": {
    "ExecuteTime": {
     "end_time": "2020-11-23T06:42:12.229334Z",
     "start_time": "2020-11-23T06:42:12.185164Z"
    }
   },
   "outputs": [],
   "source": [
    "data = np.array(data)\n",
    "dataX_scl = np.array(dataX_scl)\n",
    "\n",
    "# input data 생성\n",
    "nTrain = 1500\n",
    "nTest = 500\n",
    "\n",
    "x_train = dataX_scl[:nTrain, :561*5]\n",
    "x_test = dataX_scl[:nTest, :561*5]\n",
    "y_train = data[:nTrain, 561*5]\n",
    "y_test = data[:nTest, 561*5]"
   ]
  },
  {
   "cell_type": "code",
   "execution_count": 10,
   "metadata": {
    "ExecuteTime": {
     "end_time": "2020-11-23T06:42:12.664776Z",
     "start_time": "2020-11-23T06:42:12.650776Z"
    }
   },
   "outputs": [],
   "source": [
    "y_train = pd.get_dummies(y_train)\n",
    "y_test = pd.get_dummies(y_test)"
   ]
  },
  {
   "cell_type": "code",
   "execution_count": 11,
   "metadata": {
    "ExecuteTime": {
     "end_time": "2020-11-23T06:42:13.100616Z",
     "start_time": "2020-11-23T06:42:13.087553Z"
    }
   },
   "outputs": [],
   "source": [
    "# 데이터 reshape 및 차원 추가\n",
    "x_train = x_train.reshape(x_train.shape[0],51,55)\n",
    "x_train = np.expand_dims(x_train, -1)\n",
    "x_test = x_test.reshape(x_test.shape[0],51,55)\n",
    "x_test = np.expand_dims(x_test, -1)"
   ]
  },
  {
   "cell_type": "code",
   "execution_count": 15,
   "metadata": {
    "ExecuteTime": {
     "end_time": "2020-11-23T06:47:01.126095Z",
     "start_time": "2020-11-23T06:46:43.669016Z"
    },
    "scrolled": true
   },
   "outputs": [
    {
     "name": "stdout",
     "output_type": "stream",
     "text": [
      "Model: \"sequential_2\"\n",
      "_________________________________________________________________\n",
      "Layer (type)                 Output Shape              Param #   \n",
      "=================================================================\n",
      "conv2d_2 (Conv2D)            (None, 49, 53, 8)         80        \n",
      "_________________________________________________________________\n",
      "max_pooling2d_2 (MaxPooling2 (None, 24, 26, 8)         0         \n",
      "_________________________________________________________________\n",
      "conv2d_3 (Conv2D)            (None, 22, 24, 16)        1168      \n",
      "_________________________________________________________________\n",
      "max_pooling2d_3 (MaxPooling2 (None, 11, 12, 16)        0         \n",
      "_________________________________________________________________\n",
      "conv2d_4 (Conv2D)            (None, 9, 10, 32)         4640      \n",
      "_________________________________________________________________\n",
      "max_pooling2d_4 (MaxPooling2 (None, 4, 5, 32)          0         \n",
      "_________________________________________________________________\n",
      "flatten_2 (Flatten)          (None, 640)               0         \n",
      "_________________________________________________________________\n",
      "dense_4 (Dense)              (None, 10)                6410      \n",
      "_________________________________________________________________\n",
      "dense_5 (Dense)              (None, 2)                 22        \n",
      "=================================================================\n",
      "Total params: 12,320\n",
      "Trainable params: 12,320\n",
      "Non-trainable params: 0\n",
      "_________________________________________________________________\n",
      "Epoch 1/1000\n",
      "106/120 [=========================>....] - ETA: 0s - loss: 0.6836 - accuracy: 0.4840\n",
      "Epoch 00001: val_loss improved from inf to 0.69194, saving model to ..\\1.modeltest.hdf5\n",
      "120/120 [==============================] - 0s 4ms/step - loss: 0.6847 - accuracy: 0.4867 - val_loss: 0.6919 - val_accuracy: 0.5467\n",
      "Epoch 2/1000\n",
      "107/120 [=========================>....] - ETA: 0s - loss: 0.6936 - accuracy: 0.5084\n",
      "Epoch 00002: val_loss did not improve from 0.69194\n",
      "120/120 [==============================] - 0s 2ms/step - loss: 0.6937 - accuracy: 0.5017 - val_loss: 0.6931 - val_accuracy: 0.5467\n",
      "Epoch 3/1000\n",
      "105/120 [=========================>....] - ETA: 0s - loss: 0.6936 - accuracy: 0.4771\n",
      "Epoch 00003: val_loss did not improve from 0.69194\n",
      "120/120 [==============================] - 0s 2ms/step - loss: 0.6936 - accuracy: 0.4783 - val_loss: 0.6929 - val_accuracy: 0.5467\n",
      "Epoch 4/1000\n",
      "100/120 [========================>.....] - ETA: 0s - loss: 0.6936 - accuracy: 0.4750\n",
      "Epoch 00004: val_loss did not improve from 0.69194\n",
      "120/120 [==============================] - 0s 2ms/step - loss: 0.6935 - accuracy: 0.4700 - val_loss: 0.6934 - val_accuracy: 0.4533\n",
      "Epoch 5/1000\n",
      "106/120 [=========================>....] - ETA: 0s - loss: 0.6938 - accuracy: 0.4991\n",
      "Epoch 00005: val_loss improved from 0.69194 to 0.69153, saving model to ..\\1.modeltest.hdf5\n",
      "120/120 [==============================] - 0s 3ms/step - loss: 0.6937 - accuracy: 0.5000 - val_loss: 0.6915 - val_accuracy: 0.5467\n",
      "Epoch 6/1000\n",
      "105/120 [=========================>....] - ETA: 0s - loss: 0.6937 - accuracy: 0.4943\n",
      "Epoch 00006: val_loss did not improve from 0.69153\n",
      "120/120 [==============================] - 0s 2ms/step - loss: 0.6936 - accuracy: 0.4950 - val_loss: 0.6917 - val_accuracy: 0.5467\n",
      "Epoch 7/1000\n",
      "110/120 [==========================>...] - ETA: 0s - loss: 0.6937 - accuracy: 0.5018\n",
      "Epoch 00007: val_loss did not improve from 0.69153\n",
      "120/120 [==============================] - 0s 2ms/step - loss: 0.6939 - accuracy: 0.4950 - val_loss: 0.6939 - val_accuracy: 0.4533\n",
      "Epoch 8/1000\n",
      "104/120 [=========================>....] - ETA: 0s - loss: 0.6935 - accuracy: 0.5048\n",
      "Epoch 00008: val_loss improved from 0.69153 to 0.69075, saving model to ..\\1.modeltest.hdf5\n",
      "120/120 [==============================] - 0s 3ms/step - loss: 0.6932 - accuracy: 0.5100 - val_loss: 0.6907 - val_accuracy: 0.5467\n",
      "Epoch 9/1000\n",
      "106/120 [=========================>....] - ETA: 0s - loss: 0.6943 - accuracy: 0.4802\n",
      "Epoch 00009: val_loss did not improve from 0.69075\n",
      "120/120 [==============================] - 0s 2ms/step - loss: 0.6940 - accuracy: 0.4867 - val_loss: 0.6915 - val_accuracy: 0.5467\n",
      "Epoch 10/1000\n",
      "106/120 [=========================>....] - ETA: 0s - loss: 0.6938 - accuracy: 0.4962\n",
      "Epoch 00010: val_loss did not improve from 0.69075\n",
      "120/120 [==============================] - 0s 2ms/step - loss: 0.6938 - accuracy: 0.4933 - val_loss: 0.6934 - val_accuracy: 0.4533\n",
      "Epoch 11/1000\n",
      "100/120 [========================>.....] - ETA: 0s - loss: 0.6938 - accuracy: 0.4780\n",
      "Epoch 00011: val_loss did not improve from 0.69075\n",
      "120/120 [==============================] - 0s 2ms/step - loss: 0.6937 - accuracy: 0.4867 - val_loss: 0.6952 - val_accuracy: 0.4533\n",
      "Epoch 12/1000\n",
      "104/120 [=========================>....] - ETA: 0s - loss: 0.6936 - accuracy: 0.4788\n",
      "Epoch 00012: val_loss did not improve from 0.69075\n",
      "120/120 [==============================] - 0s 2ms/step - loss: 0.6936 - accuracy: 0.4733 - val_loss: 0.6932 - val_accuracy: 0.4533\n",
      "Epoch 13/1000\n",
      "104/120 [=========================>....] - ETA: 0s - loss: 0.6937 - accuracy: 0.4875\n",
      "Epoch 00013: val_loss did not improve from 0.69075\n",
      "120/120 [==============================] - 0s 2ms/step - loss: 0.6937 - accuracy: 0.4900 - val_loss: 0.6941 - val_accuracy: 0.4533\n",
      "Epoch 14/1000\n",
      "109/120 [==========================>...] - ETA: 0s - loss: 0.6937 - accuracy: 0.4982\n",
      "Epoch 00014: val_loss did not improve from 0.69075\n",
      "120/120 [==============================] - 0s 2ms/step - loss: 0.6937 - accuracy: 0.4983 - val_loss: 0.6941 - val_accuracy: 0.4533\n",
      "Epoch 15/1000\n",
      "104/120 [=========================>....] - ETA: 0s - loss: 0.6938 - accuracy: 0.4875\n",
      "Epoch 00015: val_loss did not improve from 0.69075\n",
      "120/120 [==============================] - 0s 2ms/step - loss: 0.6940 - accuracy: 0.4750 - val_loss: 0.6934 - val_accuracy: 0.4533\n",
      "Epoch 16/1000\n",
      "103/120 [========================>.....] - ETA: 0s - loss: 0.6938 - accuracy: 0.4728\n",
      "Epoch 00016: val_loss did not improve from 0.69075\n",
      "120/120 [==============================] - 0s 2ms/step - loss: 0.6937 - accuracy: 0.4750 - val_loss: 0.6935 - val_accuracy: 0.4533\n",
      "Epoch 17/1000\n",
      "104/120 [=========================>....] - ETA: 0s - loss: 0.6941 - accuracy: 0.4750\n",
      "Epoch 00017: val_loss did not improve from 0.69075\n",
      "120/120 [==============================] - 0s 2ms/step - loss: 0.6940 - accuracy: 0.4767 - val_loss: 0.6931 - val_accuracy: 0.5467\n",
      "Epoch 18/1000\n",
      "102/120 [========================>.....] - ETA: 0s - loss: 0.6935 - accuracy: 0.4892\n",
      "Epoch 00018: val_loss did not improve from 0.69075\n",
      "120/120 [==============================] - 0s 2ms/step - loss: 0.6937 - accuracy: 0.4867 - val_loss: 0.6920 - val_accuracy: 0.5467\n",
      "Epoch 19/1000\n",
      "108/120 [==========================>...] - ETA: 0s - loss: 0.6938 - accuracy: 0.5009\n",
      "Epoch 00019: val_loss did not improve from 0.69075\n",
      "120/120 [==============================] - 0s 2ms/step - loss: 0.6937 - accuracy: 0.5000 - val_loss: 0.6940 - val_accuracy: 0.4533\n",
      "Epoch 20/1000\n",
      "106/120 [=========================>....] - ETA: 0s - loss: 0.6936 - accuracy: 0.4726\n",
      "Epoch 00020: val_loss did not improve from 0.69075\n",
      "120/120 [==============================] - 0s 2ms/step - loss: 0.6936 - accuracy: 0.4733 - val_loss: 0.6932 - val_accuracy: 0.4533\n",
      "Epoch 21/1000\n",
      "104/120 [=========================>....] - ETA: 0s - loss: 0.6935 - accuracy: 0.5010\n",
      "Epoch 00021: val_loss did not improve from 0.69075\n",
      "120/120 [==============================] - 0s 2ms/step - loss: 0.6936 - accuracy: 0.4983 - val_loss: 0.6915 - val_accuracy: 0.5467\n",
      "Epoch 22/1000\n",
      "103/120 [========================>.....] - ETA: 0s - loss: 0.6941 - accuracy: 0.5087\n",
      "Epoch 00022: val_loss did not improve from 0.69075\n",
      "120/120 [==============================] - 0s 2ms/step - loss: 0.6940 - accuracy: 0.5067 - val_loss: 0.6949 - val_accuracy: 0.4533\n",
      "Epoch 23/1000\n",
      "105/120 [=========================>....] - ETA: 0s - loss: 0.6933 - accuracy: 0.4933\n",
      "Epoch 00023: val_loss did not improve from 0.69075\n",
      "120/120 [==============================] - 0s 2ms/step - loss: 0.6934 - accuracy: 0.4917 - val_loss: 0.6921 - val_accuracy: 0.5467\n",
      "Epoch 24/1000\n"
     ]
    },
    {
     "name": "stdout",
     "output_type": "stream",
     "text": [
      "104/120 [=========================>....] - ETA: 0s - loss: 0.6938 - accuracy: 0.4865\n",
      "Epoch 00024: val_loss did not improve from 0.69075\n",
      "120/120 [==============================] - 0s 2ms/step - loss: 0.6940 - accuracy: 0.4817 - val_loss: 0.6921 - val_accuracy: 0.5467\n",
      "Epoch 25/1000\n",
      "106/120 [=========================>....] - ETA: 0s - loss: 0.6941 - accuracy: 0.4792\n",
      "Epoch 00025: val_loss did not improve from 0.69075\n",
      "120/120 [==============================] - 0s 2ms/step - loss: 0.6938 - accuracy: 0.4900 - val_loss: 0.6915 - val_accuracy: 0.5467\n",
      "Epoch 26/1000\n",
      "107/120 [=========================>....] - ETA: 0s - loss: 0.6938 - accuracy: 0.4813\n",
      "Epoch 00026: val_loss did not improve from 0.69075\n",
      "120/120 [==============================] - 0s 2ms/step - loss: 0.6937 - accuracy: 0.4867 - val_loss: 0.6920 - val_accuracy: 0.5467\n",
      "Epoch 27/1000\n",
      "107/120 [=========================>....] - ETA: 0s - loss: 0.6935 - accuracy: 0.5037\n",
      "Epoch 00027: val_loss did not improve from 0.69075\n",
      "120/120 [==============================] - 0s 2ms/step - loss: 0.6936 - accuracy: 0.4950 - val_loss: 0.6933 - val_accuracy: 0.4533\n",
      "Epoch 28/1000\n",
      "107/120 [=========================>....] - ETA: 0s - loss: 0.6939 - accuracy: 0.4897\n",
      "Epoch 00028: val_loss did not improve from 0.69075\n",
      "120/120 [==============================] - 0s 2ms/step - loss: 0.6940 - accuracy: 0.4850 - val_loss: 0.6915 - val_accuracy: 0.5467\n",
      "Epoch 29/1000\n",
      "107/120 [=========================>....] - ETA: 0s - loss: 0.6931 - accuracy: 0.5150\n",
      "Epoch 00029: val_loss did not improve from 0.69075\n",
      "120/120 [==============================] - 0s 2ms/step - loss: 0.6933 - accuracy: 0.5017 - val_loss: 0.6935 - val_accuracy: 0.4533\n",
      "Epoch 30/1000\n",
      "111/120 [==========================>...] - ETA: 0s - loss: 0.6940 - accuracy: 0.5027\n",
      "Epoch 00030: val_loss did not improve from 0.69075\n",
      "120/120 [==============================] - 0s 2ms/step - loss: 0.6939 - accuracy: 0.5017 - val_loss: 0.6928 - val_accuracy: 0.5467\n",
      "Epoch 31/1000\n",
      "110/120 [==========================>...] - ETA: 0s - loss: 0.6937 - accuracy: 0.5009\n",
      "Epoch 00031: val_loss did not improve from 0.69075\n",
      "120/120 [==============================] - 0s 2ms/step - loss: 0.6936 - accuracy: 0.5017 - val_loss: 0.6930 - val_accuracy: 0.5467\n",
      "Epoch 32/1000\n",
      "110/120 [==========================>...] - ETA: 0s - loss: 0.6940 - accuracy: 0.4745\n",
      "Epoch 00032: val_loss did not improve from 0.69075\n",
      "120/120 [==============================] - 0s 2ms/step - loss: 0.6939 - accuracy: 0.4783 - val_loss: 0.6917 - val_accuracy: 0.5467\n",
      "Epoch 33/1000\n",
      "109/120 [==========================>...] - ETA: 0s - loss: 0.6938 - accuracy: 0.4899\n",
      "Epoch 00033: val_loss did not improve from 0.69075\n",
      "120/120 [==============================] - 0s 2ms/step - loss: 0.6938 - accuracy: 0.4883 - val_loss: 0.6928 - val_accuracy: 0.5467\n",
      "Epoch 34/1000\n",
      "110/120 [==========================>...] - ETA: 0s - loss: 0.6937 - accuracy: 0.4745\n",
      "Epoch 00034: val_loss did not improve from 0.69075\n",
      "120/120 [==============================] - 0s 2ms/step - loss: 0.6936 - accuracy: 0.4767 - val_loss: 0.6927 - val_accuracy: 0.5467\n",
      "Epoch 35/1000\n",
      "109/120 [==========================>...] - ETA: 0s - loss: 0.6938 - accuracy: 0.4917\n",
      "Epoch 00035: val_loss did not improve from 0.69075\n",
      "120/120 [==============================] - 0s 2ms/step - loss: 0.6937 - accuracy: 0.4967 - val_loss: 0.6917 - val_accuracy: 0.5467\n",
      "Epoch 36/1000\n",
      "110/120 [==========================>...] - ETA: 0s - loss: 0.6937 - accuracy: 0.4918\n",
      "Epoch 00036: val_loss did not improve from 0.69075\n",
      "120/120 [==============================] - 0s 2ms/step - loss: 0.6937 - accuracy: 0.4917 - val_loss: 0.6939 - val_accuracy: 0.4533\n",
      "Epoch 37/1000\n",
      "112/120 [===========================>..] - ETA: 0s - loss: 0.6937 - accuracy: 0.4821\n",
      "Epoch 00037: val_loss did not improve from 0.69075\n",
      "120/120 [==============================] - 0s 2ms/step - loss: 0.6937 - accuracy: 0.4833 - val_loss: 0.6940 - val_accuracy: 0.4533\n",
      "Epoch 38/1000\n",
      "109/120 [==========================>...] - ETA: 0s - loss: 0.6937 - accuracy: 0.4954\n",
      "Epoch 00038: val_loss did not improve from 0.69075\n",
      "120/120 [==============================] - 0s 2ms/step - loss: 0.6937 - accuracy: 0.4933 - val_loss: 0.6923 - val_accuracy: 0.5467\n",
      "Epoch 39/1000\n",
      "103/120 [========================>.....] - ETA: 0s - loss: 0.6938 - accuracy: 0.5010\n",
      "Epoch 00039: val_loss did not improve from 0.69075\n",
      "120/120 [==============================] - 0s 2ms/step - loss: 0.6938 - accuracy: 0.4967 - val_loss: 0.6928 - val_accuracy: 0.5467\n",
      "Epoch 40/1000\n",
      "106/120 [=========================>....] - ETA: 0s - loss: 0.6937 - accuracy: 0.4877\n",
      "Epoch 00040: val_loss did not improve from 0.69075\n",
      "120/120 [==============================] - 0s 2ms/step - loss: 0.6936 - accuracy: 0.4917 - val_loss: 0.6920 - val_accuracy: 0.5467\n",
      "Epoch 41/1000\n",
      "103/120 [========================>.....] - ETA: 0s - loss: 0.6934 - accuracy: 0.4816\n",
      "Epoch 00041: val_loss did not improve from 0.69075\n",
      "120/120 [==============================] - 0s 2ms/step - loss: 0.6934 - accuracy: 0.4850 - val_loss: 0.6919 - val_accuracy: 0.5467\n",
      "Epoch 42/1000\n",
      "109/120 [==========================>...] - ETA: 0s - loss: 0.6942 - accuracy: 0.4761\n",
      "Epoch 00042: val_loss did not improve from 0.69075\n",
      "120/120 [==============================] - 0s 2ms/step - loss: 0.6942 - accuracy: 0.4733 - val_loss: 0.6939 - val_accuracy: 0.4533\n",
      "Epoch 43/1000\n",
      "109/120 [==========================>...] - ETA: 0s - loss: 0.6937 - accuracy: 0.4789\n",
      "Epoch 00043: val_loss did not improve from 0.69075\n",
      "120/120 [==============================] - 0s 2ms/step - loss: 0.6937 - accuracy: 0.4800 - val_loss: 0.6935 - val_accuracy: 0.4533\n",
      "Epoch 44/1000\n",
      "109/120 [==========================>...] - ETA: 0s - loss: 0.6937 - accuracy: 0.4936\n",
      "Epoch 00044: val_loss did not improve from 0.69075\n",
      "120/120 [==============================] - 0s 2ms/step - loss: 0.6936 - accuracy: 0.4983 - val_loss: 0.6941 - val_accuracy: 0.4533\n",
      "Epoch 45/1000\n",
      "109/120 [==========================>...] - ETA: 0s - loss: 0.6936 - accuracy: 0.4835\n",
      "Epoch 00045: val_loss did not improve from 0.69075\n",
      "120/120 [==============================] - 0s 2ms/step - loss: 0.6936 - accuracy: 0.4833 - val_loss: 0.6939 - val_accuracy: 0.4533\n",
      "Epoch 46/1000\n",
      "117/120 [============================>.] - ETA: 0s - loss: 0.6940 - accuracy: 0.4769\n",
      "Epoch 00046: val_loss did not improve from 0.69075\n",
      "120/120 [==============================] - 0s 3ms/step - loss: 0.6941 - accuracy: 0.4733 - val_loss: 0.6922 - val_accuracy: 0.5467\n",
      "Epoch 47/1000\n",
      "106/120 [=========================>....] - ETA: 0s - loss: 0.6935 - accuracy: 0.5066\n",
      "Epoch 00047: val_loss did not improve from 0.69075\n",
      "120/120 [==============================] - 0s 2ms/step - loss: 0.6934 - accuracy: 0.5083 - val_loss: 0.6945 - val_accuracy: 0.4533\n",
      "Epoch 48/1000\n",
      "105/120 [=========================>....] - ETA: 0s - loss: 0.6939 - accuracy: 0.4886\n",
      "Epoch 00048: val_loss did not improve from 0.69075\n",
      "120/120 [==============================] - 0s 2ms/step - loss: 0.6938 - accuracy: 0.4867 - val_loss: 0.6939 - val_accuracy: 0.4533\n",
      "Epoch 49/1000\n",
      "105/120 [=========================>....] - ETA: 0s - loss: 0.6940 - accuracy: 0.5133\n",
      "Epoch 00049: val_loss did not improve from 0.69075\n",
      "120/120 [==============================] - 0s 2ms/step - loss: 0.6938 - accuracy: 0.5150 - val_loss: 0.6908 - val_accuracy: 0.5467\n",
      "Epoch 50/1000\n",
      "107/120 [=========================>....] - ETA: 0s - loss: 0.6938 - accuracy: 0.5000\n",
      "Epoch 00050: val_loss did not improve from 0.69075\n",
      "120/120 [==============================] - 0s 2ms/step - loss: 0.6938 - accuracy: 0.4900 - val_loss: 0.6930 - val_accuracy: 0.5467\n",
      "Epoch 51/1000\n",
      "102/120 [========================>.....] - ETA: 0s - loss: 0.6936 - accuracy: 0.4863\n",
      "Epoch 00051: val_loss did not improve from 0.69075\n",
      "120/120 [==============================] - 0s 2ms/step - loss: 0.6936 - accuracy: 0.4867 - val_loss: 0.6932 - val_accuracy: 0.4533\n",
      "Epoch 52/1000\n",
      "104/120 [=========================>....] - ETA: 0s - loss: 0.6937 - accuracy: 0.4971\n",
      "Epoch 00052: val_loss did not improve from 0.69075\n",
      "120/120 [==============================] - 0s 2ms/step - loss: 0.6940 - accuracy: 0.4917 - val_loss: 0.6916 - val_accuracy: 0.5467\n",
      "Epoch 53/1000\n"
     ]
    },
    {
     "name": "stdout",
     "output_type": "stream",
     "text": [
      "105/120 [=========================>....] - ETA: 0s - loss: 0.6937 - accuracy: 0.4905\n",
      "Epoch 00053: val_loss did not improve from 0.69075\n",
      "120/120 [==============================] - 0s 2ms/step - loss: 0.6936 - accuracy: 0.4933 - val_loss: 0.6908 - val_accuracy: 0.5467\n",
      "Epoch 54/1000\n",
      "107/120 [=========================>....] - ETA: 0s - loss: 0.6941 - accuracy: 0.4925\n",
      "Epoch 00054: val_loss did not improve from 0.69075\n",
      "120/120 [==============================] - 0s 2ms/step - loss: 0.6941 - accuracy: 0.4883 - val_loss: 0.6932 - val_accuracy: 0.4533\n",
      "Epoch 55/1000\n",
      "106/120 [=========================>....] - ETA: 0s - loss: 0.6933 - accuracy: 0.4934\n",
      "Epoch 00055: val_loss did not improve from 0.69075\n",
      "120/120 [==============================] - 0s 2ms/step - loss: 0.6937 - accuracy: 0.4883 - val_loss: 0.6921 - val_accuracy: 0.5467\n",
      "Epoch 56/1000\n",
      "109/120 [==========================>...] - ETA: 0s - loss: 0.6936 - accuracy: 0.5000\n",
      "Epoch 00056: val_loss did not improve from 0.69075\n",
      "120/120 [==============================] - 0s 2ms/step - loss: 0.6935 - accuracy: 0.5033 - val_loss: 0.6938 - val_accuracy: 0.4533\n",
      "Epoch 57/1000\n",
      "108/120 [==========================>...] - ETA: 0s - loss: 0.6938 - accuracy: 0.4806\n",
      "Epoch 00057: val_loss did not improve from 0.69075\n",
      "120/120 [==============================] - 0s 2ms/step - loss: 0.6938 - accuracy: 0.4850 - val_loss: 0.6948 - val_accuracy: 0.4533\n",
      "Epoch 58/1000\n",
      "109/120 [==========================>...] - ETA: 0s - loss: 0.6935 - accuracy: 0.5009\n",
      "Epoch 00058: val_loss did not improve from 0.69075\n",
      "120/120 [==============================] - 0s 2ms/step - loss: 0.6937 - accuracy: 0.4967 - val_loss: 0.6918 - val_accuracy: 0.5467\n",
      "Epoch 00058: early stopping\n"
     ]
    },
    {
     "data": {
      "image/png": "[encoded data removed]",
      "text/plain": [
       "<Figure size 432x288 with 2 Axes>"
      ]
     },
     "metadata": {
      "needs_background": "light"
     },
     "output_type": "display_data"
    }
   ],
   "source": [
    "model_name = 'test'\n",
    "MODEL_SAVE_FOLDER_PATH = '../1.model'\n",
    "cb_checkpoint,cb_earlystopping = model_save_erstp(MODEL_SAVE_FOLDER_PATH, model_name, 50)\n",
    "\n",
    "model = Sequential()\n",
    "model.add(layers.Conv2D(filters=8, kernel_size = 3 , input_shape=(51,55,1), activation='relu'))\n",
    "model.add(layers.MaxPooling2D((2, 2)))\n",
    "\n",
    "model.add(layers.Conv2D(filters=16, kernel_size = 3, activation='relu'))\n",
    "model.add(layers.MaxPooling2D((2, 2)))\n",
    "\n",
    "model.add(layers.Conv2D(filters=32, kernel_size = 3, activation='relu'))\n",
    "model.add(layers.MaxPooling2D((2, 2)))\n",
    "\n",
    "model.add(layers.Flatten())\n",
    "model.add(layers.Dense(units=10, activation='relu'))\n",
    "model.add(layers.Dense(units=2, activation='sigmoid'))\n",
    "model.compile(loss ='binary_crossentropy', optimizer=optimizers.Adam(lr=0.01), metrics=['accuracy'])\n",
    "model.summary()\n",
    "\n",
    "history = model.fit(x_train, y_train, epochs=1000, batch_size=10, validation_split=0.2, callbacks=[cb_checkpoint,cb_earlystopping])\n",
    "loss_graph('loss','val_loss',0,1)"
   ]
  },
  {
   "cell_type": "code",
   "execution_count": 16,
   "metadata": {
    "ExecuteTime": {
     "end_time": "2020-11-23T06:49:04.857109Z",
     "start_time": "2020-11-23T06:49:04.571804Z"
    }
   },
   "outputs": [
    {
     "name": "stdout",
     "output_type": "stream",
     "text": [
      "16/16 [==============================] - 0s 5ms/step - loss: 0.6940 - accuracy: 0.4780\n"
     ]
    }
   ],
   "source": [
    "loss, acc = model.evaluate(x_test, y_test)"
   ]
  },
  {
   "cell_type": "code",
   "execution_count": 198,
   "metadata": {
    "ExecuteTime": {
     "end_time": "2020-11-23T04:38:36.831852Z",
     "start_time": "2020-11-23T04:38:36.809833Z"
    }
   },
   "outputs": [
    {
     "data": {
      "text/html": [
       "<div>\n",
       "<style scoped>\n",
       "    .dataframe tbody tr th:only-of-type {\n",
       "        vertical-align: middle;\n",
       "    }\n",
       "\n",
       "    .dataframe tbody tr th {\n",
       "        vertical-align: top;\n",
       "    }\n",
       "\n",
       "    .dataframe thead th {\n",
       "        text-align: right;\n",
       "    }\n",
       "</style>\n",
       "<table border=\"1\" class=\"dataframe\">\n",
       "  <thead>\n",
       "    <tr style=\"text-align: right;\">\n",
       "      <th></th>\n",
       "      <th>0.0</th>\n",
       "      <th>1.0</th>\n",
       "    </tr>\n",
       "  </thead>\n",
       "  <tbody>\n",
       "    <tr>\n",
       "      <th>0</th>\n",
       "      <td>0</td>\n",
       "      <td>1</td>\n",
       "    </tr>\n",
       "    <tr>\n",
       "      <th>1</th>\n",
       "      <td>0</td>\n",
       "      <td>1</td>\n",
       "    </tr>\n",
       "    <tr>\n",
       "      <th>2</th>\n",
       "      <td>1</td>\n",
       "      <td>0</td>\n",
       "    </tr>\n",
       "    <tr>\n",
       "      <th>3</th>\n",
       "      <td>1</td>\n",
       "      <td>0</td>\n",
       "    </tr>\n",
       "    <tr>\n",
       "      <th>4</th>\n",
       "      <td>0</td>\n",
       "      <td>1</td>\n",
       "    </tr>\n",
       "    <tr>\n",
       "      <th>...</th>\n",
       "      <td>...</td>\n",
       "      <td>...</td>\n",
       "    </tr>\n",
       "    <tr>\n",
       "      <th>495</th>\n",
       "      <td>1</td>\n",
       "      <td>0</td>\n",
       "    </tr>\n",
       "    <tr>\n",
       "      <th>496</th>\n",
       "      <td>1</td>\n",
       "      <td>0</td>\n",
       "    </tr>\n",
       "    <tr>\n",
       "      <th>497</th>\n",
       "      <td>0</td>\n",
       "      <td>1</td>\n",
       "    </tr>\n",
       "    <tr>\n",
       "      <th>498</th>\n",
       "      <td>1</td>\n",
       "      <td>0</td>\n",
       "    </tr>\n",
       "    <tr>\n",
       "      <th>499</th>\n",
       "      <td>0</td>\n",
       "      <td>1</td>\n",
       "    </tr>\n",
       "  </tbody>\n",
       "</table>\n",
       "<p>500 rows × 2 columns</p>\n",
       "</div>"
      ],
      "text/plain": [
       "     0.0  1.0\n",
       "0      0    1\n",
       "1      0    1\n",
       "2      1    0\n",
       "3      1    0\n",
       "4      0    1\n",
       "..   ...  ...\n",
       "495    1    0\n",
       "496    1    0\n",
       "497    0    1\n",
       "498    1    0\n",
       "499    0    1\n",
       "\n",
       "[500 rows x 2 columns]"
      ]
     },
     "execution_count": 198,
     "metadata": {},
     "output_type": "execute_result"
    }
   ],
   "source": [
    "y_test"
   ]
  },
  {
   "cell_type": "code",
   "execution_count": 207,
   "metadata": {
    "ExecuteTime": {
     "end_time": "2020-11-23T04:49:08.199182Z",
     "start_time": "2020-11-23T04:49:08.185114Z"
    },
    "scrolled": true
   },
   "outputs": [
    {
     "ename": "NameError",
     "evalue": "name 'test' is not defined",
     "output_type": "error",
     "traceback": [
      "\u001b[1;31m---------------------------------------------------------------------------\u001b[0m",
      "\u001b[1;31mNameError\u001b[0m                                 Traceback (most recent call last)",
      "\u001b[1;32m<ipython-input-207-e1b83daa34e6>\u001b[0m in \u001b[0;36m<module>\u001b[1;34m\u001b[0m\n\u001b[0;32m      1\u001b[0m \u001b[1;32mimport\u001b[0m \u001b[0mmatplotlib\u001b[0m\u001b[1;33m.\u001b[0m\u001b[0mpyplot\u001b[0m \u001b[1;32mas\u001b[0m \u001b[0mplt\u001b[0m\u001b[1;33m\u001b[0m\u001b[1;33m\u001b[0m\u001b[0m\n\u001b[0;32m      2\u001b[0m \u001b[1;33m\u001b[0m\u001b[0m\n\u001b[1;32m----> 3\u001b[1;33m \u001b[0mplt\u001b[0m\u001b[1;33m.\u001b[0m\u001b[0mimshow\u001b[0m\u001b[1;33m(\u001b[0m\u001b[0mtest\u001b[0m\u001b[1;33m[\u001b[0m\u001b[1;36m10\u001b[0m\u001b[1;33m]\u001b[0m\u001b[1;33m)\u001b[0m\u001b[1;33m\u001b[0m\u001b[1;33m\u001b[0m\u001b[0m\n\u001b[0m",
      "\u001b[1;31mNameError\u001b[0m: name 'test' is not defined"
     ]
    }
   ],
   "source": [
    "import matplotlib.pyplot as plt\n",
    "\n",
    "plt.imshow(test[10])"
   ]
  },
  {
   "cell_type": "code",
   "execution_count": 121,
   "metadata": {
    "ExecuteTime": {
     "end_time": "2020-11-22T12:14:36.204939Z",
     "start_time": "2020-11-22T12:14:36.192935Z"
    }
   },
   "outputs": [
    {
     "data": {
      "text/plain": [
       "(51, 11)"
      ]
     },
     "execution_count": 121,
     "metadata": {},
     "output_type": "execute_result"
    }
   ],
   "source": [
    "test[0].shape"
   ]
  },
  {
   "cell_type": "code",
   "execution_count": 120,
   "metadata": {
    "ExecuteTime": {
     "end_time": "2020-11-22T12:13:35.975029Z",
     "start_time": "2020-11-22T12:13:35.959082Z"
    }
   },
   "outputs": [
    {
     "data": {
      "text/plain": [
       "(1670, 2400, 3)"
      ]
     },
     "execution_count": 120,
     "metadata": {},
     "output_type": "execute_result"
    }
   ],
   "source": [
    "img.shape"
   ]
  },
  {
   "cell_type": "code",
   "execution_count": 78,
   "metadata": {
    "ExecuteTime": {
     "end_time": "2020-11-22T11:59:55.380873Z",
     "start_time": "2020-11-22T11:59:55.366900Z"
    }
   },
   "outputs": [],
   "source": [
    "accPath = '../9.data/1.accData_split/1.diff_heatmap/accident/'\n",
    "nonaccPath = '../9.data/1.accData_split/1.diff_heatmap/nonaccident/'\n",
    "\n",
    "acc_list = os.listdir(accPath)\n",
    "nonacc_list = os.listdir(nonaccPath)"
   ]
  },
  {
   "cell_type": "code",
   "execution_count": 122,
   "metadata": {
    "ExecuteTime": {
     "end_time": "2020-11-22T12:15:44.012007Z",
     "start_time": "2020-11-22T12:15:43.613026Z"
    }
   },
   "outputs": [
    {
     "data": {
      "text/plain": [
       "<matplotlib.image.AxesImage at 0x176e6aca348>"
      ]
     },
     "execution_count": 122,
     "metadata": {},
     "output_type": "execute_result"
    },
    {
     "data": {
      "image/png": "[encoded data removed]",
      "text/plain": [
       "<Figure size 432x288 with 1 Axes>"
      ]
     },
     "metadata": {
      "needs_background": "light"
     },
     "output_type": "display_data"
    }
   ],
   "source": [
    "img = cv2.imread(accPath + acc_list[50])\n",
    "img = cv2.cvtColor(img, cv2.COLOR_BGR2RGB)\n",
    "plt.imshow(img)"
   ]
  },
  {
   "cell_type": "code",
   "execution_count": 102,
   "metadata": {
    "ExecuteTime": {
     "end_time": "2020-11-22T12:08:37.449380Z",
     "start_time": "2020-11-22T12:08:24.900380Z"
    }
   },
   "outputs": [
    {
     "ename": "KeyboardInterrupt",
     "evalue": "",
     "output_type": "error",
     "traceback": [
      "\u001b[1;31m---------------------------------------------------------------------------\u001b[0m",
      "\u001b[1;31mKeyboardInterrupt\u001b[0m                         Traceback (most recent call last)",
      "\u001b[1;32m<ipython-input-102-7f4c515d6c06>\u001b[0m in \u001b[0;36m<module>\u001b[1;34m\u001b[0m\n\u001b[0;32m     10\u001b[0m         \u001b[0mimg\u001b[0m \u001b[1;33m=\u001b[0m \u001b[0mcv2\u001b[0m\u001b[1;33m.\u001b[0m\u001b[0mcvtColor\u001b[0m\u001b[1;33m(\u001b[0m\u001b[0mimg\u001b[0m\u001b[1;33m,\u001b[0m \u001b[0mcv2\u001b[0m\u001b[1;33m.\u001b[0m\u001b[0mCOLOR_BGR2RGB\u001b[0m\u001b[1;33m)\u001b[0m\u001b[1;33m\u001b[0m\u001b[1;33m\u001b[0m\u001b[0m\n\u001b[0;32m     11\u001b[0m         \u001b[0mimg\u001b[0m \u001b[1;33m=\u001b[0m \u001b[0mnp\u001b[0m\u001b[1;33m.\u001b[0m\u001b[0mexpand_dims\u001b[0m\u001b[1;33m(\u001b[0m\u001b[0mimg\u001b[0m\u001b[1;33m,\u001b[0m \u001b[1;36m0\u001b[0m\u001b[1;33m)\u001b[0m\u001b[1;33m\u001b[0m\u001b[1;33m\u001b[0m\u001b[0m\n\u001b[1;32m---> 12\u001b[1;33m         \u001b[0mx_train\u001b[0m \u001b[1;33m=\u001b[0m \u001b[0mnp\u001b[0m\u001b[1;33m.\u001b[0m\u001b[0mconcatenate\u001b[0m\u001b[1;33m(\u001b[0m\u001b[1;33m(\u001b[0m\u001b[0mx_train\u001b[0m\u001b[1;33m,\u001b[0m \u001b[0mimg\u001b[0m\u001b[1;33m)\u001b[0m\u001b[1;33m,\u001b[0m \u001b[0maxis\u001b[0m\u001b[1;33m=\u001b[0m\u001b[1;36m0\u001b[0m\u001b[1;33m)\u001b[0m\u001b[1;33m\u001b[0m\u001b[1;33m\u001b[0m\u001b[0m\n\u001b[0m",
      "\u001b[1;32m<__array_function__ internals>\u001b[0m in \u001b[0;36mconcatenate\u001b[1;34m(*args, **kwargs)\u001b[0m\n",
      "\u001b[1;31mKeyboardInterrupt\u001b[0m: "
     ]
    }
   ],
   "source": [
    "num = 0\n",
    "for i in acc_list:    \n",
    "    if num == 0:\n",
    "        img = cv2.imread(accPath + i)\n",
    "        img = cv2.cvtColor(img, cv2.COLOR_BGR2RGB)\n",
    "        x_train = np.expand_dims(img, 0)\n",
    "        num += 1\n",
    "    else:\n",
    "        img = cv2.imread(accPath + i)\n",
    "        img = cv2.cvtColor(img, cv2.COLOR_BGR2RGB)\n",
    "        img = np.expand_dims(img, 0)\n",
    "        x_train = np.concatenate((x_train, img), axis=0)\n"
   ]
  },
  {
   "cell_type": "code",
   "execution_count": 103,
   "metadata": {
    "ExecuteTime": {
     "end_time": "2020-11-22T12:08:40.985587Z",
     "start_time": "2020-11-22T12:08:40.880204Z"
    },
    "scrolled": true
   },
   "outputs": [
    {
     "ename": "TypeError",
     "evalue": "Invalid shape (1, 1670, 2400, 3) for image data",
     "output_type": "error",
     "traceback": [
      "\u001b[1;31m---------------------------------------------------------------------------\u001b[0m",
      "\u001b[1;31mTypeError\u001b[0m                                 Traceback (most recent call last)",
      "\u001b[1;32m<ipython-input-103-f5c923bf570e>\u001b[0m in \u001b[0;36m<module>\u001b[1;34m\u001b[0m\n\u001b[0;32m      1\u001b[0m \u001b[1;32mimport\u001b[0m \u001b[0mmatplotlib\u001b[0m\u001b[1;33m.\u001b[0m\u001b[0mpyplot\u001b[0m \u001b[1;32mas\u001b[0m \u001b[0mplt\u001b[0m\u001b[1;33m\u001b[0m\u001b[1;33m\u001b[0m\u001b[0m\n\u001b[1;32m----> 2\u001b[1;33m \u001b[0mplt\u001b[0m\u001b[1;33m.\u001b[0m\u001b[0mimshow\u001b[0m\u001b[1;33m(\u001b[0m\u001b[0mimg\u001b[0m\u001b[1;33m)\u001b[0m\u001b[1;33m\u001b[0m\u001b[1;33m\u001b[0m\u001b[0m\n\u001b[0m",
      "\u001b[1;32mC:\\tools\\Anaconda3\\envs\\tensorflow2_py37\\lib\\site-packages\\matplotlib\\pyplot.py\u001b[0m in \u001b[0;36mimshow\u001b[1;34m(X, cmap, norm, aspect, interpolation, alpha, vmin, vmax, origin, extent, filternorm, filterrad, resample, url, data, **kwargs)\u001b[0m\n\u001b[0;32m   2712\u001b[0m         \u001b[0mfilternorm\u001b[0m\u001b[1;33m=\u001b[0m\u001b[0mfilternorm\u001b[0m\u001b[1;33m,\u001b[0m \u001b[0mfilterrad\u001b[0m\u001b[1;33m=\u001b[0m\u001b[0mfilterrad\u001b[0m\u001b[1;33m,\u001b[0m \u001b[0mresample\u001b[0m\u001b[1;33m=\u001b[0m\u001b[0mresample\u001b[0m\u001b[1;33m,\u001b[0m\u001b[1;33m\u001b[0m\u001b[1;33m\u001b[0m\u001b[0m\n\u001b[0;32m   2713\u001b[0m         \u001b[0murl\u001b[0m\u001b[1;33m=\u001b[0m\u001b[0murl\u001b[0m\u001b[1;33m,\u001b[0m \u001b[1;33m**\u001b[0m\u001b[1;33m(\u001b[0m\u001b[1;33m{\u001b[0m\u001b[1;34m\"data\"\u001b[0m\u001b[1;33m:\u001b[0m \u001b[0mdata\u001b[0m\u001b[1;33m}\u001b[0m \u001b[1;32mif\u001b[0m \u001b[0mdata\u001b[0m \u001b[1;32mis\u001b[0m \u001b[1;32mnot\u001b[0m \u001b[1;32mNone\u001b[0m \u001b[1;32melse\u001b[0m \u001b[1;33m{\u001b[0m\u001b[1;33m}\u001b[0m\u001b[1;33m)\u001b[0m\u001b[1;33m,\u001b[0m\u001b[1;33m\u001b[0m\u001b[1;33m\u001b[0m\u001b[0m\n\u001b[1;32m-> 2714\u001b[1;33m         **kwargs)\n\u001b[0m\u001b[0;32m   2715\u001b[0m     \u001b[0msci\u001b[0m\u001b[1;33m(\u001b[0m\u001b[0m__ret\u001b[0m\u001b[1;33m)\u001b[0m\u001b[1;33m\u001b[0m\u001b[1;33m\u001b[0m\u001b[0m\n\u001b[0;32m   2716\u001b[0m     \u001b[1;32mreturn\u001b[0m \u001b[0m__ret\u001b[0m\u001b[1;33m\u001b[0m\u001b[1;33m\u001b[0m\u001b[0m\n",
      "\u001b[1;32mC:\\tools\\Anaconda3\\envs\\tensorflow2_py37\\lib\\site-packages\\matplotlib\\__init__.py\u001b[0m in \u001b[0;36minner\u001b[1;34m(ax, data, *args, **kwargs)\u001b[0m\n\u001b[0;32m   1436\u001b[0m     \u001b[1;32mdef\u001b[0m \u001b[0minner\u001b[0m\u001b[1;33m(\u001b[0m\u001b[0max\u001b[0m\u001b[1;33m,\u001b[0m \u001b[1;33m*\u001b[0m\u001b[0margs\u001b[0m\u001b[1;33m,\u001b[0m \u001b[0mdata\u001b[0m\u001b[1;33m=\u001b[0m\u001b[1;32mNone\u001b[0m\u001b[1;33m,\u001b[0m \u001b[1;33m**\u001b[0m\u001b[0mkwargs\u001b[0m\u001b[1;33m)\u001b[0m\u001b[1;33m:\u001b[0m\u001b[1;33m\u001b[0m\u001b[1;33m\u001b[0m\u001b[0m\n\u001b[0;32m   1437\u001b[0m         \u001b[1;32mif\u001b[0m \u001b[0mdata\u001b[0m \u001b[1;32mis\u001b[0m \u001b[1;32mNone\u001b[0m\u001b[1;33m:\u001b[0m\u001b[1;33m\u001b[0m\u001b[1;33m\u001b[0m\u001b[0m\n\u001b[1;32m-> 1438\u001b[1;33m             \u001b[1;32mreturn\u001b[0m \u001b[0mfunc\u001b[0m\u001b[1;33m(\u001b[0m\u001b[0max\u001b[0m\u001b[1;33m,\u001b[0m \u001b[1;33m*\u001b[0m\u001b[0mmap\u001b[0m\u001b[1;33m(\u001b[0m\u001b[0msanitize_sequence\u001b[0m\u001b[1;33m,\u001b[0m \u001b[0margs\u001b[0m\u001b[1;33m)\u001b[0m\u001b[1;33m,\u001b[0m \u001b[1;33m**\u001b[0m\u001b[0mkwargs\u001b[0m\u001b[1;33m)\u001b[0m\u001b[1;33m\u001b[0m\u001b[1;33m\u001b[0m\u001b[0m\n\u001b[0m\u001b[0;32m   1439\u001b[0m \u001b[1;33m\u001b[0m\u001b[0m\n\u001b[0;32m   1440\u001b[0m         \u001b[0mbound\u001b[0m \u001b[1;33m=\u001b[0m \u001b[0mnew_sig\u001b[0m\u001b[1;33m.\u001b[0m\u001b[0mbind\u001b[0m\u001b[1;33m(\u001b[0m\u001b[0max\u001b[0m\u001b[1;33m,\u001b[0m \u001b[1;33m*\u001b[0m\u001b[0margs\u001b[0m\u001b[1;33m,\u001b[0m \u001b[1;33m**\u001b[0m\u001b[0mkwargs\u001b[0m\u001b[1;33m)\u001b[0m\u001b[1;33m\u001b[0m\u001b[1;33m\u001b[0m\u001b[0m\n",
      "\u001b[1;32mC:\\tools\\Anaconda3\\envs\\tensorflow2_py37\\lib\\site-packages\\matplotlib\\axes\\_axes.py\u001b[0m in \u001b[0;36mimshow\u001b[1;34m(self, X, cmap, norm, aspect, interpolation, alpha, vmin, vmax, origin, extent, filternorm, filterrad, resample, url, **kwargs)\u001b[0m\n\u001b[0;32m   5521\u001b[0m                               resample=resample, **kwargs)\n\u001b[0;32m   5522\u001b[0m \u001b[1;33m\u001b[0m\u001b[0m\n\u001b[1;32m-> 5523\u001b[1;33m         \u001b[0mim\u001b[0m\u001b[1;33m.\u001b[0m\u001b[0mset_data\u001b[0m\u001b[1;33m(\u001b[0m\u001b[0mX\u001b[0m\u001b[1;33m)\u001b[0m\u001b[1;33m\u001b[0m\u001b[1;33m\u001b[0m\u001b[0m\n\u001b[0m\u001b[0;32m   5524\u001b[0m         \u001b[0mim\u001b[0m\u001b[1;33m.\u001b[0m\u001b[0mset_alpha\u001b[0m\u001b[1;33m(\u001b[0m\u001b[0malpha\u001b[0m\u001b[1;33m)\u001b[0m\u001b[1;33m\u001b[0m\u001b[1;33m\u001b[0m\u001b[0m\n\u001b[0;32m   5525\u001b[0m         \u001b[1;32mif\u001b[0m \u001b[0mim\u001b[0m\u001b[1;33m.\u001b[0m\u001b[0mget_clip_path\u001b[0m\u001b[1;33m(\u001b[0m\u001b[1;33m)\u001b[0m \u001b[1;32mis\u001b[0m \u001b[1;32mNone\u001b[0m\u001b[1;33m:\u001b[0m\u001b[1;33m\u001b[0m\u001b[1;33m\u001b[0m\u001b[0m\n",
      "\u001b[1;32mC:\\tools\\Anaconda3\\envs\\tensorflow2_py37\\lib\\site-packages\\matplotlib\\image.py\u001b[0m in \u001b[0;36mset_data\u001b[1;34m(self, A)\u001b[0m\n\u001b[0;32m    704\u001b[0m                 or self._A.ndim == 3 and self._A.shape[-1] in [3, 4]):\n\u001b[0;32m    705\u001b[0m             raise TypeError(\"Invalid shape {} for image data\"\n\u001b[1;32m--> 706\u001b[1;33m                             .format(self._A.shape))\n\u001b[0m\u001b[0;32m    707\u001b[0m \u001b[1;33m\u001b[0m\u001b[0m\n\u001b[0;32m    708\u001b[0m         \u001b[1;32mif\u001b[0m \u001b[0mself\u001b[0m\u001b[1;33m.\u001b[0m\u001b[0m_A\u001b[0m\u001b[1;33m.\u001b[0m\u001b[0mndim\u001b[0m \u001b[1;33m==\u001b[0m \u001b[1;36m3\u001b[0m\u001b[1;33m:\u001b[0m\u001b[1;33m\u001b[0m\u001b[1;33m\u001b[0m\u001b[0m\n",
      "\u001b[1;31mTypeError\u001b[0m: Invalid shape (1, 1670, 2400, 3) for image data"
     ]
    },
    {
     "data": {
      "image/png": "[encoded data removed]",
      "text/plain": [
       "<Figure size 432x288 with 1 Axes>"
      ]
     },
     "metadata": {
      "needs_background": "light"
     },
     "output_type": "display_data"
    }
   ],
   "source": [
    "import matplotlib.pyplot as plt\n",
    "plt.imshow(img)"
   ]
  },
  {
   "cell_type": "code",
   "execution_count": 113,
   "metadata": {
    "ExecuteTime": {
     "end_time": "2020-11-22T12:12:35.478817Z",
     "start_time": "2020-11-22T12:12:35.430673Z"
    }
   },
   "outputs": [],
   "source": [
    "img = cv2.imread(accPath + acc_list[0])\n",
    "img = cv2.cvtColor(img, cv2.COLOR_BGR2RGB)"
   ]
  },
  {
   "cell_type": "code",
   "execution_count": null,
   "metadata": {},
   "outputs": [],
   "source": []
  }
 ],
 "metadata": {
  "kernelspec": {
   "display_name": "Python 3",
   "language": "python",
   "name": "python3"
  },
  "language_info": {
   "codemirror_mode": {
    "name": "ipython",
    "version": 3
   },
   "file_extension": ".py",
   "mimetype": "text/x-python",
   "name": "python",
   "nbconvert_exporter": "python",
   "pygments_lexer": "ipython3",
   "version": "3.7.9"
  },
  "toc": {
   "base_numbering": 1,
   "nav_menu": {},
   "number_sections": true,
   "sideBar": true,
   "skip_h1_title": false,
   "title_cell": "Table of Contents",
   "title_sidebar": "Contents",
   "toc_cell": false,
   "toc_position": {},
   "toc_section_display": true,
   "toc_window_display": false
  },
  "varInspector": {
   "cols": {
    "lenName": 16,
    "lenType": 16,
    "lenVar": 40
   },
   "kernels_config": {
    "python": {
     "delete_cmd_postfix": "",
     "delete_cmd_prefix": "del ",
     "library": "var_list.py",
     "varRefreshCmd": "print(var_dic_list())"
    },
    "r": {
     "delete_cmd_postfix": ") ",
     "delete_cmd_prefix": "rm(",
     "library": "var_list.r",
     "varRefreshCmd": "cat(var_dic_list()) "
    }
   },
   "types_to_exclude": [
    "module",
    "function",
    "builtin_function_or_method",
    "instance",
    "_Feature"
   ],
   "window_display": false
  }
 },
 "nbformat": 4,
 "nbformat_minor": 4
}
