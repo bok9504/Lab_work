diff a/.ipynb_checkpoints/0. 데이터 전치리-checkpoint.ipynb b/.ipynb_checkpoints/0. 데이터 전치리-checkpoint.ipynb	(rejected hunks)
@@ -0,6 +0,7 @@
  "cells": [
   {
    "cell_type": "code",
+   "execution_count": 1,
    "metadata": {},
    "outputs": [],
    "source": [
