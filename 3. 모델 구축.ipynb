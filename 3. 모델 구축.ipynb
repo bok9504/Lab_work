{
 "cells": [
  {
   "cell_type": "code",
   "execution_count": 1,
   "metadata": {
    "ExecuteTime": {
     "end_time": "2020-11-24T04:56:21.075623Z",
     "start_time": "2020-11-24T04:56:17.705038Z"
    }
   },
   "outputs": [],
   "source": [
    "import pandas as pd\n",
    "import numpy as np\n",
    "import matplotlib.pyplot as plt\n",
    "\n",
    "import os\n",
    "import cv2\n",
    "import tensorflow.keras as keras\n",
    "import tensorflow as tf\n",
    "from keras.models import Sequential\n",
    "from keras import layers\n",
    "from keras import optimizers\n",
    "from keras.layers.convolutional import MaxPooling2D\n",
    "from keras.callbacks import ModelCheckpoint\n",
    "from keras.layers import BatchNormalization\n",
    "from sklearn.preprocessing import MinMaxScaler\n",
    "from keras.layers import Dropout"
   ]
  },
  {
   "cell_type": "code",
   "execution_count": 2,
   "metadata": {
    "ExecuteTime": {
     "end_time": "2020-11-24T04:56:21.120624Z",
     "start_time": "2020-11-24T04:56:21.106625Z"
    },
    "code_folding": []
   },
   "outputs": [],
   "source": [
    "# 얼리스탑핑 쉽게\n",
    "def model_save_erstp(MODEL_SAVE_FOLDER_PATH, model_name, patience):\n",
    "    save_file_name = model_name\n",
    "    cb_checkpoint,cb_earlystopping = checkpoint_ez(MODEL_SAVE_FOLDER_PATH, save_file_name, patience)\n",
    "    return cb_checkpoint,cb_earlystopping\n",
    "\n",
    "def checkpoint_ez(MODEL_SAVE_FOLDER_PATH,save_file_name, patience) : \n",
    "    MODEL_SAVE_FOLDER_PATH = MODEL_SAVE_FOLDER_PATH\n",
    "    data_name = save_file_name\n",
    "    model_path = MODEL_SAVE_FOLDER_PATH + data_name + '.hdf5'\n",
    "    # val_loss 값이 낮아졌을(좋아졌을) 때만 저장\n",
    "    cb_checkpoint = ModelCheckpoint(filepath=model_path, monitor='val_loss',\n",
    "                                    verbose=1, save_best_only=True\n",
    "                                   )\n",
    "    cb_earlystopping = keras.callbacks.EarlyStopping(monitor='val_loss', min_delta=0, patience = patience, verbose=1,\n",
    "                                                  mode='auto', baseline=None, restore_best_weights=False)\n",
    "    return cb_checkpoint, cb_earlystopping\n",
    "\n",
    "# 그래프 쉽게\n",
    "def loss_graph(label1,label2,bottom,top):\n",
    "    fig, loss_ax = plt.subplots()\n",
    "    acc_ax = loss_ax.twinx()\n",
    "    loss_ax.plot(history.history['loss'], 'y', label=label1)\n",
    "    loss_ax.plot(history.history['val_loss'], 'r', label=label2)\n",
    "    acc_ax.plot(history.history['accuracy'], 'b', label='train acc')\n",
    "    acc_ax.plot(history.history['val_accuracy'], 'g', label='val acc')\n",
    "    loss_ax.set_xlabel('epoch')\n",
    "    loss_ax.set_ylabel('loss')\n",
    "    # acc_ax.set_ylabel('accuray')\n",
    "    loss_ax.legend(loc='upper left')\n",
    "    acc_ax.legend(loc='lower left')\n",
    "    loss_ax.set_ylim(bottom,top)\n",
    "    return plt.show()\n",
    "\n",
    "# 모델 저장 def\n",
    "def json_model_saver(MODEL_SAVE_FOLDER_PATH,file_name):\n",
    "    # model save by json\n",
    "    # load model \n",
    "    model = keras.models.load_model(MODEL_SAVE_FOLDER_PATH +file_name+ '.hdf5')\n",
    "    # Save model with json format\n",
    "    model_json = model.to_json()\n",
    "    with open(MODEL_SAVE_FOLDER_PATH+file_name+'.json', \"w\") as json_file:\n",
    "        json_file.write(model_json)\n",
    "    # Save weight with h5 format\n",
    "    model.save_weights( MODEL_SAVE_FOLDER_PATH +file_name +'.h5')\n",
    "    return print(\"Saved model to disk : \"+ file_name +'.h5')\n"
   ]
  },
  {
   "cell_type": "code",
   "execution_count": 13,
   "metadata": {
    "ExecuteTime": {
     "end_time": "2020-11-24T05:10:23.412544Z",
     "start_time": "2020-11-24T05:10:23.405548Z"
    }
   },
   "outputs": [],
   "source": [
    "path = '../9.data/1.accData_split/1.diff_heatmap/accident/'\n",
    "path_no = '../9.data/1.accData_split/2.last/'"
   ]
  },
  {
   "cell_type": "code",
   "execution_count": 14,
   "metadata": {
    "ExecuteTime": {
     "end_time": "2020-11-24T05:10:23.926798Z",
     "start_time": "2020-11-24T05:10:23.917836Z"
    }
   },
   "outputs": [],
   "source": [
    "accList = os.listdir(path)\n",
    "nonList = os.listdir(path_no)"
   ]
  },
  {
   "cell_type": "code",
   "execution_count": 63,
   "metadata": {
    "ExecuteTime": {
     "end_time": "2020-11-24T05:43:55.401944Z",
     "start_time": "2020-11-24T05:43:05.334305Z"
    }
   },
   "outputs": [],
   "source": [
    "returnNum = 0\n",
    "for i in accList:\n",
    "    if returnNum == 0:\n",
    "        accImg = cv2.imread(path+i)\n",
    "        accImg = cv2.resize(accImg, None, fx=0.1, fy=0.1, interpolation=cv2.INTER_AREA)\n",
    "        accImg = np.ravel(accImg)\n",
    "        accImg = np.expand_dims(accImg, 0)\n",
    "        returnNum += 1\n",
    "    else:\n",
    "        temp = cv2.imread(path+i)\n",
    "        temp = cv2.resize(temp, None, fx=0.1, fy=0.1, interpolation=cv2.INTER_AREA)\n",
    "        temp = np.ravel(temp)\n",
    "        temp = np.expand_dims(temp, 0)\n",
    "        accImg = np.concatenate((accImg, temp), axis=0)\n",
    "        \n",
    "returnNum = 0\n",
    "for i in nonList:\n",
    "    if returnNum == 0:\n",
    "        nonImg = cv2.imread(path_no+i)\n",
    "        nonImg = cv2.resize(nonImg, None, fx=0.1, fy=0.1, interpolation=cv2.INTER_AREA)\n",
    "        nonImg = np.ravel(nonImg)\n",
    "        nonImg = np.expand_dims(nonImg, 0)\n",
    "        returnNum += 1\n",
    "    else:\n",
    "        temp = cv2.imread(path_no+i)\n",
    "        temp = cv2.resize(temp, None, fx=0.1, fy=0.1, interpolation=cv2.INTER_AREA)\n",
    "        temp = np.ravel(temp)\n",
    "        temp = np.expand_dims(temp, 0)\n",
    "        nonImg = np.concatenate((nonImg, temp), axis=0)"
   ]
  },
  {
   "cell_type": "code",
   "execution_count": 83,
   "metadata": {
    "ExecuteTime": {
     "end_time": "2020-11-24T05:49:09.000037Z",
     "start_time": "2020-11-24T05:49:08.989015Z"
    }
   },
   "outputs": [],
   "source": [
    "accY = np.ones(1000)\n",
    "nonY = np.zeros(962)"
   ]
  },
  {
   "cell_type": "code",
   "execution_count": 84,
   "metadata": {
    "ExecuteTime": {
     "end_time": "2020-11-24T05:49:09.378810Z",
     "start_time": "2020-11-24T05:49:09.307811Z"
    }
   },
   "outputs": [],
   "source": [
    "dataX = np.concatenate([accImg, nonImg])\n",
    "dataY = np.concatenate([accY, nonY])"
   ]
  },
  {
   "cell_type": "code",
   "execution_count": 85,
   "metadata": {
    "ExecuteTime": {
     "end_time": "2020-11-24T05:49:10.641338Z",
     "start_time": "2020-11-24T05:49:09.692340Z"
    }
   },
   "outputs": [],
   "source": [
    "dataX = dataX/255\n",
    "\n",
    "np.random.seed(0)\n",
    "randomList = list(np.random.randint(1962, size = 1962))\n",
    "dataX = dataX[randomList]\n",
    "dataY = dataY[randomList]"
   ]
  },
  {
   "cell_type": "code",
   "execution_count": 82,
   "metadata": {
    "ExecuteTime": {
     "end_time": "2020-11-24T05:48:32.453866Z",
     "start_time": "2020-11-24T05:48:32.012869Z"
    }
   },
   "outputs": [
    {
     "data": {
      "text/plain": [
       "array([[1., 1., 1., ..., 1., 1., 1.],\n",
       "       [1., 1., 1., ..., 1., 1., 1.],\n",
       "       [1., 1., 1., ..., 1., 1., 1.],\n",
       "       ...,\n",
       "       [1., 1., 1., ..., 1., 1., 1.],\n",
       "       [1., 1., 1., ..., 1., 1., 1.],\n",
       "       [1., 1., 1., ..., 1., 1., 1.]])"
      ]
     },
     "execution_count": 82,
     "metadata": {},
     "output_type": "execute_result"
    }
   ],
   "source": [
    "nTrain = 1472\n",
    "nTest = 490\n",
    "\n",
    "x_train = dataX[:nTrain, :561]\n",
    "x_test = dataX[:nTest, :561]\n",
    "y_train = dataY[:nTrain]\n",
    "y_test = dataY[:nTest]"
   ]
  },
  {
   "cell_type": "code",
   "execution_count": 90,
   "metadata": {
    "ExecuteTime": {
     "end_time": "2020-11-24T05:51:02.778229Z",
     "start_time": "2020-11-24T05:51:02.772229Z"
    }
   },
   "outputs": [
    {
     "data": {
      "text/plain": [
       "(1962, 120240)"
      ]
     },
     "execution_count": 90,
     "metadata": {},
     "output_type": "execute_result"
    }
   ],
   "source": [
    "dataX.shape"
   ]
  },
  {
   "cell_type": "code",
   "execution_count": null,
   "metadata": {},
   "outputs": [],
   "source": []
  },
  {
   "cell_type": "code",
   "execution_count": null,
   "metadata": {},
   "outputs": [],
   "source": []
  },
  {
   "cell_type": "code",
   "execution_count": 61,
   "metadata": {
    "ExecuteTime": {
     "end_time": "2020-11-24T04:20:38.923832Z",
     "start_time": "2020-11-24T04:20:34.898093Z"
    }
   },
   "outputs": [],
   "source": [
    "# 데이터 불러오기\n",
    "path_AL = '../9.data/0.work_data/3.Accident_list/'\n",
    "\n",
    "AccList_accident = pd.read_csv(path_AL + 'AccList_accident.csv', header=None, index_col=0)\n",
    "AccList_pattern = pd.read_csv(path_AL + 'AccList_pattern.csv', header=None, index_col=0)\n",
    "NonAccList_accident = pd.read_csv(path_AL + 'NonAccList_accident.csv', header=None, index_col=0)\n",
    "NonAccList_pattern = pd.read_csv(path_AL + 'NonAccList_pattern.csv', header=None, index_col=0)"
   ]
  },
  {
   "cell_type": "code",
   "execution_count": 62,
   "metadata": {
    "ExecuteTime": {
     "end_time": "2020-11-24T04:20:39.269578Z",
     "start_time": "2020-11-24T04:20:39.195565Z"
    }
   },
   "outputs": [],
   "source": [
    "AccList_accident = AccList_accident.reset_index()\n",
    "AccList_accident = AccList_accident.reset_index(0, drop = False)\n",
    "AccList_accident = AccList_accident.set_index(0, drop = True)\n",
    "\n",
    "AccList_pattern = AccList_pattern.reset_index()\n",
    "AccList_pattern = AccList_pattern.reset_index(0, drop = True)"
   ]
  },
  {
   "cell_type": "code",
   "execution_count": 63,
   "metadata": {
    "ExecuteTime": {
     "end_time": "2020-11-24T04:20:39.554550Z",
     "start_time": "2020-11-24T04:20:39.525573Z"
    }
   },
   "outputs": [],
   "source": [
    "# Accident, Nonaccident 리스트 불러오기\n",
    "diff_path = '../9.data/1.accData_split/1.diff_heatmap/'\n",
    "acclist = os.listdir(diff_path + 'accident/')\n",
    "\n",
    "for i in range(len(acclist)):\n",
    "    acclist[i] = acclist[i].split('.')[0]\n",
    "accData = AccList_accident.loc[acclist]\n",
    "pattData = AccList_pattern.loc[accData.set_index('index').index]"
   ]
  },
  {
   "cell_type": "code",
   "execution_count": 64,
   "metadata": {
    "ExecuteTime": {
     "end_time": "2020-11-24T04:20:39.825272Z",
     "start_time": "2020-11-24T04:20:39.811007Z"
    }
   },
   "outputs": [],
   "source": [
    "del accData['index']\n",
    "pattData = pattData.set_index(0, drop = True)"
   ]
  },
  {
   "cell_type": "code",
   "execution_count": 65,
   "metadata": {
    "ExecuteTime": {
     "end_time": "2020-11-24T04:20:40.155285Z",
     "start_time": "2020-11-24T04:20:40.066194Z"
    }
   },
   "outputs": [],
   "source": [
    "np.random.seed(0)\n",
    "randomList = list(np.random.randint(20864, size = 1000))\n",
    "nonAccAcc = NonAccList_accident.reset_index(drop=True)\n",
    "nonAccAcc = nonAccAcc.loc[randomList]\n",
    "nonAccAcc = nonAccAcc.reset_index(drop=True)\n",
    "nonAccPatt = NonAccList_pattern.reset_index(drop=True)\n",
    "nonAccPatt = nonAccPatt.loc[randomList]\n",
    "nonAccPatt = nonAccPatt.reset_index(drop=True)"
   ]
  },
  {
   "cell_type": "code",
   "execution_count": 66,
   "metadata": {
    "ExecuteTime": {
     "end_time": "2020-11-24T04:20:40.545504Z",
     "start_time": "2020-11-24T04:20:40.531404Z"
    }
   },
   "outputs": [],
   "source": [
    "accData['y'] = 1\n",
    "nonAccAcc['y'] = 0\n",
    "data1 = pd.concat([accData, nonAccAcc])\n",
    "data2 = pd.concat([pattData, nonAccPatt])"
   ]
  },
  {
   "cell_type": "code",
   "execution_count": 67,
   "metadata": {
    "ExecuteTime": {
     "end_time": "2020-11-24T04:20:40.830498Z",
     "start_time": "2020-11-24T04:20:40.801405Z"
    },
    "scrolled": true
   },
   "outputs": [],
   "source": [
    "# 데이터 섞은 후 배열로 만들기\n",
    "\n",
    "np.random.seed(1)\n",
    "randomList = list(np.random.randint(2000, size = 2000))\n",
    "data1 = data1.reset_index(drop=True)\n",
    "data1 = data1.loc[randomList]\n",
    "data1 = data1.reset_index(drop=True)\n",
    "data2 = data2.reset_index(drop=True)\n",
    "data2 = data2.loc[randomList]\n",
    "data2 = data2.reset_index(drop=True)"
   ]
  },
  {
   "cell_type": "code",
   "execution_count": 35,
   "metadata": {
    "ExecuteTime": {
     "end_time": "2020-11-24T04:03:16.261689Z",
     "start_time": "2020-11-24T04:03:16.202689Z"
    }
   },
   "outputs": [
    {
     "name": "stdout",
     "output_type": "stream",
     "text": [
      "185.0\n",
      "109.42574257425743\n"
     ]
    }
   ],
   "source": [
    "print(data1.max().max())\n",
    "print(data2.max().max())"
   ]
  },
  {
   "cell_type": "code",
   "execution_count": 68,
   "metadata": {
    "ExecuteTime": {
     "end_time": "2020-11-24T04:20:41.388411Z",
     "start_time": "2020-11-24T04:20:41.352640Z"
    }
   },
   "outputs": [],
   "source": [
    "dataX = data1.T[:-1].T\n",
    "dataX = dataX/185\n",
    "data2 = data2/185\n",
    "dataX = np.expand_dims(dataX, -1)\n",
    "data2 = np.expand_dims(data2, -1)\n",
    "dataX = np.concatenate((dataX, data2), axis=2)\n",
    "\n",
    "dataY = data1['y']\n",
    "# dataX = data1.T[:-1].T\n",
    "# dataX = dataX/185\n",
    "# data2 = data2/185\n",
    "# dataX = np.expand_dims(dataX, 1)\n",
    "# data2 = np.expand_dims(data2, 1)\n",
    "# dataX = np.concatenate((dataX, data2), axis=1)\n",
    "\n",
    "# dataY = data1['y']"
   ]
  },
  {
   "cell_type": "code",
   "execution_count": 69,
   "metadata": {
    "ExecuteTime": {
     "end_time": "2020-11-24T04:20:41.643407Z",
     "start_time": "2020-11-24T04:20:41.629283Z"
    }
   },
   "outputs": [],
   "source": [
    "dataX = np.array(dataX)\n",
    "dataY = dataY.array\n",
    "\n",
    "# input data 생성\n",
    "nTrain = 1500\n",
    "nTest = 500\n",
    "\n",
    "x_train = dataX[:nTrain, :561]\n",
    "x_test = dataX[:nTest, :561]\n",
    "y_train = dataY[:nTrain]\n",
    "y_test = dataY[:nTest]"
   ]
  },
  {
   "cell_type": "code",
   "execution_count": 70,
   "metadata": {
    "ExecuteTime": {
     "end_time": "2020-11-24T04:20:42.881511Z",
     "start_time": "2020-11-24T04:20:42.871511Z"
    }
   },
   "outputs": [],
   "source": [
    "y_train = pd.get_dummies(y_train)\n",
    "y_test = pd.get_dummies(y_test)"
   ]
  },
  {
   "cell_type": "code",
   "execution_count": 71,
   "metadata": {
    "ExecuteTime": {
     "end_time": "2020-11-24T04:20:43.379235Z",
     "start_time": "2020-11-24T04:20:43.376248Z"
    }
   },
   "outputs": [],
   "source": [
    "# 데이터 reshape 및 차원 추가\n",
    "x_train = x_train.reshape(x_train.shape[0],51,11,2)\n",
    "x_test = x_test.reshape(x_test.shape[0],51,11,2)\n",
    "# # 데이터 reshape 및 차원 추가\n",
    "# x_train = x_train.reshape(x_train.shape[0],2,51,11)\n",
    "# x_test = x_test.reshape(x_test.shape[0],2,51,11)"
   ]
  },
  {
   "cell_type": "code",
   "execution_count": 58,
   "metadata": {
    "ExecuteTime": {
     "end_time": "2020-11-24T04:05:16.238701Z",
     "start_time": "2020-11-24T04:05:16.172695Z"
    }
   },
   "outputs": [
    {
     "name": "stdout",
     "output_type": "stream",
     "text": [
      "AxesImage(54,36;334.8x217.44)\n",
      "0    1\n",
      "1    0\n",
      "Name: 165, dtype: uint8\n"
     ]
    },
    {
     "data": {
      "image/png": "[encoded data removed]",
      "text/plain": [
       "<Figure size 432x288 with 1 Axes>"
      ]
     },
     "metadata": {
      "needs_background": "light"
     },
     "output_type": "display_data"
    }
   ],
   "source": [
    "n = 165\n",
    "print(plt.imshow(x_train[n][0][:][:]))\n",
    "print(y_train[:].iloc[n])"
   ]
  },
  {
   "cell_type": "code",
   "execution_count": 59,
   "metadata": {
    "ExecuteTime": {
     "end_time": "2020-11-24T04:05:16.554050Z",
     "start_time": "2020-11-24T04:05:16.480038Z"
    }
   },
   "outputs": [
    {
     "name": "stdout",
     "output_type": "stream",
     "text": [
      "AxesImage(54,36;334.8x217.44)\n"
     ]
    },
    {
     "data": {
      "image/png": "[encoded data removed]",
      "text/plain": [
       "<Figure size 432x288 with 1 Axes>"
      ]
     },
     "metadata": {
      "needs_background": "light"
     },
     "output_type": "display_data"
    }
   ],
   "source": [
    "print(plt.imshow(x_train[n][1][:][:]))"
   ]
  },
  {
   "cell_type": "code",
   "execution_count": 78,
   "metadata": {
    "ExecuteTime": {
     "end_time": "2020-11-24T04:34:39.148760Z",
     "start_time": "2020-11-24T04:33:37.030066Z"
    },
    "scrolled": true
   },
   "outputs": [
    {
     "name": "stdout",
     "output_type": "stream",
     "text": [
      "Model: \"sequential\"\n",
      "_________________________________________________________________\n",
      "Layer (type)                 Output Shape              Param #   \n",
      "=================================================================\n",
      "conv2d (Conv2D)              (None, 47, 7, 2)          102       \n",
      "_________________________________________________________________\n",
      "flatten (Flatten)            (None, 658)               0         \n",
      "_________________________________________________________________\n",
      "dense (Dense)                (None, 2)                 1318      \n",
      "=================================================================\n",
      "Total params: 1,420\n",
      "Trainable params: 1,420\n",
      "Non-trainable params: 0\n",
      "_________________________________________________________________\n",
      "Epoch 1/1000\n",
      " 78/120 [==================>...........] - ETA: 0s - loss: 0.6941 - accuracy: 0.4782\n",
      "Epoch 00001: val_loss improved from inf to 0.69315, saving model to ..\\1.modeltest.hdf5\n",
      "120/120 [==============================] - 0s 3ms/step - loss: 0.6938 - accuracy: 0.4775 - val_loss: 0.6931 - val_accuracy: 0.4900\n",
      "Epoch 2/1000\n",
      " 84/120 [====================>.........] - ETA: 0s - loss: 0.6931 - accuracy: 0.4952\n",
      "Epoch 00002: val_loss improved from 0.69315 to 0.69314, saving model to ..\\1.modeltest.hdf5\n",
      "120/120 [==============================] - 0s 2ms/step - loss: 0.6931 - accuracy: 0.4958 - val_loss: 0.6931 - val_accuracy: 0.5100\n",
      "Epoch 3/1000\n",
      " 82/120 [===================>..........] - ETA: 0s - loss: 0.6932 - accuracy: 0.4976\n",
      "Epoch 00003: val_loss improved from 0.69314 to 0.69314, saving model to ..\\1.modeltest.hdf5\n",
      "120/120 [==============================] - 0s 2ms/step - loss: 0.6932 - accuracy: 0.5042 - val_loss: 0.6931 - val_accuracy: 0.5100\n",
      "Epoch 4/1000\n",
      " 79/120 [==================>...........] - ETA: 0s - loss: 0.6931 - accuracy: 0.5076\n",
      "Epoch 00004: val_loss improved from 0.69314 to 0.69314, saving model to ..\\1.modeltest.hdf5\n",
      "120/120 [==============================] - 0s 2ms/step - loss: 0.6932 - accuracy: 0.5042 - val_loss: 0.6931 - val_accuracy: 0.5100\n",
      "Epoch 5/1000\n",
      "120/120 [==============================] - ETA: 0s - loss: 0.6931 - accuracy: 0.5042\n",
      "Epoch 00005: val_loss improved from 0.69314 to 0.69313, saving model to ..\\1.modeltest.hdf5\n",
      "120/120 [==============================] - 0s 2ms/step - loss: 0.6931 - accuracy: 0.5042 - val_loss: 0.6931 - val_accuracy: 0.5100\n",
      "Epoch 6/1000\n",
      " 80/120 [===================>..........] - ETA: 0s - loss: 0.6932 - accuracy: 0.4938\n",
      "Epoch 00006: val_loss improved from 0.69313 to 0.69313, saving model to ..\\1.modeltest.hdf5\n",
      "120/120 [==============================] - 0s 2ms/step - loss: 0.6931 - accuracy: 0.5042 - val_loss: 0.6931 - val_accuracy: 0.5100\n",
      "Epoch 7/1000\n",
      " 80/120 [===================>..........] - ETA: 0s - loss: 0.6931 - accuracy: 0.5225\n",
      "Epoch 00007: val_loss improved from 0.69313 to 0.69313, saving model to ..\\1.modeltest.hdf5\n",
      "120/120 [==============================] - 0s 2ms/step - loss: 0.6931 - accuracy: 0.5042 - val_loss: 0.6931 - val_accuracy: 0.5100\n",
      "Epoch 8/1000\n",
      " 85/120 [====================>.........] - ETA: 0s - loss: 0.6931 - accuracy: 0.5141\n",
      "Epoch 00008: val_loss improved from 0.69313 to 0.69312, saving model to ..\\1.modeltest.hdf5\n",
      "120/120 [==============================] - 0s 2ms/step - loss: 0.6931 - accuracy: 0.5042 - val_loss: 0.6931 - val_accuracy: 0.5100\n",
      "Epoch 9/1000\n",
      "114/120 [===========================>..] - ETA: 0s - loss: 0.6931 - accuracy: 0.5053\n",
      "Epoch 00009: val_loss improved from 0.69312 to 0.69312, saving model to ..\\1.modeltest.hdf5\n",
      "120/120 [==============================] - 0s 2ms/step - loss: 0.6932 - accuracy: 0.5042 - val_loss: 0.6931 - val_accuracy: 0.5100\n",
      "Epoch 10/1000\n",
      " 80/120 [===================>..........] - ETA: 0s - loss: 0.6932 - accuracy: 0.4938\n",
      "Epoch 00010: val_loss improved from 0.69312 to 0.69312, saving model to ..\\1.modeltest.hdf5\n",
      "120/120 [==============================] - 0s 2ms/step - loss: 0.6931 - accuracy: 0.5042 - val_loss: 0.6931 - val_accuracy: 0.5100\n",
      "Epoch 11/1000\n",
      " 81/120 [===================>..........] - ETA: 0s - loss: 0.6931 - accuracy: 0.5099\n",
      "Epoch 00011: val_loss improved from 0.69312 to 0.69312, saving model to ..\\1.modeltest.hdf5\n",
      "120/120 [==============================] - 0s 2ms/step - loss: 0.6931 - accuracy: 0.5042 - val_loss: 0.6931 - val_accuracy: 0.5100\n",
      "Epoch 12/1000\n",
      " 83/120 [===================>..........] - ETA: 0s - loss: 0.6932 - accuracy: 0.4855\n",
      "Epoch 00012: val_loss improved from 0.69312 to 0.69312, saving model to ..\\1.modeltest.hdf5\n",
      "120/120 [==============================] - 0s 2ms/step - loss: 0.6932 - accuracy: 0.5042 - val_loss: 0.6931 - val_accuracy: 0.5100\n",
      "Epoch 13/1000\n",
      "115/120 [===========================>..] - ETA: 0s - loss: 0.6932 - accuracy: 0.5000\n",
      "Epoch 00013: val_loss improved from 0.69312 to 0.69312, saving model to ..\\1.modeltest.hdf5\n",
      "120/120 [==============================] - 0s 2ms/step - loss: 0.6931 - accuracy: 0.5042 - val_loss: 0.6931 - val_accuracy: 0.5100\n",
      "Epoch 14/1000\n",
      "109/120 [==========================>...] - ETA: 0s - loss: 0.6932 - accuracy: 0.5009\n",
      "Epoch 00014: val_loss improved from 0.69312 to 0.69311, saving model to ..\\1.modeltest.hdf5\n",
      "120/120 [==============================] - 0s 2ms/step - loss: 0.6931 - accuracy: 0.5042 - val_loss: 0.6931 - val_accuracy: 0.5100\n",
      "Epoch 15/1000\n",
      "112/120 [===========================>..] - ETA: 0s - loss: 0.6931 - accuracy: 0.5018\n",
      "Epoch 00015: val_loss improved from 0.69311 to 0.69311, saving model to ..\\1.modeltest.hdf5\n",
      "120/120 [==============================] - 0s 2ms/step - loss: 0.6931 - accuracy: 0.5042 - val_loss: 0.6931 - val_accuracy: 0.5100\n",
      "Epoch 16/1000\n",
      "107/120 [=========================>....] - ETA: 0s - loss: 0.6931 - accuracy: 0.5028\n",
      "Epoch 00016: val_loss improved from 0.69311 to 0.69311, saving model to ..\\1.modeltest.hdf5\n",
      "120/120 [==============================] - 0s 2ms/step - loss: 0.6931 - accuracy: 0.5042 - val_loss: 0.6931 - val_accuracy: 0.5100\n",
      "Epoch 17/1000\n",
      " 84/120 [====================>.........] - ETA: 0s - loss: 0.6931 - accuracy: 0.5083\n",
      "Epoch 00017: val_loss improved from 0.69311 to 0.69311, saving model to ..\\1.modeltest.hdf5\n",
      "120/120 [==============================] - 0s 2ms/step - loss: 0.6931 - accuracy: 0.5042 - val_loss: 0.6931 - val_accuracy: 0.5100\n",
      "Epoch 18/1000\n",
      " 78/120 [==================>...........] - ETA: 0s - loss: 0.6932 - accuracy: 0.4923\n",
      "Epoch 00018: val_loss improved from 0.69311 to 0.69310, saving model to ..\\1.modeltest.hdf5\n",
      "120/120 [==============================] - 0s 2ms/step - loss: 0.6931 - accuracy: 0.5042 - val_loss: 0.6931 - val_accuracy: 0.5100\n",
      "Epoch 19/1000\n",
      " 80/120 [===================>..........] - ETA: 0s - loss: 0.6931 - accuracy: 0.5125\n",
      "Epoch 00019: val_loss improved from 0.69310 to 0.69310, saving model to ..\\1.modeltest.hdf5\n",
      "120/120 [==============================] - 0s 2ms/step - loss: 0.6931 - accuracy: 0.5042 - val_loss: 0.6931 - val_accuracy: 0.5100\n",
      "Epoch 20/1000\n",
      "116/120 [============================>.] - ETA: 0s - loss: 0.6932 - accuracy: 0.5017\n",
      "Epoch 00020: val_loss improved from 0.69310 to 0.69310, saving model to ..\\1.modeltest.hdf5\n",
      "120/120 [==============================] - 0s 2ms/step - loss: 0.6931 - accuracy: 0.5042 - val_loss: 0.6931 - val_accuracy: 0.5100\n",
      "Epoch 21/1000\n",
      "118/120 [============================>.] - ETA: 0s - loss: 0.6931 - accuracy: 0.5051\n",
      "Epoch 00021: val_loss improved from 0.69310 to 0.69310, saving model to ..\\1.modeltest.hdf5\n",
      "120/120 [==============================] - 0s 2ms/step - loss: 0.6931 - accuracy: 0.5042 - val_loss: 0.6931 - val_accuracy: 0.5100\n",
      "Epoch 22/1000\n",
      " 79/120 [==================>...........] - ETA: 0s - loss: 0.6931 - accuracy: 0.5101\n",
      "Epoch 00022: val_loss improved from 0.69310 to 0.69309, saving model to ..\\1.modeltest.hdf5\n",
      "120/120 [==============================] - 0s 2ms/step - loss: 0.6931 - accuracy: 0.5042 - val_loss: 0.6931 - val_accuracy: 0.5100\n",
      "Epoch 23/1000\n",
      "119/120 [============================>.] - ETA: 0s - loss: 0.6931 - accuracy: 0.5034\n",
      "Epoch 00023: val_loss improved from 0.69309 to 0.69309, saving model to ..\\1.modeltest.hdf5\n",
      "120/120 [==============================] - 0s 2ms/step - loss: 0.6931 - accuracy: 0.5042 - val_loss: 0.6931 - val_accuracy: 0.5100\n",
      "Epoch 24/1000\n",
      " 79/120 [==================>...........] - ETA: 0s - loss: 0.6931 - accuracy: 0.5152\n",
      "Epoch 00024: val_loss improved from 0.69309 to 0.69309, saving model to ..\\1.modeltest.hdf5\n",
      "120/120 [==============================] - 0s 2ms/step - loss: 0.6931 - accuracy: 0.5042 - val_loss: 0.6931 - val_accuracy: 0.5100\n",
      "Epoch 25/1000\n",
      "119/120 [============================>.] - ETA: 0s - loss: 0.6931 - accuracy: 0.5042\n",
      "Epoch 00025: val_loss did not improve from 0.69309\n",
      "120/120 [==============================] - 0s 2ms/step - loss: 0.6931 - accuracy: 0.5042 - val_loss: 0.6931 - val_accuracy: 0.5100\n",
      "Epoch 26/1000\n",
      " 82/120 [===================>..........] - ETA: 0s - loss: 0.6932 - accuracy: 0.4963\n",
      "Epoch 00026: val_loss did not improve from 0.69309\n",
      "120/120 [==============================] - 0s 2ms/step - loss: 0.6931 - accuracy: 0.5042 - val_loss: 0.6931 - val_accuracy: 0.5100\n",
      "Epoch 27/1000\n",
      " 82/120 [===================>..........] - ETA: 0s - loss: 0.6931 - accuracy: 0.5110\n",
      "Epoch 00027: val_loss improved from 0.69309 to 0.69309, saving model to ..\\1.modeltest.hdf5\n",
      "120/120 [==============================] - 0s 3ms/step - loss: 0.6931 - accuracy: 0.5042 - val_loss: 0.6931 - val_accuracy: 0.5100\n",
      "Epoch 28/1000\n",
      "114/120 [===========================>..] - ETA: 0s - loss: 0.6931 - accuracy: 0.5035\n",
      "Epoch 00028: val_loss did not improve from 0.69309\n",
      "120/120 [==============================] - 0s 2ms/step - loss: 0.6931 - accuracy: 0.5042 - val_loss: 0.6931 - val_accuracy: 0.5100\n",
      "Epoch 29/1000\n",
      "120/120 [==============================] - ETA: 0s - loss: 0.6931 - accuracy: 0.5042\n",
      "Epoch 00029: val_loss improved from 0.69309 to 0.69308, saving model to ..\\1.modeltest.hdf5\n",
      "120/120 [==============================] - 0s 2ms/step - loss: 0.6931 - accuracy: 0.5042 - val_loss: 0.6931 - val_accuracy: 0.5100\n",
      "Epoch 30/1000\n",
      " 80/120 [===================>..........] - ETA: 0s - loss: 0.6932 - accuracy: 0.4988\n",
      "Epoch 00030: val_loss improved from 0.69308 to 0.69308, saving model to ..\\1.modeltest.hdf5\n",
      "120/120 [==============================] - 0s 2ms/step - loss: 0.6931 - accuracy: 0.5042 - val_loss: 0.6931 - val_accuracy: 0.5100\n",
      "Epoch 31/1000\n",
      "116/120 [============================>.] - ETA: 0s - loss: 0.6931 - accuracy: 0.5069\n",
      "Epoch 00031: val_loss improved from 0.69308 to 0.69308, saving model to ..\\1.modeltest.hdf5\n",
      "120/120 [==============================] - 0s 2ms/step - loss: 0.6931 - accuracy: 0.5042 - val_loss: 0.6931 - val_accuracy: 0.5100\n",
      "Epoch 32/1000\n",
      "113/120 [===========================>..] - ETA: 0s - loss: 0.6931 - accuracy: 0.5071\n",
      "Epoch 00032: val_loss improved from 0.69308 to 0.69308, saving model to ..\\1.modeltest.hdf5\n",
      "120/120 [==============================] - 0s 2ms/step - loss: 0.6931 - accuracy: 0.5042 - val_loss: 0.6931 - val_accuracy: 0.5100\n",
      "Epoch 33/1000\n",
      " 78/120 [==================>...........] - ETA: 0s - loss: 0.6932 - accuracy: 0.4885\n",
      "Epoch 00033: val_loss did not improve from 0.69308\n",
      "120/120 [==============================] - 0s 2ms/step - loss: 0.6931 - accuracy: 0.5042 - val_loss: 0.6931 - val_accuracy: 0.5100\n",
      "Epoch 34/1000\n",
      " 84/120 [====================>.........] - ETA: 0s - loss: 0.6932 - accuracy: 0.4988\n",
      "Epoch 00034: val_loss improved from 0.69308 to 0.69308, saving model to ..\\1.modeltest.hdf5\n",
      "120/120 [==============================] - 0s 2ms/step - loss: 0.6931 - accuracy: 0.5042 - val_loss: 0.6931 - val_accuracy: 0.5100\n",
      "Epoch 35/1000\n",
      " 85/120 [====================>.........] - ETA: 0s - loss: 0.6931 - accuracy: 0.5071\n",
      "Epoch 00035: val_loss improved from 0.69308 to 0.69307, saving model to ..\\1.modeltest.hdf5\n",
      "120/120 [==============================] - 0s 3ms/step - loss: 0.6931 - accuracy: 0.5042 - val_loss: 0.6931 - val_accuracy: 0.5100\n",
      "Epoch 36/1000\n",
      " 83/120 [===================>..........] - ETA: 0s - loss: 0.6931 - accuracy: 0.5048\n",
      "Epoch 00036: val_loss improved from 0.69307 to 0.69307, saving model to ..\\1.modeltest.hdf5\n",
      "120/120 [==============================] - 1s 7ms/step - loss: 0.6931 - accuracy: 0.5042 - val_loss: 0.6931 - val_accuracy: 0.5100\n",
      "Epoch 37/1000\n",
      "114/120 [===========================>..] - ETA: 0s - loss: 0.6932 - accuracy: 0.4974\n",
      "Epoch 00037: val_loss did not improve from 0.69307\n",
      "120/120 [==============================] - 0s 2ms/step - loss: 0.6931 - accuracy: 0.5042 - val_loss: 0.6931 - val_accuracy: 0.5100\n",
      "Epoch 38/1000\n",
      " 88/120 [=====================>........] - ETA: 0s - loss: 0.6931 - accuracy: 0.5034\n",
      "Epoch 00038: val_loss improved from 0.69307 to 0.69307, saving model to ..\\1.modeltest.hdf5\n",
      "120/120 [==============================] - 0s 2ms/step - loss: 0.6931 - accuracy: 0.5042 - val_loss: 0.6931 - val_accuracy: 0.5100\n",
      "Epoch 39/1000\n",
      "117/120 [============================>.] - ETA: 0s - loss: 0.6931 - accuracy: 0.5068\n",
      "Epoch 00039: val_loss improved from 0.69307 to 0.69307, saving model to ..\\1.modeltest.hdf5\n",
      "120/120 [==============================] - 0s 2ms/step - loss: 0.6931 - accuracy: 0.5042 - val_loss: 0.6931 - val_accuracy: 0.5100\n",
      "Epoch 40/1000\n",
      "120/120 [==============================] - ETA: 0s - loss: 0.6931 - accuracy: 0.5042\n",
      "Epoch 00040: val_loss did not improve from 0.69307\n",
      "120/120 [==============================] - 0s 2ms/step - loss: 0.6931 - accuracy: 0.5042 - val_loss: 0.6931 - val_accuracy: 0.5100\n",
      "Epoch 41/1000\n",
      " 83/120 [===================>..........] - ETA: 0s - loss: 0.6931 - accuracy: 0.5024\n",
      "Epoch 00041: val_loss did not improve from 0.69307\n",
      "120/120 [==============================] - 0s 2ms/step - loss: 0.6931 - accuracy: 0.5042 - val_loss: 0.6931 - val_accuracy: 0.5100\n",
      "Epoch 42/1000\n",
      " 84/120 [====================>.........] - ETA: 0s - loss: 0.6932 - accuracy: 0.4952\n",
      "Epoch 00042: val_loss improved from 0.69307 to 0.69307, saving model to ..\\1.modeltest.hdf5\n",
      "120/120 [==============================] - 0s 2ms/step - loss: 0.6931 - accuracy: 0.5042 - val_loss: 0.6931 - val_accuracy: 0.5100\n",
      "Epoch 43/1000\n",
      "118/120 [============================>.] - ETA: 0s - loss: 0.6931 - accuracy: 0.5051\n",
      "Epoch 00043: val_loss improved from 0.69307 to 0.69306, saving model to ..\\1.modeltest.hdf5\n",
      "120/120 [==============================] - 0s 2ms/step - loss: 0.6931 - accuracy: 0.5042 - val_loss: 0.6931 - val_accuracy: 0.5100\n",
      "Epoch 44/1000\n",
      " 80/120 [===================>..........] - ETA: 0s - loss: 0.6933 - accuracy: 0.4900\n",
      "Epoch 00044: val_loss did not improve from 0.69306\n",
      "120/120 [==============================] - 0s 2ms/step - loss: 0.6931 - accuracy: 0.5042 - val_loss: 0.6931 - val_accuracy: 0.5100\n",
      "Epoch 45/1000\n",
      " 82/120 [===================>..........] - ETA: 0s - loss: 0.6930 - accuracy: 0.5146\n",
      "Epoch 00045: val_loss improved from 0.69306 to 0.69306, saving model to ..\\1.modeltest.hdf5\n",
      "120/120 [==============================] - 0s 2ms/step - loss: 0.6931 - accuracy: 0.5042 - val_loss: 0.6931 - val_accuracy: 0.5100\n",
      "Epoch 46/1000\n",
      " 82/120 [===================>..........] - ETA: 0s - loss: 0.6932 - accuracy: 0.4963\n",
      "Epoch 00046: val_loss did not improve from 0.69306\n",
      "120/120 [==============================] - 0s 2ms/step - loss: 0.6931 - accuracy: 0.5042 - val_loss: 0.6931 - val_accuracy: 0.5100\n",
      "Epoch 47/1000\n",
      "118/120 [============================>.] - ETA: 0s - loss: 0.6931 - accuracy: 0.5034\n",
      "Epoch 00047: val_loss improved from 0.69306 to 0.69306, saving model to ..\\1.modeltest.hdf5\n",
      "120/120 [==============================] - 0s 2ms/step - loss: 0.6931 - accuracy: 0.5042 - val_loss: 0.6931 - val_accuracy: 0.5100\n",
      "Epoch 48/1000\n",
      " 81/120 [===================>..........] - ETA: 0s - loss: 0.6932 - accuracy: 0.4988\n",
      "Epoch 00048: val_loss did not improve from 0.69306\n",
      "120/120 [==============================] - 0s 2ms/step - loss: 0.6931 - accuracy: 0.5042 - val_loss: 0.6931 - val_accuracy: 0.5100\n",
      "Epoch 49/1000\n",
      " 86/120 [====================>.........] - ETA: 0s - loss: 0.6932 - accuracy: 0.4942\n",
      "Epoch 00049: val_loss did not improve from 0.69306\n",
      "120/120 [==============================] - 0s 2ms/step - loss: 0.6931 - accuracy: 0.5042 - val_loss: 0.6931 - val_accuracy: 0.5100\n",
      "Epoch 50/1000\n",
      " 85/120 [====================>.........] - ETA: 0s - loss: 0.6931 - accuracy: 0.5094\n",
      "Epoch 00050: val_loss improved from 0.69306 to 0.69306, saving model to ..\\1.modeltest.hdf5\n",
      "120/120 [==============================] - 0s 2ms/step - loss: 0.6931 - accuracy: 0.5042 - val_loss: 0.6931 - val_accuracy: 0.5100\n"
     ]
    },
    {
     "name": "stdout",
     "output_type": "stream",
     "text": [
      "Epoch 51/1000\n",
      "119/120 [============================>.] - ETA: 0s - loss: 0.6931 - accuracy: 0.5050\n",
      "Epoch 00051: val_loss improved from 0.69306 to 0.69305, saving model to ..\\1.modeltest.hdf5\n",
      "120/120 [==============================] - 0s 2ms/step - loss: 0.6931 - accuracy: 0.5042 - val_loss: 0.6931 - val_accuracy: 0.5100\n",
      "Epoch 52/1000\n",
      " 80/120 [===================>..........] - ETA: 0s - loss: 0.6930 - accuracy: 0.5138\n",
      "Epoch 00052: val_loss improved from 0.69305 to 0.69305, saving model to ..\\1.modeltest.hdf5\n",
      "120/120 [==============================] - 0s 2ms/step - loss: 0.6931 - accuracy: 0.5042 - val_loss: 0.6931 - val_accuracy: 0.5100\n",
      "Epoch 53/1000\n",
      " 82/120 [===================>..........] - ETA: 0s - loss: 0.6930 - accuracy: 0.5122\n",
      "Epoch 00053: val_loss did not improve from 0.69305\n",
      "120/120 [==============================] - 0s 2ms/step - loss: 0.6931 - accuracy: 0.5042 - val_loss: 0.6931 - val_accuracy: 0.5100\n",
      "Epoch 54/1000\n",
      " 80/120 [===================>..........] - ETA: 0s - loss: 0.6931 - accuracy: 0.5038\n",
      "Epoch 00054: val_loss improved from 0.69305 to 0.69305, saving model to ..\\1.modeltest.hdf5\n",
      "120/120 [==============================] - 0s 2ms/step - loss: 0.6931 - accuracy: 0.5042 - val_loss: 0.6931 - val_accuracy: 0.5100\n",
      "Epoch 55/1000\n",
      "120/120 [==============================] - ETA: 0s - loss: 0.6931 - accuracy: 0.5042\n",
      "Epoch 00055: val_loss improved from 0.69305 to 0.69305, saving model to ..\\1.modeltest.hdf5\n",
      "120/120 [==============================] - 0s 2ms/step - loss: 0.6931 - accuracy: 0.5042 - val_loss: 0.6931 - val_accuracy: 0.5100\n",
      "Epoch 56/1000\n",
      " 81/120 [===================>..........] - ETA: 0s - loss: 0.6930 - accuracy: 0.5136\n",
      "Epoch 00056: val_loss improved from 0.69305 to 0.69305, saving model to ..\\1.modeltest.hdf5\n",
      "120/120 [==============================] - 0s 2ms/step - loss: 0.6931 - accuracy: 0.5042 - val_loss: 0.6931 - val_accuracy: 0.5100\n",
      "Epoch 57/1000\n",
      " 82/120 [===================>..........] - ETA: 0s - loss: 0.6932 - accuracy: 0.4927\n",
      "Epoch 00057: val_loss did not improve from 0.69305\n",
      "120/120 [==============================] - 0s 2ms/step - loss: 0.6931 - accuracy: 0.5042 - val_loss: 0.6931 - val_accuracy: 0.5100\n",
      "Epoch 58/1000\n",
      " 81/120 [===================>..........] - ETA: 0s - loss: 0.6931 - accuracy: 0.5062\n",
      "Epoch 00058: val_loss improved from 0.69305 to 0.69305, saving model to ..\\1.modeltest.hdf5\n",
      "120/120 [==============================] - 0s 2ms/step - loss: 0.6931 - accuracy: 0.5042 - val_loss: 0.6930 - val_accuracy: 0.5100\n",
      "Epoch 59/1000\n",
      "119/120 [============================>.] - ETA: 0s - loss: 0.6931 - accuracy: 0.5034\n",
      "Epoch 00059: val_loss did not improve from 0.69305\n",
      "120/120 [==============================] - 0s 2ms/step - loss: 0.6931 - accuracy: 0.5042 - val_loss: 0.6931 - val_accuracy: 0.5100\n",
      "Epoch 60/1000\n",
      "117/120 [============================>.] - ETA: 0s - loss: 0.6931 - accuracy: 0.5043\n",
      "Epoch 00060: val_loss did not improve from 0.69305\n",
      "120/120 [==============================] - 0s 2ms/step - loss: 0.6931 - accuracy: 0.5042 - val_loss: 0.6930 - val_accuracy: 0.5100\n",
      "Epoch 61/1000\n",
      " 83/120 [===================>..........] - ETA: 0s - loss: 0.6932 - accuracy: 0.4940\n",
      "Epoch 00061: val_loss did not improve from 0.69305\n",
      "120/120 [==============================] - 0s 2ms/step - loss: 0.6931 - accuracy: 0.5042 - val_loss: 0.6930 - val_accuracy: 0.5100\n",
      "Epoch 62/1000\n",
      " 80/120 [===================>..........] - ETA: 0s - loss: 0.6932 - accuracy: 0.5013\n",
      "Epoch 00062: val_loss improved from 0.69305 to 0.69305, saving model to ..\\1.modeltest.hdf5\n",
      "120/120 [==============================] - 0s 2ms/step - loss: 0.6931 - accuracy: 0.5042 - val_loss: 0.6930 - val_accuracy: 0.5100\n",
      "Epoch 63/1000\n",
      " 79/120 [==================>...........] - ETA: 0s - loss: 0.6929 - accuracy: 0.5190\n",
      "Epoch 00063: val_loss improved from 0.69305 to 0.69304, saving model to ..\\1.modeltest.hdf5\n",
      "120/120 [==============================] - 0s 2ms/step - loss: 0.6931 - accuracy: 0.5042 - val_loss: 0.6930 - val_accuracy: 0.5100\n",
      "Epoch 64/1000\n",
      " 81/120 [===================>..........] - ETA: 0s - loss: 0.6931 - accuracy: 0.5099\n",
      "Epoch 00064: val_loss did not improve from 0.69304\n",
      "120/120 [==============================] - 0s 2ms/step - loss: 0.6931 - accuracy: 0.5042 - val_loss: 0.6930 - val_accuracy: 0.5100\n",
      "Epoch 65/1000\n",
      " 81/120 [===================>..........] - ETA: 0s - loss: 0.6931 - accuracy: 0.5025\n",
      "Epoch 00065: val_loss did not improve from 0.69304\n",
      "120/120 [==============================] - 0s 2ms/step - loss: 0.6931 - accuracy: 0.5042 - val_loss: 0.6930 - val_accuracy: 0.5100\n",
      "Epoch 66/1000\n",
      " 81/120 [===================>..........] - ETA: 0s - loss: 0.6932 - accuracy: 0.5000\n",
      "Epoch 00066: val_loss did not improve from 0.69304\n",
      "120/120 [==============================] - 0s 2ms/step - loss: 0.6931 - accuracy: 0.5042 - val_loss: 0.6930 - val_accuracy: 0.5100\n",
      "Epoch 67/1000\n",
      " 82/120 [===================>..........] - ETA: 0s - loss: 0.6931 - accuracy: 0.5085\n",
      "Epoch 00067: val_loss did not improve from 0.69304\n",
      "120/120 [==============================] - 0s 2ms/step - loss: 0.6931 - accuracy: 0.5042 - val_loss: 0.6930 - val_accuracy: 0.5100\n",
      "Epoch 68/1000\n",
      " 85/120 [====================>.........] - ETA: 0s - loss: 0.6930 - accuracy: 0.5106\n",
      "Epoch 00068: val_loss did not improve from 0.69304\n",
      "120/120 [==============================] - 0s 2ms/step - loss: 0.6931 - accuracy: 0.5042 - val_loss: 0.6930 - val_accuracy: 0.5100\n",
      "Epoch 69/1000\n",
      "116/120 [============================>.] - ETA: 0s - loss: 0.6931 - accuracy: 0.5060\n",
      "Epoch 00069: val_loss improved from 0.69304 to 0.69304, saving model to ..\\1.modeltest.hdf5\n",
      "120/120 [==============================] - 0s 2ms/step - loss: 0.6931 - accuracy: 0.5042 - val_loss: 0.6930 - val_accuracy: 0.5100\n",
      "Epoch 70/1000\n",
      "116/120 [============================>.] - ETA: 0s - loss: 0.6932 - accuracy: 0.5000\n",
      "Epoch 00070: val_loss improved from 0.69304 to 0.69304, saving model to ..\\1.modeltest.hdf5\n",
      "120/120 [==============================] - 0s 2ms/step - loss: 0.6931 - accuracy: 0.5042 - val_loss: 0.6930 - val_accuracy: 0.5100\n",
      "Epoch 71/1000\n",
      " 81/120 [===================>..........] - ETA: 0s - loss: 0.6932 - accuracy: 0.4938\n",
      "Epoch 00071: val_loss did not improve from 0.69304\n",
      "120/120 [==============================] - 0s 2ms/step - loss: 0.6931 - accuracy: 0.5042 - val_loss: 0.6930 - val_accuracy: 0.5100\n",
      "Epoch 72/1000\n",
      " 84/120 [====================>.........] - ETA: 0s - loss: 0.6932 - accuracy: 0.5012\n",
      "Epoch 00072: val_loss improved from 0.69304 to 0.69304, saving model to ..\\1.modeltest.hdf5\n",
      "120/120 [==============================] - 0s 2ms/step - loss: 0.6931 - accuracy: 0.5042 - val_loss: 0.6930 - val_accuracy: 0.5100\n",
      "Epoch 73/1000\n",
      "120/120 [==============================] - ETA: 0s - loss: 0.6931 - accuracy: 0.5042\n",
      "Epoch 00073: val_loss improved from 0.69304 to 0.69304, saving model to ..\\1.modeltest.hdf5\n",
      "120/120 [==============================] - 0s 2ms/step - loss: 0.6931 - accuracy: 0.5042 - val_loss: 0.6930 - val_accuracy: 0.5100\n",
      "Epoch 74/1000\n",
      "118/120 [============================>.] - ETA: 0s - loss: 0.6931 - accuracy: 0.5051\n",
      "Epoch 00074: val_loss improved from 0.69304 to 0.69304, saving model to ..\\1.modeltest.hdf5\n",
      "120/120 [==============================] - 0s 2ms/step - loss: 0.6931 - accuracy: 0.5042 - val_loss: 0.6930 - val_accuracy: 0.5100\n",
      "Epoch 75/1000\n",
      "112/120 [===========================>..] - ETA: 0s - loss: 0.6931 - accuracy: 0.5054\n",
      "Epoch 00075: val_loss did not improve from 0.69304\n",
      "120/120 [==============================] - 0s 2ms/step - loss: 0.6931 - accuracy: 0.5042 - val_loss: 0.6930 - val_accuracy: 0.5100\n",
      "Epoch 76/1000\n",
      "116/120 [============================>.] - ETA: 0s - loss: 0.6931 - accuracy: 0.5034\n",
      "Epoch 00076: val_loss did not improve from 0.69304\n",
      "120/120 [==============================] - 0s 2ms/step - loss: 0.6931 - accuracy: 0.5042 - val_loss: 0.6930 - val_accuracy: 0.5100\n",
      "Epoch 77/1000\n",
      "117/120 [============================>.] - ETA: 0s - loss: 0.6931 - accuracy: 0.5034\n",
      "Epoch 00077: val_loss did not improve from 0.69304\n",
      "120/120 [==============================] - 0s 2ms/step - loss: 0.6931 - accuracy: 0.5042 - val_loss: 0.6930 - val_accuracy: 0.5100\n",
      "Epoch 78/1000\n",
      " 81/120 [===================>..........] - ETA: 0s - loss: 0.6930 - accuracy: 0.5099\n",
      "Epoch 00078: val_loss did not improve from 0.69304\n",
      "120/120 [==============================] - 0s 2ms/step - loss: 0.6931 - accuracy: 0.5042 - val_loss: 0.6930 - val_accuracy: 0.5100\n",
      "Epoch 79/1000\n",
      " 87/120 [====================>.........] - ETA: 0s - loss: 0.6932 - accuracy: 0.5011\n",
      "Epoch 00079: val_loss did not improve from 0.69304\n",
      "120/120 [==============================] - 0s 2ms/step - loss: 0.6931 - accuracy: 0.5042 - val_loss: 0.6930 - val_accuracy: 0.5100\n",
      "Epoch 80/1000\n",
      " 87/120 [====================>.........] - ETA: 0s - loss: 0.6931 - accuracy: 0.5057\n",
      "Epoch 00080: val_loss improved from 0.69304 to 0.69304, saving model to ..\\1.modeltest.hdf5\n",
      "120/120 [==============================] - 0s 2ms/step - loss: 0.6931 - accuracy: 0.5042 - val_loss: 0.6930 - val_accuracy: 0.5100\n",
      "Epoch 81/1000\n",
      " 84/120 [====================>.........] - ETA: 0s - loss: 0.6930 - accuracy: 0.5155\n",
      "Epoch 00081: val_loss did not improve from 0.69304\n",
      "120/120 [==============================] - 0s 2ms/step - loss: 0.6931 - accuracy: 0.5042 - val_loss: 0.6930 - val_accuracy: 0.5100\n",
      "Epoch 82/1000\n",
      " 85/120 [====================>.........] - ETA: 0s - loss: 0.6930 - accuracy: 0.5106\n",
      "Epoch 00082: val_loss improved from 0.69304 to 0.69304, saving model to ..\\1.modeltest.hdf5\n",
      "120/120 [==============================] - 0s 2ms/step - loss: 0.6931 - accuracy: 0.5042 - val_loss: 0.6930 - val_accuracy: 0.5100\n",
      "Epoch 83/1000\n",
      " 81/120 [===================>..........] - ETA: 0s - loss: 0.6933 - accuracy: 0.4938\n",
      "Epoch 00083: val_loss did not improve from 0.69304\n",
      "120/120 [==============================] - 0s 2ms/step - loss: 0.6931 - accuracy: 0.5042 - val_loss: 0.6930 - val_accuracy: 0.5100\n",
      "Epoch 84/1000\n",
      " 81/120 [===================>..........] - ETA: 0s - loss: 0.6931 - accuracy: 0.5037\n",
      "Epoch 00084: val_loss improved from 0.69304 to 0.69304, saving model to ..\\1.modeltest.hdf5\n",
      "120/120 [==============================] - 0s 2ms/step - loss: 0.6931 - accuracy: 0.5042 - val_loss: 0.6930 - val_accuracy: 0.5100\n",
      "Epoch 85/1000\n",
      " 82/120 [===================>..........] - ETA: 0s - loss: 0.6931 - accuracy: 0.5085\n",
      "Epoch 00085: val_loss improved from 0.69304 to 0.69303, saving model to ..\\1.modeltest.hdf5\n",
      "120/120 [==============================] - 0s 2ms/step - loss: 0.6931 - accuracy: 0.5042 - val_loss: 0.6930 - val_accuracy: 0.5100\n",
      "Epoch 86/1000\n",
      "119/120 [============================>.] - ETA: 0s - loss: 0.6931 - accuracy: 0.5067\n",
      "Epoch 00086: val_loss did not improve from 0.69303\n",
      "120/120 [==============================] - 0s 2ms/step - loss: 0.6931 - accuracy: 0.5042 - val_loss: 0.6930 - val_accuracy: 0.5100\n",
      "Epoch 87/1000\n",
      " 85/120 [====================>.........] - ETA: 0s - loss: 0.6932 - accuracy: 0.4965\n",
      "Epoch 00087: val_loss did not improve from 0.69303\n",
      "120/120 [==============================] - 0s 2ms/step - loss: 0.6931 - accuracy: 0.5042 - val_loss: 0.6930 - val_accuracy: 0.5100\n",
      "Epoch 88/1000\n",
      " 84/120 [====================>.........] - ETA: 0s - loss: 0.6929 - accuracy: 0.5179\n",
      "Epoch 00088: val_loss improved from 0.69303 to 0.69303, saving model to ..\\1.modeltest.hdf5\n",
      "120/120 [==============================] - 0s 2ms/step - loss: 0.6931 - accuracy: 0.5042 - val_loss: 0.6930 - val_accuracy: 0.5100\n",
      "Epoch 89/1000\n",
      "119/120 [============================>.] - ETA: 0s - loss: 0.6931 - accuracy: 0.5034\n",
      "Epoch 00089: val_loss did not improve from 0.69303\n",
      "120/120 [==============================] - 0s 2ms/step - loss: 0.6931 - accuracy: 0.5042 - val_loss: 0.6930 - val_accuracy: 0.5100\n",
      "Epoch 90/1000\n",
      " 84/120 [====================>.........] - ETA: 0s - loss: 0.6931 - accuracy: 0.5036\n",
      "Epoch 00090: val_loss did not improve from 0.69303\n",
      "120/120 [==============================] - 0s 2ms/step - loss: 0.6931 - accuracy: 0.5042 - val_loss: 0.6930 - val_accuracy: 0.5100\n",
      "Epoch 91/1000\n",
      " 86/120 [====================>.........] - ETA: 0s - loss: 0.6931 - accuracy: 0.5058\n",
      "Epoch 00091: val_loss did not improve from 0.69303\n",
      "120/120 [==============================] - 0s 2ms/step - loss: 0.6931 - accuracy: 0.5042 - val_loss: 0.6930 - val_accuracy: 0.5100\n",
      "Epoch 92/1000\n",
      " 82/120 [===================>..........] - ETA: 0s - loss: 0.6933 - accuracy: 0.4927\n",
      "Epoch 00092: val_loss did not improve from 0.69303\n",
      "120/120 [==============================] - 0s 2ms/step - loss: 0.6931 - accuracy: 0.5042 - val_loss: 0.6930 - val_accuracy: 0.5100\n",
      "Epoch 93/1000\n",
      "120/120 [==============================] - ETA: 0s - loss: 0.6931 - accuracy: 0.5042\n",
      "Epoch 00093: val_loss improved from 0.69303 to 0.69303, saving model to ..\\1.modeltest.hdf5\n",
      "120/120 [==============================] - 0s 2ms/step - loss: 0.6931 - accuracy: 0.5042 - val_loss: 0.6930 - val_accuracy: 0.5100\n",
      "Epoch 94/1000\n",
      " 82/120 [===================>..........] - ETA: 0s - loss: 0.6929 - accuracy: 0.5183\n",
      "Epoch 00094: val_loss did not improve from 0.69303\n",
      "120/120 [==============================] - 0s 2ms/step - loss: 0.6931 - accuracy: 0.5042 - val_loss: 0.6930 - val_accuracy: 0.5100\n",
      "Epoch 95/1000\n",
      " 85/120 [====================>.........] - ETA: 0s - loss: 0.6931 - accuracy: 0.5024\n",
      "Epoch 00095: val_loss did not improve from 0.69303\n",
      "120/120 [==============================] - 0s 2ms/step - loss: 0.6931 - accuracy: 0.5042 - val_loss: 0.6930 - val_accuracy: 0.5100\n",
      "Epoch 96/1000\n",
      " 82/120 [===================>..........] - ETA: 0s - loss: 0.6929 - accuracy: 0.5183\n",
      "Epoch 00096: val_loss did not improve from 0.69303\n",
      "120/120 [==============================] - 0s 2ms/step - loss: 0.6931 - accuracy: 0.5042 - val_loss: 0.6930 - val_accuracy: 0.5100\n",
      "Epoch 97/1000\n",
      " 84/120 [====================>.........] - ETA: 0s - loss: 0.6932 - accuracy: 0.4976\n",
      "Epoch 00097: val_loss did not improve from 0.69303\n",
      "120/120 [==============================] - 0s 2ms/step - loss: 0.6931 - accuracy: 0.5042 - val_loss: 0.6930 - val_accuracy: 0.5100\n",
      "Epoch 98/1000\n",
      "118/120 [============================>.] - ETA: 0s - loss: 0.6931 - accuracy: 0.5051\n",
      "Epoch 00098: val_loss improved from 0.69303 to 0.69303, saving model to ..\\1.modeltest.hdf5\n",
      "120/120 [==============================] - 0s 2ms/step - loss: 0.6931 - accuracy: 0.5042 - val_loss: 0.6930 - val_accuracy: 0.5100\n",
      "Epoch 99/1000\n",
      " 84/120 [====================>.........] - ETA: 0s - loss: 0.6932 - accuracy: 0.5012\n",
      "Epoch 00099: val_loss did not improve from 0.69303\n",
      "120/120 [==============================] - 0s 2ms/step - loss: 0.6931 - accuracy: 0.5042 - val_loss: 0.6930 - val_accuracy: 0.5100\n",
      "Epoch 100/1000\n",
      " 85/120 [====================>.........] - ETA: 0s - loss: 0.6930 - accuracy: 0.5106\n",
      "Epoch 00100: val_loss improved from 0.69303 to 0.69303, saving model to ..\\1.modeltest.hdf5\n",
      "120/120 [==============================] - 0s 2ms/step - loss: 0.6931 - accuracy: 0.5042 - val_loss: 0.6930 - val_accuracy: 0.5100\n",
      "Epoch 101/1000\n",
      " 80/120 [===================>..........] - ETA: 0s - loss: 0.6934 - accuracy: 0.4850\n",
      "Epoch 00101: val_loss did not improve from 0.69303\n",
      "120/120 [==============================] - 0s 2ms/step - loss: 0.6931 - accuracy: 0.5042 - val_loss: 0.6930 - val_accuracy: 0.5100\n",
      "Epoch 102/1000\n",
      "119/120 [============================>.] - ETA: 0s - loss: 0.6931 - accuracy: 0.5067\n",
      "Epoch 00102: val_loss improved from 0.69303 to 0.69303, saving model to ..\\1.modeltest.hdf5\n",
      "120/120 [==============================] - 0s 2ms/step - loss: 0.6931 - accuracy: 0.5042 - val_loss: 0.6930 - val_accuracy: 0.5100\n",
      "Epoch 103/1000\n",
      " 79/120 [==================>...........] - ETA: 0s - loss: 0.6929 - accuracy: 0.5177\n",
      "Epoch 00103: val_loss did not improve from 0.69303\n",
      "120/120 [==============================] - 0s 2ms/step - loss: 0.6931 - accuracy: 0.5042 - val_loss: 0.6930 - val_accuracy: 0.5100\n",
      "Epoch 104/1000\n",
      " 84/120 [====================>.........] - ETA: 0s - loss: 0.6932 - accuracy: 0.4964\n",
      "Epoch 00104: val_loss did not improve from 0.69303\n",
      "120/120 [==============================] - 0s 2ms/step - loss: 0.6931 - accuracy: 0.5042 - val_loss: 0.6930 - val_accuracy: 0.5100\n",
      "Epoch 105/1000\n",
      " 81/120 [===================>..........] - ETA: 0s - loss: 0.6930 - accuracy: 0.5111\n",
      "Epoch 00105: val_loss improved from 0.69303 to 0.69303, saving model to ..\\1.modeltest.hdf5\n",
      "120/120 [==============================] - 0s 3ms/step - loss: 0.6931 - accuracy: 0.5042 - val_loss: 0.6930 - val_accuracy: 0.5100\n"
     ]
    },
    {
     "name": "stdout",
     "output_type": "stream",
     "text": [
      "Epoch 106/1000\n",
      "120/120 [==============================] - ETA: 0s - loss: 0.6931 - accuracy: 0.5042\n",
      "Epoch 00106: val_loss did not improve from 0.69303\n",
      "120/120 [==============================] - 0s 2ms/step - loss: 0.6931 - accuracy: 0.5042 - val_loss: 0.6930 - val_accuracy: 0.5100\n",
      "Epoch 107/1000\n",
      " 80/120 [===================>..........] - ETA: 0s - loss: 0.6931 - accuracy: 0.5038\n",
      "Epoch 00107: val_loss did not improve from 0.69303\n",
      "120/120 [==============================] - 0s 2ms/step - loss: 0.6931 - accuracy: 0.5042 - val_loss: 0.6930 - val_accuracy: 0.5100\n",
      "Epoch 108/1000\n",
      " 82/120 [===================>..........] - ETA: 0s - loss: 0.6932 - accuracy: 0.4976\n",
      "Epoch 00108: val_loss did not improve from 0.69303\n",
      "120/120 [==============================] - 0s 2ms/step - loss: 0.6931 - accuracy: 0.5042 - val_loss: 0.6930 - val_accuracy: 0.5100\n",
      "Epoch 109/1000\n",
      " 82/120 [===================>..........] - ETA: 0s - loss: 0.6930 - accuracy: 0.5134\n",
      "Epoch 00109: val_loss improved from 0.69303 to 0.69303, saving model to ..\\1.modeltest.hdf5\n",
      "120/120 [==============================] - 0s 2ms/step - loss: 0.6931 - accuracy: 0.5042 - val_loss: 0.6930 - val_accuracy: 0.5100\n",
      "Epoch 110/1000\n",
      " 79/120 [==================>...........] - ETA: 0s - loss: 0.6931 - accuracy: 0.5051\n",
      "Epoch 00110: val_loss did not improve from 0.69303\n",
      "120/120 [==============================] - 0s 2ms/step - loss: 0.6931 - accuracy: 0.5042 - val_loss: 0.6930 - val_accuracy: 0.5100\n",
      "Epoch 111/1000\n",
      " 83/120 [===================>..........] - ETA: 0s - loss: 0.6930 - accuracy: 0.5108\n",
      "Epoch 00111: val_loss did not improve from 0.69303\n",
      "120/120 [==============================] - 0s 2ms/step - loss: 0.6931 - accuracy: 0.5042 - val_loss: 0.6930 - val_accuracy: 0.5100\n",
      "Epoch 112/1000\n",
      " 84/120 [====================>.........] - ETA: 0s - loss: 0.6929 - accuracy: 0.5179\n",
      "Epoch 00112: val_loss improved from 0.69303 to 0.69302, saving model to ..\\1.modeltest.hdf5\n",
      "120/120 [==============================] - 1s 5ms/step - loss: 0.6931 - accuracy: 0.5042 - val_loss: 0.6930 - val_accuracy: 0.5100\n",
      "Epoch 113/1000\n",
      "115/120 [===========================>..] - ETA: 0s - loss: 0.6931 - accuracy: 0.5035\n",
      "Epoch 00113: val_loss did not improve from 0.69302\n",
      "120/120 [==============================] - 0s 2ms/step - loss: 0.6931 - accuracy: 0.5042 - val_loss: 0.6930 - val_accuracy: 0.5100\n",
      "Epoch 114/1000\n",
      " 84/120 [====================>.........] - ETA: 0s - loss: 0.6932 - accuracy: 0.5012\n",
      "Epoch 00114: val_loss did not improve from 0.69302\n",
      "120/120 [==============================] - 0s 2ms/step - loss: 0.6931 - accuracy: 0.5042 - val_loss: 0.6930 - val_accuracy: 0.5100\n",
      "Epoch 115/1000\n",
      " 84/120 [====================>.........] - ETA: 0s - loss: 0.6932 - accuracy: 0.4964\n",
      "Epoch 00115: val_loss did not improve from 0.69302\n",
      "120/120 [==============================] - 0s 2ms/step - loss: 0.6931 - accuracy: 0.5042 - val_loss: 0.6930 - val_accuracy: 0.5100\n",
      "Epoch 116/1000\n",
      "117/120 [============================>.] - ETA: 0s - loss: 0.6932 - accuracy: 0.4974\n",
      "Epoch 00116: val_loss did not improve from 0.69302\n",
      "120/120 [==============================] - 0s 2ms/step - loss: 0.6931 - accuracy: 0.5042 - val_loss: 0.6930 - val_accuracy: 0.5100\n",
      "Epoch 117/1000\n",
      "119/120 [============================>.] - ETA: 0s - loss: 0.6931 - accuracy: 0.5059\n",
      "Epoch 00117: val_loss improved from 0.69302 to 0.69302, saving model to ..\\1.modeltest.hdf5\n",
      "120/120 [==============================] - 0s 2ms/step - loss: 0.6931 - accuracy: 0.5042 - val_loss: 0.6930 - val_accuracy: 0.5100\n",
      "Epoch 118/1000\n",
      "118/120 [============================>.] - ETA: 0s - loss: 0.6931 - accuracy: 0.5051\n",
      "Epoch 00118: val_loss did not improve from 0.69302\n",
      "120/120 [==============================] - 0s 2ms/step - loss: 0.6931 - accuracy: 0.5042 - val_loss: 0.6930 - val_accuracy: 0.5100\n",
      "Epoch 119/1000\n",
      " 86/120 [====================>.........] - ETA: 0s - loss: 0.6929 - accuracy: 0.5186\n",
      "Epoch 00119: val_loss improved from 0.69302 to 0.69302, saving model to ..\\1.modeltest.hdf5\n",
      "120/120 [==============================] - 0s 2ms/step - loss: 0.6931 - accuracy: 0.5042 - val_loss: 0.6930 - val_accuracy: 0.5100\n",
      "Epoch 120/1000\n",
      " 82/120 [===================>..........] - ETA: 0s - loss: 0.6933 - accuracy: 0.4927\n",
      "Epoch 00120: val_loss did not improve from 0.69302\n",
      "120/120 [==============================] - 0s 2ms/step - loss: 0.6931 - accuracy: 0.5042 - val_loss: 0.6930 - val_accuracy: 0.5100\n",
      "Epoch 121/1000\n",
      " 84/120 [====================>.........] - ETA: 0s - loss: 0.6932 - accuracy: 0.5000\n",
      "Epoch 00121: val_loss did not improve from 0.69302\n",
      "120/120 [==============================] - 0s 2ms/step - loss: 0.6931 - accuracy: 0.5042 - val_loss: 0.6930 - val_accuracy: 0.5100\n",
      "Epoch 122/1000\n",
      " 79/120 [==================>...........] - ETA: 0s - loss: 0.6929 - accuracy: 0.5190\n",
      "Epoch 00122: val_loss did not improve from 0.69302\n",
      "120/120 [==============================] - 0s 2ms/step - loss: 0.6931 - accuracy: 0.5042 - val_loss: 0.6930 - val_accuracy: 0.5100\n",
      "Epoch 123/1000\n",
      " 86/120 [====================>.........] - ETA: 0s - loss: 0.6930 - accuracy: 0.5116\n",
      "Epoch 00123: val_loss did not improve from 0.69302\n",
      "120/120 [==============================] - 0s 2ms/step - loss: 0.6931 - accuracy: 0.5042 - val_loss: 0.6930 - val_accuracy: 0.5100\n",
      "Epoch 124/1000\n",
      " 80/120 [===================>..........] - ETA: 0s - loss: 0.6928 - accuracy: 0.5250\n",
      "Epoch 00124: val_loss did not improve from 0.69302\n",
      "120/120 [==============================] - 0s 2ms/step - loss: 0.6931 - accuracy: 0.5042 - val_loss: 0.6930 - val_accuracy: 0.5100\n",
      "Epoch 125/1000\n",
      "119/120 [============================>.] - ETA: 0s - loss: 0.6931 - accuracy: 0.5042\n",
      "Epoch 00125: val_loss did not improve from 0.69302\n",
      "120/120 [==============================] - 0s 2ms/step - loss: 0.6931 - accuracy: 0.5042 - val_loss: 0.6930 - val_accuracy: 0.5100\n",
      "Epoch 126/1000\n",
      " 86/120 [====================>.........] - ETA: 0s - loss: 0.6930 - accuracy: 0.5128\n",
      "Epoch 00126: val_loss did not improve from 0.69302\n",
      "120/120 [==============================] - 0s 2ms/step - loss: 0.6931 - accuracy: 0.5042 - val_loss: 0.6930 - val_accuracy: 0.5100\n",
      "Epoch 127/1000\n",
      " 84/120 [====================>.........] - ETA: 0s - loss: 0.6934 - accuracy: 0.4833\n",
      "Epoch 00127: val_loss did not improve from 0.69302\n",
      "120/120 [==============================] - 0s 2ms/step - loss: 0.6931 - accuracy: 0.5042 - val_loss: 0.6930 - val_accuracy: 0.5100\n",
      "Epoch 128/1000\n",
      " 84/120 [====================>.........] - ETA: 0s - loss: 0.6932 - accuracy: 0.4988\n",
      "Epoch 00128: val_loss did not improve from 0.69302\n",
      "120/120 [==============================] - 0s 2ms/step - loss: 0.6931 - accuracy: 0.5042 - val_loss: 0.6930 - val_accuracy: 0.5100\n",
      "Epoch 129/1000\n",
      " 78/120 [==================>...........] - ETA: 0s - loss: 0.6932 - accuracy: 0.4987\n",
      "Epoch 00129: val_loss did not improve from 0.69302\n",
      "120/120 [==============================] - 0s 2ms/step - loss: 0.6931 - accuracy: 0.5042 - val_loss: 0.6930 - val_accuracy: 0.5100\n",
      "Epoch 130/1000\n",
      " 86/120 [====================>.........] - ETA: 0s - loss: 0.6931 - accuracy: 0.5023\n",
      "Epoch 00130: val_loss did not improve from 0.69302\n",
      "120/120 [==============================] - 0s 2ms/step - loss: 0.6931 - accuracy: 0.5042 - val_loss: 0.6930 - val_accuracy: 0.5100\n",
      "Epoch 131/1000\n",
      " 85/120 [====================>.........] - ETA: 0s - loss: 0.6930 - accuracy: 0.5106\n",
      "Epoch 00131: val_loss did not improve from 0.69302\n",
      "120/120 [==============================] - 0s 2ms/step - loss: 0.6931 - accuracy: 0.5042 - val_loss: 0.6930 - val_accuracy: 0.5100\n",
      "Epoch 132/1000\n",
      "120/120 [==============================] - ETA: 0s - loss: 0.6931 - accuracy: 0.5042\n",
      "Epoch 00132: val_loss did not improve from 0.69302\n",
      "120/120 [==============================] - 0s 2ms/step - loss: 0.6931 - accuracy: 0.5042 - val_loss: 0.6930 - val_accuracy: 0.5100\n",
      "Epoch 133/1000\n",
      "117/120 [============================>.] - ETA: 0s - loss: 0.6931 - accuracy: 0.5043\n",
      "Epoch 00133: val_loss improved from 0.69302 to 0.69302, saving model to ..\\1.modeltest.hdf5\n",
      "120/120 [==============================] - 0s 2ms/step - loss: 0.6931 - accuracy: 0.5042 - val_loss: 0.6930 - val_accuracy: 0.5100\n",
      "Epoch 134/1000\n",
      "120/120 [==============================] - ETA: 0s - loss: 0.6931 - accuracy: 0.5042\n",
      "Epoch 00134: val_loss did not improve from 0.69302\n",
      "120/120 [==============================] - 0s 2ms/step - loss: 0.6931 - accuracy: 0.5042 - val_loss: 0.6930 - val_accuracy: 0.5100\n",
      "Epoch 135/1000\n",
      " 84/120 [====================>.........] - ETA: 0s - loss: 0.6929 - accuracy: 0.5179\n",
      "Epoch 00135: val_loss improved from 0.69302 to 0.69302, saving model to ..\\1.modeltest.hdf5\n",
      "120/120 [==============================] - 0s 2ms/step - loss: 0.6931 - accuracy: 0.5042 - val_loss: 0.6930 - val_accuracy: 0.5100\n",
      "Epoch 136/1000\n",
      " 84/120 [====================>.........] - ETA: 0s - loss: 0.6931 - accuracy: 0.5071\n",
      "Epoch 00136: val_loss did not improve from 0.69302\n",
      "120/120 [==============================] - 0s 2ms/step - loss: 0.6931 - accuracy: 0.5042 - val_loss: 0.6930 - val_accuracy: 0.5100\n",
      "Epoch 137/1000\n",
      " 84/120 [====================>.........] - ETA: 0s - loss: 0.6931 - accuracy: 0.5036\n",
      "Epoch 00137: val_loss did not improve from 0.69302\n",
      "120/120 [==============================] - 0s 2ms/step - loss: 0.6931 - accuracy: 0.5042 - val_loss: 0.6930 - val_accuracy: 0.5100\n",
      "Epoch 138/1000\n",
      " 84/120 [====================>.........] - ETA: 0s - loss: 0.6931 - accuracy: 0.5024\n",
      "Epoch 00138: val_loss did not improve from 0.69302\n",
      "120/120 [==============================] - 0s 2ms/step - loss: 0.6931 - accuracy: 0.5042 - val_loss: 0.6930 - val_accuracy: 0.5100\n",
      "Epoch 139/1000\n",
      " 86/120 [====================>.........] - ETA: 0s - loss: 0.6930 - accuracy: 0.5093\n",
      "Epoch 00139: val_loss did not improve from 0.69302\n",
      "120/120 [==============================] - 0s 2ms/step - loss: 0.6931 - accuracy: 0.5042 - val_loss: 0.6930 - val_accuracy: 0.5100\n",
      "Epoch 140/1000\n",
      " 82/120 [===================>..........] - ETA: 0s - loss: 0.6934 - accuracy: 0.4890\n",
      "Epoch 00140: val_loss did not improve from 0.69302\n",
      "120/120 [==============================] - 0s 2ms/step - loss: 0.6931 - accuracy: 0.5042 - val_loss: 0.6930 - val_accuracy: 0.5100\n",
      "Epoch 141/1000\n",
      " 81/120 [===================>..........] - ETA: 0s - loss: 0.6929 - accuracy: 0.5160\n",
      "Epoch 00141: val_loss improved from 0.69302 to 0.69302, saving model to ..\\1.modeltest.hdf5\n",
      "120/120 [==============================] - 0s 2ms/step - loss: 0.6931 - accuracy: 0.5042 - val_loss: 0.6930 - val_accuracy: 0.5100\n",
      "Epoch 142/1000\n",
      " 82/120 [===================>..........] - ETA: 0s - loss: 0.6931 - accuracy: 0.5037\n",
      "Epoch 00142: val_loss did not improve from 0.69302\n",
      "120/120 [==============================] - 0s 2ms/step - loss: 0.6931 - accuracy: 0.5042 - val_loss: 0.6930 - val_accuracy: 0.5100\n",
      "Epoch 143/1000\n",
      " 80/120 [===================>..........] - ETA: 0s - loss: 0.6933 - accuracy: 0.4925\n",
      "Epoch 00143: val_loss did not improve from 0.69302\n",
      "120/120 [==============================] - 0s 2ms/step - loss: 0.6931 - accuracy: 0.5042 - val_loss: 0.6930 - val_accuracy: 0.5100\n",
      "Epoch 144/1000\n",
      " 82/120 [===================>..........] - ETA: 0s - loss: 0.6933 - accuracy: 0.4902\n",
      "Epoch 00144: val_loss did not improve from 0.69302\n",
      "120/120 [==============================] - 0s 2ms/step - loss: 0.6931 - accuracy: 0.5042 - val_loss: 0.6930 - val_accuracy: 0.5100\n",
      "Epoch 145/1000\n",
      " 82/120 [===================>..........] - ETA: 0s - loss: 0.6932 - accuracy: 0.4988\n",
      "Epoch 00145: val_loss did not improve from 0.69302\n",
      "120/120 [==============================] - 0s 2ms/step - loss: 0.6931 - accuracy: 0.5042 - val_loss: 0.6930 - val_accuracy: 0.5100\n",
      "Epoch 146/1000\n",
      " 81/120 [===================>..........] - ETA: 0s - loss: 0.6930 - accuracy: 0.5099\n",
      "Epoch 00146: val_loss did not improve from 0.69302\n",
      "120/120 [==============================] - 0s 2ms/step - loss: 0.6931 - accuracy: 0.5042 - val_loss: 0.6930 - val_accuracy: 0.5100\n",
      "Epoch 147/1000\n",
      " 83/120 [===================>..........] - ETA: 0s - loss: 0.6930 - accuracy: 0.5096\n",
      "Epoch 00147: val_loss did not improve from 0.69302\n",
      "120/120 [==============================] - 0s 2ms/step - loss: 0.6931 - accuracy: 0.5042 - val_loss: 0.6930 - val_accuracy: 0.5100\n",
      "Epoch 148/1000\n",
      " 83/120 [===================>..........] - ETA: 0s - loss: 0.6931 - accuracy: 0.5060\n",
      "Epoch 00148: val_loss did not improve from 0.69302\n",
      "120/120 [==============================] - 0s 2ms/step - loss: 0.6931 - accuracy: 0.5042 - val_loss: 0.6930 - val_accuracy: 0.5100\n",
      "Epoch 149/1000\n",
      "117/120 [============================>.] - ETA: 0s - loss: 0.6931 - accuracy: 0.5026\n",
      "Epoch 00149: val_loss did not improve from 0.69302\n",
      "120/120 [==============================] - 0s 2ms/step - loss: 0.6931 - accuracy: 0.5042 - val_loss: 0.6930 - val_accuracy: 0.5100\n",
      "Epoch 150/1000\n",
      " 85/120 [====================>.........] - ETA: 0s - loss: 0.6930 - accuracy: 0.5118\n",
      "Epoch 00150: val_loss did not improve from 0.69302\n",
      "120/120 [==============================] - 0s 2ms/step - loss: 0.6931 - accuracy: 0.5042 - val_loss: 0.6930 - val_accuracy: 0.5100\n",
      "Epoch 151/1000\n",
      " 84/120 [====================>.........] - ETA: 0s - loss: 0.6931 - accuracy: 0.5071\n",
      "Epoch 00151: val_loss did not improve from 0.69302\n",
      "120/120 [==============================] - 0s 2ms/step - loss: 0.6931 - accuracy: 0.5042 - val_loss: 0.6930 - val_accuracy: 0.5100\n",
      "Epoch 152/1000\n",
      " 84/120 [====================>.........] - ETA: 0s - loss: 0.6929 - accuracy: 0.5190\n",
      "Epoch 00152: val_loss improved from 0.69302 to 0.69302, saving model to ..\\1.modeltest.hdf5\n",
      "120/120 [==============================] - 0s 2ms/step - loss: 0.6931 - accuracy: 0.5042 - val_loss: 0.6930 - val_accuracy: 0.5100\n",
      "Epoch 153/1000\n",
      " 81/120 [===================>..........] - ETA: 0s - loss: 0.6931 - accuracy: 0.5037\n",
      "Epoch 00153: val_loss did not improve from 0.69302\n",
      "120/120 [==============================] - 0s 2ms/step - loss: 0.6931 - accuracy: 0.5042 - val_loss: 0.6930 - val_accuracy: 0.5100\n",
      "Epoch 154/1000\n",
      " 83/120 [===================>..........] - ETA: 0s - loss: 0.6931 - accuracy: 0.5036\n",
      "Epoch 00154: val_loss did not improve from 0.69302\n",
      "120/120 [==============================] - 0s 2ms/step - loss: 0.6931 - accuracy: 0.5042 - val_loss: 0.6930 - val_accuracy: 0.5100\n",
      "Epoch 155/1000\n",
      " 82/120 [===================>..........] - ETA: 0s - loss: 0.6932 - accuracy: 0.4976\n",
      "Epoch 00155: val_loss did not improve from 0.69302\n",
      "120/120 [==============================] - 0s 2ms/step - loss: 0.6931 - accuracy: 0.5042 - val_loss: 0.6930 - val_accuracy: 0.5100\n",
      "Epoch 156/1000\n",
      " 85/120 [====================>.........] - ETA: 0s - loss: 0.6931 - accuracy: 0.5047\n",
      "Epoch 00156: val_loss did not improve from 0.69302\n",
      "120/120 [==============================] - 0s 2ms/step - loss: 0.6931 - accuracy: 0.5042 - val_loss: 0.6930 - val_accuracy: 0.5100\n",
      "Epoch 157/1000\n",
      " 83/120 [===================>..........] - ETA: 0s - loss: 0.6933 - accuracy: 0.4952\n",
      "Epoch 00157: val_loss did not improve from 0.69302\n",
      "120/120 [==============================] - 0s 2ms/step - loss: 0.6931 - accuracy: 0.5042 - val_loss: 0.6930 - val_accuracy: 0.5100\n",
      "Epoch 158/1000\n",
      " 82/120 [===================>..........] - ETA: 0s - loss: 0.6930 - accuracy: 0.5146\n",
      "Epoch 00158: val_loss improved from 0.69302 to 0.69302, saving model to ..\\1.modeltest.hdf5\n",
      "120/120 [==============================] - 0s 2ms/step - loss: 0.6931 - accuracy: 0.5042 - val_loss: 0.6930 - val_accuracy: 0.5100\n",
      "Epoch 159/1000\n",
      " 82/120 [===================>..........] - ETA: 0s - loss: 0.6932 - accuracy: 0.5012\n",
      "Epoch 00159: val_loss did not improve from 0.69302\n",
      "120/120 [==============================] - 0s 2ms/step - loss: 0.6931 - accuracy: 0.5042 - val_loss: 0.6930 - val_accuracy: 0.5100\n",
      "Epoch 160/1000\n",
      " 83/120 [===================>..........] - ETA: 0s - loss: 0.6932 - accuracy: 0.4964\n",
      "Epoch 00160: val_loss did not improve from 0.69302\n",
      "120/120 [==============================] - 0s 2ms/step - loss: 0.6931 - accuracy: 0.5042 - val_loss: 0.6930 - val_accuracy: 0.5100\n",
      "Epoch 161/1000\n",
      " 88/120 [=====================>........] - ETA: 0s - loss: 0.6930 - accuracy: 0.5102\n",
      "Epoch 00161: val_loss did not improve from 0.69302\n",
      "120/120 [==============================] - 0s 1ms/step - loss: 0.6931 - accuracy: 0.5042 - val_loss: 0.6930 - val_accuracy: 0.5100\n",
      "Epoch 162/1000\n",
      " 80/120 [===================>..........] - ETA: 0s - loss: 0.6933 - accuracy: 0.4938\n"
     ]
    },
    {
     "name": "stdout",
     "output_type": "stream",
     "text": [
      "Epoch 00162: val_loss did not improve from 0.69302\n",
      "120/120 [==============================] - 0s 2ms/step - loss: 0.6931 - accuracy: 0.5042 - val_loss: 0.6930 - val_accuracy: 0.5100\n",
      "Epoch 163/1000\n",
      " 83/120 [===================>..........] - ETA: 0s - loss: 0.6933 - accuracy: 0.4940\n",
      "Epoch 00163: val_loss did not improve from 0.69302\n",
      "120/120 [==============================] - 0s 2ms/step - loss: 0.6931 - accuracy: 0.5042 - val_loss: 0.6930 - val_accuracy: 0.5100\n",
      "Epoch 164/1000\n",
      " 83/120 [===================>..........] - ETA: 0s - loss: 0.6928 - accuracy: 0.5229\n",
      "Epoch 00164: val_loss improved from 0.69302 to 0.69302, saving model to ..\\1.modeltest.hdf5\n",
      "120/120 [==============================] - 0s 2ms/step - loss: 0.6931 - accuracy: 0.5042 - val_loss: 0.6930 - val_accuracy: 0.5100\n",
      "Epoch 165/1000\n",
      "120/120 [==============================] - ETA: 0s - loss: 0.6931 - accuracy: 0.5042\n",
      "Epoch 00165: val_loss did not improve from 0.69302\n",
      "120/120 [==============================] - 0s 2ms/step - loss: 0.6931 - accuracy: 0.5042 - val_loss: 0.6930 - val_accuracy: 0.5100\n",
      "Epoch 166/1000\n",
      " 83/120 [===================>..........] - ETA: 0s - loss: 0.6930 - accuracy: 0.5133\n",
      "Epoch 00166: val_loss did not improve from 0.69302\n",
      "120/120 [==============================] - 0s 2ms/step - loss: 0.6931 - accuracy: 0.5042 - val_loss: 0.6930 - val_accuracy: 0.5100\n",
      "Epoch 167/1000\n",
      " 87/120 [====================>.........] - ETA: 0s - loss: 0.6933 - accuracy: 0.4943\n",
      "Epoch 00167: val_loss did not improve from 0.69302\n",
      "120/120 [==============================] - 0s 2ms/step - loss: 0.6931 - accuracy: 0.5042 - val_loss: 0.6930 - val_accuracy: 0.5100\n",
      "Epoch 168/1000\n",
      " 84/120 [====================>.........] - ETA: 0s - loss: 0.6931 - accuracy: 0.5024\n",
      "Epoch 00168: val_loss did not improve from 0.69302\n",
      "120/120 [==============================] - 0s 2ms/step - loss: 0.6931 - accuracy: 0.5042 - val_loss: 0.6930 - val_accuracy: 0.5100\n",
      "Epoch 169/1000\n",
      " 87/120 [====================>.........] - ETA: 0s - loss: 0.6929 - accuracy: 0.5161\n",
      "Epoch 00169: val_loss did not improve from 0.69302\n",
      "120/120 [==============================] - 0s 2ms/step - loss: 0.6931 - accuracy: 0.5042 - val_loss: 0.6930 - val_accuracy: 0.5100\n",
      "Epoch 170/1000\n",
      " 83/120 [===================>..........] - ETA: 0s - loss: 0.6931 - accuracy: 0.5060\n",
      "Epoch 00170: val_loss did not improve from 0.69302\n",
      "120/120 [==============================] - 0s 2ms/step - loss: 0.6931 - accuracy: 0.5042 - val_loss: 0.6930 - val_accuracy: 0.5100\n",
      "Epoch 171/1000\n",
      " 89/120 [=====================>........] - ETA: 0s - loss: 0.6931 - accuracy: 0.5067\n",
      "Epoch 00171: val_loss improved from 0.69302 to 0.69302, saving model to ..\\1.modeltest.hdf5\n",
      "120/120 [==============================] - 0s 2ms/step - loss: 0.6931 - accuracy: 0.5042 - val_loss: 0.6930 - val_accuracy: 0.5100\n",
      "Epoch 172/1000\n",
      " 82/120 [===================>..........] - ETA: 0s - loss: 0.6932 - accuracy: 0.4963\n",
      "Epoch 00172: val_loss did not improve from 0.69302\n",
      "120/120 [==============================] - 0s 2ms/step - loss: 0.6931 - accuracy: 0.5042 - val_loss: 0.6930 - val_accuracy: 0.5100\n",
      "Epoch 173/1000\n",
      " 81/120 [===================>..........] - ETA: 0s - loss: 0.6930 - accuracy: 0.5123\n",
      "Epoch 00173: val_loss did not improve from 0.69302\n",
      "120/120 [==============================] - 0s 2ms/step - loss: 0.6931 - accuracy: 0.5042 - val_loss: 0.6930 - val_accuracy: 0.5100\n",
      "Epoch 174/1000\n",
      " 89/120 [=====================>........] - ETA: 0s - loss: 0.6932 - accuracy: 0.4966\n",
      "Epoch 00174: val_loss did not improve from 0.69302\n",
      "120/120 [==============================] - 0s 1ms/step - loss: 0.6931 - accuracy: 0.5042 - val_loss: 0.6930 - val_accuracy: 0.5100\n",
      "Epoch 175/1000\n",
      " 80/120 [===================>..........] - ETA: 0s - loss: 0.6932 - accuracy: 0.5013\n",
      "Epoch 00175: val_loss improved from 0.69302 to 0.69302, saving model to ..\\1.modeltest.hdf5\n",
      "120/120 [==============================] - 0s 2ms/step - loss: 0.6931 - accuracy: 0.5042 - val_loss: 0.6930 - val_accuracy: 0.5100\n",
      "Epoch 176/1000\n",
      " 82/120 [===================>..........] - ETA: 0s - loss: 0.6930 - accuracy: 0.5098\n",
      "Epoch 00176: val_loss did not improve from 0.69302\n",
      "120/120 [==============================] - 0s 2ms/step - loss: 0.6931 - accuracy: 0.5042 - val_loss: 0.6930 - val_accuracy: 0.5100\n",
      "Epoch 177/1000\n",
      " 82/120 [===================>..........] - ETA: 0s - loss: 0.6931 - accuracy: 0.5024\n",
      "Epoch 00177: val_loss improved from 0.69302 to 0.69302, saving model to ..\\1.modeltest.hdf5\n",
      "120/120 [==============================] - 0s 2ms/step - loss: 0.6931 - accuracy: 0.5042 - val_loss: 0.6930 - val_accuracy: 0.5100\n",
      "Epoch 178/1000\n",
      " 81/120 [===================>..........] - ETA: 0s - loss: 0.6932 - accuracy: 0.5012\n",
      "Epoch 00178: val_loss did not improve from 0.69302\n",
      "120/120 [==============================] - 0s 2ms/step - loss: 0.6931 - accuracy: 0.5042 - val_loss: 0.6930 - val_accuracy: 0.5100\n",
      "Epoch 179/1000\n",
      " 84/120 [====================>.........] - ETA: 0s - loss: 0.6933 - accuracy: 0.4952\n",
      "Epoch 00179: val_loss did not improve from 0.69302\n",
      "120/120 [==============================] - 0s 2ms/step - loss: 0.6931 - accuracy: 0.5042 - val_loss: 0.6930 - val_accuracy: 0.5100\n",
      "Epoch 180/1000\n",
      " 87/120 [====================>.........] - ETA: 0s - loss: 0.6932 - accuracy: 0.4977\n",
      "Epoch 00180: val_loss did not improve from 0.69302\n",
      "120/120 [==============================] - 0s 1ms/step - loss: 0.6931 - accuracy: 0.5042 - val_loss: 0.6930 - val_accuracy: 0.5100\n",
      "Epoch 181/1000\n",
      " 85/120 [====================>.........] - ETA: 0s - loss: 0.6930 - accuracy: 0.5129\n",
      "Epoch 00181: val_loss did not improve from 0.69302\n",
      "120/120 [==============================] - 0s 2ms/step - loss: 0.6931 - accuracy: 0.5042 - val_loss: 0.6930 - val_accuracy: 0.5100\n",
      "Epoch 182/1000\n",
      " 82/120 [===================>..........] - ETA: 0s - loss: 0.6935 - accuracy: 0.4829\n",
      "Epoch 00182: val_loss did not improve from 0.69302\n",
      "120/120 [==============================] - 0s 2ms/step - loss: 0.6931 - accuracy: 0.5042 - val_loss: 0.6930 - val_accuracy: 0.5100\n",
      "Epoch 183/1000\n",
      " 81/120 [===================>..........] - ETA: 0s - loss: 0.6931 - accuracy: 0.5049\n",
      "Epoch 00183: val_loss did not improve from 0.69302\n",
      "120/120 [==============================] - 0s 2ms/step - loss: 0.6931 - accuracy: 0.5042 - val_loss: 0.6930 - val_accuracy: 0.5100\n",
      "Epoch 184/1000\n",
      " 87/120 [====================>.........] - ETA: 0s - loss: 0.6930 - accuracy: 0.5092\n",
      "Epoch 00184: val_loss did not improve from 0.69302\n",
      "120/120 [==============================] - 0s 2ms/step - loss: 0.6931 - accuracy: 0.5042 - val_loss: 0.6930 - val_accuracy: 0.5100\n",
      "Epoch 185/1000\n",
      "119/120 [============================>.] - ETA: 0s - loss: 0.6932 - accuracy: 0.5017\n",
      "Epoch 00185: val_loss did not improve from 0.69302\n",
      "120/120 [==============================] - 0s 2ms/step - loss: 0.6931 - accuracy: 0.5042 - val_loss: 0.6930 - val_accuracy: 0.5100\n",
      "Epoch 186/1000\n",
      " 85/120 [====================>.........] - ETA: 0s - loss: 0.6931 - accuracy: 0.5035\n",
      "Epoch 00186: val_loss did not improve from 0.69302\n",
      "120/120 [==============================] - 0s 2ms/step - loss: 0.6931 - accuracy: 0.5042 - val_loss: 0.6930 - val_accuracy: 0.5100\n",
      "Epoch 187/1000\n",
      " 81/120 [===================>..........] - ETA: 0s - loss: 0.6928 - accuracy: 0.5247\n",
      "Epoch 00187: val_loss improved from 0.69302 to 0.69302, saving model to ..\\1.modeltest.hdf5\n",
      "120/120 [==============================] - 0s 2ms/step - loss: 0.6931 - accuracy: 0.5042 - val_loss: 0.6930 - val_accuracy: 0.5100\n",
      "Epoch 188/1000\n",
      " 79/120 [==================>...........] - ETA: 0s - loss: 0.6929 - accuracy: 0.5203\n",
      "Epoch 00188: val_loss did not improve from 0.69302\n",
      "120/120 [==============================] - 0s 2ms/step - loss: 0.6931 - accuracy: 0.5042 - val_loss: 0.6930 - val_accuracy: 0.5100\n",
      "Epoch 189/1000\n",
      " 82/120 [===================>..........] - ETA: 0s - loss: 0.6930 - accuracy: 0.5134\n",
      "Epoch 00189: val_loss improved from 0.69302 to 0.69302, saving model to ..\\1.modeltest.hdf5\n",
      "120/120 [==============================] - 0s 2ms/step - loss: 0.6931 - accuracy: 0.5042 - val_loss: 0.6930 - val_accuracy: 0.5100\n",
      "Epoch 190/1000\n",
      " 82/120 [===================>..........] - ETA: 0s - loss: 0.6934 - accuracy: 0.4866\n",
      "Epoch 00190: val_loss did not improve from 0.69302\n",
      "120/120 [==============================] - 0s 2ms/step - loss: 0.6931 - accuracy: 0.5042 - val_loss: 0.6930 - val_accuracy: 0.5100\n"
     ]
    },
    {
     "name": "stdout",
     "output_type": "stream",
     "text": [
      "Epoch 191/1000\n",
      " 81/120 [===================>..........] - ETA: 0s - loss: 0.6932 - accuracy: 0.5012\n",
      "Epoch 00191: val_loss did not improve from 0.69302\n",
      "120/120 [==============================] - 0s 2ms/step - loss: 0.6931 - accuracy: 0.5042 - val_loss: 0.6930 - val_accuracy: 0.5100\n",
      "Epoch 192/1000\n",
      " 85/120 [====================>.........] - ETA: 0s - loss: 0.6930 - accuracy: 0.5106\n",
      "Epoch 00192: val_loss did not improve from 0.69302\n",
      "120/120 [==============================] - 0s 2ms/step - loss: 0.6931 - accuracy: 0.5042 - val_loss: 0.6930 - val_accuracy: 0.5100\n",
      "Epoch 193/1000\n",
      " 82/120 [===================>..........] - ETA: 0s - loss: 0.6931 - accuracy: 0.5061\n",
      "Epoch 00193: val_loss did not improve from 0.69302\n",
      "120/120 [==============================] - 0s 2ms/step - loss: 0.6931 - accuracy: 0.5042 - val_loss: 0.6930 - val_accuracy: 0.5100\n",
      "Epoch 194/1000\n",
      " 80/120 [===================>..........] - ETA: 0s - loss: 0.6932 - accuracy: 0.4975\n",
      "Epoch 00194: val_loss did not improve from 0.69302\n",
      "120/120 [==============================] - 0s 2ms/step - loss: 0.6931 - accuracy: 0.5042 - val_loss: 0.6930 - val_accuracy: 0.5100\n",
      "Epoch 195/1000\n",
      "120/120 [==============================] - ETA: 0s - loss: 0.6931 - accuracy: 0.5042\n",
      "Epoch 00195: val_loss did not improve from 0.69302\n",
      "120/120 [==============================] - 0s 2ms/step - loss: 0.6931 - accuracy: 0.5042 - val_loss: 0.6930 - val_accuracy: 0.5100\n",
      "Epoch 196/1000\n",
      "120/120 [==============================] - ETA: 0s - loss: 0.6931 - accuracy: 0.5042\n",
      "Epoch 00196: val_loss did not improve from 0.69302\n",
      "120/120 [==============================] - 0s 2ms/step - loss: 0.6931 - accuracy: 0.5042 - val_loss: 0.6930 - val_accuracy: 0.5100\n",
      "Epoch 197/1000\n",
      " 80/120 [===================>..........] - ETA: 0s - loss: 0.6931 - accuracy: 0.5038\n",
      "Epoch 00197: val_loss did not improve from 0.69302\n",
      "120/120 [==============================] - 0s 2ms/step - loss: 0.6931 - accuracy: 0.5042 - val_loss: 0.6930 - val_accuracy: 0.5100\n",
      "Epoch 198/1000\n",
      "117/120 [============================>.] - ETA: 0s - loss: 0.6931 - accuracy: 0.5051\n",
      "Epoch 00198: val_loss did not improve from 0.69302\n",
      "120/120 [==============================] - 0s 2ms/step - loss: 0.6931 - accuracy: 0.5042 - val_loss: 0.6930 - val_accuracy: 0.5100\n",
      "Epoch 199/1000\n",
      "116/120 [============================>.] - ETA: 0s - loss: 0.6931 - accuracy: 0.5043\n",
      "Epoch 00199: val_loss did not improve from 0.69302\n",
      "120/120 [==============================] - 0s 2ms/step - loss: 0.6931 - accuracy: 0.5042 - val_loss: 0.6930 - val_accuracy: 0.5100\n",
      "Epoch 200/1000\n",
      "119/120 [============================>.] - ETA: 0s - loss: 0.6931 - accuracy: 0.5050\n",
      "Epoch 00200: val_loss did not improve from 0.69302\n",
      "120/120 [==============================] - 0s 2ms/step - loss: 0.6931 - accuracy: 0.5042 - val_loss: 0.6930 - val_accuracy: 0.5100\n",
      "Epoch 201/1000\n",
      " 84/120 [====================>.........] - ETA: 0s - loss: 0.6931 - accuracy: 0.5048\n",
      "Epoch 00201: val_loss did not improve from 0.69302\n",
      "120/120 [==============================] - 0s 2ms/step - loss: 0.6931 - accuracy: 0.5042 - val_loss: 0.6930 - val_accuracy: 0.5100\n",
      "Epoch 202/1000\n",
      " 80/120 [===================>..........] - ETA: 0s - loss: 0.6930 - accuracy: 0.5100\n",
      "Epoch 00202: val_loss did not improve from 0.69302\n",
      "120/120 [==============================] - 0s 2ms/step - loss: 0.6931 - accuracy: 0.5042 - val_loss: 0.6930 - val_accuracy: 0.5100\n",
      "Epoch 203/1000\n",
      " 82/120 [===================>..........] - ETA: 0s - loss: 0.6932 - accuracy: 0.4963\n",
      "Epoch 00203: val_loss did not improve from 0.69302\n",
      "120/120 [==============================] - 0s 2ms/step - loss: 0.6931 - accuracy: 0.5042 - val_loss: 0.6930 - val_accuracy: 0.5100\n",
      "Epoch 204/1000\n",
      " 85/120 [====================>.........] - ETA: 0s - loss: 0.6929 - accuracy: 0.5176\n",
      "Epoch 00204: val_loss improved from 0.69302 to 0.69302, saving model to ..\\1.modeltest.hdf5\n",
      "120/120 [==============================] - 0s 2ms/step - loss: 0.6931 - accuracy: 0.5042 - val_loss: 0.6930 - val_accuracy: 0.5100\n",
      "Epoch 205/1000\n",
      " 80/120 [===================>..........] - ETA: 0s - loss: 0.6931 - accuracy: 0.5063\n",
      "Epoch 00205: val_loss did not improve from 0.69302\n",
      "120/120 [==============================] - 0s 2ms/step - loss: 0.6931 - accuracy: 0.5042 - val_loss: 0.6930 - val_accuracy: 0.5100\n",
      "Epoch 206/1000\n",
      " 84/120 [====================>.........] - ETA: 0s - loss: 0.6932 - accuracy: 0.4964\n",
      "Epoch 00206: val_loss did not improve from 0.69302\n",
      "120/120 [==============================] - 0s 2ms/step - loss: 0.6931 - accuracy: 0.5042 - val_loss: 0.6930 - val_accuracy: 0.5100\n",
      "Epoch 207/1000\n",
      " 84/120 [====================>.........] - ETA: 0s - loss: 0.6932 - accuracy: 0.5012\n",
      "Epoch 00207: val_loss did not improve from 0.69302\n",
      "120/120 [==============================] - 0s 2ms/step - loss: 0.6931 - accuracy: 0.5042 - val_loss: 0.6930 - val_accuracy: 0.5100\n",
      "Epoch 208/1000\n",
      " 80/120 [===================>..........] - ETA: 0s - loss: 0.6932 - accuracy: 0.4975\n",
      "Epoch 00208: val_loss did not improve from 0.69302\n",
      "120/120 [==============================] - 0s 2ms/step - loss: 0.6931 - accuracy: 0.5042 - val_loss: 0.6930 - val_accuracy: 0.5100\n",
      "Epoch 209/1000\n",
      " 85/120 [====================>.........] - ETA: 0s - loss: 0.6932 - accuracy: 0.4988\n",
      "Epoch 00209: val_loss did not improve from 0.69302\n",
      "120/120 [==============================] - 0s 2ms/step - loss: 0.6931 - accuracy: 0.5042 - val_loss: 0.6930 - val_accuracy: 0.5100\n",
      "Epoch 210/1000\n",
      " 82/120 [===================>..........] - ETA: 0s - loss: 0.6933 - accuracy: 0.4915\n",
      "Epoch 00210: val_loss did not improve from 0.69302\n",
      "120/120 [==============================] - 0s 2ms/step - loss: 0.6931 - accuracy: 0.5042 - val_loss: 0.6930 - val_accuracy: 0.5100\n",
      "Epoch 211/1000\n",
      " 83/120 [===================>..........] - ETA: 0s - loss: 0.6932 - accuracy: 0.4976\n",
      "Epoch 00211: val_loss did not improve from 0.69302\n",
      "120/120 [==============================] - 0s 2ms/step - loss: 0.6931 - accuracy: 0.5042 - val_loss: 0.6930 - val_accuracy: 0.5100\n",
      "Epoch 212/1000\n",
      " 80/120 [===================>..........] - ETA: 0s - loss: 0.6932 - accuracy: 0.4975\n",
      "Epoch 00212: val_loss did not improve from 0.69302\n",
      "120/120 [==============================] - 0s 2ms/step - loss: 0.6931 - accuracy: 0.5042 - val_loss: 0.6930 - val_accuracy: 0.5100\n",
      "Epoch 213/1000\n",
      " 79/120 [==================>...........] - ETA: 0s - loss: 0.6931 - accuracy: 0.5038\n",
      "Epoch 00213: val_loss did not improve from 0.69302\n",
      "120/120 [==============================] - 0s 2ms/step - loss: 0.6931 - accuracy: 0.5042 - val_loss: 0.6930 - val_accuracy: 0.5100\n",
      "Epoch 214/1000\n",
      " 85/120 [====================>.........] - ETA: 0s - loss: 0.6931 - accuracy: 0.5024\n",
      "Epoch 00214: val_loss did not improve from 0.69302\n",
      "120/120 [==============================] - 0s 2ms/step - loss: 0.6931 - accuracy: 0.5042 - val_loss: 0.6930 - val_accuracy: 0.5100\n",
      "Epoch 215/1000\n",
      " 83/120 [===================>..........] - ETA: 0s - loss: 0.6929 - accuracy: 0.5181\n",
      "Epoch 00215: val_loss improved from 0.69302 to 0.69302, saving model to ..\\1.modeltest.hdf5\n",
      "120/120 [==============================] - 0s 2ms/step - loss: 0.6931 - accuracy: 0.5042 - val_loss: 0.6930 - val_accuracy: 0.5100\n",
      "Epoch 216/1000\n",
      "117/120 [============================>.] - ETA: 0s - loss: 0.6932 - accuracy: 0.5017\n",
      "Epoch 00216: val_loss did not improve from 0.69302\n",
      "120/120 [==============================] - 0s 2ms/step - loss: 0.6931 - accuracy: 0.5042 - val_loss: 0.6930 - val_accuracy: 0.5100\n",
      "Epoch 217/1000\n",
      " 83/120 [===================>..........] - ETA: 0s - loss: 0.6933 - accuracy: 0.4940\n",
      "Epoch 00217: val_loss did not improve from 0.69302\n",
      "120/120 [==============================] - 0s 2ms/step - loss: 0.6931 - accuracy: 0.5042 - val_loss: 0.6930 - val_accuracy: 0.5100\n",
      "Epoch 218/1000\n",
      " 81/120 [===================>..........] - ETA: 0s - loss: 0.6933 - accuracy: 0.4938\n",
      "Epoch 00218: val_loss did not improve from 0.69302\n",
      "120/120 [==============================] - 0s 2ms/step - loss: 0.6931 - accuracy: 0.5042 - val_loss: 0.6930 - val_accuracy: 0.5100\n",
      "Epoch 219/1000\n",
      " 84/120 [====================>.........] - ETA: 0s - loss: 0.6930 - accuracy: 0.5143\n",
      "Epoch 00219: val_loss did not improve from 0.69302\n",
      "120/120 [==============================] - 0s 2ms/step - loss: 0.6931 - accuracy: 0.5042 - val_loss: 0.6930 - val_accuracy: 0.5100\n"
     ]
    },
    {
     "name": "stdout",
     "output_type": "stream",
     "text": [
      "Epoch 220/1000\n",
      " 82/120 [===================>..........] - ETA: 0s - loss: 0.6932 - accuracy: 0.4988\n",
      "Epoch 00220: val_loss improved from 0.69302 to 0.69302, saving model to ..\\1.modeltest.hdf5\n",
      "120/120 [==============================] - 0s 2ms/step - loss: 0.6931 - accuracy: 0.5042 - val_loss: 0.6930 - val_accuracy: 0.5100\n",
      "Epoch 221/1000\n",
      " 82/120 [===================>..........] - ETA: 0s - loss: 0.6930 - accuracy: 0.5085\n",
      "Epoch 00221: val_loss did not improve from 0.69302\n",
      "120/120 [==============================] - 0s 2ms/step - loss: 0.6931 - accuracy: 0.5042 - val_loss: 0.6930 - val_accuracy: 0.5100\n",
      "Epoch 222/1000\n",
      " 85/120 [====================>.........] - ETA: 0s - loss: 0.6931 - accuracy: 0.5035\n",
      "Epoch 00222: val_loss did not improve from 0.69302\n",
      "120/120 [==============================] - 0s 2ms/step - loss: 0.6931 - accuracy: 0.5042 - val_loss: 0.6930 - val_accuracy: 0.5100\n",
      "Epoch 223/1000\n",
      " 85/120 [====================>.........] - ETA: 0s - loss: 0.6932 - accuracy: 0.4988\n",
      "Epoch 00223: val_loss did not improve from 0.69302\n",
      "120/120 [==============================] - 0s 2ms/step - loss: 0.6931 - accuracy: 0.5042 - val_loss: 0.6930 - val_accuracy: 0.5100\n",
      "Epoch 224/1000\n",
      " 86/120 [====================>.........] - ETA: 0s - loss: 0.6934 - accuracy: 0.4872\n",
      "Epoch 00224: val_loss did not improve from 0.69302\n",
      "120/120 [==============================] - 0s 2ms/step - loss: 0.6931 - accuracy: 0.5042 - val_loss: 0.6930 - val_accuracy: 0.5100\n",
      "Epoch 225/1000\n",
      " 85/120 [====================>.........] - ETA: 0s - loss: 0.6929 - accuracy: 0.5153\n",
      "Epoch 00225: val_loss improved from 0.69302 to 0.69301, saving model to ..\\1.modeltest.hdf5\n",
      "120/120 [==============================] - 0s 2ms/step - loss: 0.6931 - accuracy: 0.5042 - val_loss: 0.6930 - val_accuracy: 0.5100\n",
      "Epoch 226/1000\n",
      " 83/120 [===================>..........] - ETA: 0s - loss: 0.6931 - accuracy: 0.5036\n",
      "Epoch 00226: val_loss did not improve from 0.69301\n",
      "120/120 [==============================] - 0s 2ms/step - loss: 0.6931 - accuracy: 0.5042 - val_loss: 0.6930 - val_accuracy: 0.5100\n",
      "Epoch 227/1000\n",
      " 80/120 [===================>..........] - ETA: 0s - loss: 0.6930 - accuracy: 0.5100\n",
      "Epoch 00227: val_loss improved from 0.69301 to 0.69301, saving model to ..\\1.modeltest.hdf5\n",
      "120/120 [==============================] - 0s 2ms/step - loss: 0.6931 - accuracy: 0.5042 - val_loss: 0.6930 - val_accuracy: 0.5100\n",
      "Epoch 228/1000\n",
      " 82/120 [===================>..........] - ETA: 0s - loss: 0.6932 - accuracy: 0.4988\n",
      "Epoch 00228: val_loss did not improve from 0.69301\n",
      "120/120 [==============================] - 0s 2ms/step - loss: 0.6931 - accuracy: 0.5042 - val_loss: 0.6930 - val_accuracy: 0.5100\n",
      "Epoch 229/1000\n",
      " 83/120 [===================>..........] - ETA: 0s - loss: 0.6931 - accuracy: 0.5060\n",
      "Epoch 00229: val_loss did not improve from 0.69301\n",
      "120/120 [==============================] - 0s 2ms/step - loss: 0.6931 - accuracy: 0.5042 - val_loss: 0.6930 - val_accuracy: 0.5100\n",
      "Epoch 230/1000\n",
      " 82/120 [===================>..........] - ETA: 0s - loss: 0.6932 - accuracy: 0.4963\n",
      "Epoch 00230: val_loss did not improve from 0.69301\n",
      "120/120 [==============================] - 0s 2ms/step - loss: 0.6931 - accuracy: 0.5042 - val_loss: 0.6930 - val_accuracy: 0.5100\n",
      "Epoch 231/1000\n",
      " 80/120 [===================>..........] - ETA: 0s - loss: 0.6930 - accuracy: 0.5113\n",
      "Epoch 00231: val_loss did not improve from 0.69301\n",
      "120/120 [==============================] - 0s 2ms/step - loss: 0.6931 - accuracy: 0.5042 - val_loss: 0.6930 - val_accuracy: 0.5100\n",
      "Epoch 232/1000\n",
      "118/120 [============================>.] - ETA: 0s - loss: 0.6931 - accuracy: 0.5068\n",
      "Epoch 00232: val_loss did not improve from 0.69301\n",
      "120/120 [==============================] - 0s 2ms/step - loss: 0.6931 - accuracy: 0.5042 - val_loss: 0.6930 - val_accuracy: 0.5100\n",
      "Epoch 233/1000\n",
      " 85/120 [====================>.........] - ETA: 0s - loss: 0.6931 - accuracy: 0.5047\n",
      "Epoch 00233: val_loss did not improve from 0.69301\n",
      "120/120 [==============================] - 0s 2ms/step - loss: 0.6931 - accuracy: 0.5042 - val_loss: 0.6930 - val_accuracy: 0.5100\n",
      "Epoch 234/1000\n",
      " 87/120 [====================>.........] - ETA: 0s - loss: 0.6930 - accuracy: 0.5126\n",
      "Epoch 00234: val_loss did not improve from 0.69301\n",
      "120/120 [==============================] - 0s 2ms/step - loss: 0.6931 - accuracy: 0.5042 - val_loss: 0.6930 - val_accuracy: 0.5100\n",
      "Epoch 235/1000\n",
      " 81/120 [===================>..........] - ETA: 0s - loss: 0.6932 - accuracy: 0.5000\n",
      "Epoch 00235: val_loss did not improve from 0.69301\n",
      "120/120 [==============================] - 0s 2ms/step - loss: 0.6931 - accuracy: 0.5042 - val_loss: 0.6930 - val_accuracy: 0.5100\n",
      "Epoch 236/1000\n",
      " 81/120 [===================>..........] - ETA: 0s - loss: 0.6929 - accuracy: 0.5173\n",
      "Epoch 00236: val_loss did not improve from 0.69301\n",
      "120/120 [==============================] - 0s 2ms/step - loss: 0.6931 - accuracy: 0.5042 - val_loss: 0.6930 - val_accuracy: 0.5100\n",
      "Epoch 237/1000\n",
      " 83/120 [===================>..........] - ETA: 0s - loss: 0.6933 - accuracy: 0.4916\n",
      "Epoch 00237: val_loss did not improve from 0.69301\n",
      "120/120 [==============================] - 0s 2ms/step - loss: 0.6931 - accuracy: 0.5042 - val_loss: 0.6930 - val_accuracy: 0.5100\n",
      "Epoch 238/1000\n",
      " 81/120 [===================>..........] - ETA: 0s - loss: 0.6931 - accuracy: 0.5025\n",
      "Epoch 00238: val_loss did not improve from 0.69301\n",
      "120/120 [==============================] - 0s 2ms/step - loss: 0.6931 - accuracy: 0.5042 - val_loss: 0.6930 - val_accuracy: 0.5100\n",
      "Epoch 239/1000\n",
      " 85/120 [====================>.........] - ETA: 0s - loss: 0.6930 - accuracy: 0.5129\n",
      "Epoch 00239: val_loss did not improve from 0.69301\n",
      "120/120 [==============================] - 0s 2ms/step - loss: 0.6931 - accuracy: 0.5042 - val_loss: 0.6930 - val_accuracy: 0.5100\n",
      "Epoch 240/1000\n",
      " 87/120 [====================>.........] - ETA: 0s - loss: 0.6931 - accuracy: 0.5046\n",
      "Epoch 00240: val_loss did not improve from 0.69301\n",
      "120/120 [==============================] - 0s 2ms/step - loss: 0.6931 - accuracy: 0.5042 - val_loss: 0.6930 - val_accuracy: 0.5100\n",
      "Epoch 241/1000\n",
      " 84/120 [====================>.........] - ETA: 0s - loss: 0.6932 - accuracy: 0.5024\n",
      "Epoch 00241: val_loss did not improve from 0.69301\n",
      "120/120 [==============================] - 0s 2ms/step - loss: 0.6931 - accuracy: 0.5042 - val_loss: 0.6930 - val_accuracy: 0.5100\n",
      "Epoch 242/1000\n",
      " 86/120 [====================>.........] - ETA: 0s - loss: 0.6931 - accuracy: 0.5047\n",
      "Epoch 00242: val_loss did not improve from 0.69301\n",
      "120/120 [==============================] - 0s 2ms/step - loss: 0.6931 - accuracy: 0.5042 - val_loss: 0.6930 - val_accuracy: 0.5100\n",
      "Epoch 243/1000\n",
      " 87/120 [====================>.........] - ETA: 0s - loss: 0.6930 - accuracy: 0.5115\n",
      "Epoch 00243: val_loss did not improve from 0.69301\n",
      "120/120 [==============================] - 0s 2ms/step - loss: 0.6931 - accuracy: 0.5042 - val_loss: 0.6930 - val_accuracy: 0.5100\n",
      "Epoch 244/1000\n",
      " 84/120 [====================>.........] - ETA: 0s - loss: 0.6930 - accuracy: 0.5095\n",
      "Epoch 00244: val_loss did not improve from 0.69301\n",
      "120/120 [==============================] - 0s 2ms/step - loss: 0.6931 - accuracy: 0.5042 - val_loss: 0.6930 - val_accuracy: 0.5100\n",
      "Epoch 245/1000\n",
      " 83/120 [===================>..........] - ETA: 0s - loss: 0.6933 - accuracy: 0.4940\n",
      "Epoch 00245: val_loss did not improve from 0.69301\n",
      "120/120 [==============================] - 0s 2ms/step - loss: 0.6931 - accuracy: 0.5042 - val_loss: 0.6930 - val_accuracy: 0.5100\n",
      "Epoch 246/1000\n",
      " 86/120 [====================>.........] - ETA: 0s - loss: 0.6931 - accuracy: 0.5070\n",
      "Epoch 00246: val_loss did not improve from 0.69301\n",
      "120/120 [==============================] - 0s 2ms/step - loss: 0.6931 - accuracy: 0.5042 - val_loss: 0.6930 - val_accuracy: 0.5100\n",
      "Epoch 247/1000\n",
      " 85/120 [====================>.........] - ETA: 0s - loss: 0.6931 - accuracy: 0.5024\n",
      "Epoch 00247: val_loss did not improve from 0.69301\n",
      "120/120 [==============================] - 0s 2ms/step - loss: 0.6931 - accuracy: 0.5042 - val_loss: 0.6930 - val_accuracy: 0.5100\n",
      "Epoch 248/1000\n",
      " 83/120 [===================>..........] - ETA: 0s - loss: 0.6929 - accuracy: 0.5181\n",
      "Epoch 00248: val_loss improved from 0.69301 to 0.69301, saving model to ..\\1.modeltest.hdf5\n",
      "120/120 [==============================] - 0s 2ms/step - loss: 0.6931 - accuracy: 0.5042 - val_loss: 0.6930 - val_accuracy: 0.5100\n",
      "Epoch 249/1000\n",
      "120/120 [==============================] - ETA: 0s - loss: 0.6931 - accuracy: 0.5042\n",
      "Epoch 00249: val_loss improved from 0.69301 to 0.69301, saving model to ..\\1.modeltest.hdf5\n",
      "120/120 [==============================] - 0s 2ms/step - loss: 0.6931 - accuracy: 0.5042 - val_loss: 0.6930 - val_accuracy: 0.5100\n",
      "Epoch 250/1000\n",
      " 83/120 [===================>..........] - ETA: 0s - loss: 0.6931 - accuracy: 0.5036\n",
      "Epoch 00250: val_loss did not improve from 0.69301\n",
      "120/120 [==============================] - 0s 2ms/step - loss: 0.6931 - accuracy: 0.5042 - val_loss: 0.6930 - val_accuracy: 0.5100\n",
      "Epoch 251/1000\n",
      " 85/120 [====================>.........] - ETA: 0s - loss: 0.6934 - accuracy: 0.4894\n",
      "Epoch 00251: val_loss did not improve from 0.69301\n",
      "120/120 [==============================] - 0s 2ms/step - loss: 0.6931 - accuracy: 0.5042 - val_loss: 0.6930 - val_accuracy: 0.5100\n",
      "Epoch 252/1000\n",
      " 82/120 [===================>..........] - ETA: 0s - loss: 0.6927 - accuracy: 0.5280\n",
      "Epoch 00252: val_loss did not improve from 0.69301\n",
      "120/120 [==============================] - 0s 2ms/step - loss: 0.6931 - accuracy: 0.5042 - val_loss: 0.6930 - val_accuracy: 0.5100\n",
      "Epoch 253/1000\n",
      " 85/120 [====================>.........] - ETA: 0s - loss: 0.6929 - accuracy: 0.5165\n",
      "Epoch 00253: val_loss did not improve from 0.69301\n",
      "120/120 [==============================] - 0s 2ms/step - loss: 0.6931 - accuracy: 0.5042 - val_loss: 0.6930 - val_accuracy: 0.5100\n",
      "Epoch 254/1000\n",
      " 86/120 [====================>.........] - ETA: 0s - loss: 0.6930 - accuracy: 0.5105\n",
      "Epoch 00254: val_loss did not improve from 0.69301\n",
      "120/120 [==============================] - 0s 2ms/step - loss: 0.6931 - accuracy: 0.5042 - val_loss: 0.6930 - val_accuracy: 0.5100\n",
      "Epoch 255/1000\n",
      " 84/120 [====================>.........] - ETA: 0s - loss: 0.6932 - accuracy: 0.5012\n",
      "Epoch 00255: val_loss did not improve from 0.69301\n",
      "120/120 [==============================] - 0s 2ms/step - loss: 0.6931 - accuracy: 0.5042 - val_loss: 0.6930 - val_accuracy: 0.5100\n",
      "Epoch 256/1000\n",
      " 84/120 [====================>.........] - ETA: 0s - loss: 0.6931 - accuracy: 0.5036\n",
      "Epoch 00256: val_loss did not improve from 0.69301\n",
      "120/120 [==============================] - 0s 2ms/step - loss: 0.6931 - accuracy: 0.5042 - val_loss: 0.6930 - val_accuracy: 0.5100\n",
      "Epoch 257/1000\n",
      " 83/120 [===================>..........] - ETA: 0s - loss: 0.6931 - accuracy: 0.5048\n",
      "Epoch 00257: val_loss did not improve from 0.69301\n",
      "120/120 [==============================] - 0s 2ms/step - loss: 0.6931 - accuracy: 0.5042 - val_loss: 0.6930 - val_accuracy: 0.5100\n",
      "Epoch 258/1000\n",
      " 85/120 [====================>.........] - ETA: 0s - loss: 0.6929 - accuracy: 0.5165\n",
      "Epoch 00258: val_loss did not improve from 0.69301\n",
      "120/120 [==============================] - 0s 2ms/step - loss: 0.6931 - accuracy: 0.5042 - val_loss: 0.6930 - val_accuracy: 0.5100\n",
      "Epoch 259/1000\n",
      " 82/120 [===================>..........] - ETA: 0s - loss: 0.6929 - accuracy: 0.5195\n",
      "Epoch 00259: val_loss did not improve from 0.69301\n",
      "120/120 [==============================] - 0s 2ms/step - loss: 0.6931 - accuracy: 0.5042 - val_loss: 0.6930 - val_accuracy: 0.5100\n",
      "Epoch 260/1000\n",
      " 84/120 [====================>.........] - ETA: 0s - loss: 0.6931 - accuracy: 0.5036\n",
      "Epoch 00260: val_loss did not improve from 0.69301\n",
      "120/120 [==============================] - 0s 2ms/step - loss: 0.6931 - accuracy: 0.5042 - val_loss: 0.6930 - val_accuracy: 0.5100\n",
      "Epoch 261/1000\n",
      " 85/120 [====================>.........] - ETA: 0s - loss: 0.6932 - accuracy: 0.5000\n",
      "Epoch 00261: val_loss did not improve from 0.69301\n",
      "120/120 [==============================] - 0s 2ms/step - loss: 0.6931 - accuracy: 0.5042 - val_loss: 0.6930 - val_accuracy: 0.5100\n",
      "Epoch 262/1000\n",
      " 87/120 [====================>.........] - ETA: 0s - loss: 0.6931 - accuracy: 0.5034\n",
      "Epoch 00262: val_loss did not improve from 0.69301\n",
      "120/120 [==============================] - 0s 1ms/step - loss: 0.6931 - accuracy: 0.5042 - val_loss: 0.6930 - val_accuracy: 0.5100\n",
      "Epoch 263/1000\n",
      " 87/120 [====================>.........] - ETA: 0s - loss: 0.6932 - accuracy: 0.5011\n",
      "Epoch 00263: val_loss did not improve from 0.69301\n",
      "120/120 [==============================] - 0s 2ms/step - loss: 0.6931 - accuracy: 0.5042 - val_loss: 0.6930 - val_accuracy: 0.5100\n",
      "Epoch 264/1000\n",
      " 87/120 [====================>.........] - ETA: 0s - loss: 0.6931 - accuracy: 0.5034\n",
      "Epoch 00264: val_loss did not improve from 0.69301\n",
      "120/120 [==============================] - 0s 2ms/step - loss: 0.6931 - accuracy: 0.5042 - val_loss: 0.6930 - val_accuracy: 0.5100\n",
      "Epoch 265/1000\n",
      " 83/120 [===================>..........] - ETA: 0s - loss: 0.6932 - accuracy: 0.4964\n",
      "Epoch 00265: val_loss did not improve from 0.69301\n",
      "120/120 [==============================] - 0s 2ms/step - loss: 0.6931 - accuracy: 0.5042 - val_loss: 0.6930 - val_accuracy: 0.5100\n",
      "Epoch 266/1000\n",
      " 81/120 [===================>..........] - ETA: 0s - loss: 0.6932 - accuracy: 0.4988\n",
      "Epoch 00266: val_loss did not improve from 0.69301\n",
      "120/120 [==============================] - 0s 2ms/step - loss: 0.6931 - accuracy: 0.5042 - val_loss: 0.6930 - val_accuracy: 0.5100\n",
      "Epoch 267/1000\n",
      " 82/120 [===================>..........] - ETA: 0s - loss: 0.6932 - accuracy: 0.4988\n",
      "Epoch 00267: val_loss did not improve from 0.69301\n",
      "120/120 [==============================] - 0s 2ms/step - loss: 0.6931 - accuracy: 0.5042 - val_loss: 0.6930 - val_accuracy: 0.5100\n",
      "Epoch 268/1000\n",
      " 84/120 [====================>.........] - ETA: 0s - loss: 0.6929 - accuracy: 0.5155\n",
      "Epoch 00268: val_loss did not improve from 0.69301\n",
      "120/120 [==============================] - 0s 2ms/step - loss: 0.6931 - accuracy: 0.5042 - val_loss: 0.6930 - val_accuracy: 0.5100\n",
      "Epoch 269/1000\n",
      " 83/120 [===================>..........] - ETA: 0s - loss: 0.6929 - accuracy: 0.5193\n",
      "Epoch 00269: val_loss did not improve from 0.69301\n",
      "120/120 [==============================] - 0s 2ms/step - loss: 0.6931 - accuracy: 0.5042 - val_loss: 0.6930 - val_accuracy: 0.5100\n",
      "Epoch 270/1000\n",
      " 83/120 [===================>..........] - ETA: 0s - loss: 0.6930 - accuracy: 0.5084\n",
      "Epoch 00270: val_loss did not improve from 0.69301\n",
      "120/120 [==============================] - 0s 2ms/step - loss: 0.6931 - accuracy: 0.5042 - val_loss: 0.6930 - val_accuracy: 0.5100\n",
      "Epoch 271/1000\n",
      " 86/120 [====================>.........] - ETA: 0s - loss: 0.6928 - accuracy: 0.5244\n",
      "Epoch 00271: val_loss did not improve from 0.69301\n",
      "120/120 [==============================] - 0s 2ms/step - loss: 0.6931 - accuracy: 0.5042 - val_loss: 0.6930 - val_accuracy: 0.5100\n",
      "Epoch 272/1000\n",
      " 86/120 [====================>.........] - ETA: 0s - loss: 0.6931 - accuracy: 0.5035\n",
      "Epoch 00272: val_loss did not improve from 0.69301\n",
      "120/120 [==============================] - 0s 2ms/step - loss: 0.6931 - accuracy: 0.5042 - val_loss: 0.6930 - val_accuracy: 0.5100\n",
      "Epoch 273/1000\n",
      " 88/120 [=====================>........] - ETA: 0s - loss: 0.6931 - accuracy: 0.5068\n",
      "Epoch 00273: val_loss did not improve from 0.69301\n",
      "120/120 [==============================] - 0s 2ms/step - loss: 0.6931 - accuracy: 0.5042 - val_loss: 0.6930 - val_accuracy: 0.5100\n",
      "Epoch 274/1000\n",
      " 84/120 [====================>.........] - ETA: 0s - loss: 0.6930 - accuracy: 0.5083\n",
      "Epoch 00274: val_loss did not improve from 0.69301\n",
      "120/120 [==============================] - 0s 2ms/step - loss: 0.6931 - accuracy: 0.5042 - val_loss: 0.6930 - val_accuracy: 0.5100\n",
      "Epoch 275/1000\n",
      "120/120 [==============================] - ETA: 0s - loss: 0.6931 - accuracy: 0.5042\n",
      "Epoch 00275: val_loss did not improve from 0.69301\n",
      "120/120 [==============================] - 0s 2ms/step - loss: 0.6931 - accuracy: 0.5042 - val_loss: 0.6930 - val_accuracy: 0.5100\n",
      "Epoch 276/1000\n",
      "120/120 [==============================] - ETA: 0s - loss: 0.6931 - accuracy: 0.5042\n",
      "Epoch 00276: val_loss did not improve from 0.69301\n",
      "120/120 [==============================] - 0s 2ms/step - loss: 0.6931 - accuracy: 0.5042 - val_loss: 0.6930 - val_accuracy: 0.5100\n",
      "Epoch 277/1000\n"
     ]
    },
    {
     "name": "stdout",
     "output_type": "stream",
     "text": [
      " 83/120 [===================>..........] - ETA: 0s - loss: 0.6929 - accuracy: 0.5169\n",
      "Epoch 00277: val_loss did not improve from 0.69301\n",
      "120/120 [==============================] - 0s 2ms/step - loss: 0.6931 - accuracy: 0.5042 - val_loss: 0.6930 - val_accuracy: 0.5100\n",
      "Epoch 278/1000\n",
      " 81/120 [===================>..........] - ETA: 0s - loss: 0.6929 - accuracy: 0.5160\n",
      "Epoch 00278: val_loss did not improve from 0.69301\n",
      "120/120 [==============================] - 0s 2ms/step - loss: 0.6931 - accuracy: 0.5042 - val_loss: 0.6930 - val_accuracy: 0.5100\n",
      "Epoch 279/1000\n",
      " 82/120 [===================>..........] - ETA: 0s - loss: 0.6931 - accuracy: 0.5061\n",
      "Epoch 00279: val_loss did not improve from 0.69301\n",
      "120/120 [==============================] - 0s 2ms/step - loss: 0.6931 - accuracy: 0.5042 - val_loss: 0.6930 - val_accuracy: 0.5100\n",
      "Epoch 280/1000\n",
      " 83/120 [===================>..........] - ETA: 0s - loss: 0.6925 - accuracy: 0.5373\n",
      "Epoch 00280: val_loss did not improve from 0.69301\n",
      "120/120 [==============================] - 0s 2ms/step - loss: 0.6931 - accuracy: 0.5042 - val_loss: 0.6930 - val_accuracy: 0.5100\n",
      "Epoch 281/1000\n",
      " 85/120 [====================>.........] - ETA: 0s - loss: 0.6932 - accuracy: 0.5000\n",
      "Epoch 00281: val_loss did not improve from 0.69301\n",
      "120/120 [==============================] - 0s 2ms/step - loss: 0.6931 - accuracy: 0.5042 - val_loss: 0.6930 - val_accuracy: 0.5100\n",
      "Epoch 282/1000\n",
      " 83/120 [===================>..........] - ETA: 0s - loss: 0.6931 - accuracy: 0.5024\n",
      "Epoch 00282: val_loss did not improve from 0.69301\n",
      "120/120 [==============================] - 0s 2ms/step - loss: 0.6931 - accuracy: 0.5042 - val_loss: 0.6930 - val_accuracy: 0.5100\n",
      "Epoch 283/1000\n",
      " 79/120 [==================>...........] - ETA: 0s - loss: 0.6934 - accuracy: 0.4861\n",
      "Epoch 00283: val_loss did not improve from 0.69301\n",
      "120/120 [==============================] - 0s 2ms/step - loss: 0.6931 - accuracy: 0.5042 - val_loss: 0.6930 - val_accuracy: 0.5100\n",
      "Epoch 284/1000\n",
      " 82/120 [===================>..........] - ETA: 0s - loss: 0.6928 - accuracy: 0.5220\n",
      "Epoch 00284: val_loss did not improve from 0.69301\n",
      "120/120 [==============================] - 0s 2ms/step - loss: 0.6931 - accuracy: 0.5042 - val_loss: 0.6930 - val_accuracy: 0.5100\n",
      "Epoch 285/1000\n",
      " 84/120 [====================>.........] - ETA: 0s - loss: 0.6930 - accuracy: 0.5095\n",
      "Epoch 00285: val_loss did not improve from 0.69301\n",
      "120/120 [==============================] - 0s 2ms/step - loss: 0.6931 - accuracy: 0.5042 - val_loss: 0.6930 - val_accuracy: 0.5100\n",
      "Epoch 286/1000\n",
      " 80/120 [===================>..........] - ETA: 0s - loss: 0.6933 - accuracy: 0.4913\n",
      "Epoch 00286: val_loss did not improve from 0.69301\n",
      "120/120 [==============================] - 0s 2ms/step - loss: 0.6931 - accuracy: 0.5042 - val_loss: 0.6930 - val_accuracy: 0.5100\n",
      "Epoch 287/1000\n",
      " 85/120 [====================>.........] - ETA: 0s - loss: 0.6930 - accuracy: 0.5094\n",
      "Epoch 00287: val_loss did not improve from 0.69301\n",
      "120/120 [==============================] - 0s 2ms/step - loss: 0.6931 - accuracy: 0.5042 - val_loss: 0.6930 - val_accuracy: 0.5100\n",
      "Epoch 288/1000\n",
      "120/120 [==============================] - ETA: 0s - loss: 0.6931 - accuracy: 0.5042\n",
      "Epoch 00288: val_loss did not improve from 0.69301\n",
      "120/120 [==============================] - 0s 2ms/step - loss: 0.6931 - accuracy: 0.5042 - val_loss: 0.6930 - val_accuracy: 0.5100\n",
      "Epoch 289/1000\n",
      " 85/120 [====================>.........] - ETA: 0s - loss: 0.6930 - accuracy: 0.5094\n",
      "Epoch 00289: val_loss did not improve from 0.69301\n",
      "120/120 [==============================] - 0s 2ms/step - loss: 0.6931 - accuracy: 0.5042 - val_loss: 0.6930 - val_accuracy: 0.5100\n",
      "Epoch 290/1000\n",
      " 81/120 [===================>..........] - ETA: 0s - loss: 0.6931 - accuracy: 0.5049\n",
      "Epoch 00290: val_loss did not improve from 0.69301\n",
      "120/120 [==============================] - 0s 2ms/step - loss: 0.6931 - accuracy: 0.5042 - val_loss: 0.6930 - val_accuracy: 0.5100\n",
      "Epoch 291/1000\n",
      " 83/120 [===================>..........] - ETA: 0s - loss: 0.6933 - accuracy: 0.4916\n",
      "Epoch 00291: val_loss did not improve from 0.69301\n",
      "120/120 [==============================] - 0s 2ms/step - loss: 0.6931 - accuracy: 0.5042 - val_loss: 0.6930 - val_accuracy: 0.5100\n",
      "Epoch 292/1000\n",
      " 83/120 [===================>..........] - ETA: 0s - loss: 0.6931 - accuracy: 0.5072\n",
      "Epoch 00292: val_loss did not improve from 0.69301\n",
      "120/120 [==============================] - 0s 2ms/step - loss: 0.6931 - accuracy: 0.5042 - val_loss: 0.6930 - val_accuracy: 0.5100\n",
      "Epoch 293/1000\n",
      " 85/120 [====================>.........] - ETA: 0s - loss: 0.6931 - accuracy: 0.5024\n",
      "Epoch 00293: val_loss did not improve from 0.69301\n",
      "120/120 [==============================] - 0s 2ms/step - loss: 0.6931 - accuracy: 0.5042 - val_loss: 0.6930 - val_accuracy: 0.5100\n",
      "Epoch 294/1000\n",
      " 88/120 [=====================>........] - ETA: 0s - loss: 0.6931 - accuracy: 0.5057\n",
      "Epoch 00294: val_loss did not improve from 0.69301\n",
      "120/120 [==============================] - 0s 2ms/step - loss: 0.6931 - accuracy: 0.5042 - val_loss: 0.6930 - val_accuracy: 0.5100\n",
      "Epoch 295/1000\n",
      " 79/120 [==================>...........] - ETA: 0s - loss: 0.6931 - accuracy: 0.5076\n",
      "Epoch 00295: val_loss did not improve from 0.69301\n",
      "120/120 [==============================] - 0s 2ms/step - loss: 0.6931 - accuracy: 0.5042 - val_loss: 0.6930 - val_accuracy: 0.5100\n",
      "Epoch 296/1000\n",
      " 82/120 [===================>..........] - ETA: 0s - loss: 0.6933 - accuracy: 0.4963\n",
      "Epoch 00296: val_loss did not improve from 0.69301\n",
      "120/120 [==============================] - 0s 2ms/step - loss: 0.6931 - accuracy: 0.5042 - val_loss: 0.6930 - val_accuracy: 0.5100\n",
      "Epoch 297/1000\n",
      " 88/120 [=====================>........] - ETA: 0s - loss: 0.6931 - accuracy: 0.5057\n",
      "Epoch 00297: val_loss did not improve from 0.69301\n",
      "120/120 [==============================] - 0s 1ms/step - loss: 0.6931 - accuracy: 0.5042 - val_loss: 0.6930 - val_accuracy: 0.5100\n",
      "Epoch 298/1000\n",
      " 83/120 [===================>..........] - ETA: 0s - loss: 0.6930 - accuracy: 0.5120\n",
      "Epoch 00298: val_loss did not improve from 0.69301\n",
      "120/120 [==============================] - 0s 2ms/step - loss: 0.6931 - accuracy: 0.5042 - val_loss: 0.6930 - val_accuracy: 0.5100\n",
      "Epoch 299/1000\n",
      " 84/120 [====================>.........] - ETA: 0s - loss: 0.6929 - accuracy: 0.5155\n",
      "Epoch 00299: val_loss did not improve from 0.69301\n",
      "120/120 [==============================] - 0s 2ms/step - loss: 0.6931 - accuracy: 0.5042 - val_loss: 0.6930 - val_accuracy: 0.5100\n",
      "Epoch 00299: early stopping\n"
     ]
    },
    {
     "data": {
      "image/png": "[encoded data removed]",
      "text/plain": [
       "<Figure size 432x288 with 2 Axes>"
      ]
     },
     "metadata": {
      "needs_background": "light"
     },
     "output_type": "display_data"
    }
   ],
   "source": [
    "model_name = 'test'\n",
    "MODEL_SAVE_FOLDER_PATH = '../1.model'\n",
    "cb_checkpoint,cb_earlystopping = model_save_erstp(MODEL_SAVE_FOLDER_PATH, model_name, 50)\n",
    "\n",
    "tf.keras.backend.clear_session()\n",
    "\n",
    "\n",
    "model = Sequential()\n",
    "model.add(layers.Conv2D(filters=2, kernel_size = 5 , input_shape=(51,11,2), activation='relu', kernel_initializer='he_normal')) \n",
    "model.add(layers.Flatten())\n",
    "model.add(layers.Dense(units=2, activation='sigmoid'))\n",
    "model.compile(loss ='binary_crossentropy', optimizer=optimizers.Adam(lr=0.0001), metrics=['accuracy'])\n",
    "model.summary()\n",
    "\n",
    "history = model.fit(x_train, y_train, shuffle=True,epochs=1000, batch_size=10, validation_split=0.2, callbacks=[cb_checkpoint,cb_earlystopping])\n",
    "loss_graph('loss','val_loss',0,1)"
   ]
  },
  {
   "cell_type": "code",
   "execution_count": 79,
   "metadata": {
    "ExecuteTime": {
     "end_time": "2020-11-24T04:35:58.598252Z",
     "start_time": "2020-11-24T04:35:58.405727Z"
    }
   },
   "outputs": [
    {
     "name": "stdout",
     "output_type": "stream",
     "text": [
      "16/16 [==============================] - 0s 3ms/step - loss: 0.6929 - accuracy: 0.5160\n"
     ]
    }
   ],
   "source": [
    "loss, acc = model.evaluate(x_test, y_test)"
   ]
  },
  {
   "cell_type": "code",
   "execution_count": 198,
   "metadata": {
    "ExecuteTime": {
     "end_time": "2020-11-23T04:38:36.831852Z",
     "start_time": "2020-11-23T04:38:36.809833Z"
    }
   },
   "outputs": [
    {
     "data": {
      "text/html": [
       "<div>\n",
       "<style scoped>\n",
       "    .dataframe tbody tr th:only-of-type {\n",
       "        vertical-align: middle;\n",
       "    }\n",
       "\n",
       "    .dataframe tbody tr th {\n",
       "        vertical-align: top;\n",
       "    }\n",
       "\n",
       "    .dataframe thead th {\n",
       "        text-align: right;\n",
       "    }\n",
       "</style>\n",
       "<table border=\"1\" class=\"dataframe\">\n",
       "  <thead>\n",
       "    <tr style=\"text-align: right;\">\n",
       "      <th></th>\n",
       "      <th>0.0</th>\n",
       "      <th>1.0</th>\n",
       "    </tr>\n",
       "  </thead>\n",
       "  <tbody>\n",
       "    <tr>\n",
       "      <th>0</th>\n",
       "      <td>0</td>\n",
       "      <td>1</td>\n",
       "    </tr>\n",
       "    <tr>\n",
       "      <th>1</th>\n",
       "      <td>0</td>\n",
       "      <td>1</td>\n",
       "    </tr>\n",
       "    <tr>\n",
       "      <th>2</th>\n",
       "      <td>1</td>\n",
       "      <td>0</td>\n",
       "    </tr>\n",
       "    <tr>\n",
       "      <th>3</th>\n",
       "      <td>1</td>\n",
       "      <td>0</td>\n",
       "    </tr>\n",
       "    <tr>\n",
       "      <th>4</th>\n",
       "      <td>0</td>\n",
       "      <td>1</td>\n",
       "    </tr>\n",
       "    <tr>\n",
       "      <th>...</th>\n",
       "      <td>...</td>\n",
       "      <td>...</td>\n",
       "    </tr>\n",
       "    <tr>\n",
       "      <th>495</th>\n",
       "      <td>1</td>\n",
       "      <td>0</td>\n",
       "    </tr>\n",
       "    <tr>\n",
       "      <th>496</th>\n",
       "      <td>1</td>\n",
       "      <td>0</td>\n",
       "    </tr>\n",
       "    <tr>\n",
       "      <th>497</th>\n",
       "      <td>0</td>\n",
       "      <td>1</td>\n",
       "    </tr>\n",
       "    <tr>\n",
       "      <th>498</th>\n",
       "      <td>1</td>\n",
       "      <td>0</td>\n",
       "    </tr>\n",
       "    <tr>\n",
       "      <th>499</th>\n",
       "      <td>0</td>\n",
       "      <td>1</td>\n",
       "    </tr>\n",
       "  </tbody>\n",
       "</table>\n",
       "<p>500 rows × 2 columns</p>\n",
       "</div>"
      ],
      "text/plain": [
       "     0.0  1.0\n",
       "0      0    1\n",
       "1      0    1\n",
       "2      1    0\n",
       "3      1    0\n",
       "4      0    1\n",
       "..   ...  ...\n",
       "495    1    0\n",
       "496    1    0\n",
       "497    0    1\n",
       "498    1    0\n",
       "499    0    1\n",
       "\n",
       "[500 rows x 2 columns]"
      ]
     },
     "execution_count": 198,
     "metadata": {},
     "output_type": "execute_result"
    }
   ],
   "source": [
    "y_test"
   ]
  },
  {
   "cell_type": "code",
   "execution_count": 207,
   "metadata": {
    "ExecuteTime": {
     "end_time": "2020-11-23T04:49:08.199182Z",
     "start_time": "2020-11-23T04:49:08.185114Z"
    },
    "scrolled": true
   },
   "outputs": [
    {
     "ename": "NameError",
     "evalue": "name 'test' is not defined",
     "output_type": "error",
     "traceback": [
      "\u001b[1;31m---------------------------------------------------------------------------\u001b[0m",
      "\u001b[1;31mNameError\u001b[0m                                 Traceback (most recent call last)",
      "\u001b[1;32m<ipython-input-207-e1b83daa34e6>\u001b[0m in \u001b[0;36m<module>\u001b[1;34m\u001b[0m\n\u001b[0;32m      1\u001b[0m \u001b[1;32mimport\u001b[0m \u001b[0mmatplotlib\u001b[0m\u001b[1;33m.\u001b[0m\u001b[0mpyplot\u001b[0m \u001b[1;32mas\u001b[0m \u001b[0mplt\u001b[0m\u001b[1;33m\u001b[0m\u001b[1;33m\u001b[0m\u001b[0m\n\u001b[0;32m      2\u001b[0m \u001b[1;33m\u001b[0m\u001b[0m\n\u001b[1;32m----> 3\u001b[1;33m \u001b[0mplt\u001b[0m\u001b[1;33m.\u001b[0m\u001b[0mimshow\u001b[0m\u001b[1;33m(\u001b[0m\u001b[0mtest\u001b[0m\u001b[1;33m[\u001b[0m\u001b[1;36m10\u001b[0m\u001b[1;33m]\u001b[0m\u001b[1;33m)\u001b[0m\u001b[1;33m\u001b[0m\u001b[1;33m\u001b[0m\u001b[0m\n\u001b[0m",
      "\u001b[1;31mNameError\u001b[0m: name 'test' is not defined"
     ]
    }
   ],
   "source": [
    "import matplotlib.pyplot as plt\n",
    "\n",
    "plt.imshow(test[10])"
   ]
  },
  {
   "cell_type": "code",
   "execution_count": 121,
   "metadata": {
    "ExecuteTime": {
     "end_time": "2020-11-22T12:14:36.204939Z",
     "start_time": "2020-11-22T12:14:36.192935Z"
    }
   },
   "outputs": [
    {
     "data": {
      "text/plain": [
       "(51, 11)"
      ]
     },
     "execution_count": 121,
     "metadata": {},
     "output_type": "execute_result"
    }
   ],
   "source": [
    "test[0].shape"
   ]
  },
  {
   "cell_type": "code",
   "execution_count": 120,
   "metadata": {
    "ExecuteTime": {
     "end_time": "2020-11-22T12:13:35.975029Z",
     "start_time": "2020-11-22T12:13:35.959082Z"
    }
   },
   "outputs": [
    {
     "data": {
      "text/plain": [
       "(1670, 2400, 3)"
      ]
     },
     "execution_count": 120,
     "metadata": {},
     "output_type": "execute_result"
    }
   ],
   "source": [
    "img.shape"
   ]
  },
  {
   "cell_type": "code",
   "execution_count": 78,
   "metadata": {
    "ExecuteTime": {
     "end_time": "2020-11-22T11:59:55.380873Z",
     "start_time": "2020-11-22T11:59:55.366900Z"
    }
   },
   "outputs": [],
   "source": [
    "accPath = '../9.data/1.accData_split/1.diff_heatmap/accident/'\n",
    "nonaccPath = '../9.data/1.accData_split/1.diff_heatmap/nonaccident/'\n",
    "\n",
    "acc_list = os.listdir(accPath)\n",
    "nonacc_list = os.listdir(nonaccPath)"
   ]
  },
  {
   "cell_type": "code",
   "execution_count": 122,
   "metadata": {
    "ExecuteTime": {
     "end_time": "2020-11-22T12:15:44.012007Z",
     "start_time": "2020-11-22T12:15:43.613026Z"
    }
   },
   "outputs": [
    {
     "data": {
      "text/plain": [
       "<matplotlib.image.AxesImage at 0x176e6aca348>"
      ]
     },
     "execution_count": 122,
     "metadata": {},
     "output_type": "execute_result"
    },
    {
     "data": {
      "image/png": "[encoded data removed]",
      "text/plain": [
       "<Figure size 432x288 with 1 Axes>"
      ]
     },
     "metadata": {
      "needs_background": "light"
     },
     "output_type": "display_data"
    }
   ],
   "source": [
    "img = cv2.imread(accPath + acc_list[50])\n",
    "img = cv2.cvtColor(img, cv2.COLOR_BGR2RGB)\n",
    "plt.imshow(img)"
   ]
  },
  {
   "cell_type": "code",
   "execution_count": 102,
   "metadata": {
    "ExecuteTime": {
     "end_time": "2020-11-22T12:08:37.449380Z",
     "start_time": "2020-11-22T12:08:24.900380Z"
    }
   },
   "outputs": [
    {
     "ename": "KeyboardInterrupt",
     "evalue": "",
     "output_type": "error",
     "traceback": [
      "\u001b[1;31m---------------------------------------------------------------------------\u001b[0m",
      "\u001b[1;31mKeyboardInterrupt\u001b[0m                         Traceback (most recent call last)",
      "\u001b[1;32m<ipython-input-102-7f4c515d6c06>\u001b[0m in \u001b[0;36m<module>\u001b[1;34m\u001b[0m\n\u001b[0;32m     10\u001b[0m         \u001b[0mimg\u001b[0m \u001b[1;33m=\u001b[0m \u001b[0mcv2\u001b[0m\u001b[1;33m.\u001b[0m\u001b[0mcvtColor\u001b[0m\u001b[1;33m(\u001b[0m\u001b[0mimg\u001b[0m\u001b[1;33m,\u001b[0m \u001b[0mcv2\u001b[0m\u001b[1;33m.\u001b[0m\u001b[0mCOLOR_BGR2RGB\u001b[0m\u001b[1;33m)\u001b[0m\u001b[1;33m\u001b[0m\u001b[1;33m\u001b[0m\u001b[0m\n\u001b[0;32m     11\u001b[0m         \u001b[0mimg\u001b[0m \u001b[1;33m=\u001b[0m \u001b[0mnp\u001b[0m\u001b[1;33m.\u001b[0m\u001b[0mexpand_dims\u001b[0m\u001b[1;33m(\u001b[0m\u001b[0mimg\u001b[0m\u001b[1;33m,\u001b[0m \u001b[1;36m0\u001b[0m\u001b[1;33m)\u001b[0m\u001b[1;33m\u001b[0m\u001b[1;33m\u001b[0m\u001b[0m\n\u001b[1;32m---> 12\u001b[1;33m         \u001b[0mx_train\u001b[0m \u001b[1;33m=\u001b[0m \u001b[0mnp\u001b[0m\u001b[1;33m.\u001b[0m\u001b[0mconcatenate\u001b[0m\u001b[1;33m(\u001b[0m\u001b[1;33m(\u001b[0m\u001b[0mx_train\u001b[0m\u001b[1;33m,\u001b[0m \u001b[0mimg\u001b[0m\u001b[1;33m)\u001b[0m\u001b[1;33m,\u001b[0m \u001b[0maxis\u001b[0m\u001b[1;33m=\u001b[0m\u001b[1;36m0\u001b[0m\u001b[1;33m)\u001b[0m\u001b[1;33m\u001b[0m\u001b[1;33m\u001b[0m\u001b[0m\n\u001b[0m",
      "\u001b[1;32m<__array_function__ internals>\u001b[0m in \u001b[0;36mconcatenate\u001b[1;34m(*args, **kwargs)\u001b[0m\n",
      "\u001b[1;31mKeyboardInterrupt\u001b[0m: "
     ]
    }
   ],
   "source": [
    "num = 0\n",
    "for i in acc_list:    \n",
    "    if num == 0:\n",
    "        img = cv2.imread(accPath + i)\n",
    "        img = cv2.cvtColor(img, cv2.COLOR_BGR2RGB)\n",
    "        x_train = np.expand_dims(img, 0)\n",
    "        num += 1\n",
    "    else:\n",
    "        img = cv2.imread(accPath + i)\n",
    "        img = cv2.cvtColor(img, cv2.COLOR_BGR2RGB)\n",
    "        img = np.expand_dims(img, 0)\n",
    "        x_train = np.concatenate((x_train, img), axis=0)\n"
   ]
  },
  {
   "cell_type": "code",
   "execution_count": 103,
   "metadata": {
    "ExecuteTime": {
     "end_time": "2020-11-22T12:08:40.985587Z",
     "start_time": "2020-11-22T12:08:40.880204Z"
    },
    "scrolled": true
   },
   "outputs": [
    {
     "ename": "TypeError",
     "evalue": "Invalid shape (1, 1670, 2400, 3) for image data",
     "output_type": "error",
     "traceback": [
      "\u001b[1;31m---------------------------------------------------------------------------\u001b[0m",
      "\u001b[1;31mTypeError\u001b[0m                                 Traceback (most recent call last)",
      "\u001b[1;32m<ipython-input-103-f5c923bf570e>\u001b[0m in \u001b[0;36m<module>\u001b[1;34m\u001b[0m\n\u001b[0;32m      1\u001b[0m \u001b[1;32mimport\u001b[0m \u001b[0mmatplotlib\u001b[0m\u001b[1;33m.\u001b[0m\u001b[0mpyplot\u001b[0m \u001b[1;32mas\u001b[0m \u001b[0mplt\u001b[0m\u001b[1;33m\u001b[0m\u001b[1;33m\u001b[0m\u001b[0m\n\u001b[1;32m----> 2\u001b[1;33m \u001b[0mplt\u001b[0m\u001b[1;33m.\u001b[0m\u001b[0mimshow\u001b[0m\u001b[1;33m(\u001b[0m\u001b[0mimg\u001b[0m\u001b[1;33m)\u001b[0m\u001b[1;33m\u001b[0m\u001b[1;33m\u001b[0m\u001b[0m\n\u001b[0m",
      "\u001b[1;32mC:\\tools\\Anaconda3\\envs\\tensorflow2_py37\\lib\\site-packages\\matplotlib\\pyplot.py\u001b[0m in \u001b[0;36mimshow\u001b[1;34m(X, cmap, norm, aspect, interpolation, alpha, vmin, vmax, origin, extent, filternorm, filterrad, resample, url, data, **kwargs)\u001b[0m\n\u001b[0;32m   2712\u001b[0m         \u001b[0mfilternorm\u001b[0m\u001b[1;33m=\u001b[0m\u001b[0mfilternorm\u001b[0m\u001b[1;33m,\u001b[0m \u001b[0mfilterrad\u001b[0m\u001b[1;33m=\u001b[0m\u001b[0mfilterrad\u001b[0m\u001b[1;33m,\u001b[0m \u001b[0mresample\u001b[0m\u001b[1;33m=\u001b[0m\u001b[0mresample\u001b[0m\u001b[1;33m,\u001b[0m\u001b[1;33m\u001b[0m\u001b[1;33m\u001b[0m\u001b[0m\n\u001b[0;32m   2713\u001b[0m         \u001b[0murl\u001b[0m\u001b[1;33m=\u001b[0m\u001b[0murl\u001b[0m\u001b[1;33m,\u001b[0m \u001b[1;33m**\u001b[0m\u001b[1;33m(\u001b[0m\u001b[1;33m{\u001b[0m\u001b[1;34m\"data\"\u001b[0m\u001b[1;33m:\u001b[0m \u001b[0mdata\u001b[0m\u001b[1;33m}\u001b[0m \u001b[1;32mif\u001b[0m \u001b[0mdata\u001b[0m \u001b[1;32mis\u001b[0m \u001b[1;32mnot\u001b[0m \u001b[1;32mNone\u001b[0m \u001b[1;32melse\u001b[0m \u001b[1;33m{\u001b[0m\u001b[1;33m}\u001b[0m\u001b[1;33m)\u001b[0m\u001b[1;33m,\u001b[0m\u001b[1;33m\u001b[0m\u001b[1;33m\u001b[0m\u001b[0m\n\u001b[1;32m-> 2714\u001b[1;33m         **kwargs)\n\u001b[0m\u001b[0;32m   2715\u001b[0m     \u001b[0msci\u001b[0m\u001b[1;33m(\u001b[0m\u001b[0m__ret\u001b[0m\u001b[1;33m)\u001b[0m\u001b[1;33m\u001b[0m\u001b[1;33m\u001b[0m\u001b[0m\n\u001b[0;32m   2716\u001b[0m     \u001b[1;32mreturn\u001b[0m \u001b[0m__ret\u001b[0m\u001b[1;33m\u001b[0m\u001b[1;33m\u001b[0m\u001b[0m\n",
      "\u001b[1;32mC:\\tools\\Anaconda3\\envs\\tensorflow2_py37\\lib\\site-packages\\matplotlib\\__init__.py\u001b[0m in \u001b[0;36minner\u001b[1;34m(ax, data, *args, **kwargs)\u001b[0m\n\u001b[0;32m   1436\u001b[0m     \u001b[1;32mdef\u001b[0m \u001b[0minner\u001b[0m\u001b[1;33m(\u001b[0m\u001b[0max\u001b[0m\u001b[1;33m,\u001b[0m \u001b[1;33m*\u001b[0m\u001b[0margs\u001b[0m\u001b[1;33m,\u001b[0m \u001b[0mdata\u001b[0m\u001b[1;33m=\u001b[0m\u001b[1;32mNone\u001b[0m\u001b[1;33m,\u001b[0m \u001b[1;33m**\u001b[0m\u001b[0mkwargs\u001b[0m\u001b[1;33m)\u001b[0m\u001b[1;33m:\u001b[0m\u001b[1;33m\u001b[0m\u001b[1;33m\u001b[0m\u001b[0m\n\u001b[0;32m   1437\u001b[0m         \u001b[1;32mif\u001b[0m \u001b[0mdata\u001b[0m \u001b[1;32mis\u001b[0m \u001b[1;32mNone\u001b[0m\u001b[1;33m:\u001b[0m\u001b[1;33m\u001b[0m\u001b[1;33m\u001b[0m\u001b[0m\n\u001b[1;32m-> 1438\u001b[1;33m             \u001b[1;32mreturn\u001b[0m \u001b[0mfunc\u001b[0m\u001b[1;33m(\u001b[0m\u001b[0max\u001b[0m\u001b[1;33m,\u001b[0m \u001b[1;33m*\u001b[0m\u001b[0mmap\u001b[0m\u001b[1;33m(\u001b[0m\u001b[0msanitize_sequence\u001b[0m\u001b[1;33m,\u001b[0m \u001b[0margs\u001b[0m\u001b[1;33m)\u001b[0m\u001b[1;33m,\u001b[0m \u001b[1;33m**\u001b[0m\u001b[0mkwargs\u001b[0m\u001b[1;33m)\u001b[0m\u001b[1;33m\u001b[0m\u001b[1;33m\u001b[0m\u001b[0m\n\u001b[0m\u001b[0;32m   1439\u001b[0m \u001b[1;33m\u001b[0m\u001b[0m\n\u001b[0;32m   1440\u001b[0m         \u001b[0mbound\u001b[0m \u001b[1;33m=\u001b[0m \u001b[0mnew_sig\u001b[0m\u001b[1;33m.\u001b[0m\u001b[0mbind\u001b[0m\u001b[1;33m(\u001b[0m\u001b[0max\u001b[0m\u001b[1;33m,\u001b[0m \u001b[1;33m*\u001b[0m\u001b[0margs\u001b[0m\u001b[1;33m,\u001b[0m \u001b[1;33m**\u001b[0m\u001b[0mkwargs\u001b[0m\u001b[1;33m)\u001b[0m\u001b[1;33m\u001b[0m\u001b[1;33m\u001b[0m\u001b[0m\n",
      "\u001b[1;32mC:\\tools\\Anaconda3\\envs\\tensorflow2_py37\\lib\\site-packages\\matplotlib\\axes\\_axes.py\u001b[0m in \u001b[0;36mimshow\u001b[1;34m(self, X, cmap, norm, aspect, interpolation, alpha, vmin, vmax, origin, extent, filternorm, filterrad, resample, url, **kwargs)\u001b[0m\n\u001b[0;32m   5521\u001b[0m                               resample=resample, **kwargs)\n\u001b[0;32m   5522\u001b[0m \u001b[1;33m\u001b[0m\u001b[0m\n\u001b[1;32m-> 5523\u001b[1;33m         \u001b[0mim\u001b[0m\u001b[1;33m.\u001b[0m\u001b[0mset_data\u001b[0m\u001b[1;33m(\u001b[0m\u001b[0mX\u001b[0m\u001b[1;33m)\u001b[0m\u001b[1;33m\u001b[0m\u001b[1;33m\u001b[0m\u001b[0m\n\u001b[0m\u001b[0;32m   5524\u001b[0m         \u001b[0mim\u001b[0m\u001b[1;33m.\u001b[0m\u001b[0mset_alpha\u001b[0m\u001b[1;33m(\u001b[0m\u001b[0malpha\u001b[0m\u001b[1;33m)\u001b[0m\u001b[1;33m\u001b[0m\u001b[1;33m\u001b[0m\u001b[0m\n\u001b[0;32m   5525\u001b[0m         \u001b[1;32mif\u001b[0m \u001b[0mim\u001b[0m\u001b[1;33m.\u001b[0m\u001b[0mget_clip_path\u001b[0m\u001b[1;33m(\u001b[0m\u001b[1;33m)\u001b[0m \u001b[1;32mis\u001b[0m \u001b[1;32mNone\u001b[0m\u001b[1;33m:\u001b[0m\u001b[1;33m\u001b[0m\u001b[1;33m\u001b[0m\u001b[0m\n",
      "\u001b[1;32mC:\\tools\\Anaconda3\\envs\\tensorflow2_py37\\lib\\site-packages\\matplotlib\\image.py\u001b[0m in \u001b[0;36mset_data\u001b[1;34m(self, A)\u001b[0m\n\u001b[0;32m    704\u001b[0m                 or self._A.ndim == 3 and self._A.shape[-1] in [3, 4]):\n\u001b[0;32m    705\u001b[0m             raise TypeError(\"Invalid shape {} for image data\"\n\u001b[1;32m--> 706\u001b[1;33m                             .format(self._A.shape))\n\u001b[0m\u001b[0;32m    707\u001b[0m \u001b[1;33m\u001b[0m\u001b[0m\n\u001b[0;32m    708\u001b[0m         \u001b[1;32mif\u001b[0m \u001b[0mself\u001b[0m\u001b[1;33m.\u001b[0m\u001b[0m_A\u001b[0m\u001b[1;33m.\u001b[0m\u001b[0mndim\u001b[0m \u001b[1;33m==\u001b[0m \u001b[1;36m3\u001b[0m\u001b[1;33m:\u001b[0m\u001b[1;33m\u001b[0m\u001b[1;33m\u001b[0m\u001b[0m\n",
      "\u001b[1;31mTypeError\u001b[0m: Invalid shape (1, 1670, 2400, 3) for image data"
     ]
    },
    {
     "data": {
      "image/png": "[encoded data removed]",
      "text/plain": [
       "<Figure size 432x288 with 1 Axes>"
      ]
     },
     "metadata": {
      "needs_background": "light"
     },
     "output_type": "display_data"
    }
   ],
   "source": [
    "import matplotlib.pyplot as plt\n",
    "plt.imshow(img)"
   ]
  },
  {
   "cell_type": "code",
   "execution_count": 113,
   "metadata": {
    "ExecuteTime": {
     "end_time": "2020-11-22T12:12:35.478817Z",
     "start_time": "2020-11-22T12:12:35.430673Z"
    }
   },
   "outputs": [],
   "source": [
    "img = cv2.imread(accPath + acc_list[0])\n",
    "img = cv2.cvtColor(img, cv2.COLOR_BGR2RGB)"
   ]
  },
  {
   "cell_type": "code",
   "execution_count": null,
   "metadata": {},
   "outputs": [],
   "source": []
  }
 ],
 "metadata": {
  "kernelspec": {
   "display_name": "Python 3",
   "language": "python",
   "name": "python3"
  },
  "language_info": {
   "codemirror_mode": {
    "name": "ipython",
    "version": 3
   },
   "file_extension": ".py",
   "mimetype": "text/x-python",
   "name": "python",
   "nbconvert_exporter": "python",
   "pygments_lexer": "ipython3",
   "version": "3.7.9"
  },
  "toc": {
   "base_numbering": 1,
   "nav_menu": {},
   "number_sections": true,
   "sideBar": true,
   "skip_h1_title": false,
   "title_cell": "Table of Contents",
   "title_sidebar": "Contents",
   "toc_cell": false,
   "toc_position": {},
   "toc_section_display": true,
   "toc_window_display": false
  },
  "varInspector": {
   "cols": {
    "lenName": 16,
    "lenType": 16,
    "lenVar": 40
   },
   "kernels_config": {
    "python": {
     "delete_cmd_postfix": "",
     "delete_cmd_prefix": "del ",
     "library": "var_list.py",
     "varRefreshCmd": "print(var_dic_list())"
    },
    "r": {
     "delete_cmd_postfix": ") ",
     "delete_cmd_prefix": "rm(",
     "library": "var_list.r",
     "varRefreshCmd": "cat(var_dic_list()) "
    }
   },
   "types_to_exclude": [
    "module",
    "function",
    "builtin_function_or_method",
    "instance",
    "_Feature"
   ],
   "window_display": false
  }
 },
 "nbformat": 4,
 "nbformat_minor": 4
}
