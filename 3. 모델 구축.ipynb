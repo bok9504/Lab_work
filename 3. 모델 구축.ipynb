{
 "cells": [
  {
   "cell_type": "code",
   "execution_count": 1,
   "metadata": {
    "ExecuteTime": {
     "end_time": "2020-11-23T22:31:55.815605Z",
     "start_time": "2020-11-23T22:31:52.268606Z"
    }
   },
   "outputs": [],
   "source": [
    "import pandas as pd\n",
    "import numpy as np\n",
    "import matplotlib.pyplot as plt\n",
    "\n",
    "import os\n",
    "import cv2\n",
    "import tensorflow.keras as keras\n",
    "import tensorflow as tf\n",
    "from keras.models import Sequential\n",
    "from keras import layers\n",
    "from keras import optimizers\n",
    "from keras.layers.convolutional import MaxPooling2D\n",
    "from keras.callbacks import ModelCheckpoint\n",
    "from keras.layers import BatchNormalization\n",
    "from sklearn.preprocessing import MinMaxScaler\n",
    "from keras.layers import Dropout"
   ]
  },
  {
   "cell_type": "code",
   "execution_count": 2,
   "metadata": {
    "ExecuteTime": {
     "end_time": "2020-11-23T22:31:55.860607Z",
     "start_time": "2020-11-23T22:31:55.847608Z"
    },
    "code_folding": []
   },
   "outputs": [],
   "source": [
    "# 얼리스탑핑 쉽게\n",
    "def model_save_erstp(MODEL_SAVE_FOLDER_PATH, model_name, patience):\n",
    "    save_file_name = model_name\n",
    "    cb_checkpoint,cb_earlystopping = checkpoint_ez(MODEL_SAVE_FOLDER_PATH, save_file_name, patience)\n",
    "    return cb_checkpoint,cb_earlystopping\n",
    "\n",
    "def checkpoint_ez(MODEL_SAVE_FOLDER_PATH,save_file_name, patience) : \n",
    "    MODEL_SAVE_FOLDER_PATH = MODEL_SAVE_FOLDER_PATH\n",
    "    data_name = save_file_name\n",
    "    model_path = MODEL_SAVE_FOLDER_PATH + data_name + '.hdf5'\n",
    "    # val_loss 값이 낮아졌을(좋아졌을) 때만 저장\n",
    "    cb_checkpoint = ModelCheckpoint(filepath=model_path, monitor='val_loss',\n",
    "                                    verbose=1, save_best_only=True\n",
    "                                   )\n",
    "    cb_earlystopping = keras.callbacks.EarlyStopping(monitor='val_loss', min_delta=0, patience = patience, verbose=1,\n",
    "                                                  mode='auto', baseline=None, restore_best_weights=False)\n",
    "    return cb_checkpoint, cb_earlystopping\n",
    "\n",
    "# 그래프 쉽게\n",
    "def loss_graph(label1,label2,bottom,top):\n",
    "    fig, loss_ax = plt.subplots()\n",
    "    acc_ax = loss_ax.twinx()\n",
    "    loss_ax.plot(history.history['loss'], 'y', label=label1)\n",
    "    loss_ax.plot(history.history['val_loss'], 'r', label=label2)\n",
    "    acc_ax.plot(history.history['accuracy'], 'b', label='train acc')\n",
    "    acc_ax.plot(history.history['val_accuracy'], 'g', label='val acc')\n",
    "    loss_ax.set_xlabel('epoch')\n",
    "    loss_ax.set_ylabel('loss')\n",
    "    # acc_ax.set_ylabel('accuray')\n",
    "    loss_ax.legend(loc='upper left')\n",
    "    acc_ax.legend(loc='lower left')\n",
    "    loss_ax.set_ylim(bottom,top)\n",
    "    return plt.show()\n",
    "\n",
    "# 모델 저장 def\n",
    "def json_model_saver(MODEL_SAVE_FOLDER_PATH,file_name):\n",
    "    # model save by json\n",
    "    # load model \n",
    "    model = keras.models.load_model(MODEL_SAVE_FOLDER_PATH +file_name+ '.hdf5')\n",
    "    # Save model with json format\n",
    "    model_json = model.to_json()\n",
    "    with open(MODEL_SAVE_FOLDER_PATH+file_name+'.json', \"w\") as json_file:\n",
    "        json_file.write(model_json)\n",
    "    # Save weight with h5 format\n",
    "    model.save_weights( MODEL_SAVE_FOLDER_PATH +file_name +'.h5')\n",
    "    return print(\"Saved model to disk : \"+ file_name +'.h5')\n"
   ]
  },
  {
   "cell_type": "code",
   "execution_count": 62,
   "metadata": {
    "ExecuteTime": {
     "end_time": "2020-11-23T20:52:14.209702Z",
     "start_time": "2020-11-23T20:52:12.953704Z"
    }
   },
   "outputs": [],
   "source": [
    "# 데이터 불러오기\n",
    "path_AL = '../9.data/0.work_data/3.Accident_list/'\n",
    "\n",
    "AccList_accident = pd.read_csv(path_AL + 'AccList_accident.csv', header=None, index_col=0)\n",
    "AccList_pattern = pd.read_csv(path_AL + 'AccList_pattern.csv', header=None, index_col=0)\n",
    "NonAccList_accident = pd.read_csv(path_AL + 'NonAccList_accident.csv', header=None, index_col=0)\n",
    "NonAccList_pattern = pd.read_csv(path_AL + 'AccList_pattern.csv', header=None, index_col=0)"
   ]
  },
  {
   "cell_type": "code",
   "execution_count": 63,
   "metadata": {
    "ExecuteTime": {
     "end_time": "2020-11-23T20:52:14.494796Z",
     "start_time": "2020-11-23T20:52:14.435733Z"
    }
   },
   "outputs": [],
   "source": [
    "AccList_accident = AccList_accident.reset_index()\n",
    "AccList_accident = AccList_accident.reset_index(0, drop = False)\n",
    "AccList_accident = AccList_accident.set_index(0, drop = True)\n",
    "\n",
    "AccList_pattern = AccList_pattern.reset_index()\n",
    "AccList_pattern = AccList_pattern.reset_index(0, drop = True)"
   ]
  },
  {
   "cell_type": "code",
   "execution_count": 64,
   "metadata": {
    "ExecuteTime": {
     "end_time": "2020-11-23T20:52:14.674735Z",
     "start_time": "2020-11-23T20:52:14.660734Z"
    }
   },
   "outputs": [],
   "source": [
    "# Accident, Nonaccident 리스트 불러오기\n",
    "diff_path = '../9.data/1.accData_split/1.diff_heatmap/'\n",
    "acclist = os.listdir(diff_path + 'accident/')\n",
    "\n",
    "for i in range(len(acclist)):\n",
    "    acclist[i] = acclist[i].split('.')[0]\n",
    "accData = AccList_accident.loc[acclist]\n",
    "pattData = AccList_pattern.loc[accData.set_index('index').index]"
   ]
  },
  {
   "cell_type": "code",
   "execution_count": 65,
   "metadata": {
    "ExecuteTime": {
     "end_time": "2020-11-23T20:52:15.354691Z",
     "start_time": "2020-11-23T20:52:15.345687Z"
    }
   },
   "outputs": [],
   "source": [
    "del accData['index']\n",
    "pattData = pattData.set_index(0, drop = True)"
   ]
  },
  {
   "cell_type": "code",
   "execution_count": 32,
   "metadata": {
    "ExecuteTime": {
     "end_time": "2020-11-23T09:14:25.743754Z",
     "start_time": "2020-11-23T09:14:25.690722Z"
    }
   },
   "outputs": [],
   "source": [
    "np.random.seed(0)\n",
    "randomList = list(np.random.randint(20863, size = 1300))\n",
    "nonAccData = nonAccList.reset_index(drop=True)\n",
    "nonAccData = nonAccData.loc[randomList]\n",
    "nonAccData = nonAccData.reset_index(drop=True)"
   ]
  },
  {
   "cell_type": "code",
   "execution_count": 33,
   "metadata": {
    "ExecuteTime": {
     "end_time": "2020-11-23T09:14:26.793726Z",
     "start_time": "2020-11-23T09:14:26.777726Z"
    }
   },
   "outputs": [],
   "source": [
    "accData['y'] = 1\n",
    "nonAccData['y'] = 0\n",
    "data = pd.concat([accData, nonAccData])"
   ]
  },
  {
   "cell_type": "code",
   "execution_count": 34,
   "metadata": {
    "ExecuteTime": {
     "end_time": "2020-11-23T09:14:27.813907Z",
     "start_time": "2020-11-23T09:14:27.786876Z"
    },
    "scrolled": true
   },
   "outputs": [],
   "source": [
    "# 데이터 섞은 후 배열로 만들기\n",
    "\n",
    "np.random.seed(0)\n",
    "randomList = list(np.random.randint(2600, size = 2600))\n",
    "data = data.reset_index(drop=True)\n",
    "data = data.loc[randomList]\n",
    "data = data.reset_index(drop=True)"
   ]
  },
  {
   "cell_type": "code",
   "execution_count": 35,
   "metadata": {
    "ExecuteTime": {
     "end_time": "2020-11-23T09:14:28.699452Z",
     "start_time": "2020-11-23T09:14:28.657874Z"
    }
   },
   "outputs": [],
   "source": [
    "dataX = data.T[:-1].T\n",
    "\n",
    "scaler = MinMaxScaler()\n",
    "scaler.fit(dataX)\n",
    "dataX_scl = scaler.transform(dataX)"
   ]
  },
  {
   "cell_type": "code",
   "execution_count": 36,
   "metadata": {
    "ExecuteTime": {
     "end_time": "2020-11-23T09:14:30.274450Z",
     "start_time": "2020-11-23T09:14:30.257418Z"
    }
   },
   "outputs": [],
   "source": [
    "data = np.array(data)\n",
    "dataX_scl = np.array(dataX_scl)\n",
    "\n",
    "# input data 생성\n",
    "nTrain = 1950\n",
    "nTest = 650\n",
    "\n",
    "x_train = dataX_scl[:nTrain, :561]\n",
    "x_test = dataX_scl[:nTest, :561]\n",
    "y_train = data[:nTrain, 561]\n",
    "y_test = data[:nTest, 561]"
   ]
  },
  {
   "cell_type": "code",
   "execution_count": 37,
   "metadata": {
    "ExecuteTime": {
     "end_time": "2020-11-23T09:14:31.459694Z",
     "start_time": "2020-11-23T09:14:31.441695Z"
    }
   },
   "outputs": [],
   "source": [
    "y_train = pd.get_dummies(y_train)\n",
    "y_test = pd.get_dummies(y_test)"
   ]
  },
  {
   "cell_type": "code",
   "execution_count": 38,
   "metadata": {
    "ExecuteTime": {
     "end_time": "2020-11-23T09:14:32.209698Z",
     "start_time": "2020-11-23T09:14:32.201695Z"
    }
   },
   "outputs": [],
   "source": [
    "# 데이터 reshape 및 차원 추가\n",
    "x_train = x_train.reshape(x_train.shape[0],51,11)\n",
    "x_train = np.expand_dims(x_train, -1)\n",
    "x_test = x_test.reshape(x_test.shape[0],51,11)\n",
    "x_test = np.expand_dims(x_test, -1)"
   ]
  },
  {
   "cell_type": "code",
   "execution_count": 77,
   "metadata": {
    "ExecuteTime": {
     "end_time": "2020-11-23T09:20:43.158292Z",
     "start_time": "2020-11-23T09:20:43.152324Z"
    }
   },
   "outputs": [
    {
     "data": {
      "text/plain": [
       "0.0    1\n",
       "1.0    0\n",
       "Name: 0, dtype: uint8"
      ]
     },
     "execution_count": 77,
     "metadata": {},
     "output_type": "execute_result"
    }
   ],
   "source": []
  },
  {
   "cell_type": "code",
   "execution_count": 110,
   "metadata": {
    "ExecuteTime": {
     "end_time": "2020-11-23T09:24:31.826852Z",
     "start_time": "2020-11-23T09:24:31.752882Z"
    }
   },
   "outputs": [
    {
     "name": "stdout",
     "output_type": "stream",
     "text": [
      "(51, 11)\n",
      "AxesImage(54,36;334.8x217.44)\n",
      "0.0    1\n",
      "1.0    0\n",
      "Name: 40, dtype: uint8\n"
     ]
    },
    {
     "data": {
      "image/png": "[encoded data removed]",
      "text/plain": [
       "<Figure size 432x288 with 1 Axes>"
      ]
     },
     "metadata": {
      "needs_background": "light"
     },
     "output_type": "display_data"
    }
   ],
   "source": [
    "n = 40\n",
    "print(np.reshape(x_train[n],(51,11)).shape)\n",
    "print(plt.imshow(np.reshape(x_train[n],(51,11))))\n",
    "print(y_train[:].iloc[n])"
   ]
  },
  {
   "cell_type": "code",
   "execution_count": null,
   "metadata": {},
   "outputs": [],
   "source": []
  },
  {
   "cell_type": "code",
   "execution_count": 112,
   "metadata": {
    "ExecuteTime": {
     "end_time": "2020-11-23T09:31:11.680496Z",
     "start_time": "2020-11-23T09:30:55.974465Z"
    },
    "scrolled": true
   },
   "outputs": [
    {
     "name": "stdout",
     "output_type": "stream",
     "text": [
      "Model: \"sequential\"\n",
      "_________________________________________________________________\n",
      "Layer (type)                 Output Shape              Param #   \n",
      "=================================================================\n",
      "conv2d (Conv2D)              (None, 49, 9, 8)          80        \n",
      "_________________________________________________________________\n",
      "max_pooling2d (MaxPooling2D) (None, 24, 4, 8)          0         \n",
      "_________________________________________________________________\n",
      "flatten (Flatten)            (None, 768)               0         \n",
      "_________________________________________________________________\n",
      "dense (Dense)                (None, 10)                7690      \n",
      "_________________________________________________________________\n",
      "dense_1 (Dense)              (None, 2)                 22        \n",
      "=================================================================\n",
      "Total params: 7,792\n",
      "Trainable params: 7,792\n",
      "Non-trainable params: 0\n",
      "_________________________________________________________________\n",
      "Epoch 1/1000\n",
      "135/156 [========================>.....] - ETA: 0s - loss: 0.6770 - accuracy: 0.5474WARNING:tensorflow:Callbacks method `on_test_batch_end` is slow compared to the batch time (batch time: 0.0000s vs `on_test_batch_end` time: 0.0010s). Check your callbacks.\n",
      "\n",
      "Epoch 00001: val_loss improved from inf to 0.69409, saving model to ..\\1.modeltest.hdf5\n",
      "156/156 [==============================] - 0s 3ms/step - loss: 0.6795 - accuracy: 0.5404 - val_loss: 0.6941 - val_accuracy: 0.5000\n",
      "Epoch 2/1000\n",
      "140/156 [=========================>....] - ETA: 0s - loss: 0.6936 - accuracy: 0.5207\n",
      "Epoch 00002: val_loss improved from 0.69409 to 0.69402, saving model to ..\\1.modeltest.hdf5\n",
      "156/156 [==============================] - 0s 2ms/step - loss: 0.6932 - accuracy: 0.5244 - val_loss: 0.6940 - val_accuracy: 0.5000\n",
      "Epoch 3/1000\n",
      "141/156 [==========================>...] - ETA: 0s - loss: 0.6923 - accuracy: 0.5305\n",
      "Epoch 00003: val_loss improved from 0.69402 to 0.69324, saving model to ..\\1.modeltest.hdf5\n",
      "156/156 [==============================] - 0s 2ms/step - loss: 0.6928 - accuracy: 0.5244 - val_loss: 0.6932 - val_accuracy: 0.5000\n",
      "Epoch 4/1000\n",
      "142/156 [==========================>...] - ETA: 0s - loss: 0.6921 - accuracy: 0.5268\n",
      "Epoch 00004: val_loss did not improve from 0.69324\n",
      "156/156 [==============================] - 0s 2ms/step - loss: 0.6924 - accuracy: 0.5244 - val_loss: 0.6948 - val_accuracy: 0.5000\n",
      "Epoch 5/1000\n",
      "138/156 [=========================>....] - ETA: 0s - loss: 0.6928 - accuracy: 0.5217\n",
      "Epoch 00005: val_loss did not improve from 0.69324\n",
      "156/156 [==============================] - 0s 2ms/step - loss: 0.6925 - accuracy: 0.5244 - val_loss: 0.6945 - val_accuracy: 0.5000\n",
      "Epoch 6/1000\n",
      "141/156 [==========================>...] - ETA: 0s - loss: 0.6922 - accuracy: 0.5262\n",
      "Epoch 00006: val_loss did not improve from 0.69324\n",
      "156/156 [==============================] - 0s 2ms/step - loss: 0.6924 - accuracy: 0.5244 - val_loss: 0.6945 - val_accuracy: 0.5000\n",
      "Epoch 7/1000\n",
      "145/156 [==========================>...] - ETA: 0s - loss: 0.6925 - accuracy: 0.5262\n",
      "Epoch 00007: val_loss did not improve from 0.69324\n",
      "156/156 [==============================] - 0s 2ms/step - loss: 0.6926 - accuracy: 0.5244 - val_loss: 0.6935 - val_accuracy: 0.5000\n",
      "Epoch 8/1000\n",
      "145/156 [==========================>...] - ETA: 0s - loss: 0.6928 - accuracy: 0.5200\n",
      "Epoch 00008: val_loss did not improve from 0.69324\n",
      "156/156 [==============================] - 0s 2ms/step - loss: 0.6925 - accuracy: 0.5244 - val_loss: 0.6941 - val_accuracy: 0.5000\n",
      "Epoch 9/1000\n",
      "142/156 [==========================>...] - ETA: 0s - loss: 0.6925 - accuracy: 0.5148\n",
      "Epoch 00009: val_loss did not improve from 0.69324\n",
      "156/156 [==============================] - 0s 2ms/step - loss: 0.6927 - accuracy: 0.5141 - val_loss: 0.6949 - val_accuracy: 0.5000\n",
      "Epoch 10/1000\n",
      "147/156 [===========================>..] - ETA: 0s - loss: 0.6923 - accuracy: 0.5245\n",
      "Epoch 00010: val_loss did not improve from 0.69324\n",
      "156/156 [==============================] - 0s 2ms/step - loss: 0.6923 - accuracy: 0.5244 - val_loss: 0.6937 - val_accuracy: 0.5000\n",
      "Epoch 11/1000\n",
      "138/156 [=========================>....] - ETA: 0s - loss: 0.6933 - accuracy: 0.5181\n",
      "Epoch 00011: val_loss did not improve from 0.69324\n",
      "156/156 [==============================] - 0s 2ms/step - loss: 0.6927 - accuracy: 0.5244 - val_loss: 0.6950 - val_accuracy: 0.5000\n",
      "Epoch 12/1000\n",
      "139/156 [=========================>....] - ETA: 0s - loss: 0.6923 - accuracy: 0.5216\n",
      "Epoch 00012: val_loss did not improve from 0.69324\n",
      "156/156 [==============================] - 0s 2ms/step - loss: 0.6924 - accuracy: 0.5244 - val_loss: 0.6933 - val_accuracy: 0.5000\n",
      "Epoch 13/1000\n",
      "141/156 [==========================>...] - ETA: 0s - loss: 0.6927 - accuracy: 0.5248\n",
      "Epoch 00013: val_loss did not improve from 0.69324\n",
      "156/156 [==============================] - 0s 2ms/step - loss: 0.6927 - accuracy: 0.5244 - val_loss: 0.6949 - val_accuracy: 0.5000\n",
      "Epoch 14/1000\n",
      "142/156 [==========================>...] - ETA: 0s - loss: 0.6932 - accuracy: 0.5155\n",
      "Epoch 00014: val_loss did not improve from 0.69324\n",
      "156/156 [==============================] - 0s 2ms/step - loss: 0.6924 - accuracy: 0.5244 - val_loss: 0.6951 - val_accuracy: 0.5000\n",
      "Epoch 15/1000\n",
      "148/156 [===========================>..] - ETA: 0s - loss: 0.6923 - accuracy: 0.5250\n",
      "Epoch 00015: val_loss did not improve from 0.69324\n",
      "156/156 [==============================] - 0s 2ms/step - loss: 0.6924 - accuracy: 0.5244 - val_loss: 0.6946 - val_accuracy: 0.5000\n",
      "Epoch 16/1000\n",
      "142/156 [==========================>...] - ETA: 0s - loss: 0.6921 - accuracy: 0.5275\n",
      "Epoch 00016: val_loss did not improve from 0.69324\n",
      "156/156 [==============================] - 0s 2ms/step - loss: 0.6925 - accuracy: 0.5244 - val_loss: 0.6949 - val_accuracy: 0.5000\n",
      "Epoch 17/1000\n",
      "133/156 [========================>.....] - ETA: 0s - loss: 0.6930 - accuracy: 0.5211\n",
      "Epoch 00017: val_loss did not improve from 0.69324\n",
      "156/156 [==============================] - 0s 2ms/step - loss: 0.6927 - accuracy: 0.5244 - val_loss: 0.6939 - val_accuracy: 0.5000\n",
      "Epoch 18/1000\n",
      "140/156 [=========================>....] - ETA: 0s - loss: 0.6922 - accuracy: 0.5250\n",
      "Epoch 00018: val_loss did not improve from 0.69324\n",
      "156/156 [==============================] - 0s 2ms/step - loss: 0.6923 - accuracy: 0.5244 - val_loss: 0.6953 - val_accuracy: 0.5000\n",
      "Epoch 19/1000\n",
      "133/156 [========================>.....] - ETA: 0s - loss: 0.6923 - accuracy: 0.5263\n",
      "Epoch 00019: val_loss did not improve from 0.69324\n",
      "156/156 [==============================] - 0s 2ms/step - loss: 0.6924 - accuracy: 0.5244 - val_loss: 0.6933 - val_accuracy: 0.5000\n",
      "Epoch 20/1000\n",
      "139/156 [=========================>....] - ETA: 0s - loss: 0.6930 - accuracy: 0.5072\n",
      "Epoch 00020: val_loss did not improve from 0.69324\n",
      "156/156 [==============================] - 0s 2ms/step - loss: 0.6923 - accuracy: 0.5141 - val_loss: 0.6964 - val_accuracy: 0.5000\n",
      "Epoch 21/1000\n",
      "141/156 [==========================>...] - ETA: 0s - loss: 0.6931 - accuracy: 0.5184\n",
      "Epoch 00021: val_loss did not improve from 0.69324\n",
      "156/156 [==============================] - 0s 2ms/step - loss: 0.6927 - accuracy: 0.5244 - val_loss: 0.6938 - val_accuracy: 0.5000\n",
      "Epoch 22/1000\n",
      "139/156 [=========================>....] - ETA: 0s - loss: 0.6923 - accuracy: 0.5252\n",
      "Epoch 00022: val_loss did not improve from 0.69324\n",
      "156/156 [==============================] - 0s 2ms/step - loss: 0.6924 - accuracy: 0.5244 - val_loss: 0.6954 - val_accuracy: 0.5000\n",
      "Epoch 23/1000\n",
      "143/156 [==========================>...] - ETA: 0s - loss: 0.6925 - accuracy: 0.5231\n",
      "Epoch 00023: val_loss did not improve from 0.69324\n",
      "156/156 [==============================] - 0s 2ms/step - loss: 0.6923 - accuracy: 0.5244 - val_loss: 0.6955 - val_accuracy: 0.5000\n",
      "Epoch 24/1000\n",
      "144/156 [==========================>...] - ETA: 0s - loss: 0.6928 - accuracy: 0.5236\n",
      "Epoch 00024: val_loss did not improve from 0.69324\n",
      "156/156 [==============================] - 0s 2ms/step - loss: 0.6927 - accuracy: 0.5244 - val_loss: 0.6955 - val_accuracy: 0.5000\n",
      "Epoch 25/1000\n",
      "147/156 [===========================>..] - ETA: 0s - loss: 0.6928 - accuracy: 0.5211\n",
      "Epoch 00025: val_loss did not improve from 0.69324\n",
      "156/156 [==============================] - 0s 2ms/step - loss: 0.6924 - accuracy: 0.5244 - val_loss: 0.6953 - val_accuracy: 0.5000\n"
     ]
    },
    {
     "name": "stdout",
     "output_type": "stream",
     "text": [
      "Epoch 26/1000\n",
      "144/156 [==========================>...] - ETA: 0s - loss: 0.6928 - accuracy: 0.5236\n",
      "Epoch 00026: val_loss did not improve from 0.69324\n",
      "156/156 [==============================] - 0s 2ms/step - loss: 0.6926 - accuracy: 0.5244 - val_loss: 0.6947 - val_accuracy: 0.5000\n",
      "Epoch 27/1000\n",
      "140/156 [=========================>....] - ETA: 0s - loss: 0.6922 - accuracy: 0.5286\n",
      "Epoch 00027: val_loss did not improve from 0.69324\n",
      "156/156 [==============================] - 0s 2ms/step - loss: 0.6926 - accuracy: 0.5244 - val_loss: 0.6941 - val_accuracy: 0.5000\n",
      "Epoch 28/1000\n",
      "148/156 [===========================>..] - ETA: 0s - loss: 0.6929 - accuracy: 0.5223\n",
      "Epoch 00028: val_loss did not improve from 0.69324\n",
      "156/156 [==============================] - 0s 2ms/step - loss: 0.6927 - accuracy: 0.5244 - val_loss: 0.6946 - val_accuracy: 0.5000\n",
      "Epoch 29/1000\n",
      "144/156 [==========================>...] - ETA: 0s - loss: 0.6930 - accuracy: 0.5208\n",
      "Epoch 00029: val_loss did not improve from 0.69324\n",
      "156/156 [==============================] - 0s 2ms/step - loss: 0.6926 - accuracy: 0.5244 - val_loss: 0.6946 - val_accuracy: 0.5000\n",
      "Epoch 30/1000\n",
      "148/156 [===========================>..] - ETA: 0s - loss: 0.6922 - accuracy: 0.5264\n",
      "Epoch 00030: val_loss did not improve from 0.69324\n",
      "156/156 [==============================] - 0s 2ms/step - loss: 0.6924 - accuracy: 0.5244 - val_loss: 0.6941 - val_accuracy: 0.5000\n",
      "Epoch 31/1000\n",
      "140/156 [=========================>....] - ETA: 0s - loss: 0.6923 - accuracy: 0.5143\n",
      "Epoch 00031: val_loss did not improve from 0.69324\n",
      "156/156 [==============================] - 0s 2ms/step - loss: 0.6924 - accuracy: 0.5141 - val_loss: 0.6954 - val_accuracy: 0.5000\n",
      "Epoch 32/1000\n",
      "148/156 [===========================>..] - ETA: 0s - loss: 0.6922 - accuracy: 0.5250\n",
      "Epoch 00032: val_loss did not improve from 0.69324\n",
      "156/156 [==============================] - 0s 2ms/step - loss: 0.6923 - accuracy: 0.5244 - val_loss: 0.6934 - val_accuracy: 0.5000\n",
      "Epoch 33/1000\n",
      "140/156 [=========================>....] - ETA: 0s - loss: 0.6923 - accuracy: 0.5257\n",
      "Epoch 00033: val_loss did not improve from 0.69324\n",
      "156/156 [==============================] - 0s 2ms/step - loss: 0.6925 - accuracy: 0.5244 - val_loss: 0.6954 - val_accuracy: 0.5000\n",
      "Epoch 34/1000\n",
      "139/156 [=========================>....] - ETA: 0s - loss: 0.6925 - accuracy: 0.5252\n",
      "Epoch 00034: val_loss did not improve from 0.69324\n",
      "156/156 [==============================] - 0s 2ms/step - loss: 0.6926 - accuracy: 0.5244 - val_loss: 0.6955 - val_accuracy: 0.5000\n",
      "Epoch 35/1000\n",
      "144/156 [==========================>...] - ETA: 0s - loss: 0.6928 - accuracy: 0.5264\n",
      "Epoch 00035: val_loss did not improve from 0.69324\n",
      "156/156 [==============================] - 0s 2ms/step - loss: 0.6930 - accuracy: 0.5244 - val_loss: 0.6948 - val_accuracy: 0.5000\n",
      "Epoch 36/1000\n",
      "132/156 [========================>.....] - ETA: 0s - loss: 0.6919 - accuracy: 0.5303\n",
      "Epoch 00036: val_loss did not improve from 0.69324\n",
      "156/156 [==============================] - 0s 2ms/step - loss: 0.6925 - accuracy: 0.5244 - val_loss: 0.6944 - val_accuracy: 0.5000\n",
      "Epoch 37/1000\n",
      "145/156 [==========================>...] - ETA: 0s - loss: 0.6924 - accuracy: 0.5241\n",
      "Epoch 00037: val_loss did not improve from 0.69324\n",
      "156/156 [==============================] - 0s 2ms/step - loss: 0.6924 - accuracy: 0.5244 - val_loss: 0.6937 - val_accuracy: 0.5000\n",
      "Epoch 38/1000\n",
      "143/156 [==========================>...] - ETA: 0s - loss: 0.6929 - accuracy: 0.5245\n",
      "Epoch 00038: val_loss did not improve from 0.69324\n",
      "156/156 [==============================] - 0s 2ms/step - loss: 0.6929 - accuracy: 0.5244 - val_loss: 0.6940 - val_accuracy: 0.5000\n",
      "Epoch 39/1000\n",
      "128/156 [=======================>......] - ETA: 0s - loss: 0.6929 - accuracy: 0.5195\n",
      "Epoch 00039: val_loss did not improve from 0.69324\n",
      "156/156 [==============================] - 0s 2ms/step - loss: 0.6924 - accuracy: 0.5244 - val_loss: 0.6942 - val_accuracy: 0.5000\n",
      "Epoch 40/1000\n",
      "136/156 [=========================>....] - ETA: 0s - loss: 0.6929 - accuracy: 0.5235\n",
      "Epoch 00040: val_loss did not improve from 0.69324\n",
      "156/156 [==============================] - 0s 2ms/step - loss: 0.6928 - accuracy: 0.5244 - val_loss: 0.6940 - val_accuracy: 0.5000\n",
      "Epoch 41/1000\n",
      "136/156 [=========================>....] - ETA: 0s - loss: 0.6920 - accuracy: 0.5324\n",
      "Epoch 00041: val_loss did not improve from 0.69324\n",
      "156/156 [==============================] - 0s 2ms/step - loss: 0.6929 - accuracy: 0.5244 - val_loss: 0.6945 - val_accuracy: 0.5000\n",
      "Epoch 42/1000\n",
      "126/156 [=======================>......] - ETA: 0s - loss: 0.6933 - accuracy: 0.5143\n",
      "Epoch 00042: val_loss did not improve from 0.69324\n",
      "156/156 [==============================] - 0s 2ms/step - loss: 0.6928 - accuracy: 0.5244 - val_loss: 0.6941 - val_accuracy: 0.5000\n",
      "Epoch 43/1000\n",
      "135/156 [========================>.....] - ETA: 0s - loss: 0.6926 - accuracy: 0.5222\n",
      "Epoch 00043: val_loss did not improve from 0.69324\n",
      "156/156 [==============================] - 0s 2ms/step - loss: 0.6924 - accuracy: 0.5244 - val_loss: 0.6944 - val_accuracy: 0.5000\n",
      "Epoch 44/1000\n",
      "148/156 [===========================>..] - ETA: 0s - loss: 0.6927 - accuracy: 0.5203\n",
      "Epoch 00044: val_loss did not improve from 0.69324\n",
      "156/156 [==============================] - 0s 2ms/step - loss: 0.6923 - accuracy: 0.5244 - val_loss: 0.6945 - val_accuracy: 0.5000\n",
      "Epoch 45/1000\n",
      "139/156 [=========================>....] - ETA: 0s - loss: 0.6926 - accuracy: 0.5237\n",
      "Epoch 00045: val_loss did not improve from 0.69324\n",
      "156/156 [==============================] - 0s 2ms/step - loss: 0.6925 - accuracy: 0.5244 - val_loss: 0.6945 - val_accuracy: 0.5000\n",
      "Epoch 46/1000\n",
      "141/156 [==========================>...] - ETA: 0s - loss: 0.6917 - accuracy: 0.5298\n",
      "Epoch 00046: val_loss did not improve from 0.69324\n",
      "156/156 [==============================] - 0s 2ms/step - loss: 0.6924 - accuracy: 0.5244 - val_loss: 0.6942 - val_accuracy: 0.5000\n",
      "Epoch 47/1000\n",
      "149/156 [===========================>..] - ETA: 0s - loss: 0.6926 - accuracy: 0.5087\n",
      "Epoch 00047: val_loss did not improve from 0.69324\n",
      "156/156 [==============================] - 0s 2ms/step - loss: 0.6925 - accuracy: 0.5103 - val_loss: 0.6957 - val_accuracy: 0.5000\n",
      "Epoch 48/1000\n",
      "144/156 [==========================>...] - ETA: 0s - loss: 0.6920 - accuracy: 0.5271\n",
      "Epoch 00048: val_loss did not improve from 0.69324\n",
      "156/156 [==============================] - 0s 2ms/step - loss: 0.6923 - accuracy: 0.5244 - val_loss: 0.6938 - val_accuracy: 0.5000\n",
      "Epoch 49/1000\n",
      "135/156 [========================>.....] - ETA: 0s - loss: 0.6917 - accuracy: 0.5304\n",
      "Epoch 00049: val_loss did not improve from 0.69324\n",
      "156/156 [==============================] - 0s 2ms/step - loss: 0.6924 - accuracy: 0.5244 - val_loss: 0.6941 - val_accuracy: 0.5000\n",
      "Epoch 50/1000\n",
      "147/156 [===========================>..] - ETA: 0s - loss: 0.6924 - accuracy: 0.5238\n",
      "Epoch 00050: val_loss did not improve from 0.69324\n",
      "156/156 [==============================] - 0s 2ms/step - loss: 0.6923 - accuracy: 0.5244 - val_loss: 0.6939 - val_accuracy: 0.5000\n",
      "Epoch 51/1000\n",
      "144/156 [==========================>...] - ETA: 0s - loss: 0.6929 - accuracy: 0.5181\n",
      "Epoch 00051: val_loss did not improve from 0.69324\n",
      "156/156 [==============================] - 0s 2ms/step - loss: 0.6925 - accuracy: 0.5244 - val_loss: 0.6943 - val_accuracy: 0.5000\n",
      "Epoch 52/1000\n",
      "151/156 [============================>.] - ETA: 0s - loss: 0.6926 - accuracy: 0.5238\n",
      "Epoch 00052: val_loss did not improve from 0.69324\n",
      "156/156 [==============================] - 0s 2ms/step - loss: 0.6925 - accuracy: 0.5244 - val_loss: 0.6941 - val_accuracy: 0.5000\n",
      "Epoch 53/1000\n",
      "139/156 [=========================>....] - ETA: 0s - loss: 0.6924 - accuracy: 0.5230\n",
      "Epoch 00053: val_loss did not improve from 0.69324\n",
      "156/156 [==============================] - 0s 2ms/step - loss: 0.6923 - accuracy: 0.5244 - val_loss: 0.6942 - val_accuracy: 0.5000\n",
      "Epoch 00053: early stopping\n"
     ]
    },
    {
     "data": {
      "image/png": "[encoded data removed]",
      "text/plain": [
       "<Figure size 432x288 with 2 Axes>"
      ]
     },
     "metadata": {
      "needs_background": "light"
     },
     "output_type": "display_data"
    }
   ],
   "source": [
    "model_name = 'test'\n",
    "MODEL_SAVE_FOLDER_PATH = '../1.model'\n",
    "cb_checkpoint,cb_earlystopping = model_save_erstp(MODEL_SAVE_FOLDER_PATH, model_name, 50)\n",
    "\n",
    "tf.keras.backend.clear_session()\n",
    "\n",
    "\n",
    "model = Sequential()\n",
    "model.add(layers.Conv2D(filters=8, kernel_size = 3 , input_shape=(51,11,1), activation='relu', kernel_initializer='he_normal')) \n",
    "model.add(layers.MaxPooling2D((2, 2)))\n",
    "model.add(layers.Flatten())\n",
    "model.add(layers.Dense(units=10, activation='relu', kernel_initializer='he_normal')) \n",
    "model.add(layers.Dense(units=2, activation='sigmoid'))\n",
    "model.compile(loss ='binary_crossentropy', optimizer=optimizers.Adam(lr=0.01), metrics=['accuracy'])\n",
    "model.summary()\n",
    "\n",
    "history = model.fit(x_train, y_train, shuffle=True,epochs=1000, batch_size=10, validation_split=0.2, callbacks=[cb_checkpoint,cb_earlystopping])\n",
    "loss_graph('loss','val_loss',0,1)"
   ]
  },
  {
   "cell_type": "code",
   "execution_count": 27,
   "metadata": {
    "ExecuteTime": {
     "end_time": "2020-11-23T08:35:34.823674Z",
     "start_time": "2020-11-23T08:35:34.652351Z"
    }
   },
   "outputs": [
    {
     "name": "stdout",
     "output_type": "stream",
     "text": [
      "21/21 [==============================] - 0s 2ms/step - loss: 0.6967 - accuracy: 0.5000\n"
     ]
    }
   ],
   "source": [
    "loss, acc = model.evaluate(x_test, y_test)"
   ]
  },
  {
   "cell_type": "code",
   "execution_count": 198,
   "metadata": {
    "ExecuteTime": {
     "end_time": "2020-11-23T04:38:36.831852Z",
     "start_time": "2020-11-23T04:38:36.809833Z"
    }
   },
   "outputs": [
    {
     "data": {
      "text/html": [
       "<div>\n",
       "<style scoped>\n",
       "    .dataframe tbody tr th:only-of-type {\n",
       "        vertical-align: middle;\n",
       "    }\n",
       "\n",
       "    .dataframe tbody tr th {\n",
       "        vertical-align: top;\n",
       "    }\n",
       "\n",
       "    .dataframe thead th {\n",
       "        text-align: right;\n",
       "    }\n",
       "</style>\n",
       "<table border=\"1\" class=\"dataframe\">\n",
       "  <thead>\n",
       "    <tr style=\"text-align: right;\">\n",
       "      <th></th>\n",
       "      <th>0.0</th>\n",
       "      <th>1.0</th>\n",
       "    </tr>\n",
       "  </thead>\n",
       "  <tbody>\n",
       "    <tr>\n",
       "      <th>0</th>\n",
       "      <td>0</td>\n",
       "      <td>1</td>\n",
       "    </tr>\n",
       "    <tr>\n",
       "      <th>1</th>\n",
       "      <td>0</td>\n",
       "      <td>1</td>\n",
       "    </tr>\n",
       "    <tr>\n",
       "      <th>2</th>\n",
       "      <td>1</td>\n",
       "      <td>0</td>\n",
       "    </tr>\n",
       "    <tr>\n",
       "      <th>3</th>\n",
       "      <td>1</td>\n",
       "      <td>0</td>\n",
       "    </tr>\n",
       "    <tr>\n",
       "      <th>4</th>\n",
       "      <td>0</td>\n",
       "      <td>1</td>\n",
       "    </tr>\n",
       "    <tr>\n",
       "      <th>...</th>\n",
       "      <td>...</td>\n",
       "      <td>...</td>\n",
       "    </tr>\n",
       "    <tr>\n",
       "      <th>495</th>\n",
       "      <td>1</td>\n",
       "      <td>0</td>\n",
       "    </tr>\n",
       "    <tr>\n",
       "      <th>496</th>\n",
       "      <td>1</td>\n",
       "      <td>0</td>\n",
       "    </tr>\n",
       "    <tr>\n",
       "      <th>497</th>\n",
       "      <td>0</td>\n",
       "      <td>1</td>\n",
       "    </tr>\n",
       "    <tr>\n",
       "      <th>498</th>\n",
       "      <td>1</td>\n",
       "      <td>0</td>\n",
       "    </tr>\n",
       "    <tr>\n",
       "      <th>499</th>\n",
       "      <td>0</td>\n",
       "      <td>1</td>\n",
       "    </tr>\n",
       "  </tbody>\n",
       "</table>\n",
       "<p>500 rows × 2 columns</p>\n",
       "</div>"
      ],
      "text/plain": [
       "     0.0  1.0\n",
       "0      0    1\n",
       "1      0    1\n",
       "2      1    0\n",
       "3      1    0\n",
       "4      0    1\n",
       "..   ...  ...\n",
       "495    1    0\n",
       "496    1    0\n",
       "497    0    1\n",
       "498    1    0\n",
       "499    0    1\n",
       "\n",
       "[500 rows x 2 columns]"
      ]
     },
     "execution_count": 198,
     "metadata": {},
     "output_type": "execute_result"
    }
   ],
   "source": [
    "y_test"
   ]
  },
  {
   "cell_type": "code",
   "execution_count": 207,
   "metadata": {
    "ExecuteTime": {
     "end_time": "2020-11-23T04:49:08.199182Z",
     "start_time": "2020-11-23T04:49:08.185114Z"
    },
    "scrolled": true
   },
   "outputs": [
    {
     "ename": "NameError",
     "evalue": "name 'test' is not defined",
     "output_type": "error",
     "traceback": [
      "\u001b[1;31m---------------------------------------------------------------------------\u001b[0m",
      "\u001b[1;31mNameError\u001b[0m                                 Traceback (most recent call last)",
      "\u001b[1;32m<ipython-input-207-e1b83daa34e6>\u001b[0m in \u001b[0;36m<module>\u001b[1;34m\u001b[0m\n\u001b[0;32m      1\u001b[0m \u001b[1;32mimport\u001b[0m \u001b[0mmatplotlib\u001b[0m\u001b[1;33m.\u001b[0m\u001b[0mpyplot\u001b[0m \u001b[1;32mas\u001b[0m \u001b[0mplt\u001b[0m\u001b[1;33m\u001b[0m\u001b[1;33m\u001b[0m\u001b[0m\n\u001b[0;32m      2\u001b[0m \u001b[1;33m\u001b[0m\u001b[0m\n\u001b[1;32m----> 3\u001b[1;33m \u001b[0mplt\u001b[0m\u001b[1;33m.\u001b[0m\u001b[0mimshow\u001b[0m\u001b[1;33m(\u001b[0m\u001b[0mtest\u001b[0m\u001b[1;33m[\u001b[0m\u001b[1;36m10\u001b[0m\u001b[1;33m]\u001b[0m\u001b[1;33m)\u001b[0m\u001b[1;33m\u001b[0m\u001b[1;33m\u001b[0m\u001b[0m\n\u001b[0m",
      "\u001b[1;31mNameError\u001b[0m: name 'test' is not defined"
     ]
    }
   ],
   "source": [
    "import matplotlib.pyplot as plt\n",
    "\n",
    "plt.imshow(test[10])"
   ]
  },
  {
   "cell_type": "code",
   "execution_count": 121,
   "metadata": {
    "ExecuteTime": {
     "end_time": "2020-11-22T12:14:36.204939Z",
     "start_time": "2020-11-22T12:14:36.192935Z"
    }
   },
   "outputs": [
    {
     "data": {
      "text/plain": [
       "(51, 11)"
      ]
     },
     "execution_count": 121,
     "metadata": {},
     "output_type": "execute_result"
    }
   ],
   "source": [
    "test[0].shape"
   ]
  },
  {
   "cell_type": "code",
   "execution_count": 120,
   "metadata": {
    "ExecuteTime": {
     "end_time": "2020-11-22T12:13:35.975029Z",
     "start_time": "2020-11-22T12:13:35.959082Z"
    }
   },
   "outputs": [
    {
     "data": {
      "text/plain": [
       "(1670, 2400, 3)"
      ]
     },
     "execution_count": 120,
     "metadata": {},
     "output_type": "execute_result"
    }
   ],
   "source": [
    "img.shape"
   ]
  },
  {
   "cell_type": "code",
   "execution_count": 78,
   "metadata": {
    "ExecuteTime": {
     "end_time": "2020-11-22T11:59:55.380873Z",
     "start_time": "2020-11-22T11:59:55.366900Z"
    }
   },
   "outputs": [],
   "source": [
    "accPath = '../9.data/1.accData_split/1.diff_heatmap/accident/'\n",
    "nonaccPath = '../9.data/1.accData_split/1.diff_heatmap/nonaccident/'\n",
    "\n",
    "acc_list = os.listdir(accPath)\n",
    "nonacc_list = os.listdir(nonaccPath)"
   ]
  },
  {
   "cell_type": "code",
   "execution_count": 122,
   "metadata": {
    "ExecuteTime": {
     "end_time": "2020-11-22T12:15:44.012007Z",
     "start_time": "2020-11-22T12:15:43.613026Z"
    }
   },
   "outputs": [
    {
     "data": {
      "text/plain": [
       "<matplotlib.image.AxesImage at 0x176e6aca348>"
      ]
     },
     "execution_count": 122,
     "metadata": {},
     "output_type": "execute_result"
    },
    {
     "data": {
      "image/png": "[encoded data removed]",
      "text/plain": [
       "<Figure size 432x288 with 1 Axes>"
      ]
     },
     "metadata": {
      "needs_background": "light"
     },
     "output_type": "display_data"
    }
   ],
   "source": [
    "img = cv2.imread(accPath + acc_list[50])\n",
    "img = cv2.cvtColor(img, cv2.COLOR_BGR2RGB)\n",
    "plt.imshow(img)"
   ]
  },
  {
   "cell_type": "code",
   "execution_count": 102,
   "metadata": {
    "ExecuteTime": {
     "end_time": "2020-11-22T12:08:37.449380Z",
     "start_time": "2020-11-22T12:08:24.900380Z"
    }
   },
   "outputs": [
    {
     "ename": "KeyboardInterrupt",
     "evalue": "",
     "output_type": "error",
     "traceback": [
      "\u001b[1;31m---------------------------------------------------------------------------\u001b[0m",
      "\u001b[1;31mKeyboardInterrupt\u001b[0m                         Traceback (most recent call last)",
      "\u001b[1;32m<ipython-input-102-7f4c515d6c06>\u001b[0m in \u001b[0;36m<module>\u001b[1;34m\u001b[0m\n\u001b[0;32m     10\u001b[0m         \u001b[0mimg\u001b[0m \u001b[1;33m=\u001b[0m \u001b[0mcv2\u001b[0m\u001b[1;33m.\u001b[0m\u001b[0mcvtColor\u001b[0m\u001b[1;33m(\u001b[0m\u001b[0mimg\u001b[0m\u001b[1;33m,\u001b[0m \u001b[0mcv2\u001b[0m\u001b[1;33m.\u001b[0m\u001b[0mCOLOR_BGR2RGB\u001b[0m\u001b[1;33m)\u001b[0m\u001b[1;33m\u001b[0m\u001b[1;33m\u001b[0m\u001b[0m\n\u001b[0;32m     11\u001b[0m         \u001b[0mimg\u001b[0m \u001b[1;33m=\u001b[0m \u001b[0mnp\u001b[0m\u001b[1;33m.\u001b[0m\u001b[0mexpand_dims\u001b[0m\u001b[1;33m(\u001b[0m\u001b[0mimg\u001b[0m\u001b[1;33m,\u001b[0m \u001b[1;36m0\u001b[0m\u001b[1;33m)\u001b[0m\u001b[1;33m\u001b[0m\u001b[1;33m\u001b[0m\u001b[0m\n\u001b[1;32m---> 12\u001b[1;33m         \u001b[0mx_train\u001b[0m \u001b[1;33m=\u001b[0m \u001b[0mnp\u001b[0m\u001b[1;33m.\u001b[0m\u001b[0mconcatenate\u001b[0m\u001b[1;33m(\u001b[0m\u001b[1;33m(\u001b[0m\u001b[0mx_train\u001b[0m\u001b[1;33m,\u001b[0m \u001b[0mimg\u001b[0m\u001b[1;33m)\u001b[0m\u001b[1;33m,\u001b[0m \u001b[0maxis\u001b[0m\u001b[1;33m=\u001b[0m\u001b[1;36m0\u001b[0m\u001b[1;33m)\u001b[0m\u001b[1;33m\u001b[0m\u001b[1;33m\u001b[0m\u001b[0m\n\u001b[0m",
      "\u001b[1;32m<__array_function__ internals>\u001b[0m in \u001b[0;36mconcatenate\u001b[1;34m(*args, **kwargs)\u001b[0m\n",
      "\u001b[1;31mKeyboardInterrupt\u001b[0m: "
     ]
    }
   ],
   "source": [
    "num = 0\n",
    "for i in acc_list:    \n",
    "    if num == 0:\n",
    "        img = cv2.imread(accPath + i)\n",
    "        img = cv2.cvtColor(img, cv2.COLOR_BGR2RGB)\n",
    "        x_train = np.expand_dims(img, 0)\n",
    "        num += 1\n",
    "    else:\n",
    "        img = cv2.imread(accPath + i)\n",
    "        img = cv2.cvtColor(img, cv2.COLOR_BGR2RGB)\n",
    "        img = np.expand_dims(img, 0)\n",
    "        x_train = np.concatenate((x_train, img), axis=0)\n"
   ]
  },
  {
   "cell_type": "code",
   "execution_count": 103,
   "metadata": {
    "ExecuteTime": {
     "end_time": "2020-11-22T12:08:40.985587Z",
     "start_time": "2020-11-22T12:08:40.880204Z"
    },
    "scrolled": true
   },
   "outputs": [
    {
     "ename": "TypeError",
     "evalue": "Invalid shape (1, 1670, 2400, 3) for image data",
     "output_type": "error",
     "traceback": [
      "\u001b[1;31m---------------------------------------------------------------------------\u001b[0m",
      "\u001b[1;31mTypeError\u001b[0m                                 Traceback (most recent call last)",
      "\u001b[1;32m<ipython-input-103-f5c923bf570e>\u001b[0m in \u001b[0;36m<module>\u001b[1;34m\u001b[0m\n\u001b[0;32m      1\u001b[0m \u001b[1;32mimport\u001b[0m \u001b[0mmatplotlib\u001b[0m\u001b[1;33m.\u001b[0m\u001b[0mpyplot\u001b[0m \u001b[1;32mas\u001b[0m \u001b[0mplt\u001b[0m\u001b[1;33m\u001b[0m\u001b[1;33m\u001b[0m\u001b[0m\n\u001b[1;32m----> 2\u001b[1;33m \u001b[0mplt\u001b[0m\u001b[1;33m.\u001b[0m\u001b[0mimshow\u001b[0m\u001b[1;33m(\u001b[0m\u001b[0mimg\u001b[0m\u001b[1;33m)\u001b[0m\u001b[1;33m\u001b[0m\u001b[1;33m\u001b[0m\u001b[0m\n\u001b[0m",
      "\u001b[1;32mC:\\tools\\Anaconda3\\envs\\tensorflow2_py37\\lib\\site-packages\\matplotlib\\pyplot.py\u001b[0m in \u001b[0;36mimshow\u001b[1;34m(X, cmap, norm, aspect, interpolation, alpha, vmin, vmax, origin, extent, filternorm, filterrad, resample, url, data, **kwargs)\u001b[0m\n\u001b[0;32m   2712\u001b[0m         \u001b[0mfilternorm\u001b[0m\u001b[1;33m=\u001b[0m\u001b[0mfilternorm\u001b[0m\u001b[1;33m,\u001b[0m \u001b[0mfilterrad\u001b[0m\u001b[1;33m=\u001b[0m\u001b[0mfilterrad\u001b[0m\u001b[1;33m,\u001b[0m \u001b[0mresample\u001b[0m\u001b[1;33m=\u001b[0m\u001b[0mresample\u001b[0m\u001b[1;33m,\u001b[0m\u001b[1;33m\u001b[0m\u001b[1;33m\u001b[0m\u001b[0m\n\u001b[0;32m   2713\u001b[0m         \u001b[0murl\u001b[0m\u001b[1;33m=\u001b[0m\u001b[0murl\u001b[0m\u001b[1;33m,\u001b[0m \u001b[1;33m**\u001b[0m\u001b[1;33m(\u001b[0m\u001b[1;33m{\u001b[0m\u001b[1;34m\"data\"\u001b[0m\u001b[1;33m:\u001b[0m \u001b[0mdata\u001b[0m\u001b[1;33m}\u001b[0m \u001b[1;32mif\u001b[0m \u001b[0mdata\u001b[0m \u001b[1;32mis\u001b[0m \u001b[1;32mnot\u001b[0m \u001b[1;32mNone\u001b[0m \u001b[1;32melse\u001b[0m \u001b[1;33m{\u001b[0m\u001b[1;33m}\u001b[0m\u001b[1;33m)\u001b[0m\u001b[1;33m,\u001b[0m\u001b[1;33m\u001b[0m\u001b[1;33m\u001b[0m\u001b[0m\n\u001b[1;32m-> 2714\u001b[1;33m         **kwargs)\n\u001b[0m\u001b[0;32m   2715\u001b[0m     \u001b[0msci\u001b[0m\u001b[1;33m(\u001b[0m\u001b[0m__ret\u001b[0m\u001b[1;33m)\u001b[0m\u001b[1;33m\u001b[0m\u001b[1;33m\u001b[0m\u001b[0m\n\u001b[0;32m   2716\u001b[0m     \u001b[1;32mreturn\u001b[0m \u001b[0m__ret\u001b[0m\u001b[1;33m\u001b[0m\u001b[1;33m\u001b[0m\u001b[0m\n",
      "\u001b[1;32mC:\\tools\\Anaconda3\\envs\\tensorflow2_py37\\lib\\site-packages\\matplotlib\\__init__.py\u001b[0m in \u001b[0;36minner\u001b[1;34m(ax, data, *args, **kwargs)\u001b[0m\n\u001b[0;32m   1436\u001b[0m     \u001b[1;32mdef\u001b[0m \u001b[0minner\u001b[0m\u001b[1;33m(\u001b[0m\u001b[0max\u001b[0m\u001b[1;33m,\u001b[0m \u001b[1;33m*\u001b[0m\u001b[0margs\u001b[0m\u001b[1;33m,\u001b[0m \u001b[0mdata\u001b[0m\u001b[1;33m=\u001b[0m\u001b[1;32mNone\u001b[0m\u001b[1;33m,\u001b[0m \u001b[1;33m**\u001b[0m\u001b[0mkwargs\u001b[0m\u001b[1;33m)\u001b[0m\u001b[1;33m:\u001b[0m\u001b[1;33m\u001b[0m\u001b[1;33m\u001b[0m\u001b[0m\n\u001b[0;32m   1437\u001b[0m         \u001b[1;32mif\u001b[0m \u001b[0mdata\u001b[0m \u001b[1;32mis\u001b[0m \u001b[1;32mNone\u001b[0m\u001b[1;33m:\u001b[0m\u001b[1;33m\u001b[0m\u001b[1;33m\u001b[0m\u001b[0m\n\u001b[1;32m-> 1438\u001b[1;33m             \u001b[1;32mreturn\u001b[0m \u001b[0mfunc\u001b[0m\u001b[1;33m(\u001b[0m\u001b[0max\u001b[0m\u001b[1;33m,\u001b[0m \u001b[1;33m*\u001b[0m\u001b[0mmap\u001b[0m\u001b[1;33m(\u001b[0m\u001b[0msanitize_sequence\u001b[0m\u001b[1;33m,\u001b[0m \u001b[0margs\u001b[0m\u001b[1;33m)\u001b[0m\u001b[1;33m,\u001b[0m \u001b[1;33m**\u001b[0m\u001b[0mkwargs\u001b[0m\u001b[1;33m)\u001b[0m\u001b[1;33m\u001b[0m\u001b[1;33m\u001b[0m\u001b[0m\n\u001b[0m\u001b[0;32m   1439\u001b[0m \u001b[1;33m\u001b[0m\u001b[0m\n\u001b[0;32m   1440\u001b[0m         \u001b[0mbound\u001b[0m \u001b[1;33m=\u001b[0m \u001b[0mnew_sig\u001b[0m\u001b[1;33m.\u001b[0m\u001b[0mbind\u001b[0m\u001b[1;33m(\u001b[0m\u001b[0max\u001b[0m\u001b[1;33m,\u001b[0m \u001b[1;33m*\u001b[0m\u001b[0margs\u001b[0m\u001b[1;33m,\u001b[0m \u001b[1;33m**\u001b[0m\u001b[0mkwargs\u001b[0m\u001b[1;33m)\u001b[0m\u001b[1;33m\u001b[0m\u001b[1;33m\u001b[0m\u001b[0m\n",
      "\u001b[1;32mC:\\tools\\Anaconda3\\envs\\tensorflow2_py37\\lib\\site-packages\\matplotlib\\axes\\_axes.py\u001b[0m in \u001b[0;36mimshow\u001b[1;34m(self, X, cmap, norm, aspect, interpolation, alpha, vmin, vmax, origin, extent, filternorm, filterrad, resample, url, **kwargs)\u001b[0m\n\u001b[0;32m   5521\u001b[0m                               resample=resample, **kwargs)\n\u001b[0;32m   5522\u001b[0m \u001b[1;33m\u001b[0m\u001b[0m\n\u001b[1;32m-> 5523\u001b[1;33m         \u001b[0mim\u001b[0m\u001b[1;33m.\u001b[0m\u001b[0mset_data\u001b[0m\u001b[1;33m(\u001b[0m\u001b[0mX\u001b[0m\u001b[1;33m)\u001b[0m\u001b[1;33m\u001b[0m\u001b[1;33m\u001b[0m\u001b[0m\n\u001b[0m\u001b[0;32m   5524\u001b[0m         \u001b[0mim\u001b[0m\u001b[1;33m.\u001b[0m\u001b[0mset_alpha\u001b[0m\u001b[1;33m(\u001b[0m\u001b[0malpha\u001b[0m\u001b[1;33m)\u001b[0m\u001b[1;33m\u001b[0m\u001b[1;33m\u001b[0m\u001b[0m\n\u001b[0;32m   5525\u001b[0m         \u001b[1;32mif\u001b[0m \u001b[0mim\u001b[0m\u001b[1;33m.\u001b[0m\u001b[0mget_clip_path\u001b[0m\u001b[1;33m(\u001b[0m\u001b[1;33m)\u001b[0m \u001b[1;32mis\u001b[0m \u001b[1;32mNone\u001b[0m\u001b[1;33m:\u001b[0m\u001b[1;33m\u001b[0m\u001b[1;33m\u001b[0m\u001b[0m\n",
      "\u001b[1;32mC:\\tools\\Anaconda3\\envs\\tensorflow2_py37\\lib\\site-packages\\matplotlib\\image.py\u001b[0m in \u001b[0;36mset_data\u001b[1;34m(self, A)\u001b[0m\n\u001b[0;32m    704\u001b[0m                 or self._A.ndim == 3 and self._A.shape[-1] in [3, 4]):\n\u001b[0;32m    705\u001b[0m             raise TypeError(\"Invalid shape {} for image data\"\n\u001b[1;32m--> 706\u001b[1;33m                             .format(self._A.shape))\n\u001b[0m\u001b[0;32m    707\u001b[0m \u001b[1;33m\u001b[0m\u001b[0m\n\u001b[0;32m    708\u001b[0m         \u001b[1;32mif\u001b[0m \u001b[0mself\u001b[0m\u001b[1;33m.\u001b[0m\u001b[0m_A\u001b[0m\u001b[1;33m.\u001b[0m\u001b[0mndim\u001b[0m \u001b[1;33m==\u001b[0m \u001b[1;36m3\u001b[0m\u001b[1;33m:\u001b[0m\u001b[1;33m\u001b[0m\u001b[1;33m\u001b[0m\u001b[0m\n",
      "\u001b[1;31mTypeError\u001b[0m: Invalid shape (1, 1670, 2400, 3) for image data"
     ]
    },
    {
     "data": {
      "image/png": "[encoded data removed]",
      "text/plain": [
       "<Figure size 432x288 with 1 Axes>"
      ]
     },
     "metadata": {
      "needs_background": "light"
     },
     "output_type": "display_data"
    }
   ],
   "source": [
    "import matplotlib.pyplot as plt\n",
    "plt.imshow(img)"
   ]
  },
  {
   "cell_type": "code",
   "execution_count": 113,
   "metadata": {
    "ExecuteTime": {
     "end_time": "2020-11-22T12:12:35.478817Z",
     "start_time": "2020-11-22T12:12:35.430673Z"
    }
   },
   "outputs": [],
   "source": [
    "img = cv2.imread(accPath + acc_list[0])\n",
    "img = cv2.cvtColor(img, cv2.COLOR_BGR2RGB)"
   ]
  },
  {
   "cell_type": "code",
   "execution_count": null,
   "metadata": {},
   "outputs": [],
   "source": []
  }
 ],
 "metadata": {
  "kernelspec": {
   "display_name": "Python 3",
   "language": "python",
   "name": "python3"
  },
  "language_info": {
   "codemirror_mode": {
    "name": "ipython",
    "version": 3
   },
   "file_extension": ".py",
   "mimetype": "text/x-python",
   "name": "python",
   "nbconvert_exporter": "python",
   "pygments_lexer": "ipython3",
   "version": "3.7.9"
  },
  "toc": {
   "base_numbering": 1,
   "nav_menu": {},
   "number_sections": true,
   "sideBar": true,
   "skip_h1_title": false,
   "title_cell": "Table of Contents",
   "title_sidebar": "Contents",
   "toc_cell": false,
   "toc_position": {},
   "toc_section_display": true,
   "toc_window_display": false
  },
  "varInspector": {
   "cols": {
    "lenName": 16,
    "lenType": 16,
    "lenVar": 40
   },
   "kernels_config": {
    "python": {
     "delete_cmd_postfix": "",
     "delete_cmd_prefix": "del ",
     "library": "var_list.py",
     "varRefreshCmd": "print(var_dic_list())"
    },
    "r": {
     "delete_cmd_postfix": ") ",
     "delete_cmd_prefix": "rm(",
     "library": "var_list.r",
     "varRefreshCmd": "cat(var_dic_list()) "
    }
   },
   "types_to_exclude": [
    "module",
    "function",
    "builtin_function_or_method",
    "instance",
    "_Feature"
   ],
   "window_display": false
  }
 },
 "nbformat": 4,
 "nbformat_minor": 4
}
